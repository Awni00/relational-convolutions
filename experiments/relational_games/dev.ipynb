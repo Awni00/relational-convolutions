{
 "cells": [
  {
   "cell_type": "code",
   "execution_count": 1,
   "metadata": {},
   "outputs": [
    {
     "name": "stderr",
     "output_type": "stream",
     "text": [
      "2024-01-27 01:09:44.365573: I tensorflow/core/util/port.cc:110] oneDNN custom operations are on. You may see slightly different numerical results due to floating-point round-off errors from different computation orders. To turn them off, set the environment variable `TF_ENABLE_ONEDNN_OPTS=0`.\n",
      "2024-01-27 01:09:44.710777: I tensorflow/core/platform/cpu_feature_guard.cc:182] This TensorFlow binary is optimized to use available CPU instructions in performance-critical operations.\n",
      "To enable the following instructions: AVX2 AVX_VNNI FMA, in other operations, rebuild TensorFlow with the appropriate compiler flags.\n",
      "2024-01-27 01:09:47.720147: W tensorflow/compiler/tf2tensorrt/utils/py_utils.cc:38] TF-TRT Warning: Could not find TensorRT\n"
     ]
    }
   ],
   "source": [
    "\n",
    "import numpy as np\n",
    "import tensorflow as tf\n",
    "from tqdm import tqdm, trange\n",
    "from tqdm.keras import TqdmCallback\n",
    "import argparse\n",
    "\n",
    "import models\n",
    "import data_utils\n",
    "\n",
    "import sys; sys.path.append('../'); sys.path.append('../..')\n",
    "import utils"
   ]
  },
  {
   "cell_type": "code",
   "execution_count": 2,
   "metadata": {},
   "outputs": [],
   "source": [
    "args = argparse.Namespace(model='relconv_groupattn', normalizer=None, freeze_embedder=False, object_selection=False, \n",
    "    task='1task_between', train_split='hexos', test_split_size=5_000, test_size=5_000, val_size=1_000, n_epochs=100, batch_size=512, \n",
    "    learning_rate=0.001, early_stopping=True, train_size=-1,\n",
    "    num_trials=1, start_trial=0, wandb_project_name='tmp', seed=314159, ignore_gpu_assert=False)"
   ]
  },
  {
   "cell_type": "code",
   "execution_count": 3,
   "metadata": {},
   "outputs": [],
   "source": [
    "\n",
    "# #region setup\n",
    "# # parse script arguments\n",
    "# parser = argparse.ArgumentParser()\n",
    "# parser.add_argument('--model', type=str,\n",
    "#     choices=models.model_creators.keys(),\n",
    "#     help='the model to evaluate learning curves on')\n",
    "# parser.add_argument('--normalizer', type=str, default=None, choices=('l2', 'tcn', 'None', None))\n",
    "# parser.add_argument('--freeze_embedder', type=bool, default=False)\n",
    "# parser.add_argument('--object_selection', type=bool, default=False)\n",
    "# parser.add_argument('--task', type=str, help='the relational games task')\n",
    "# parser.add_argument('--train_split', type=str, choices=('stripes', 'hexos', 'pentos'))\n",
    "# parser.add_argument('--test_split_size', type=int, default=5_000,\n",
    "#     help='size of sample from hold out sets to evaluate on')\n",
    "# parser.add_argument('--val_size', type=int, default=1_000)\n",
    "# parser.add_argument('--test_size', type=int, default=5_000)\n",
    "# parser.add_argument('--n_epochs', default=100, type=int, help='number of epochs to train each model for')\n",
    "# parser.add_argument('--batch_size', default=512, help='batch size')\n",
    "# parser.add_argument('--learning_rate', default=0.001, help='learning rate')\n",
    "# parser.add_argument('--early_stopping', action='store_true')\n",
    "# parser.add_argument('--train_size', default=-1, type=int, help='training set size')\n",
    "# parser.add_argument('--num_trials', default=1, type=int, help='number of trials per training set size')\n",
    "# parser.add_argument('--start_trial', default=0, type=int, help='what to call first trial')\n",
    "# parser.add_argument('--wandb_project_name', default=None, type=str, help='W&B project name')\n",
    "# parser.add_argument('--seed', default=314159, help='random seed')\n",
    "# parser.add_argument('--ignore_gpu_assert', action='store_true')\n",
    "# args = parser.parse_args()"
   ]
  },
  {
   "cell_type": "code",
   "execution_count": 4,
   "metadata": {},
   "outputs": [
    {
     "name": "stdout",
     "output_type": "stream",
     "text": [
      "\n",
      "\n",
      "============================================================\n",
      "SET UP\n",
      "============================================================\n",
      "\n",
      "\n",
      "received the following arguments: Namespace(model='relconv_groupattn', normalizer=None, freeze_embedder=False, object_selection=False, task='1task_between', train_split='hexos', test_split_size=5000, test_size=5000, val_size=1000, n_epochs=100, batch_size=512, learning_rate=0.001, early_stopping=True, train_size=-1, num_trials=1, start_trial=0, wandb_project_name='tmp', seed=314159, ignore_gpu_assert=False)\n",
      "[PhysicalDevice(name='/physical_device:CPU:0', device_type='CPU'), PhysicalDevice(name='/physical_device:GPU:0', device_type='GPU')]\n"
     ]
    },
    {
     "name": "stderr",
     "output_type": "stream",
     "text": [
      "2024-01-27 01:09:57.933850: I tensorflow/compiler/xla/stream_executor/cuda/cuda_gpu_executor.cc:981] could not open file to read NUMA node: /sys/bus/pci/devices/0000:01:00.0/numa_node\n",
      "Your kernel may have been built without NUMA support.\n",
      "2024-01-27 01:09:58.107748: I tensorflow/compiler/xla/stream_executor/cuda/cuda_gpu_executor.cc:981] could not open file to read NUMA node: /sys/bus/pci/devices/0000:01:00.0/numa_node\n",
      "Your kernel may have been built without NUMA support.\n",
      "2024-01-27 01:09:58.107956: I tensorflow/compiler/xla/stream_executor/cuda/cuda_gpu_executor.cc:981] could not open file to read NUMA node: /sys/bus/pci/devices/0000:01:00.0/numa_node\n",
      "Your kernel may have been built without NUMA support.\n",
      "Failed to detect the name of this notebook, you can set it manually with the WANDB_NOTEBOOK_NAME environment variable to enable code saving.\n",
      "\u001b[34m\u001b[1mwandb\u001b[0m: Currently logged in as: \u001b[33mawni00\u001b[0m. Use \u001b[1m`wandb login --relogin`\u001b[0m to force relogin\n"
     ]
    },
    {
     "name": "stdout",
     "output_type": "stream",
     "text": [
      "\n",
      "\n",
      "============================================================\n",
      "LOADING DATA\n",
      "============================================================\n",
      "\n",
      "\n"
     ]
    },
    {
     "name": "stderr",
     "output_type": "stream",
     "text": [
      "2024-01-27 01:10:03.758593: I tensorflow/compiler/xla/stream_executor/cuda/cuda_gpu_executor.cc:981] could not open file to read NUMA node: /sys/bus/pci/devices/0000:01:00.0/numa_node\n",
      "Your kernel may have been built without NUMA support.\n",
      "2024-01-27 01:10:03.760038: I tensorflow/compiler/xla/stream_executor/cuda/cuda_gpu_executor.cc:981] could not open file to read NUMA node: /sys/bus/pci/devices/0000:01:00.0/numa_node\n",
      "Your kernel may have been built without NUMA support.\n",
      "2024-01-27 01:10:03.760667: I tensorflow/compiler/xla/stream_executor/cuda/cuda_gpu_executor.cc:981] could not open file to read NUMA node: /sys/bus/pci/devices/0000:01:00.0/numa_node\n",
      "Your kernel may have been built without NUMA support.\n",
      "2024-01-27 01:10:07.678079: I tensorflow/compiler/xla/stream_executor/cuda/cuda_gpu_executor.cc:981] could not open file to read NUMA node: /sys/bus/pci/devices/0000:01:00.0/numa_node\n",
      "Your kernel may have been built without NUMA support.\n",
      "2024-01-27 01:10:07.680234: I tensorflow/compiler/xla/stream_executor/cuda/cuda_gpu_executor.cc:981] could not open file to read NUMA node: /sys/bus/pci/devices/0000:01:00.0/numa_node\n",
      "Your kernel may have been built without NUMA support.\n",
      "2024-01-27 01:10:07.680299: I tensorflow/core/common_runtime/gpu/gpu_device.cc:1726] Could not identify NUMA node of platform GPU id 0, defaulting to 0.  Your kernel may not have been built with NUMA support.\n",
      "2024-01-27 01:10:07.680887: I tensorflow/compiler/xla/stream_executor/cuda/cuda_gpu_executor.cc:981] could not open file to read NUMA node: /sys/bus/pci/devices/0000:01:00.0/numa_node\n",
      "Your kernel may have been built without NUMA support.\n",
      "2024-01-27 01:10:07.682829: I tensorflow/core/common_runtime/gpu/gpu_device.cc:1639] Created device /job:localhost/replica:0/task:0/device:GPU:0 with 5348 MB memory:  -> device: 0, name: NVIDIA GeForce RTX 4070 Laptop GPU, pci bus id: 0000:01:00.0, compute capability: 8.9\n"
     ]
    }
   ],
   "source": [
    "\n",
    "utils.print_section(\"SET UP\")\n",
    "\n",
    "print(f'received the following arguments: {args}')\n",
    "\n",
    "# set random seed\n",
    "tf.random.set_seed(args.seed)\n",
    "\n",
    "# check if GPU is being used\n",
    "print(tf.config.list_physical_devices())\n",
    "if not args.ignore_gpu_assert:\n",
    "    assert len(tf.config.list_physical_devices('GPU')) > 0\n",
    "\n",
    "# set up W&B logging\n",
    "import wandb\n",
    "wandb.login()\n",
    "\n",
    "import logging\n",
    "logger = logging.getLogger(\"wandb\")\n",
    "logger.setLevel(logging.ERROR)\n",
    "\n",
    "wandb_project_name = args.wandb_project_name\n",
    "if wandb_project_name is None:\n",
    "    wandb_project_name = f'relational_games-{args.task}'\n",
    "\n",
    "#endregion\n",
    "\n",
    "#region load data\n",
    "utils.print_section('LOADING DATA')\n",
    "data_path = '../../data/relational_games'\n",
    "\n",
    "dataset_specs = np.load(f'{data_path}/dataset_specs.npy', allow_pickle=True).item()\n",
    "\n",
    "task_datasets = data_utils.load_task_datasets(args.task, data_path, data_format='tfrecord', ds_specs=dataset_specs)\n",
    "\n",
    "train_split_ds = task_datasets[args.train_split]\n",
    "# train_split_ds = data_utils.load_ds_from_npz(filename)\n",
    "\n",
    "train_ds, val_ds, test_ds = utils.split_ds(train_split_ds, val_size=args.val_size, test_size=args.test_size)\n",
    "del train_split_ds\n",
    "\n",
    "batch_size = args.batch_size\n",
    "val_ds = val_ds.batch(batch_size)\n",
    "test_ds = test_ds.batch(batch_size)\n",
    "\n",
    "eval_datasets = {split: ds.take(args.test_split_size).batch(batch_size) for split, ds in task_datasets.items() if split != args.train_split}\n",
    "\n",
    "#endregion"
   ]
  },
  {
   "cell_type": "code",
   "execution_count": 5,
   "metadata": {},
   "outputs": [],
   "source": [
    "\n",
    "#region training setup\n",
    "loss = tf.keras.losses.CategoricalCrossentropy(from_logits=True)\n",
    "create_opt = lambda: tf.keras.optimizers.Adam(learning_rate=args.learning_rate)\n",
    "# metrics = [\n",
    "#         tf.keras.metrics.BinaryAccuracy(name='acc'),\n",
    "#         tf.keras.metrics.Precision(class_id=1, name='precision'),\n",
    "#         tf.keras.metrics.Recall(class_id=1, name='recall'),\n",
    "#         tf.keras.metrics.F1Score(average='weighted', name='f1'),\n",
    "#         tf.keras.metrics.AUC(curve='ROC', multi_label=True, name='auc')\n",
    "#         ]\n",
    "metrics = ['acc']\n",
    "\n",
    "def create_callbacks(data_size=None, batch_size=None):\n",
    "    callbacks = [\n",
    "        # TqdmCallback(data_size=data_size, batch_size=batch_size),\n",
    "        wandb.keras.WandbMetricsLogger(log_freq='batch')\n",
    "    ]\n",
    "\n",
    "    if args.early_stopping:\n",
    "        callbacks.append(tf.keras.callbacks.EarlyStopping(monitor='val_loss', patience=10, verbose=1, start_from_epoch=20))\n",
    "\n",
    "    return callbacks\n",
    "\n",
    "fit_kwargs = dict(epochs=args.n_epochs)\n",
    "#endregion"
   ]
  },
  {
   "cell_type": "code",
   "execution_count": 6,
   "metadata": {},
   "outputs": [],
   "source": [
    "\n",
    "# region train model\n",
    "train_size = args.train_size\n",
    "\n",
    "num_trials = args.num_trials # num of trials per train set size\n",
    "start_trial = args.start_trial\n",
    "# endregion\n",
    "\n",
    "#region functions\n",
    "def train_model(\n",
    "    create_model, eval_model, fit_kwargs, create_callbacks,\n",
    "    wandb_project_name, group_name,\n",
    "    train_ds, val_ds, test_ds,\n",
    "    train_size, start_trial, num_trials,\n",
    "    ):\n",
    "\n",
    "    for trial in trange(start_trial, start_trial + num_trials, desc='trial', leave=False):\n",
    "        run = wandb.init(project=wandb_project_name, group=group_name, name=f'trial = {trial}',\n",
    "                        config={'trial': trial, 'group': group_name, 'train split': args.train_split})\n",
    "        model = create_model()\n",
    "\n",
    "        train_ds_sample = train_ds.shuffle(buffer_size=len(train_ds)).take(train_size).batch(batch_size)\n",
    "        history = model.fit(\n",
    "            train_ds_sample, validation_data=val_ds, verbose=0,\n",
    "            callbacks=create_callbacks(), **fit_kwargs)\n",
    "\n",
    "        eval_dict = eval_model(model, test_ds)\n",
    "        wandb.log(eval_dict)\n",
    "        wandb.finish(quiet=True)\n",
    "\n",
    "        del model, train_ds_sample\n",
    "\n",
    "def eval_model(model, test_ds):\n",
    "    eval_metrics = model.evaluate(test_ds, return_dict=True, verbose=0)\n",
    "    for split, ds in eval_datasets.items():\n",
    "        ds_metrics = {f'{split}_{metric_name}': metric\n",
    "            for metric_name, metric in model.evaluate(ds, return_dict=True, verbose=0).items()}\n",
    "        eval_metrics = {**eval_metrics, **ds_metrics}\n",
    "\n",
    "    return eval_metrics\n",
    "\n",
    "# endregion"
   ]
  },
  {
   "cell_type": "code",
   "execution_count": 7,
   "metadata": {},
   "outputs": [],
   "source": [
    "from models import get_obj_selector, get_normalizer, CNNEmbedder, cnn_embedder_kwargs, hidden_dense_size\n",
    "from relational_neural_networks.relational_graphlet_convolution import RelationalGraphletConvolutionGroupAttn\n",
    "\n",
    "relconv_kwargs = dict(n_filters=16, graphlet_size=3, n_groups=8, mdipr_kwargs=dict(rel_dim=16, proj_dim=4, symmetric=True),\n",
    "    group_attn_key_dim=16, group_attn_key='pos', symmetric_inner_prod=False, permutation_aggregator='mean',\n",
    "    filter_initializer='random_normal', beta=None, group_normalizer='softmax')\n",
    "def create_relconvnet_groupattn(normalizer=None, freeze_embedder=False, object_selection=None):\n",
    "\n",
    "    object_selector = get_obj_selector(object_selection)\n",
    "    normalizer = get_normalizer(normalizer)\n",
    "    cnn_embedder = CNNEmbedder(**cnn_embedder_kwargs)\n",
    "    cnn_embedder.trainable = not freeze_embedder\n",
    "\n",
    "    rel_conv = RelationalGraphletConvolutionGroupAttn(\n",
    "        **relconv_kwargs, name='rgc')\n",
    "\n",
    "    model = tf.keras.Sequential([\n",
    "        object_selector,\n",
    "        cnn_embedder,\n",
    "        normalizer,\n",
    "        rel_conv,\n",
    "        tf.keras.layers.Flatten(name='flatten'),\n",
    "        tf.keras.layers.Dense(hidden_dense_size, activation='relu', name='hidden_dense1'),\n",
    "        tf.keras.layers.Dense(2, name='output')\n",
    "        ], name='relconv'\n",
    "    )\n",
    "\n",
    "    return model"
   ]
  },
  {
   "cell_type": "code",
   "execution_count": 8,
   "metadata": {},
   "outputs": [],
   "source": [
    "\n",
    "#region train & evaluate model\n",
    "\n",
    "if args.object_selection:\n",
    "    object_selection = models.get_obj_selection_by_task(args.task)\n",
    "else:\n",
    "    object_selection = None\n",
    "\n",
    "def create_model():\n",
    "    model = create_relconvnet_groupattn(args.normalizer, args.freeze_embedder, object_selection)\n",
    "    model.compile(loss=loss, optimizer=create_opt(), metrics=metrics) # compile\n",
    "    model.build(input_shape=(None, *train_ds.element_spec[0].shape)) # build\n",
    "    return model"
   ]
  },
  {
   "cell_type": "code",
   "execution_count": 9,
   "metadata": {},
   "outputs": [
    {
     "name": "stdout",
     "output_type": "stream",
     "text": [
      "Model: \"relconv\"\n",
      "_________________________________________________________________\n",
      " Layer (type)                Output Shape              Param #   \n",
      "=================================================================\n",
      " identity_obj_selector (Ide  (None, 9, 12, 12, 3)      0         \n",
      " ntity)                                                          \n",
      "                                                                 \n",
      " cnn_embedder (CNNEmbedder)  (None, 9, 16)             2768      \n",
      "                                                                 \n",
      " identity_normalizer (Ident  (None, 9, 16)             0         \n",
      " ity)                                                            \n",
      "                                                                 \n",
      " rgc (RelationalGraphletCon  (None, 8, 16)             3920      \n",
      " volutionGroupAttn)                                              \n",
      "                                                                 \n",
      " flatten (Flatten)           (None, 128)               0         \n",
      "                                                                 \n",
      " hidden_dense1 (Dense)       (None, 64)                8256      \n",
      "                                                                 \n",
      " output (Dense)              (None, 2)                 130       \n",
      "                                                                 \n",
      "=================================================================\n",
      "Total params: 15074 (58.88 KB)\n",
      "Trainable params: 15074 (58.88 KB)\n",
      "Non-trainable params: 0 (0.00 Byte)\n",
      "_________________________________________________________________\n"
     ]
    }
   ],
   "source": [
    "model = create_model()\n",
    "model.summary()"
   ]
  },
  {
   "cell_type": "code",
   "execution_count": 10,
   "metadata": {},
   "outputs": [
    {
     "name": "stdout",
     "output_type": "stream",
     "text": [
      "\n",
      "\n",
      "============================================================\n",
      "TRAINING & EVALUATING MODEL\n",
      "============================================================\n",
      "\n",
      "\n"
     ]
    },
    {
     "name": "stderr",
     "output_type": "stream",
     "text": [
      "trial:   0%|          | 0/1 [00:00<?, ?it/s]"
     ]
    },
    {
     "data": {
      "text/html": [
       "wandb version 0.16.2 is available!  To upgrade, please run:\n",
       " $ pip install wandb --upgrade"
      ],
      "text/plain": [
       "<IPython.core.display.HTML object>"
      ]
     },
     "metadata": {},
     "output_type": "display_data"
    },
    {
     "data": {
      "text/html": [
       "Tracking run with wandb version 0.15.8"
      ],
      "text/plain": [
       "<IPython.core.display.HTML object>"
      ]
     },
     "metadata": {},
     "output_type": "display_data"
    },
    {
     "data": {
      "text/html": [
       "Run data is saved locally in <code>/home/awni/projects/relational-neural-networks/experiments/relational_games/wandb/run-20240127_011019-9srx8816</code>"
      ],
      "text/plain": [
       "<IPython.core.display.HTML object>"
      ]
     },
     "metadata": {},
     "output_type": "display_data"
    },
    {
     "data": {
      "text/html": [
       "Syncing run <strong><a href='https://wandb.ai/awni00/tmp/runs/9srx8816' target=\"_blank\">trial = 0</a></strong> to <a href='https://wandb.ai/awni00/tmp' target=\"_blank\">Weights & Biases</a> (<a href='https://wandb.me/run' target=\"_blank\">docs</a>)<br/>"
      ],
      "text/plain": [
       "<IPython.core.display.HTML object>"
      ]
     },
     "metadata": {},
     "output_type": "display_data"
    },
    {
     "data": {
      "text/html": [
       " View project at <a href='https://wandb.ai/awni00/tmp' target=\"_blank\">https://wandb.ai/awni00/tmp</a>"
      ],
      "text/plain": [
       "<IPython.core.display.HTML object>"
      ]
     },
     "metadata": {},
     "output_type": "display_data"
    },
    {
     "data": {
      "text/html": [
       " View run at <a href='https://wandb.ai/awni00/tmp/runs/9srx8816' target=\"_blank\">https://wandb.ai/awni00/tmp/runs/9srx8816</a>"
      ],
      "text/plain": [
       "<IPython.core.display.HTML object>"
      ]
     },
     "metadata": {},
     "output_type": "display_data"
    },
    {
     "name": "stderr",
     "output_type": "stream",
     "text": [
      "                                            \r"
     ]
    },
    {
     "ename": "NotFoundError",
     "evalue": "Graph execution error:\n\nDetected at node 'IteratorGetNext' defined at (most recent call last):\n    File \"/home/awni/miniconda3/envs/attention/lib/python3.10/runpy.py\", line 196, in _run_module_as_main\n      return _run_code(code, main_globals, None,\n    File \"/home/awni/miniconda3/envs/attention/lib/python3.10/runpy.py\", line 86, in _run_code\n      exec(code, run_globals)\n    File \"/home/awni/miniconda3/envs/attention/lib/python3.10/site-packages/ipykernel_launcher.py\", line 17, in <module>\n      app.launch_new_instance()\n    File \"/home/awni/miniconda3/envs/attention/lib/python3.10/site-packages/traitlets/config/application.py\", line 992, in launch_instance\n      app.start()\n    File \"/home/awni/miniconda3/envs/attention/lib/python3.10/site-packages/ipykernel/kernelapp.py\", line 711, in start\n      self.io_loop.start()\n    File \"/home/awni/miniconda3/envs/attention/lib/python3.10/site-packages/tornado/platform/asyncio.py\", line 215, in start\n      self.asyncio_loop.run_forever()\n    File \"/home/awni/miniconda3/envs/attention/lib/python3.10/asyncio/base_events.py\", line 603, in run_forever\n      self._run_once()\n    File \"/home/awni/miniconda3/envs/attention/lib/python3.10/asyncio/base_events.py\", line 1909, in _run_once\n      handle._run()\n    File \"/home/awni/miniconda3/envs/attention/lib/python3.10/asyncio/events.py\", line 80, in _run\n      self._context.run(self._callback, *self._args)\n    File \"/home/awni/miniconda3/envs/attention/lib/python3.10/site-packages/ipykernel/kernelbase.py\", line 510, in dispatch_queue\n      await self.process_one()\n    File \"/home/awni/miniconda3/envs/attention/lib/python3.10/site-packages/ipykernel/kernelbase.py\", line 499, in process_one\n      await dispatch(*args)\n    File \"/home/awni/miniconda3/envs/attention/lib/python3.10/site-packages/ipykernel/kernelbase.py\", line 406, in dispatch_shell\n      await result\n    File \"/home/awni/miniconda3/envs/attention/lib/python3.10/site-packages/ipykernel/kernelbase.py\", line 729, in execute_request\n      reply_content = await reply_content\n    File \"/home/awni/miniconda3/envs/attention/lib/python3.10/site-packages/ipykernel/ipkernel.py\", line 411, in do_execute\n      res = shell.run_cell(\n    File \"/home/awni/miniconda3/envs/attention/lib/python3.10/site-packages/ipykernel/zmqshell.py\", line 531, in run_cell\n      return super().run_cell(*args, **kwargs)\n    File \"/home/awni/miniconda3/envs/attention/lib/python3.10/site-packages/IPython/core/interactiveshell.py\", line 3006, in run_cell\n      result = self._run_cell(\n    File \"/home/awni/miniconda3/envs/attention/lib/python3.10/site-packages/IPython/core/interactiveshell.py\", line 3061, in _run_cell\n      result = runner(coro)\n    File \"/home/awni/miniconda3/envs/attention/lib/python3.10/site-packages/IPython/core/async_helpers.py\", line 129, in _pseudo_sync_runner\n      coro.send(None)\n    File \"/home/awni/miniconda3/envs/attention/lib/python3.10/site-packages/IPython/core/interactiveshell.py\", line 3266, in run_cell_async\n      has_raised = await self.run_ast_nodes(code_ast.body, cell_name,\n    File \"/home/awni/miniconda3/envs/attention/lib/python3.10/site-packages/IPython/core/interactiveshell.py\", line 3445, in run_ast_nodes\n      if await self.run_code(code, result, async_=asy):\n    File \"/home/awni/miniconda3/envs/attention/lib/python3.10/site-packages/IPython/core/interactiveshell.py\", line 3505, in run_code\n      exec(code_obj, self.user_global_ns, self.user_ns)\n    File \"/tmp/ipykernel_182849/933644993.py\", line 4, in <module>\n      train_model(\n    File \"/tmp/ipykernel_182849/2636204001.py\", line 22, in train_model\n      history = model.fit(\n    File \"/home/awni/miniconda3/envs/attention/lib/python3.10/site-packages/keras/src/utils/traceback_utils.py\", line 65, in error_handler\n      return fn(*args, **kwargs)\n    File \"/home/awni/miniconda3/envs/attention/lib/python3.10/site-packages/keras/src/engine/training.py\", line 1742, in fit\n      tmp_logs = self.train_function(iterator)\n    File \"/home/awni/miniconda3/envs/attention/lib/python3.10/site-packages/keras/src/engine/training.py\", line 1338, in train_function\n      return step_function(self, iterator)\n    File \"/home/awni/miniconda3/envs/attention/lib/python3.10/site-packages/keras/src/engine/training.py\", line 1321, in step_function\n      data = next(iterator)\nNode: 'IteratorGetNext'\nDetected at node 'IteratorGetNext' defined at (most recent call last):\n    File \"/home/awni/miniconda3/envs/attention/lib/python3.10/runpy.py\", line 196, in _run_module_as_main\n      return _run_code(code, main_globals, None,\n    File \"/home/awni/miniconda3/envs/attention/lib/python3.10/runpy.py\", line 86, in _run_code\n      exec(code, run_globals)\n    File \"/home/awni/miniconda3/envs/attention/lib/python3.10/site-packages/ipykernel_launcher.py\", line 17, in <module>\n      app.launch_new_instance()\n    File \"/home/awni/miniconda3/envs/attention/lib/python3.10/site-packages/traitlets/config/application.py\", line 992, in launch_instance\n      app.start()\n    File \"/home/awni/miniconda3/envs/attention/lib/python3.10/site-packages/ipykernel/kernelapp.py\", line 711, in start\n      self.io_loop.start()\n    File \"/home/awni/miniconda3/envs/attention/lib/python3.10/site-packages/tornado/platform/asyncio.py\", line 215, in start\n      self.asyncio_loop.run_forever()\n    File \"/home/awni/miniconda3/envs/attention/lib/python3.10/asyncio/base_events.py\", line 603, in run_forever\n      self._run_once()\n    File \"/home/awni/miniconda3/envs/attention/lib/python3.10/asyncio/base_events.py\", line 1909, in _run_once\n      handle._run()\n    File \"/home/awni/miniconda3/envs/attention/lib/python3.10/asyncio/events.py\", line 80, in _run\n      self._context.run(self._callback, *self._args)\n    File \"/home/awni/miniconda3/envs/attention/lib/python3.10/site-packages/ipykernel/kernelbase.py\", line 510, in dispatch_queue\n      await self.process_one()\n    File \"/home/awni/miniconda3/envs/attention/lib/python3.10/site-packages/ipykernel/kernelbase.py\", line 499, in process_one\n      await dispatch(*args)\n    File \"/home/awni/miniconda3/envs/attention/lib/python3.10/site-packages/ipykernel/kernelbase.py\", line 406, in dispatch_shell\n      await result\n    File \"/home/awni/miniconda3/envs/attention/lib/python3.10/site-packages/ipykernel/kernelbase.py\", line 729, in execute_request\n      reply_content = await reply_content\n    File \"/home/awni/miniconda3/envs/attention/lib/python3.10/site-packages/ipykernel/ipkernel.py\", line 411, in do_execute\n      res = shell.run_cell(\n    File \"/home/awni/miniconda3/envs/attention/lib/python3.10/site-packages/ipykernel/zmqshell.py\", line 531, in run_cell\n      return super().run_cell(*args, **kwargs)\n    File \"/home/awni/miniconda3/envs/attention/lib/python3.10/site-packages/IPython/core/interactiveshell.py\", line 3006, in run_cell\n      result = self._run_cell(\n    File \"/home/awni/miniconda3/envs/attention/lib/python3.10/site-packages/IPython/core/interactiveshell.py\", line 3061, in _run_cell\n      result = runner(coro)\n    File \"/home/awni/miniconda3/envs/attention/lib/python3.10/site-packages/IPython/core/async_helpers.py\", line 129, in _pseudo_sync_runner\n      coro.send(None)\n    File \"/home/awni/miniconda3/envs/attention/lib/python3.10/site-packages/IPython/core/interactiveshell.py\", line 3266, in run_cell_async\n      has_raised = await self.run_ast_nodes(code_ast.body, cell_name,\n    File \"/home/awni/miniconda3/envs/attention/lib/python3.10/site-packages/IPython/core/interactiveshell.py\", line 3445, in run_ast_nodes\n      if await self.run_code(code, result, async_=asy):\n    File \"/home/awni/miniconda3/envs/attention/lib/python3.10/site-packages/IPython/core/interactiveshell.py\", line 3505, in run_code\n      exec(code_obj, self.user_global_ns, self.user_ns)\n    File \"/tmp/ipykernel_182849/933644993.py\", line 4, in <module>\n      train_model(\n    File \"/tmp/ipykernel_182849/2636204001.py\", line 22, in train_model\n      history = model.fit(\n    File \"/home/awni/miniconda3/envs/attention/lib/python3.10/site-packages/keras/src/utils/traceback_utils.py\", line 65, in error_handler\n      return fn(*args, **kwargs)\n    File \"/home/awni/miniconda3/envs/attention/lib/python3.10/site-packages/keras/src/engine/training.py\", line 1742, in fit\n      tmp_logs = self.train_function(iterator)\n    File \"/home/awni/miniconda3/envs/attention/lib/python3.10/site-packages/keras/src/engine/training.py\", line 1338, in train_function\n      return step_function(self, iterator)\n    File \"/home/awni/miniconda3/envs/attention/lib/python3.10/site-packages/keras/src/engine/training.py\", line 1321, in step_function\n      data = next(iterator)\nNode: 'IteratorGetNext'\n2 root error(s) found.\n  (0) NOT_FOUND:  ../../data/relational_games/1task_between_hexos.tfrecord; No such file or directory\n\t [[{{node IteratorGetNext}}]]\n\t [[IteratorGetNext/_6]]\n  (1) NOT_FOUND:  ../../data/relational_games/1task_between_hexos.tfrecord; No such file or directory\n\t [[{{node IteratorGetNext}}]]\n0 successful operations.\n0 derived errors ignored. [Op:__inference_train_function_38781]",
     "output_type": "error",
     "traceback": [
      "\u001b[0;31m---------------------------------------------------------------------------\u001b[0m",
      "\u001b[0;31mNotFoundError\u001b[0m                             Traceback (most recent call last)",
      "Cell \u001b[0;32mIn[10], line 4\u001b[0m\n\u001b[1;32m      1\u001b[0m group_name \u001b[38;5;241m=\u001b[39m models\u001b[38;5;241m.\u001b[39mget_group_name(args\u001b[38;5;241m.\u001b[39mmodel, args\u001b[38;5;241m.\u001b[39mnormalizer, args\u001b[38;5;241m.\u001b[39mfreeze_embedder, object_selection)\n\u001b[1;32m      3\u001b[0m utils\u001b[38;5;241m.\u001b[39mprint_section(\u001b[38;5;124m\"\u001b[39m\u001b[38;5;124mTRAINING & EVALUATING MODEL\u001b[39m\u001b[38;5;124m\"\u001b[39m)\n\u001b[0;32m----> 4\u001b[0m \u001b[43mtrain_model\u001b[49m\u001b[43m(\u001b[49m\n\u001b[1;32m      5\u001b[0m \u001b[43m    \u001b[49m\u001b[43mcreate_model\u001b[49m\u001b[43m,\u001b[49m\u001b[43m \u001b[49m\u001b[43meval_model\u001b[49m\u001b[43m,\u001b[49m\u001b[43m \u001b[49m\u001b[43mfit_kwargs\u001b[49m\u001b[43m,\u001b[49m\u001b[43m \u001b[49m\u001b[43mcreate_callbacks\u001b[49m\u001b[43m,\u001b[49m\n\u001b[1;32m      6\u001b[0m \u001b[43m    \u001b[49m\u001b[43mwandb_project_name\u001b[49m\u001b[43m,\u001b[49m\u001b[43m \u001b[49m\u001b[43mgroup_name\u001b[49m\u001b[43m,\u001b[49m\n\u001b[1;32m      7\u001b[0m \u001b[43m    \u001b[49m\u001b[43mtrain_ds\u001b[49m\u001b[43m,\u001b[49m\u001b[43m \u001b[49m\u001b[43mval_ds\u001b[49m\u001b[43m,\u001b[49m\u001b[43m \u001b[49m\u001b[43mtest_ds\u001b[49m\u001b[43m,\u001b[49m\n\u001b[1;32m      8\u001b[0m \u001b[43m    \u001b[49m\u001b[43mtrain_size\u001b[49m\u001b[43m,\u001b[49m\u001b[43m \u001b[49m\u001b[43mstart_trial\u001b[49m\u001b[43m,\u001b[49m\u001b[43m \u001b[49m\u001b[43mnum_trials\u001b[49m\n\u001b[1;32m      9\u001b[0m \u001b[43m    \u001b[49m\u001b[43m)\u001b[49m\n",
      "Cell \u001b[0;32mIn[6], line 22\u001b[0m, in \u001b[0;36mtrain_model\u001b[0;34m(create_model, eval_model, fit_kwargs, create_callbacks, wandb_project_name, group_name, train_ds, val_ds, test_ds, train_size, start_trial, num_trials)\u001b[0m\n\u001b[1;32m     19\u001b[0m model \u001b[38;5;241m=\u001b[39m create_model()\n\u001b[1;32m     21\u001b[0m train_ds_sample \u001b[38;5;241m=\u001b[39m train_ds\u001b[38;5;241m.\u001b[39mshuffle(buffer_size\u001b[38;5;241m=\u001b[39m\u001b[38;5;28mlen\u001b[39m(train_ds))\u001b[38;5;241m.\u001b[39mtake(train_size)\u001b[38;5;241m.\u001b[39mbatch(batch_size)\n\u001b[0;32m---> 22\u001b[0m history \u001b[38;5;241m=\u001b[39m \u001b[43mmodel\u001b[49m\u001b[38;5;241;43m.\u001b[39;49m\u001b[43mfit\u001b[49m\u001b[43m(\u001b[49m\n\u001b[1;32m     23\u001b[0m \u001b[43m    \u001b[49m\u001b[43mtrain_ds_sample\u001b[49m\u001b[43m,\u001b[49m\u001b[43m \u001b[49m\u001b[43mvalidation_data\u001b[49m\u001b[38;5;241;43m=\u001b[39;49m\u001b[43mval_ds\u001b[49m\u001b[43m,\u001b[49m\u001b[43m \u001b[49m\u001b[43mverbose\u001b[49m\u001b[38;5;241;43m=\u001b[39;49m\u001b[38;5;241;43m0\u001b[39;49m\u001b[43m,\u001b[49m\n\u001b[1;32m     24\u001b[0m \u001b[43m    \u001b[49m\u001b[43mcallbacks\u001b[49m\u001b[38;5;241;43m=\u001b[39;49m\u001b[43mcreate_callbacks\u001b[49m\u001b[43m(\u001b[49m\u001b[43m)\u001b[49m\u001b[43m,\u001b[49m\u001b[43m \u001b[49m\u001b[38;5;241;43m*\u001b[39;49m\u001b[38;5;241;43m*\u001b[39;49m\u001b[43mfit_kwargs\u001b[49m\u001b[43m)\u001b[49m\n\u001b[1;32m     26\u001b[0m eval_dict \u001b[38;5;241m=\u001b[39m eval_model(model, test_ds)\n\u001b[1;32m     27\u001b[0m wandb\u001b[38;5;241m.\u001b[39mlog(eval_dict)\n",
      "File \u001b[0;32m~/miniconda3/envs/attention/lib/python3.10/site-packages/keras/src/utils/traceback_utils.py:70\u001b[0m, in \u001b[0;36mfilter_traceback.<locals>.error_handler\u001b[0;34m(*args, **kwargs)\u001b[0m\n\u001b[1;32m     67\u001b[0m     filtered_tb \u001b[38;5;241m=\u001b[39m _process_traceback_frames(e\u001b[38;5;241m.\u001b[39m__traceback__)\n\u001b[1;32m     68\u001b[0m     \u001b[38;5;66;03m# To get the full stack trace, call:\u001b[39;00m\n\u001b[1;32m     69\u001b[0m     \u001b[38;5;66;03m# `tf.debugging.disable_traceback_filtering()`\u001b[39;00m\n\u001b[0;32m---> 70\u001b[0m     \u001b[38;5;28;01mraise\u001b[39;00m e\u001b[38;5;241m.\u001b[39mwith_traceback(filtered_tb) \u001b[38;5;28;01mfrom\u001b[39;00m \u001b[38;5;28;01mNone\u001b[39;00m\n\u001b[1;32m     71\u001b[0m \u001b[38;5;28;01mfinally\u001b[39;00m:\n\u001b[1;32m     72\u001b[0m     \u001b[38;5;28;01mdel\u001b[39;00m filtered_tb\n",
      "File \u001b[0;32m~/miniconda3/envs/attention/lib/python3.10/site-packages/tensorflow/python/eager/execute.py:53\u001b[0m, in \u001b[0;36mquick_execute\u001b[0;34m(op_name, num_outputs, inputs, attrs, ctx, name)\u001b[0m\n\u001b[1;32m     51\u001b[0m \u001b[38;5;28;01mtry\u001b[39;00m:\n\u001b[1;32m     52\u001b[0m   ctx\u001b[38;5;241m.\u001b[39mensure_initialized()\n\u001b[0;32m---> 53\u001b[0m   tensors \u001b[38;5;241m=\u001b[39m pywrap_tfe\u001b[38;5;241m.\u001b[39mTFE_Py_Execute(ctx\u001b[38;5;241m.\u001b[39m_handle, device_name, op_name,\n\u001b[1;32m     54\u001b[0m                                       inputs, attrs, num_outputs)\n\u001b[1;32m     55\u001b[0m \u001b[38;5;28;01mexcept\u001b[39;00m core\u001b[38;5;241m.\u001b[39m_NotOkStatusException \u001b[38;5;28;01mas\u001b[39;00m e:\n\u001b[1;32m     56\u001b[0m   \u001b[38;5;28;01mif\u001b[39;00m name \u001b[38;5;129;01mis\u001b[39;00m \u001b[38;5;129;01mnot\u001b[39;00m \u001b[38;5;28;01mNone\u001b[39;00m:\n",
      "\u001b[0;31mNotFoundError\u001b[0m: Graph execution error:\n\nDetected at node 'IteratorGetNext' defined at (most recent call last):\n    File \"/home/awni/miniconda3/envs/attention/lib/python3.10/runpy.py\", line 196, in _run_module_as_main\n      return _run_code(code, main_globals, None,\n    File \"/home/awni/miniconda3/envs/attention/lib/python3.10/runpy.py\", line 86, in _run_code\n      exec(code, run_globals)\n    File \"/home/awni/miniconda3/envs/attention/lib/python3.10/site-packages/ipykernel_launcher.py\", line 17, in <module>\n      app.launch_new_instance()\n    File \"/home/awni/miniconda3/envs/attention/lib/python3.10/site-packages/traitlets/config/application.py\", line 992, in launch_instance\n      app.start()\n    File \"/home/awni/miniconda3/envs/attention/lib/python3.10/site-packages/ipykernel/kernelapp.py\", line 711, in start\n      self.io_loop.start()\n    File \"/home/awni/miniconda3/envs/attention/lib/python3.10/site-packages/tornado/platform/asyncio.py\", line 215, in start\n      self.asyncio_loop.run_forever()\n    File \"/home/awni/miniconda3/envs/attention/lib/python3.10/asyncio/base_events.py\", line 603, in run_forever\n      self._run_once()\n    File \"/home/awni/miniconda3/envs/attention/lib/python3.10/asyncio/base_events.py\", line 1909, in _run_once\n      handle._run()\n    File \"/home/awni/miniconda3/envs/attention/lib/python3.10/asyncio/events.py\", line 80, in _run\n      self._context.run(self._callback, *self._args)\n    File \"/home/awni/miniconda3/envs/attention/lib/python3.10/site-packages/ipykernel/kernelbase.py\", line 510, in dispatch_queue\n      await self.process_one()\n    File \"/home/awni/miniconda3/envs/attention/lib/python3.10/site-packages/ipykernel/kernelbase.py\", line 499, in process_one\n      await dispatch(*args)\n    File \"/home/awni/miniconda3/envs/attention/lib/python3.10/site-packages/ipykernel/kernelbase.py\", line 406, in dispatch_shell\n      await result\n    File \"/home/awni/miniconda3/envs/attention/lib/python3.10/site-packages/ipykernel/kernelbase.py\", line 729, in execute_request\n      reply_content = await reply_content\n    File \"/home/awni/miniconda3/envs/attention/lib/python3.10/site-packages/ipykernel/ipkernel.py\", line 411, in do_execute\n      res = shell.run_cell(\n    File \"/home/awni/miniconda3/envs/attention/lib/python3.10/site-packages/ipykernel/zmqshell.py\", line 531, in run_cell\n      return super().run_cell(*args, **kwargs)\n    File \"/home/awni/miniconda3/envs/attention/lib/python3.10/site-packages/IPython/core/interactiveshell.py\", line 3006, in run_cell\n      result = self._run_cell(\n    File \"/home/awni/miniconda3/envs/attention/lib/python3.10/site-packages/IPython/core/interactiveshell.py\", line 3061, in _run_cell\n      result = runner(coro)\n    File \"/home/awni/miniconda3/envs/attention/lib/python3.10/site-packages/IPython/core/async_helpers.py\", line 129, in _pseudo_sync_runner\n      coro.send(None)\n    File \"/home/awni/miniconda3/envs/attention/lib/python3.10/site-packages/IPython/core/interactiveshell.py\", line 3266, in run_cell_async\n      has_raised = await self.run_ast_nodes(code_ast.body, cell_name,\n    File \"/home/awni/miniconda3/envs/attention/lib/python3.10/site-packages/IPython/core/interactiveshell.py\", line 3445, in run_ast_nodes\n      if await self.run_code(code, result, async_=asy):\n    File \"/home/awni/miniconda3/envs/attention/lib/python3.10/site-packages/IPython/core/interactiveshell.py\", line 3505, in run_code\n      exec(code_obj, self.user_global_ns, self.user_ns)\n    File \"/tmp/ipykernel_182849/933644993.py\", line 4, in <module>\n      train_model(\n    File \"/tmp/ipykernel_182849/2636204001.py\", line 22, in train_model\n      history = model.fit(\n    File \"/home/awni/miniconda3/envs/attention/lib/python3.10/site-packages/keras/src/utils/traceback_utils.py\", line 65, in error_handler\n      return fn(*args, **kwargs)\n    File \"/home/awni/miniconda3/envs/attention/lib/python3.10/site-packages/keras/src/engine/training.py\", line 1742, in fit\n      tmp_logs = self.train_function(iterator)\n    File \"/home/awni/miniconda3/envs/attention/lib/python3.10/site-packages/keras/src/engine/training.py\", line 1338, in train_function\n      return step_function(self, iterator)\n    File \"/home/awni/miniconda3/envs/attention/lib/python3.10/site-packages/keras/src/engine/training.py\", line 1321, in step_function\n      data = next(iterator)\nNode: 'IteratorGetNext'\nDetected at node 'IteratorGetNext' defined at (most recent call last):\n    File \"/home/awni/miniconda3/envs/attention/lib/python3.10/runpy.py\", line 196, in _run_module_as_main\n      return _run_code(code, main_globals, None,\n    File \"/home/awni/miniconda3/envs/attention/lib/python3.10/runpy.py\", line 86, in _run_code\n      exec(code, run_globals)\n    File \"/home/awni/miniconda3/envs/attention/lib/python3.10/site-packages/ipykernel_launcher.py\", line 17, in <module>\n      app.launch_new_instance()\n    File \"/home/awni/miniconda3/envs/attention/lib/python3.10/site-packages/traitlets/config/application.py\", line 992, in launch_instance\n      app.start()\n    File \"/home/awni/miniconda3/envs/attention/lib/python3.10/site-packages/ipykernel/kernelapp.py\", line 711, in start\n      self.io_loop.start()\n    File \"/home/awni/miniconda3/envs/attention/lib/python3.10/site-packages/tornado/platform/asyncio.py\", line 215, in start\n      self.asyncio_loop.run_forever()\n    File \"/home/awni/miniconda3/envs/attention/lib/python3.10/asyncio/base_events.py\", line 603, in run_forever\n      self._run_once()\n    File \"/home/awni/miniconda3/envs/attention/lib/python3.10/asyncio/base_events.py\", line 1909, in _run_once\n      handle._run()\n    File \"/home/awni/miniconda3/envs/attention/lib/python3.10/asyncio/events.py\", line 80, in _run\n      self._context.run(self._callback, *self._args)\n    File \"/home/awni/miniconda3/envs/attention/lib/python3.10/site-packages/ipykernel/kernelbase.py\", line 510, in dispatch_queue\n      await self.process_one()\n    File \"/home/awni/miniconda3/envs/attention/lib/python3.10/site-packages/ipykernel/kernelbase.py\", line 499, in process_one\n      await dispatch(*args)\n    File \"/home/awni/miniconda3/envs/attention/lib/python3.10/site-packages/ipykernel/kernelbase.py\", line 406, in dispatch_shell\n      await result\n    File \"/home/awni/miniconda3/envs/attention/lib/python3.10/site-packages/ipykernel/kernelbase.py\", line 729, in execute_request\n      reply_content = await reply_content\n    File \"/home/awni/miniconda3/envs/attention/lib/python3.10/site-packages/ipykernel/ipkernel.py\", line 411, in do_execute\n      res = shell.run_cell(\n    File \"/home/awni/miniconda3/envs/attention/lib/python3.10/site-packages/ipykernel/zmqshell.py\", line 531, in run_cell\n      return super().run_cell(*args, **kwargs)\n    File \"/home/awni/miniconda3/envs/attention/lib/python3.10/site-packages/IPython/core/interactiveshell.py\", line 3006, in run_cell\n      result = self._run_cell(\n    File \"/home/awni/miniconda3/envs/attention/lib/python3.10/site-packages/IPython/core/interactiveshell.py\", line 3061, in _run_cell\n      result = runner(coro)\n    File \"/home/awni/miniconda3/envs/attention/lib/python3.10/site-packages/IPython/core/async_helpers.py\", line 129, in _pseudo_sync_runner\n      coro.send(None)\n    File \"/home/awni/miniconda3/envs/attention/lib/python3.10/site-packages/IPython/core/interactiveshell.py\", line 3266, in run_cell_async\n      has_raised = await self.run_ast_nodes(code_ast.body, cell_name,\n    File \"/home/awni/miniconda3/envs/attention/lib/python3.10/site-packages/IPython/core/interactiveshell.py\", line 3445, in run_ast_nodes\n      if await self.run_code(code, result, async_=asy):\n    File \"/home/awni/miniconda3/envs/attention/lib/python3.10/site-packages/IPython/core/interactiveshell.py\", line 3505, in run_code\n      exec(code_obj, self.user_global_ns, self.user_ns)\n    File \"/tmp/ipykernel_182849/933644993.py\", line 4, in <module>\n      train_model(\n    File \"/tmp/ipykernel_182849/2636204001.py\", line 22, in train_model\n      history = model.fit(\n    File \"/home/awni/miniconda3/envs/attention/lib/python3.10/site-packages/keras/src/utils/traceback_utils.py\", line 65, in error_handler\n      return fn(*args, **kwargs)\n    File \"/home/awni/miniconda3/envs/attention/lib/python3.10/site-packages/keras/src/engine/training.py\", line 1742, in fit\n      tmp_logs = self.train_function(iterator)\n    File \"/home/awni/miniconda3/envs/attention/lib/python3.10/site-packages/keras/src/engine/training.py\", line 1338, in train_function\n      return step_function(self, iterator)\n    File \"/home/awni/miniconda3/envs/attention/lib/python3.10/site-packages/keras/src/engine/training.py\", line 1321, in step_function\n      data = next(iterator)\nNode: 'IteratorGetNext'\n2 root error(s) found.\n  (0) NOT_FOUND:  ../../data/relational_games/1task_between_hexos.tfrecord; No such file or directory\n\t [[{{node IteratorGetNext}}]]\n\t [[IteratorGetNext/_6]]\n  (1) NOT_FOUND:  ../../data/relational_games/1task_between_hexos.tfrecord; No such file or directory\n\t [[{{node IteratorGetNext}}]]\n0 successful operations.\n0 derived errors ignored. [Op:__inference_train_function_38781]"
     ]
    }
   ],
   "source": [
    "\n",
    "group_name = models.get_group_name(args.model, args.normalizer, args.freeze_embedder, object_selection)\n",
    "\n",
    "utils.print_section(\"TRAINING & EVALUATING MODEL\")\n",
    "train_model(\n",
    "    create_model, eval_model, fit_kwargs, create_callbacks,\n",
    "    wandb_project_name, group_name,\n",
    "    train_ds, val_ds, test_ds,\n",
    "    train_size, start_trial, num_trials\n",
    "    )\n",
    "#endregion"
   ]
  }
 ],
 "metadata": {
  "kernelspec": {
   "display_name": "relconv",
   "language": "python",
   "name": "python3"
  },
  "language_info": {
   "codemirror_mode": {
    "name": "ipython",
    "version": 3
   },
   "file_extension": ".py",
   "mimetype": "text/x-python",
   "name": "python",
   "nbconvert_exporter": "python",
   "pygments_lexer": "ipython3",
   "version": "3.1.0"
  }
 },
 "nbformat": 4,
 "nbformat_minor": 2
}
