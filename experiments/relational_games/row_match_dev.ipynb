{
 "cells": [
  {
   "cell_type": "markdown",
   "metadata": {},
   "source": [
    "# Relational Games: Row Match [`dev`]"
   ]
  },
  {
   "cell_type": "code",
   "execution_count": 1,
   "metadata": {},
   "outputs": [
    {
     "name": "stderr",
     "output_type": "stream",
     "text": [
      "2023-09-02 14:20:18.907780: I tensorflow/core/util/port.cc:110] oneDNN custom operations are on. You may see slightly different numerical results due to floating-point round-off errors from different computation orders. To turn them off, set the environment variable `TF_ENABLE_ONEDNN_OPTS=0`.\n",
      "2023-09-02 14:20:18.962566: I tensorflow/core/platform/cpu_feature_guard.cc:182] This TensorFlow binary is optimized to use available CPU instructions in performance-critical operations.\n",
      "To enable the following instructions: AVX2 AVX512F AVX512_VNNI FMA, in other operations, rebuild TensorFlow with the appropriate compiler flags.\n",
      "2023-09-02 14:20:20.644500: W tensorflow/compiler/tf2tensorrt/utils/py_utils.cc:38] TF-TRT Warning: Could not find TensorRT\n"
     ]
    }
   ],
   "source": [
    "import numpy as np\n",
    "import matplotlib.pyplot as plt\n",
    "import os; os.environ['TF_MIN_LOG_LEVEL'] = '2'\n",
    "import tensorflow as tf\n",
    "\n",
    "import data_utils\n",
    "import sys; sys.path.append('../../')\n",
    "import utils"
   ]
  },
  {
   "cell_type": "code",
   "execution_count": 9,
   "metadata": {},
   "outputs": [
    {
     "data": {
      "text/plain": [
       "[PhysicalDevice(name='/physical_device:GPU:0', device_type='GPU')]"
      ]
     },
     "execution_count": 9,
     "metadata": {},
     "output_type": "execute_result"
    }
   ],
   "source": [
    "tf.config.list_physical_devices('GPU')"
   ]
  },
  {
   "cell_type": "markdown",
   "metadata": {},
   "source": [
    "## Set Up"
   ]
  },
  {
   "cell_type": "code",
   "execution_count": 10,
   "metadata": {},
   "outputs": [],
   "source": [
    "import argparse\n",
    "args = argparse.Namespace()\n",
    "args.task = '1task_match_patt'\n",
    "args.train_split = 'pentos'\n",
    "args.test_split_size = 5000\n",
    "args.n_epochs = 100\n",
    "args.early_stopping = True\n",
    "args.batch_size = 256\n",
    "args.val_size = 1000\n",
    "args.test_size = 5000"
   ]
  },
  {
   "cell_type": "markdown",
   "metadata": {},
   "source": [
    "### Load Data"
   ]
  },
  {
   "cell_type": "code",
   "execution_count": 11,
   "metadata": {},
   "outputs": [],
   "source": [
    "# utils.print_section('LOADING DATA')\n",
    "data_path = '../../data/relational_games'\n",
    "\n",
    "dataset_specs = np.load(f'{data_path}/dataset_specs.npy', allow_pickle=True).item()\n",
    "\n",
    "task_datasets = data_utils.load_task_datasets(args.task, data_path, data_format='tfrecord', ds_specs=dataset_specs)\n",
    "\n",
    "train_split_ds = task_datasets[args.train_split]\n",
    "# train_split_ds = data_utils.load_ds_from_npz(filename)\n",
    "\n",
    "train_ds, val_ds, test_ds = utils.split_ds(train_split_ds, val_size=args.val_size, test_size=args.test_size)\n",
    "del train_split_ds\n",
    "\n",
    "batch_size = args.batch_size\n",
    "val_ds = val_ds.batch(batch_size)\n",
    "test_ds = test_ds.batch(batch_size)\n",
    "\n",
    "eval_datasets = {split: ds.take(args.test_split_size).batch(batch_size) for split, ds in task_datasets.items() if split != args.train_split}\n"
   ]
  },
  {
   "cell_type": "code",
   "execution_count": 12,
   "metadata": {},
   "outputs": [
    {
     "data": {
      "text/plain": [
       "5120"
      ]
     },
     "execution_count": 12,
     "metadata": {},
     "output_type": "execute_result"
    }
   ],
   "source": [
    "len(test_ds) * batch_size"
   ]
  },
  {
   "cell_type": "code",
   "execution_count": 13,
   "metadata": {},
   "outputs": [
    {
     "data": {
      "text/plain": [
       "244000"
      ]
     },
     "execution_count": 13,
     "metadata": {},
     "output_type": "execute_result"
    }
   ],
   "source": [
    "len(train_ds)"
   ]
  },
  {
   "cell_type": "markdown",
   "metadata": {},
   "source": [
    "### Training Set up"
   ]
  },
  {
   "cell_type": "code",
   "execution_count": 14,
   "metadata": {},
   "outputs": [],
   "source": [
    "#region training setup\n",
    "loss = tf.keras.losses.CategoricalCrossentropy(from_logits=True)\n",
    "create_opt = lambda: tf.keras.optimizers.Adam()\n",
    "metrics = [\n",
    "        tf.keras.metrics.BinaryAccuracy(name='acc'),\n",
    "        # tf.keras.metrics.Precision(class_id=1, name='precision'),\n",
    "        # tf.keras.metrics.Recall(class_id=1, name='recall'),\n",
    "        # tf.keras.metrics.F1Score(average='weighted', name='f1'),\n",
    "        tf.keras.metrics.AUC(curve='ROC', multi_label=True, name='auc')\n",
    "        ]\n",
    "\n",
    "from tqdm.keras import TqdmCallback\n",
    "from tqdm import tqdm\n",
    "def create_callbacks(data_size=None, batch_size=None):\n",
    "    callbacks = [\n",
    "        TqdmCallback(data_size=data_size, batch_size=batch_size, tqdm_class=tqdm),\n",
    "        # wandb.keras.WandbMetricsLogger(log_freq='epoch')\n",
    "    ]\n",
    "\n",
    "    if args.early_stopping:\n",
    "        callbacks.append(tf.keras.callbacks.EarlyStopping(monitor='val_loss', patience=10, verbose=1, start_from_epoch=20))\n",
    "\n",
    "    return callbacks\n",
    "\n",
    "fit_kwargs = dict(epochs=args.n_epochs)\n",
    "batch_size = args.batch_size\n",
    "#endregion\n"
   ]
  },
  {
   "cell_type": "markdown",
   "metadata": {},
   "source": [
    "## CoRelNet"
   ]
  },
  {
   "cell_type": "code",
   "execution_count": 16,
   "metadata": {},
   "outputs": [],
   "source": [
    "from relational_neural_networks.multi_head_relation import MultiHeadRelation\n",
    "from relational_neural_networks.relational_graphlet_convolution import RelationalGraphletConvolution\n",
    "from relational_neural_networks.grouping_layers import TemporalGrouping, FeatureGrouping\n",
    "from cnn_embedder import CNNEmbedder"
   ]
  },
  {
   "cell_type": "code",
   "execution_count": 26,
   "metadata": {},
   "outputs": [],
   "source": [
    "# global parameters\n",
    "cnn_embedder_kwargs = dict(n_f=(16,16), s_f=(3,3), pool_size=2)\n",
    "\n",
    "# RelConvNet\n",
    "corelnet_mhr_kwargs = dict(rel_dim=1, proj_dim=4, symmetric=True)\n",
    "cnn_embedder_kwargs = dict(n_f=(16,16), s_f=(3,3), pool_size=2)\n",
    "\n",
    "# def create_relconvnet():\n",
    "mhr = MultiHeadRelation(**corelnet_mhr_kwargs, name='mhr')\n",
    "cnn_embedder = CNNEmbedder(**cnn_embedder_kwargs)\n",
    "\n",
    "model = tf.keras.Sequential(\n",
    "    [\n",
    "        cnn_embedder,\n",
    "        tf.keras.layers.UnitNormalization(),\n",
    "        mhr,\n",
    "        tf.keras.layers.Softmax(axis=-1, name='softmax'),\n",
    "        tf.keras.layers.Flatten(name='flatten'),\n",
    "        tf.keras.layers.Dense(32, activation='relu', name='hidden_dense1'),\n",
    "        tf.keras.layers.Dense(2, name='output')],\n",
    "    name='rel_conv_net')\n",
    "\n",
    "    # return model"
   ]
  },
  {
   "cell_type": "code",
   "execution_count": 27,
   "metadata": {},
   "outputs": [
    {
     "name": "stdout",
     "output_type": "stream",
     "text": [
      "Model: \"rel_conv_net\"\n",
      "_________________________________________________________________\n",
      " Layer (type)                Output Shape              Param #   \n",
      "=================================================================\n",
      " cnn_embedder_3 (CNNEmbedde  (None, 9, 16)             2768      \n",
      " r)                                                              \n",
      "                                                                 \n",
      " unit_normalization (UnitNo  (None, 9, 16)             0         \n",
      " rmalization)                                                    \n",
      "                                                                 \n",
      " mhr (MultiHeadRelation)     (None, 9, 9, 1)           68        \n",
      "                                                                 \n",
      " softmax (Softmax)           (None, 9, 9, 1)           0         \n",
      "                                                                 \n",
      " flatten (Flatten)           (None, 81)                0         \n",
      "                                                                 \n",
      " hidden_dense1 (Dense)       (None, 32)                2624      \n",
      "                                                                 \n",
      " output (Dense)              (None, 2)                 66        \n",
      "                                                                 \n",
      "=================================================================\n",
      "Total params: 5526 (21.59 KB)\n",
      "Trainable params: 5526 (21.59 KB)\n",
      "Non-trainable params: 0 (0.00 Byte)\n",
      "_________________________________________________________________\n",
      "None\n"
     ]
    }
   ],
   "source": [
    "opt = tf.keras.optimizers.Adam(tf.keras.optimizers.schedules.ExponentialDecay(0.01, 100, 0.96))\n",
    "# opt = tf.keras.optimizers.SGD(0.001)\n",
    "model.compile(loss=loss, optimizer=opt, metrics=metrics) # compile\n",
    "model.build(input_shape=(None, *train_ds.element_spec[0].shape)) # build\n",
    "print(model.summary())"
   ]
  },
  {
   "cell_type": "code",
   "execution_count": 28,
   "metadata": {},
   "outputs": [
    {
     "name": "stdout",
     "output_type": "stream",
     "text": [
      "Epoch 1/50\n"
     ]
    },
    {
     "name": "stderr",
     "output_type": "stream",
     "text": [
      "2023-09-02 14:50:55.003401: I tensorflow/compiler/mlir/tensorflow/utils/dump_mlir_util.cc:255] disabling MLIR crash reproducer, set env var `MLIR_CRASH_REPRODUCER_DIRECTORY` to enable.\n"
     ]
    },
    {
     "name": "stdout",
     "output_type": "stream",
     "text": [
      "477/477 [==============================] - 151s 294ms/step - loss: 0.6985 - acc: 0.5001 - auc: 0.5009 - val_loss: 0.6923 - val_acc: 0.5000 - val_auc: 0.5000\n",
      "Epoch 2/50\n",
      "477/477 [==============================] - 138s 277ms/step - loss: 0.6933 - acc: 0.5000 - auc: 0.4997 - val_loss: 0.6931 - val_acc: 0.5000 - val_auc: 0.5000\n",
      "Epoch 3/50\n",
      "477/477 [==============================] - 147s 296ms/step - loss: 0.6932 - acc: 0.5000 - auc: 0.4994 - val_loss: 0.6930 - val_acc: 0.5000 - val_auc: 0.5000\n",
      "Epoch 4/50\n",
      "477/477 [==============================] - 140s 282ms/step - loss: 0.6932 - acc: 0.5000 - auc: 0.4990 - val_loss: 0.6926 - val_acc: 0.5000 - val_auc: 0.5000\n",
      "Epoch 5/50\n",
      "477/477 [==============================] - 132s 265ms/step - loss: 0.6932 - acc: 0.5000 - auc: 0.5001 - val_loss: 0.6932 - val_acc: 0.5000 - val_auc: 0.5000\n",
      "Epoch 6/50\n",
      "477/477 [==============================] - 134s 270ms/step - loss: 0.6932 - acc: 0.5000 - auc: 0.5006 - val_loss: 0.6932 - val_acc: 0.5000 - val_auc: 0.5000\n",
      "Epoch 7/50\n"
     ]
    },
    {
     "ename": "KeyboardInterrupt",
     "evalue": "",
     "output_type": "error",
     "traceback": [
      "\u001b[0;31m---------------------------------------------------------------------------\u001b[0m",
      "\u001b[0;31mKeyboardInterrupt\u001b[0m                         Traceback (most recent call last)",
      "Cell \u001b[0;32mIn[28], line 6\u001b[0m\n\u001b[1;32m      4\u001b[0m shuffle_buffer_size \u001b[38;5;241m=\u001b[39m train_size\n\u001b[1;32m      5\u001b[0m train_ds_sample \u001b[38;5;241m=\u001b[39m train_ds\u001b[38;5;241m.\u001b[39mtake(train_size)\u001b[38;5;241m.\u001b[39mbatch(batch_size)\n\u001b[0;32m----> 6\u001b[0m history \u001b[38;5;241m=\u001b[39m \u001b[43mmodel\u001b[49m\u001b[38;5;241;43m.\u001b[39;49m\u001b[43mfit\u001b[49m\u001b[43m(\u001b[49m\n\u001b[1;32m      7\u001b[0m \u001b[43m    \u001b[49m\u001b[43mtrain_ds_sample\u001b[49m\u001b[43m,\u001b[49m\u001b[43m \u001b[49m\u001b[43mvalidation_data\u001b[49m\u001b[38;5;241;43m=\u001b[39;49m\u001b[43mval_ds\u001b[49m\u001b[43m,\u001b[49m\u001b[43m \u001b[49m\u001b[43mverbose\u001b[49m\u001b[38;5;241;43m=\u001b[39;49m\u001b[38;5;241;43m1\u001b[39;49m\u001b[43m,\u001b[49m\u001b[43m \u001b[49m\u001b[43mepochs\u001b[49m\u001b[38;5;241;43m=\u001b[39;49m\u001b[38;5;241;43m50\u001b[39;49m\u001b[43m)\u001b[49m\n",
      "File \u001b[0;32m~/.conda/envs/relconvnet/lib/python3.10/site-packages/keras/src/utils/traceback_utils.py:65\u001b[0m, in \u001b[0;36mfilter_traceback.<locals>.error_handler\u001b[0;34m(*args, **kwargs)\u001b[0m\n\u001b[1;32m     63\u001b[0m filtered_tb \u001b[39m=\u001b[39m \u001b[39mNone\u001b[39;00m\n\u001b[1;32m     64\u001b[0m \u001b[39mtry\u001b[39;00m:\n\u001b[0;32m---> 65\u001b[0m     \u001b[39mreturn\u001b[39;00m fn(\u001b[39m*\u001b[39;49margs, \u001b[39m*\u001b[39;49m\u001b[39m*\u001b[39;49mkwargs)\n\u001b[1;32m     66\u001b[0m \u001b[39mexcept\u001b[39;00m \u001b[39mException\u001b[39;00m \u001b[39mas\u001b[39;00m e:\n\u001b[1;32m     67\u001b[0m     filtered_tb \u001b[39m=\u001b[39m _process_traceback_frames(e\u001b[39m.\u001b[39m__traceback__)\n",
      "File \u001b[0;32m~/.conda/envs/relconvnet/lib/python3.10/site-packages/keras/src/engine/training.py:1742\u001b[0m, in \u001b[0;36mModel.fit\u001b[0;34m(self, x, y, batch_size, epochs, verbose, callbacks, validation_split, validation_data, shuffle, class_weight, sample_weight, initial_epoch, steps_per_epoch, validation_steps, validation_batch_size, validation_freq, max_queue_size, workers, use_multiprocessing)\u001b[0m\n\u001b[1;32m   1734\u001b[0m \u001b[39mwith\u001b[39;00m tf\u001b[39m.\u001b[39mprofiler\u001b[39m.\u001b[39mexperimental\u001b[39m.\u001b[39mTrace(\n\u001b[1;32m   1735\u001b[0m     \u001b[39m\"\u001b[39m\u001b[39mtrain\u001b[39m\u001b[39m\"\u001b[39m,\n\u001b[1;32m   1736\u001b[0m     epoch_num\u001b[39m=\u001b[39mepoch,\n\u001b[0;32m   (...)\u001b[0m\n\u001b[1;32m   1739\u001b[0m     _r\u001b[39m=\u001b[39m\u001b[39m1\u001b[39m,\n\u001b[1;32m   1740\u001b[0m ):\n\u001b[1;32m   1741\u001b[0m     callbacks\u001b[39m.\u001b[39mon_train_batch_begin(step)\n\u001b[0;32m-> 1742\u001b[0m     tmp_logs \u001b[39m=\u001b[39m \u001b[39mself\u001b[39;49m\u001b[39m.\u001b[39;49mtrain_function(iterator)\n\u001b[1;32m   1743\u001b[0m     \u001b[39mif\u001b[39;00m data_handler\u001b[39m.\u001b[39mshould_sync:\n\u001b[1;32m   1744\u001b[0m         context\u001b[39m.\u001b[39masync_wait()\n",
      "File \u001b[0;32m~/.conda/envs/relconvnet/lib/python3.10/site-packages/tensorflow/python/util/traceback_utils.py:150\u001b[0m, in \u001b[0;36mfilter_traceback.<locals>.error_handler\u001b[0;34m(*args, **kwargs)\u001b[0m\n\u001b[1;32m    148\u001b[0m filtered_tb \u001b[39m=\u001b[39m \u001b[39mNone\u001b[39;00m\n\u001b[1;32m    149\u001b[0m \u001b[39mtry\u001b[39;00m:\n\u001b[0;32m--> 150\u001b[0m   \u001b[39mreturn\u001b[39;00m fn(\u001b[39m*\u001b[39;49margs, \u001b[39m*\u001b[39;49m\u001b[39m*\u001b[39;49mkwargs)\n\u001b[1;32m    151\u001b[0m \u001b[39mexcept\u001b[39;00m \u001b[39mException\u001b[39;00m \u001b[39mas\u001b[39;00m e:\n\u001b[1;32m    152\u001b[0m   filtered_tb \u001b[39m=\u001b[39m _process_traceback_frames(e\u001b[39m.\u001b[39m__traceback__)\n",
      "File \u001b[0;32m~/.conda/envs/relconvnet/lib/python3.10/site-packages/tensorflow/python/eager/polymorphic_function/polymorphic_function.py:825\u001b[0m, in \u001b[0;36mFunction.__call__\u001b[0;34m(self, *args, **kwds)\u001b[0m\n\u001b[1;32m    822\u001b[0m compiler \u001b[39m=\u001b[39m \u001b[39m\"\u001b[39m\u001b[39mxla\u001b[39m\u001b[39m\"\u001b[39m \u001b[39mif\u001b[39;00m \u001b[39mself\u001b[39m\u001b[39m.\u001b[39m_jit_compile \u001b[39melse\u001b[39;00m \u001b[39m\"\u001b[39m\u001b[39mnonXla\u001b[39m\u001b[39m\"\u001b[39m\n\u001b[1;32m    824\u001b[0m \u001b[39mwith\u001b[39;00m OptionalXlaContext(\u001b[39mself\u001b[39m\u001b[39m.\u001b[39m_jit_compile):\n\u001b[0;32m--> 825\u001b[0m   result \u001b[39m=\u001b[39m \u001b[39mself\u001b[39;49m\u001b[39m.\u001b[39;49m_call(\u001b[39m*\u001b[39;49margs, \u001b[39m*\u001b[39;49m\u001b[39m*\u001b[39;49mkwds)\n\u001b[1;32m    827\u001b[0m new_tracing_count \u001b[39m=\u001b[39m \u001b[39mself\u001b[39m\u001b[39m.\u001b[39mexperimental_get_tracing_count()\n\u001b[1;32m    828\u001b[0m without_tracing \u001b[39m=\u001b[39m (tracing_count \u001b[39m==\u001b[39m new_tracing_count)\n",
      "File \u001b[0;32m~/.conda/envs/relconvnet/lib/python3.10/site-packages/tensorflow/python/eager/polymorphic_function/polymorphic_function.py:857\u001b[0m, in \u001b[0;36mFunction._call\u001b[0;34m(self, *args, **kwds)\u001b[0m\n\u001b[1;32m    854\u001b[0m   \u001b[39mself\u001b[39m\u001b[39m.\u001b[39m_lock\u001b[39m.\u001b[39mrelease()\n\u001b[1;32m    855\u001b[0m   \u001b[39m# In this case we have created variables on the first call, so we run the\u001b[39;00m\n\u001b[1;32m    856\u001b[0m   \u001b[39m# defunned version which is guaranteed to never create variables.\u001b[39;00m\n\u001b[0;32m--> 857\u001b[0m   \u001b[39mreturn\u001b[39;00m \u001b[39mself\u001b[39;49m\u001b[39m.\u001b[39;49m_no_variable_creation_fn(\u001b[39m*\u001b[39;49margs, \u001b[39m*\u001b[39;49m\u001b[39m*\u001b[39;49mkwds)  \u001b[39m# pylint: disable=not-callable\u001b[39;00m\n\u001b[1;32m    858\u001b[0m \u001b[39melif\u001b[39;00m \u001b[39mself\u001b[39m\u001b[39m.\u001b[39m_variable_creation_fn \u001b[39mis\u001b[39;00m \u001b[39mnot\u001b[39;00m \u001b[39mNone\u001b[39;00m:\n\u001b[1;32m    859\u001b[0m   \u001b[39m# Release the lock early so that multiple threads can perform the call\u001b[39;00m\n\u001b[1;32m    860\u001b[0m   \u001b[39m# in parallel.\u001b[39;00m\n\u001b[1;32m    861\u001b[0m   \u001b[39mself\u001b[39m\u001b[39m.\u001b[39m_lock\u001b[39m.\u001b[39mrelease()\n",
      "File \u001b[0;32m~/.conda/envs/relconvnet/lib/python3.10/site-packages/tensorflow/python/eager/polymorphic_function/tracing_compiler.py:148\u001b[0m, in \u001b[0;36mTracingCompiler.__call__\u001b[0;34m(self, *args, **kwargs)\u001b[0m\n\u001b[1;32m    145\u001b[0m \u001b[39mwith\u001b[39;00m \u001b[39mself\u001b[39m\u001b[39m.\u001b[39m_lock:\n\u001b[1;32m    146\u001b[0m   (concrete_function,\n\u001b[1;32m    147\u001b[0m    filtered_flat_args) \u001b[39m=\u001b[39m \u001b[39mself\u001b[39m\u001b[39m.\u001b[39m_maybe_define_function(args, kwargs)\n\u001b[0;32m--> 148\u001b[0m \u001b[39mreturn\u001b[39;00m concrete_function\u001b[39m.\u001b[39;49m_call_flat(\n\u001b[1;32m    149\u001b[0m     filtered_flat_args, captured_inputs\u001b[39m=\u001b[39;49mconcrete_function\u001b[39m.\u001b[39;49mcaptured_inputs)\n",
      "File \u001b[0;32m~/.conda/envs/relconvnet/lib/python3.10/site-packages/tensorflow/python/eager/polymorphic_function/monomorphic_function.py:1349\u001b[0m, in \u001b[0;36mConcreteFunction._call_flat\u001b[0;34m(self, args, captured_inputs)\u001b[0m\n\u001b[1;32m   1345\u001b[0m possible_gradient_type \u001b[39m=\u001b[39m gradients_util\u001b[39m.\u001b[39mPossibleTapeGradientTypes(args)\n\u001b[1;32m   1346\u001b[0m \u001b[39mif\u001b[39;00m (possible_gradient_type \u001b[39m==\u001b[39m gradients_util\u001b[39m.\u001b[39mPOSSIBLE_GRADIENT_TYPES_NONE\n\u001b[1;32m   1347\u001b[0m     \u001b[39mand\u001b[39;00m executing_eagerly):\n\u001b[1;32m   1348\u001b[0m   \u001b[39m# No tape is watching; skip to running the function.\u001b[39;00m\n\u001b[0;32m-> 1349\u001b[0m   \u001b[39mreturn\u001b[39;00m \u001b[39mself\u001b[39m\u001b[39m.\u001b[39m_build_call_outputs(\u001b[39mself\u001b[39;49m\u001b[39m.\u001b[39;49m_inference_function(\u001b[39m*\u001b[39;49margs))\n\u001b[1;32m   1350\u001b[0m forward_backward \u001b[39m=\u001b[39m \u001b[39mself\u001b[39m\u001b[39m.\u001b[39m_select_forward_and_backward_functions(\n\u001b[1;32m   1351\u001b[0m     args,\n\u001b[1;32m   1352\u001b[0m     possible_gradient_type,\n\u001b[1;32m   1353\u001b[0m     executing_eagerly)\n\u001b[1;32m   1354\u001b[0m forward_function, args_with_tangents \u001b[39m=\u001b[39m forward_backward\u001b[39m.\u001b[39mforward()\n",
      "File \u001b[0;32m~/.conda/envs/relconvnet/lib/python3.10/site-packages/tensorflow/python/eager/polymorphic_function/atomic_function.py:196\u001b[0m, in \u001b[0;36mAtomicFunction.__call__\u001b[0;34m(self, *args)\u001b[0m\n\u001b[1;32m    194\u001b[0m \u001b[39mwith\u001b[39;00m record\u001b[39m.\u001b[39mstop_recording():\n\u001b[1;32m    195\u001b[0m   \u001b[39mif\u001b[39;00m \u001b[39mself\u001b[39m\u001b[39m.\u001b[39m_bound_context\u001b[39m.\u001b[39mexecuting_eagerly():\n\u001b[0;32m--> 196\u001b[0m     outputs \u001b[39m=\u001b[39m \u001b[39mself\u001b[39;49m\u001b[39m.\u001b[39;49m_bound_context\u001b[39m.\u001b[39;49mcall_function(\n\u001b[1;32m    197\u001b[0m         \u001b[39mself\u001b[39;49m\u001b[39m.\u001b[39;49mname,\n\u001b[1;32m    198\u001b[0m         \u001b[39mlist\u001b[39;49m(args),\n\u001b[1;32m    199\u001b[0m         \u001b[39mlen\u001b[39;49m(\u001b[39mself\u001b[39;49m\u001b[39m.\u001b[39;49mfunction_type\u001b[39m.\u001b[39;49mflat_outputs),\n\u001b[1;32m    200\u001b[0m     )\n\u001b[1;32m    201\u001b[0m   \u001b[39melse\u001b[39;00m:\n\u001b[1;32m    202\u001b[0m     outputs \u001b[39m=\u001b[39m make_call_op_in_graph(\u001b[39mself\u001b[39m, \u001b[39mlist\u001b[39m(args))\n",
      "File \u001b[0;32m~/.conda/envs/relconvnet/lib/python3.10/site-packages/tensorflow/python/eager/context.py:1457\u001b[0m, in \u001b[0;36mContext.call_function\u001b[0;34m(self, name, tensor_inputs, num_outputs)\u001b[0m\n\u001b[1;32m   1455\u001b[0m cancellation_context \u001b[39m=\u001b[39m cancellation\u001b[39m.\u001b[39mcontext()\n\u001b[1;32m   1456\u001b[0m \u001b[39mif\u001b[39;00m cancellation_context \u001b[39mis\u001b[39;00m \u001b[39mNone\u001b[39;00m:\n\u001b[0;32m-> 1457\u001b[0m   outputs \u001b[39m=\u001b[39m execute\u001b[39m.\u001b[39;49mexecute(\n\u001b[1;32m   1458\u001b[0m       name\u001b[39m.\u001b[39;49mdecode(\u001b[39m\"\u001b[39;49m\u001b[39mutf-8\u001b[39;49m\u001b[39m\"\u001b[39;49m),\n\u001b[1;32m   1459\u001b[0m       num_outputs\u001b[39m=\u001b[39;49mnum_outputs,\n\u001b[1;32m   1460\u001b[0m       inputs\u001b[39m=\u001b[39;49mtensor_inputs,\n\u001b[1;32m   1461\u001b[0m       attrs\u001b[39m=\u001b[39;49mattrs,\n\u001b[1;32m   1462\u001b[0m       ctx\u001b[39m=\u001b[39;49m\u001b[39mself\u001b[39;49m,\n\u001b[1;32m   1463\u001b[0m   )\n\u001b[1;32m   1464\u001b[0m \u001b[39melse\u001b[39;00m:\n\u001b[1;32m   1465\u001b[0m   outputs \u001b[39m=\u001b[39m execute\u001b[39m.\u001b[39mexecute_with_cancellation(\n\u001b[1;32m   1466\u001b[0m       name\u001b[39m.\u001b[39mdecode(\u001b[39m\"\u001b[39m\u001b[39mutf-8\u001b[39m\u001b[39m\"\u001b[39m),\n\u001b[1;32m   1467\u001b[0m       num_outputs\u001b[39m=\u001b[39mnum_outputs,\n\u001b[0;32m   (...)\u001b[0m\n\u001b[1;32m   1471\u001b[0m       cancellation_manager\u001b[39m=\u001b[39mcancellation_context,\n\u001b[1;32m   1472\u001b[0m   )\n",
      "File \u001b[0;32m~/.conda/envs/relconvnet/lib/python3.10/site-packages/tensorflow/python/eager/execute.py:53\u001b[0m, in \u001b[0;36mquick_execute\u001b[0;34m(op_name, num_outputs, inputs, attrs, ctx, name)\u001b[0m\n\u001b[1;32m     51\u001b[0m \u001b[39mtry\u001b[39;00m:\n\u001b[1;32m     52\u001b[0m   ctx\u001b[39m.\u001b[39mensure_initialized()\n\u001b[0;32m---> 53\u001b[0m   tensors \u001b[39m=\u001b[39m pywrap_tfe\u001b[39m.\u001b[39;49mTFE_Py_Execute(ctx\u001b[39m.\u001b[39;49m_handle, device_name, op_name,\n\u001b[1;32m     54\u001b[0m                                       inputs, attrs, num_outputs)\n\u001b[1;32m     55\u001b[0m \u001b[39mexcept\u001b[39;00m core\u001b[39m.\u001b[39m_NotOkStatusException \u001b[39mas\u001b[39;00m e:\n\u001b[1;32m     56\u001b[0m   \u001b[39mif\u001b[39;00m name \u001b[39mis\u001b[39;00m \u001b[39mnot\u001b[39;00m \u001b[39mNone\u001b[39;00m:\n",
      "\u001b[0;31mKeyboardInterrupt\u001b[0m: "
     ]
    }
   ],
   "source": [
    "train_size = -1 # 5_000\n",
    "batch_size = 512\n",
    "\n",
    "shuffle_buffer_size = train_size\n",
    "train_ds_sample = train_ds.take(train_size).batch(batch_size)\n",
    "history = model.fit(\n",
    "    train_ds_sample, validation_data=val_ds, verbose=1, epochs=50)"
   ]
  },
  {
   "cell_type": "code",
   "execution_count": null,
   "metadata": {},
   "outputs": [
    {
     "name": "stdout",
     "output_type": "stream",
     "text": [
      "20/20 [==============================] - 8s 81ms/step - loss: 0.0092 - acc: 0.6556 - precision: 0.6151 - recall: 0.6810 - f1: 0.9982 - auc: 0.6586\n"
     ]
    },
    {
     "data": {
      "text/plain": [
       "[0.009209304116666317,\n",
       " 0.6556000113487244,\n",
       " 0.6150537729263306,\n",
       " 0.6809523701667786,\n",
       " 0.9982000589370728,\n",
       " 0.6585724353790283]"
      ]
     },
     "metadata": {},
     "output_type": "display_data"
    }
   ],
   "source": [
    "model.evaluate(test_ds)"
   ]
  },
  {
   "cell_type": "code",
   "execution_count": null,
   "metadata": {},
   "outputs": [],
   "source": [
    "utils.plot_history(history, plot_attrs=('loss','acc'));"
   ]
  },
  {
   "cell_type": "code",
   "execution_count": null,
   "metadata": {},
   "outputs": [],
   "source": [
    "model.evaluate(val_ds)"
   ]
  },
  {
   "cell_type": "markdown",
   "metadata": {},
   "source": [
    "## Relational Convolution"
   ]
  },
  {
   "cell_type": "code",
   "execution_count": 32,
   "metadata": {},
   "outputs": [],
   "source": [
    "from relational_neural_networks.multi_head_relation import MultiHeadRelation\n",
    "from relational_neural_networks.relational_graphlet_convolution import RelationalGraphletConvolution\n",
    "from relational_neural_networks.grouping_layers import TemporalGrouping, FeatureGrouping\n",
    "from cnn_embedder import CNNEmbedder"
   ]
  },
  {
   "cell_type": "code",
   "execution_count": 35,
   "metadata": {},
   "outputs": [],
   "source": [
    "import itertools\n",
    "# groups = [group for group in itertools.permutations(range(9), r=3) if all(x in (0,1,2,6,7,8) for x in group)]\n",
    "groups = [(0,1,2), (6,7,8)]"
   ]
  },
  {
   "cell_type": "code",
   "execution_count": 48,
   "metadata": {},
   "outputs": [],
   "source": [
    "# RelConvNet\n",
    "relconv_mhr_kwargs = dict(rel_dim=8, proj_dim=4, symmetric=True)\n",
    "relconv_kwargs = dict(n_filters=32, graphlet_size=3,\n",
    "        symmetric_inner_prod=False)\n",
    "cnn_embedder_kwargs = dict(n_f=(16,16), s_f=(3,3), pool_size=2)\n",
    "\n",
    "# def create_relconvnet():\n",
    "mhr1 = MultiHeadRelation(**relconv_mhr_kwargs, name='mhr1')\n",
    "mhr2 = MultiHeadRelation(**relconv_mhr_kwargs, name='mhr2')\n",
    "\n",
    "rel_conv1 = RelationalGraphletConvolution(\n",
    "    **relconv_kwargs, groups=groups, name='rgc1')\n",
    "rel_conv2 = RelationalGraphletConvolution(\n",
    "    **relconv_kwargs, groups='combinations', name='rgc2')\n",
    "\n",
    "# feature_grouping = FeatureGrouping(num_groups=32, use_pos=True,\n",
    "#     mlp_shape=(32, 32), mlp_activations='relu', name='feature_grouping')\n",
    "temporal_grouper1 = TemporalGrouping(num_groups=16, weight_initializer='glorot_uniform', name='temporal_grouper1')\n",
    "temporal_grouper2 = TemporalGrouping(num_groups=4, weight_initializer='glorot_uniform', name='temporal_grouper2')\n",
    "\n",
    "cnn_embedder = CNNEmbedder(**cnn_embedder_kwargs)\n",
    "l2_normalizer = tf.keras.layers.UnitNormalization(name='l2_normalization')\n",
    "\n",
    "inputs = tf.keras.layers.Input(shape=train_ds.element_spec[0].shape)\n",
    "embedded_objects = cnn_embedder(inputs)\n",
    "embedded_objects = l2_normalizer(embedded_objects)\n",
    "rel_tensor = mhr1(embedded_objects)\n",
    "# g = feature_grouping(embedded_objects)\n",
    "g = temporal_grouper1(embedded_objects)\n",
    "convolution = rel_conv1(rel_tensor, g)\n",
    "# rel_tensor = mhr2(convolution)\n",
    "# g = temporal_grouper2(convolution)\n",
    "# convolution = rel_conv2(rel_tensor, g)\n",
    "# convolution = rel_conv(rel_tensor)\n",
    "\n",
    "x = tf.keras.layers.Flatten(name='flatten')(convolution)\n",
    "x = tf.keras.layers.Dense(64, activation='relu', name='hidden_dense1')(x)\n",
    "x = tf.keras.layers.Dense(2, name='output')(x)\n",
    "outputs = x\n",
    "\n",
    "model = tf.keras.Model(inputs=inputs, outputs=outputs, name='relconvent')"
   ]
  },
  {
   "cell_type": "code",
   "execution_count": 47,
   "metadata": {},
   "outputs": [
    {
     "data": {
      "text/plain": [
       "[<matplotlib.lines.Line2D at 0x7f54389a9a50>]"
      ]
     },
     "execution_count": 47,
     "metadata": {},
     "output_type": "execute_result"
    },
    {
     "data": {
      "image/png": "[encoded data removed]",
      "text/plain": [
       "<Figure size 640x480 with 1 Axes>"
      ]
     },
     "metadata": {},
     "output_type": "display_data"
    }
   ],
   "source": [
    "plt.plot(np.arange(50*10), 0.01*0.9**(np.arange(50*10)/10))"
   ]
  },
  {
   "cell_type": "code",
   "execution_count": 51,
   "metadata": {},
   "outputs": [
    {
     "name": "stdout",
     "output_type": "stream",
     "text": [
      "Model: \"relconvent\"\n",
      "__________________________________________________________________________________________________\n",
      " Layer (type)                Output Shape                 Param #   Connected to                  \n",
      "==================================================================================================\n",
      " input_2 (InputLayer)        [(None, 9, 12, 12, 3)]       0         []                            \n",
      "                                                                                                  \n",
      " cnn_embedder_5 (CNNEmbedde  (None, 9, 16)                2768      ['input_2[0][0]']             \n",
      " r)                                                                                               \n",
      "                                                                                                  \n",
      " l2_normalization (UnitNorm  (None, 9, 16)                0         ['cnn_embedder_5[0][0]']      \n",
      " alization)                                                                                       \n",
      "                                                                                                  \n",
      " mhr1 (MultiHeadRelation)    (None, 9, 9, 8)              544       ['l2_normalization[0][0]']    \n",
      "                                                                                                  \n",
      " temporal_grouper1 (Tempora  (16, 9)                      144       ['l2_normalization[0][0]']    \n",
      " lGrouping)                                                                                       \n",
      "                                                                                                  \n",
      " rgc1 (RelationalGraphletCo  (None, 16, 32)               2304      ['mhr1[0][0]',                \n",
      " nvolution)                                                          'temporal_grouper1[0][0]']   \n",
      "                                                                                                  \n",
      " flatten (Flatten)           (None, 512)                  0         ['rgc1[0][0]']                \n",
      "                                                                                                  \n",
      " hidden_dense1 (Dense)       (None, 64)                   32832     ['flatten[0][0]']             \n",
      "                                                                                                  \n",
      " output (Dense)              (None, 2)                    130       ['hidden_dense1[0][0]']       \n",
      "                                                                                                  \n",
      "==================================================================================================\n",
      "Total params: 38722 (151.26 KB)\n",
      "Trainable params: 38722 (151.26 KB)\n",
      "Non-trainable params: 0 (0.00 Byte)\n",
      "__________________________________________________________________________________________________\n",
      "None\n"
     ]
    }
   ],
   "source": [
    "# opt = tf.keras.optimizers.Adam(tf.keras.optimizers.schedules.ExponentialDecay(0.01, 10, 0.9)) #TODO: here\n",
    "opt = tf.keras.optimizers.Adam(0.001) #TODO: here\n",
    "# opt = tf.keras.optimizers.SGD(0.001)\n",
    "model.compile(loss=loss, optimizer=opt, metrics=metrics) # compile\n",
    "model.build(input_shape=(None, *train_ds.element_spec[0].shape)) # build\n",
    "print(model.summary())"
   ]
  },
  {
   "cell_type": "code",
   "execution_count": 52,
   "metadata": {},
   "outputs": [
    {
     "name": "stdout",
     "output_type": "stream",
     "text": [
      "Epoch 1/50\n",
      "477/477 [==============================] - 160s 312ms/step - loss: 0.6925 - acc: 0.5000 - auc: 0.5012 - val_loss: 0.6832 - val_acc: 0.5000 - val_auc: 0.5389\n",
      "Epoch 2/50\n",
      "477/477 [==============================] - 149s 300ms/step - loss: 0.4385 - acc: 0.5786 - auc: 0.6324 - val_loss: 0.2847 - val_acc: 0.6450 - val_auc: 0.6906\n",
      "Epoch 3/50\n",
      "477/477 [==============================] - 150s 304ms/step - loss: 0.2178 - acc: 0.6579 - auc: 0.6876 - val_loss: 0.1445 - val_acc: 0.6640 - val_auc: 0.6795\n",
      "Epoch 4/50\n",
      "477/477 [==============================] - 149s 302ms/step - loss: 0.1158 - acc: 0.6672 - auc: 0.6806 - val_loss: 0.0758 - val_acc: 0.6720 - val_auc: 0.6845\n",
      "Epoch 5/50\n",
      "187/477 [==========>...................] - ETA: 1:21 - loss: 0.0763 - acc: 0.6788 - auc: 0.6885"
     ]
    }
   ],
   "source": [
    "train_size = -1 # 5_000\n",
    "batch_size = 512\n",
    "\n",
    "shuffle_buffer_size = train_size\n",
    "train_ds_sample = train_ds.take(train_size).batch(batch_size)\n",
    "history = model.fit(\n",
    "    train_ds_sample, validation_data=val_ds, verbose=1, epochs=50)"
   ]
  },
  {
   "cell_type": "code",
   "execution_count": null,
   "metadata": {},
   "outputs": [
    {
     "name": "stdout",
     "output_type": "stream",
     "text": [
      "20/20 [==============================] - 8s 81ms/step - loss: 0.0092 - acc: 0.6556 - precision: 0.6151 - recall: 0.6810 - f1: 0.9982 - auc: 0.6586\n"
     ]
    },
    {
     "data": {
      "text/plain": [
       "[0.009209304116666317,\n",
       " 0.6556000113487244,\n",
       " 0.6150537729263306,\n",
       " 0.6809523701667786,\n",
       " 0.9982000589370728,\n",
       " 0.6585724353790283]"
      ]
     },
     "execution_count": 16,
     "metadata": {},
     "output_type": "execute_result"
    }
   ],
   "source": [
    "model.evaluate(test_ds)"
   ]
  },
  {
   "cell_type": "code",
   "execution_count": null,
   "metadata": {},
   "outputs": [],
   "source": [
    "utils.plot_history(history, plot_attrs=('loss','acc'));"
   ]
  },
  {
   "cell_type": "code",
   "execution_count": null,
   "metadata": {},
   "outputs": [],
   "source": [
    "model.evaluate(val_ds)"
   ]
  },
  {
   "cell_type": "code",
   "execution_count": null,
   "metadata": {},
   "outputs": [],
   "source": [
    "preds = model.predict(val_ds)"
   ]
  },
  {
   "cell_type": "code",
   "execution_count": null,
   "metadata": {},
   "outputs": [],
   "source": [
    "preds = np.argmax(preds, axis=1)"
   ]
  },
  {
   "cell_type": "code",
   "execution_count": null,
   "metadata": {},
   "outputs": [],
   "source": [
    "preds"
   ]
  },
  {
   "cell_type": "code",
   "execution_count": null,
   "metadata": {},
   "outputs": [],
   "source": [
    "y_val = np.array(list(val_ds.map(lambda x,y: y[1]).unbatch().as_numpy_iterator()))"
   ]
  },
  {
   "cell_type": "code",
   "execution_count": null,
   "metadata": {},
   "outputs": [],
   "source": [
    "y_val.astype(int)"
   ]
  },
  {
   "cell_type": "code",
   "execution_count": null,
   "metadata": {},
   "outputs": [],
   "source": [
    "np.mean([pred==y for pred,y in zip(preds,y_val)])"
   ]
  },
  {
   "cell_type": "markdown",
   "metadata": {},
   "source": [
    "*NOTES:*\n",
    "- need intermediate layer before final output\n",
    "- todo: check if grouping layer helps\n",
    "- todo: experiment w given good discrete groups"
   ]
  },
  {
   "cell_type": "code",
   "execution_count": null,
   "metadata": {},
   "outputs": [],
   "source": []
  }
 ],
 "metadata": {
  "kernelspec": {
   "display_name": "Python 3.10.12 ('relconvnet')",
   "language": "python",
   "name": "python3"
  },
  "language_info": {
   "codemirror_mode": {
    "name": "ipython",
    "version": 3
   },
   "file_extension": ".py",
   "mimetype": "text/x-python",
   "name": "python",
   "nbconvert_exporter": "python",
   "pygments_lexer": "ipython3",
   "version": "3.10.12"
  },
  "orig_nbformat": 4,
  "vscode": {
   "interpreter": {
    "hash": "cfd9851f5ad10fee1056595cab4382bd1be8335c56803e8ccc2b0eacb646d0c9"
   }
  }
 },
 "nbformat": 4,
 "nbformat_minor": 2
}
