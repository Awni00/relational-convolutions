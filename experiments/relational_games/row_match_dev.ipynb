{
 "cells": [
  {
   "cell_type": "markdown",
   "metadata": {},
   "source": [
    "# Relational Games: Row Match [`dev`]"
   ]
  },
  {
   "cell_type": "code",
   "execution_count": 1,
   "metadata": {},
   "outputs": [
    {
     "name": "stderr",
     "output_type": "stream",
     "text": [
      "2023-09-06 17:26:46.006130: I tensorflow/core/util/port.cc:110] oneDNN custom operations are on. You may see slightly different numerical results due to floating-point round-off errors from different computation orders. To turn them off, set the environment variable `TF_ENABLE_ONEDNN_OPTS=0`.\n",
      "2023-09-06 17:26:46.832222: I tensorflow/tsl/cuda/cudart_stub.cc:28] Could not find cuda drivers on your machine, GPU will not be used.\n",
      "2023-09-06 17:26:49.642043: I tensorflow/tsl/cuda/cudart_stub.cc:28] Could not find cuda drivers on your machine, GPU will not be used.\n",
      "2023-09-06 17:26:49.642743: I tensorflow/core/platform/cpu_feature_guard.cc:182] This TensorFlow binary is optimized to use available CPU instructions in performance-critical operations.\n",
      "To enable the following instructions: AVX2 AVX512F AVX512_VNNI FMA, in other operations, rebuild TensorFlow with the appropriate compiler flags.\n",
      "2023-09-06 17:27:22.214560: W tensorflow/compiler/tf2tensorrt/utils/py_utils.cc:38] TF-TRT Warning: Could not find TensorRT\n"
     ]
    }
   ],
   "source": [
    "import numpy as np\n",
    "import matplotlib.pyplot as plt\n",
    "import os; os.environ['TF_MIN_LOG_LEVEL'] = '2'\n",
    "import tensorflow as tf\n",
    "\n",
    "import data_utils\n",
    "import sys; sys.path.append('../../')\n",
    "import utils"
   ]
  },
  {
   "cell_type": "code",
   "execution_count": 3,
   "metadata": {},
   "outputs": [
    {
     "data": {
      "text/plain": [
       "[]"
      ]
     },
     "execution_count": 3,
     "metadata": {},
     "output_type": "execute_result"
    }
   ],
   "source": [
    "tf.config.list_physical_devices('GPU')"
   ]
  },
  {
   "cell_type": "markdown",
   "metadata": {},
   "source": [
    "## Set Up"
   ]
  },
  {
   "cell_type": "code",
   "execution_count": 4,
   "metadata": {},
   "outputs": [],
   "source": [
    "import argparse\n",
    "args = argparse.Namespace()\n",
    "args.task = '1task_match_patt'\n",
    "args.train_split = 'pentos'\n",
    "args.test_split_size = 5000\n",
    "args.n_epochs = 100\n",
    "args.early_stopping = True\n",
    "args.batch_size = 256\n",
    "args.val_size = 1000\n",
    "args.test_size = 5000"
   ]
  },
  {
   "cell_type": "markdown",
   "metadata": {},
   "source": [
    "### Load Data"
   ]
  },
  {
   "cell_type": "code",
   "execution_count": 5,
   "metadata": {},
   "outputs": [],
   "source": [
    "# utils.print_section('LOADING DATA')\n",
    "data_path = '../../data/relational_games'\n",
    "\n",
    "dataset_specs = np.load(f'{data_path}/dataset_specs.npy', allow_pickle=True).item()\n",
    "\n",
    "task_datasets = data_utils.load_task_datasets(args.task, data_path, data_format='tfrecord', ds_specs=dataset_specs)\n",
    "\n",
    "train_split_ds = task_datasets[args.train_split]\n",
    "# train_split_ds = data_utils.load_ds_from_npz(filename)\n",
    "\n",
    "train_ds, val_ds, test_ds = utils.split_ds(train_split_ds, val_size=args.val_size, test_size=args.test_size)\n",
    "del train_split_ds\n",
    "\n",
    "batch_size = args.batch_size\n",
    "val_ds = val_ds.batch(batch_size)\n",
    "test_ds = test_ds.batch(batch_size)\n",
    "\n",
    "eval_datasets = {split: ds.take(args.test_split_size).batch(batch_size) for split, ds in task_datasets.items() if split != args.train_split}\n"
   ]
  },
  {
   "cell_type": "code",
   "execution_count": 6,
   "metadata": {},
   "outputs": [
    {
     "data": {
      "text/plain": [
       "5120"
      ]
     },
     "execution_count": 6,
     "metadata": {},
     "output_type": "execute_result"
    }
   ],
   "source": [
    "len(test_ds) * batch_size"
   ]
  },
  {
   "cell_type": "code",
   "execution_count": 7,
   "metadata": {},
   "outputs": [
    {
     "data": {
      "text/plain": [
       "244000"
      ]
     },
     "execution_count": 7,
     "metadata": {},
     "output_type": "execute_result"
    }
   ],
   "source": [
    "len(train_ds)"
   ]
  },
  {
   "cell_type": "markdown",
   "metadata": {},
   "source": [
    "### Training Set up"
   ]
  },
  {
   "cell_type": "code",
   "execution_count": 8,
   "metadata": {},
   "outputs": [
    {
     "name": "stderr",
     "output_type": "stream",
     "text": [
      "/gpfs/gibbs/project/lafferty/ma2393/conda_envs/tf/lib/python3.10/site-packages/tqdm/auto.py:21: TqdmWarning: IProgress not found. Please update jupyter and ipywidgets. See https://ipywidgets.readthedocs.io/en/stable/user_install.html\n",
      "  from .autonotebook import tqdm as notebook_tqdm\n"
     ]
    }
   ],
   "source": [
    "#region training setup\n",
    "loss = tf.keras.losses.CategoricalCrossentropy(from_logits=True)\n",
    "create_opt = lambda: tf.keras.optimizers.Adam()\n",
    "metrics = [\n",
    "        tf.keras.metrics.BinaryAccuracy(name='acc'),\n",
    "        # tf.keras.metrics.Precision(class_id=1, name='precision'),\n",
    "        # tf.keras.metrics.Recall(class_id=1, name='recall'),\n",
    "        # tf.keras.metrics.F1Score(average='weighted', name='f1'),\n",
    "        tf.keras.metrics.AUC(curve='ROC', multi_label=True, name='auc')\n",
    "        ]\n",
    "\n",
    "from tqdm.keras import TqdmCallback\n",
    "from tqdm import tqdm\n",
    "def create_callbacks(data_size=None, batch_size=None):\n",
    "    callbacks = [\n",
    "        TqdmCallback(data_size=data_size, batch_size=batch_size, tqdm_class=tqdm),\n",
    "        # wandb.keras.WandbMetricsLogger(log_freq='epoch')\n",
    "    ]\n",
    "\n",
    "    if args.early_stopping:\n",
    "        callbacks.append(tf.keras.callbacks.EarlyStopping(monitor='val_loss', patience=10, verbose=1, start_from_epoch=20))\n",
    "\n",
    "    return callbacks\n",
    "\n",
    "fit_kwargs = dict(epochs=args.n_epochs)\n",
    "batch_size = args.batch_size\n",
    "#endregion"
   ]
  },
  {
   "cell_type": "markdown",
   "metadata": {},
   "source": [
    "## CoRelNet"
   ]
  },
  {
   "cell_type": "code",
   "execution_count": 8,
   "metadata": {},
   "outputs": [],
   "source": [
    "from relational_neural_networks.multi_head_relation import MultiHeadRelation\n",
    "from relational_neural_networks.relational_graphlet_convolution import RelationalGraphletConvolution\n",
    "from relational_neural_networks.grouping_layers import TemporalGrouping, FeatureGrouping\n",
    "from cnn_embedder import CNNEmbedder"
   ]
  },
  {
   "cell_type": "code",
   "execution_count": 9,
   "metadata": {},
   "outputs": [],
   "source": [
    "# global parameters\n",
    "cnn_embedder_kwargs = dict(n_f=(16,16), s_f=(3,3), pool_size=2)\n",
    "\n",
    "# RelConvNet\n",
    "corelnet_mhr_kwargs = dict(rel_dim=1, proj_dim=4, symmetric=True)\n",
    "cnn_embedder_kwargs = dict(n_f=(16,16), s_f=(3,3), pool_size=2)\n",
    "\n",
    "# def create_relconvnet():\n",
    "mhr = MultiHeadRelation(**corelnet_mhr_kwargs, name='mhr')\n",
    "cnn_embedder = CNNEmbedder(**cnn_embedder_kwargs)\n",
    "\n",
    "model = tf.keras.Sequential(\n",
    "    [\n",
    "        cnn_embedder,\n",
    "        tf.keras.layers.LayerNormalization(axis=1), # TCN? axis=1 is the temporal axis\n",
    "        mhr,\n",
    "        tf.keras.layers.Softmax(axis=-1, name='softmax'),\n",
    "        tf.keras.layers.Flatten(name='flatten'),\n",
    "        tf.keras.layers.Dense(32, activation='relu', name='hidden_dense1'),\n",
    "        tf.keras.layers.Dense(2, name='output')],\n",
    "    name='corelnet')\n",
    "\n",
    "    # return model"
   ]
  },
  {
   "cell_type": "code",
   "execution_count": 10,
   "metadata": {},
   "outputs": [
    {
     "name": "stdout",
     "output_type": "stream",
     "text": [
      "Model: \"corelnet\"\n",
      "_________________________________________________________________\n",
      " Layer (type)                Output Shape              Param #   \n",
      "=================================================================\n",
      " cnn_embedder (CNNEmbedder)  (None, 9, 16)             2768      \n",
      "                                                                 \n",
      " layer_normalization (Layer  (None, 9, 16)             18        \n",
      " Normalization)                                                  \n",
      "                                                                 \n",
      " mhr (MultiHeadRelation)     (None, 9, 9, 1)           68        \n",
      "                                                                 \n",
      " softmax (Softmax)           (None, 9, 9, 1)           0         \n",
      "                                                                 \n",
      " flatten (Flatten)           (None, 81)                0         \n",
      "                                                                 \n",
      " hidden_dense1 (Dense)       (None, 32)                2624      \n",
      "                                                                 \n",
      " output (Dense)              (None, 2)                 66        \n",
      "                                                                 \n",
      "=================================================================\n",
      "Total params: 5544 (21.66 KB)\n",
      "Trainable params: 5544 (21.66 KB)\n",
      "Non-trainable params: 0 (0.00 Byte)\n",
      "_________________________________________________________________\n",
      "None\n"
     ]
    }
   ],
   "source": [
    "# opt = tf.keras.optimizers.Adam(tf.keras.optimizers.schedules.ExponentialDecay(0.01, 100, 0.96))\n",
    "opt = tf.keras.optimizers.Adam(0.001)\n",
    "model.compile(loss=loss, optimizer=opt, metrics=metrics) # compile\n",
    "model.build(input_shape=(None, *train_ds.element_spec[0].shape)) # build\n",
    "print(model.summary())"
   ]
  },
  {
   "cell_type": "code",
   "execution_count": null,
   "metadata": {},
   "outputs": [],
   "source": [
    "# TODO: check if LayerNormalization w axis=1 is TCN\n",
    "# TOOD: check the 'encoder' of CoRelNet"
   ]
  },
  {
   "cell_type": "code",
   "execution_count": 11,
   "metadata": {},
   "outputs": [
    {
     "name": "stdout",
     "output_type": "stream",
     "text": [
      "Epoch 1/50\n",
      "954/954 [==============================] - 46s 37ms/step - loss: 0.6967 - acc: 0.5000 - auc: 0.4991 - val_loss: 0.6989 - val_acc: 0.5000 - val_auc: 0.5000\n",
      "Epoch 2/50\n",
      "953/954 [============================>.] - ETA: 0s - loss: 0.6940 - acc: 0.5000 - auc: 0.5000"
     ]
    },
    {
     "ename": "",
     "evalue": "",
     "output_type": "error",
     "traceback": [
      "\u001b[1;31mCanceled future for execute_request message before replies were done"
     ]
    },
    {
     "ename": "",
     "evalue": "",
     "output_type": "error",
     "traceback": [
      "\u001b[1;31mThe Kernel crashed while executing code in the the current cell or a previous cell. Please review the code in the cell(s) to identify a possible cause of the failure. Click <a href='https://aka.ms/vscodeJupyterKernelCrash'>here</a> for more info. View Jupyter <a href='command:jupyter.viewOutput'>log</a> for further details."
     ]
    }
   ],
   "source": [
    "train_size = -1 # 5_000\n",
    "batch_size = 256\n",
    "\n",
    "shuffle_buffer_size = train_size\n",
    "train_ds_sample = train_ds.take(train_size).batch(batch_size)\n",
    "history = model.fit(\n",
    "    train_ds_sample, validation_data=val_ds, verbose=1, epochs=50)"
   ]
  },
  {
   "cell_type": "code",
   "execution_count": null,
   "metadata": {},
   "outputs": [
    {
     "name": "stdout",
     "output_type": "stream",
     "text": [
      "20/20 [==============================] - 8s 81ms/step - loss: 0.0092 - acc: 0.6556 - precision: 0.6151 - recall: 0.6810 - f1: 0.9982 - auc: 0.6586\n"
     ]
    },
    {
     "data": {
      "text/plain": [
       "[0.009209304116666317,\n",
       " 0.6556000113487244,\n",
       " 0.6150537729263306,\n",
       " 0.6809523701667786,\n",
       " 0.9982000589370728,\n",
       " 0.6585724353790283]"
      ]
     },
     "metadata": {},
     "output_type": "display_data"
    }
   ],
   "source": [
    "model.evaluate(test_ds)"
   ]
  },
  {
   "cell_type": "code",
   "execution_count": null,
   "metadata": {},
   "outputs": [],
   "source": [
    "utils.plot_history(history, plot_attrs=('loss','acc'));"
   ]
  },
  {
   "cell_type": "code",
   "execution_count": null,
   "metadata": {},
   "outputs": [],
   "source": [
    "model.evaluate(val_ds)"
   ]
  },
  {
   "cell_type": "markdown",
   "metadata": {},
   "source": [
    "## Relational Convolution"
   ]
  },
  {
   "cell_type": "code",
   "execution_count": null,
   "metadata": {},
   "outputs": [],
   "source": [
    "from relational_neural_networks.multi_head_relation import MultiHeadRelation\n",
    "from relational_neural_networks.relational_graphlet_convolution import RelationalGraphletConvolution\n",
    "from relational_neural_networks.grouping_layers import TemporalGrouping, FeatureGrouping\n",
    "from cnn_embedder import CNNEmbedder"
   ]
  },
  {
   "cell_type": "code",
   "execution_count": null,
   "metadata": {},
   "outputs": [],
   "source": [
    "import itertools\n",
    "# groups = [group for group in itertools.permutations(range(9), r=3) if all(x in (0,1,2,6,7,8) for x in group)]\n",
    "groups = [(0,1,2), (6,7,8)]"
   ]
  },
  {
   "cell_type": "code",
   "execution_count": null,
   "metadata": {},
   "outputs": [],
   "source": [
    "# RelConvNet\n",
    "relconv_mhr_kwargs = dict(rel_dim=8, proj_dim=4, symmetric=True)\n",
    "relconv_kwargs = dict(n_filters=32, graphlet_size=3,\n",
    "        symmetric_inner_prod=False)\n",
    "cnn_embedder_kwargs = dict(n_f=(16,16), s_f=(3,3), pool_size=2)\n",
    "\n",
    "# def create_relconvnet():\n",
    "mhr1 = MultiHeadRelation(**relconv_mhr_kwargs, name='mhr1')\n",
    "mhr2 = MultiHeadRelation(**relconv_mhr_kwargs, name='mhr2')\n",
    "\n",
    "rel_conv1 = RelationalGraphletConvolution(\n",
    "    **relconv_kwargs, groups=groups, name='rgc1')\n",
    "rel_conv2 = RelationalGraphletConvolution(\n",
    "    **relconv_kwargs, groups='combinations', name='rgc2')\n",
    "\n",
    "# feature_grouping = FeatureGrouping(num_groups=32, use_pos=True,\n",
    "#     mlp_shape=(32, 32), mlp_activations='relu', name='feature_grouping')\n",
    "temporal_grouper1 = TemporalGrouping(num_groups=16, weight_initializer='glorot_uniform', name='temporal_grouper1')\n",
    "temporal_grouper2 = TemporalGrouping(num_groups=4, weight_initializer='glorot_uniform', name='temporal_grouper2')\n",
    "\n",
    "cnn_embedder = CNNEmbedder(**cnn_embedder_kwargs)\n",
    "l2_normalizer = tf.keras.layers.UnitNormalization(name='l2_normalization')\n",
    "\n",
    "inputs = tf.keras.layers.Input(shape=train_ds.element_spec[0].shape)\n",
    "embedded_objects = cnn_embedder(inputs)\n",
    "embedded_objects = l2_normalizer(embedded_objects)\n",
    "rel_tensor = mhr1(embedded_objects)\n",
    "# g = feature_grouping(embedded_objects)\n",
    "g = temporal_grouper1(embedded_objects)\n",
    "convolution = rel_conv1(rel_tensor, g)\n",
    "# rel_tensor = mhr2(convolution)\n",
    "# g = temporal_grouper2(convolution)\n",
    "# convolution = rel_conv2(rel_tensor, g)\n",
    "# convolution = rel_conv(rel_tensor)\n",
    "\n",
    "x = tf.keras.layers.Flatten(name='flatten')(convolution)\n",
    "x = tf.keras.layers.Dense(64, activation='relu', name='hidden_dense1')(x)\n",
    "x = tf.keras.layers.Dense(2, name='output')(x)\n",
    "outputs = x\n",
    "\n",
    "model = tf.keras.Model(inputs=inputs, outputs=outputs, name='relconvent')"
   ]
  },
  {
   "cell_type": "code",
   "execution_count": null,
   "metadata": {},
   "outputs": [
    {
     "name": "stdout",
     "output_type": "stream",
     "text": [
      "Model: \"relconvent\"\n",
      "__________________________________________________________________________________________________\n",
      " Layer (type)                Output Shape                 Param #   Connected to                  \n",
      "==================================================================================================\n",
      " input_2 (InputLayer)        [(None, 9, 12, 12, 3)]       0         []                            \n",
      "                                                                                                  \n",
      " cnn_embedder_5 (CNNEmbedde  (None, 9, 16)                2768      ['input_2[0][0]']             \n",
      " r)                                                                                               \n",
      "                                                                                                  \n",
      " l2_normalization (UnitNorm  (None, 9, 16)                0         ['cnn_embedder_5[0][0]']      \n",
      " alization)                                                                                       \n",
      "                                                                                                  \n",
      " mhr1 (MultiHeadRelation)    (None, 9, 9, 8)              544       ['l2_normalization[0][0]']    \n",
      "                                                                                                  \n",
      " temporal_grouper1 (Tempora  (16, 9)                      144       ['l2_normalization[0][0]']    \n",
      " lGrouping)                                                                                       \n",
      "                                                                                                  \n",
      " rgc1 (RelationalGraphletCo  (None, 16, 32)               2304      ['mhr1[0][0]',                \n",
      " nvolution)                                                          'temporal_grouper1[0][0]']   \n",
      "                                                                                                  \n",
      " flatten (Flatten)           (None, 512)                  0         ['rgc1[0][0]']                \n",
      "                                                                                                  \n",
      " hidden_dense1 (Dense)       (None, 64)                   32832     ['flatten[0][0]']             \n",
      "                                                                                                  \n",
      " output (Dense)              (None, 2)                    130       ['hidden_dense1[0][0]']       \n",
      "                                                                                                  \n",
      "==================================================================================================\n",
      "Total params: 38722 (151.26 KB)\n",
      "Trainable params: 38722 (151.26 KB)\n",
      "Non-trainable params: 0 (0.00 Byte)\n",
      "__________________________________________________________________________________________________\n",
      "None\n"
     ]
    }
   ],
   "source": [
    "# opt = tf.keras.optimizers.Adam(tf.keras.optimizers.schedules.ExponentialDecay(0.01, 10, 0.9)) #TODO: here\n",
    "opt = tf.keras.optimizers.Adam(0.001) #TODO: here\n",
    "# opt = tf.keras.optimizers.SGD(0.001)\n",
    "model.compile(loss=loss, optimizer=opt, metrics=metrics) # compile\n",
    "model.build(input_shape=(None, *train_ds.element_spec[0].shape)) # build\n",
    "print(model.summary())"
   ]
  },
  {
   "cell_type": "code",
   "execution_count": null,
   "metadata": {},
   "outputs": [
    {
     "name": "stdout",
     "output_type": "stream",
     "text": [
      "Epoch 1/50\n",
      "477/477 [==============================] - 160s 312ms/step - loss: 0.6925 - acc: 0.5000 - auc: 0.5012 - val_loss: 0.6832 - val_acc: 0.5000 - val_auc: 0.5389\n",
      "Epoch 2/50\n",
      "477/477 [==============================] - 149s 300ms/step - loss: 0.4385 - acc: 0.5786 - auc: 0.6324 - val_loss: 0.2847 - val_acc: 0.6450 - val_auc: 0.6906\n",
      "Epoch 3/50\n",
      "477/477 [==============================] - 150s 304ms/step - loss: 0.2178 - acc: 0.6579 - auc: 0.6876 - val_loss: 0.1445 - val_acc: 0.6640 - val_auc: 0.6795\n",
      "Epoch 4/50\n",
      "477/477 [==============================] - 149s 302ms/step - loss: 0.1158 - acc: 0.6672 - auc: 0.6806 - val_loss: 0.0758 - val_acc: 0.6720 - val_auc: 0.6845\n",
      "Epoch 5/50\n",
      "187/477 [==========>...................] - ETA: 1:21 - loss: 0.0763 - acc: 0.6788 - auc: 0.6885"
     ]
    }
   ],
   "source": [
    "train_size = -1 # 5_000\n",
    "batch_size = 512\n",
    "\n",
    "shuffle_buffer_size = train_size\n",
    "train_ds_sample = train_ds.take(train_size).batch(batch_size)\n",
    "history = model.fit(\n",
    "    train_ds_sample, validation_data=val_ds, verbose=1, epochs=50)"
   ]
  },
  {
   "cell_type": "code",
   "execution_count": null,
   "metadata": {},
   "outputs": [
    {
     "name": "stdout",
     "output_type": "stream",
     "text": [
      "20/20 [==============================] - 8s 81ms/step - loss: 0.0092 - acc: 0.6556 - precision: 0.6151 - recall: 0.6810 - f1: 0.9982 - auc: 0.6586\n"
     ]
    },
    {
     "data": {
      "text/plain": [
       "[0.009209304116666317,\n",
       " 0.6556000113487244,\n",
       " 0.6150537729263306,\n",
       " 0.6809523701667786,\n",
       " 0.9982000589370728,\n",
       " 0.6585724353790283]"
      ]
     },
     "execution_count": 16,
     "metadata": {},
     "output_type": "execute_result"
    }
   ],
   "source": [
    "model.evaluate(test_ds)"
   ]
  },
  {
   "cell_type": "code",
   "execution_count": null,
   "metadata": {},
   "outputs": [],
   "source": [
    "utils.plot_history(history, plot_attrs=('loss','acc'));"
   ]
  },
  {
   "cell_type": "markdown",
   "metadata": {},
   "source": [
    "## 2-Layer RelConvNet"
   ]
  },
  {
   "cell_type": "code",
   "execution_count": 9,
   "metadata": {},
   "outputs": [],
   "source": [
    "from relational_neural_networks.multi_head_relation import MultiHeadRelation\n",
    "from relational_neural_networks.relational_graphlet_convolution import RelationalGraphletConvolution\n",
    "from relational_neural_networks.grouping_layers import TemporalGrouping, FeatureGrouping\n",
    "from cnn_embedder import CNNEmbedder"
   ]
  },
  {
   "cell_type": "code",
   "execution_count": 16,
   "metadata": {},
   "outputs": [],
   "source": [
    "relconv_mhr_kwargs = dict(rel_dim=16, proj_dim=4, symmetric=True)\n",
    "relconv_mhr2_kwargs = dict(rel_dim=16, proj_dim=4, symmetric=True)\n",
    "relconv_kwargs = dict(n_filters=16, graphlet_size=3,\n",
    "        symmetric_inner_prod=False)\n",
    "relconv2_kwargs = dict(n_filters=16, graphlet_size=5, symmetric_inner_prod=False)\n",
    "cnn_embedder_kwargs = dict(n_f=(16,16), s_f=(3,3), pool_size=2)"
   ]
  },
  {
   "cell_type": "code",
   "execution_count": 17,
   "metadata": {},
   "outputs": [],
   "source": [
    "# import itertools\n",
    "# groups = [group for group in itertools.combinations(range(9), r=3) if all(x in (0,1,2,6,7,8) for x in group)]\n",
    "# # groups = [(0,1,2), (6,7,8)]\n",
    "# groups"
   ]
  },
  {
   "cell_type": "code",
   "execution_count": 20,
   "metadata": {},
   "outputs": [],
   "source": [
    "import itertools\n",
    "s1 = 3\n",
    "groups1 = [group for group in itertools.combinations(range(6), r=s1)]\n",
    "n1 = len(groups1)\n",
    "\n",
    "s2 = 5\n",
    "n2 = 20\n",
    "groups2 = [group for group in itertools.combinations(range(n1), r=s2)]\n",
    "groups2_choice_idx = np.random.choice(len(groups2), n2, replace=False)\n",
    "groups2 = [group for i,group in enumerate(groups2) if i in groups2_choice_idx]"
   ]
  },
  {
   "cell_type": "code",
   "execution_count": 21,
   "metadata": {},
   "outputs": [],
   "source": [
    "# LAYERS\n",
    "mhr1 = MultiHeadRelation(**relconv_mhr_kwargs, name='mhr1')\n",
    "mhr2 = MultiHeadRelation(**relconv_mhr2_kwargs, name='mhr2')\n",
    "\n",
    "cnn_embedder = CNNEmbedder(**cnn_embedder_kwargs)\n",
    "l2_normalizer = tf.keras.layers.UnitNormalization(name='l2_normalization')\n",
    "get_objs_layer = tf.keras.layers.Lambda(lambda x: tf.gather(x, [0,1,2,6,7,8], axis=1), name='get_objects')\n",
    "\n",
    "# def create_relconvnet():\n",
    "mhr1 = MultiHeadRelation(**relconv_mhr_kwargs, name='mhr1')\n",
    "mhr2 = MultiHeadRelation(**relconv_mhr2_kwargs, name='mhr2')\n",
    "\n",
    "rel_conv1 = RelationalGraphletConvolution(\n",
    "    **relconv_kwargs, groups=groups1, name='rgc1')\n",
    "rel_conv2 = RelationalGraphletConvolution(\n",
    "    **relconv2_kwargs, groups=groups2, name='rgc2')\n",
    "\n",
    "# feature_grouping = FeatureGrouping(num_groups=32, use_pos=True,\n",
    "#     mlp_shape=(32, 32), mlp_activations='relu', name='feature_grouping')\n",
    "# temporal_grouper1 = TemporalGrouping(num_groups=16, weight_initializer='glorot_uniform', name='temporal_grouper1')\n",
    "# temporal_grouper2 = TemporalGrouping(num_groups=4, weight_initializer='glorot_uniform', name='temporal_grouper2')\n",
    "\n",
    "cnn_embedder = CNNEmbedder(**cnn_embedder_kwargs)\n",
    "l2_normalizer = tf.keras.layers.UnitNormalization(name='l2_normalization')\n",
    "\n",
    "# MODEL DEFINITION\n",
    "inputs = tf.keras.layers.Input(shape=train_ds.element_spec[0].shape)\n",
    "embedded_objects = cnn_embedder(inputs)\n",
    "embedded_objects = l2_normalizer(embedded_objects)\n",
    "\n",
    "rel_tensor = mhr1(embedded_objects)\n",
    "# g = feature_grouping(embedded_objects)\n",
    "# g = temporal_grouper1(embedded_objects)\n",
    "convolution = rel_conv1(rel_tensor)\n",
    "# convolution = rel_conv1(rel_tensor, g)\n",
    "\n",
    "convolution = l2_normalizer(convolution)\n",
    "\n",
    "rel_tensor = mhr2(convolution)\n",
    "convolution = rel_conv2(rel_tensor)\n",
    "# g = temporal_grouper2(convolution)\n",
    "# convolution = rel_conv2(rel_tensor, g)\n",
    "\n",
    "x = tf.keras.layers.Flatten(name='flatten')(convolution)\n",
    "x = tf.keras.layers.Dense(64, activation='relu', name='hidden_dense1')(x)\n",
    "x = tf.keras.layers.Dense(2, name='output')(x)\n",
    "outputs = x\n",
    "\n",
    "model = tf.keras.Model(inputs=inputs, outputs=outputs, name='relconvent')"
   ]
  },
  {
   "cell_type": "code",
   "execution_count": 22,
   "metadata": {},
   "outputs": [
    {
     "name": "stdout",
     "output_type": "stream",
     "text": [
      "Model: \"relconvent\"\n",
      "__________________________________________________________________________________________________\n",
      " Layer (type)                Output Shape                 Param #   Connected to                  \n",
      "==================================================================================================\n",
      " input_3 (InputLayer)        [(None, 9, 12, 12, 3)]       0         []                            \n",
      "                                                                                                  \n",
      " cnn_embedder_5 (CNNEmbedde  (None, 9, 16)                2768      ['input_3[0][0]']             \n",
      " r)                                                                                               \n",
      "                                                                                                  \n",
      " l2_normalization (UnitNorm  multiple                     0         ['cnn_embedder_5[0][0]',      \n",
      " alization)                                                          'rgc1[0][0]']                \n",
      "                                                                                                  \n",
      " mhr1 (MultiHeadRelation)    (None, 9, 9, 16)             1088      ['l2_normalization[0][0]']    \n",
      "                                                                                                  \n",
      " rgc1 (RelationalGraphletCo  (None, 20, 16)               2304      ['mhr1[0][0]']                \n",
      " nvolution)                                                                                       \n",
      "                                                                                                  \n",
      " mhr2 (MultiHeadRelation)    (None, 20, 20, 16)           1088      ['l2_normalization[1][0]']    \n",
      "                                                                                                  \n",
      " rgc2 (RelationalGraphletCo  (None, 20, 16)               6400      ['mhr2[0][0]']                \n",
      " nvolution)                                                                                       \n",
      "                                                                                                  \n",
      " flatten (Flatten)           (None, 320)                  0         ['rgc2[0][0]']                \n",
      "                                                                                                  \n",
      " hidden_dense1 (Dense)       (None, 64)                   20544     ['flatten[0][0]']             \n",
      "                                                                                                  \n",
      " output (Dense)              (None, 2)                    130       ['hidden_dense1[0][0]']       \n",
      "                                                                                                  \n",
      "==================================================================================================\n",
      "Total params: 34322 (134.07 KB)\n",
      "Trainable params: 34322 (134.07 KB)\n",
      "Non-trainable params: 0 (0.00 Byte)\n",
      "__________________________________________________________________________________________________\n"
     ]
    }
   ],
   "source": [
    "opt = tf.keras.optimizers.Adam(0.001) #TODO: here\n",
    "model.compile(loss=loss, optimizer=opt, metrics=metrics); # compile\n",
    "model.build(input_shape=(None, *train_ds.element_spec[0].shape)); # build\n",
    "model.summary()"
   ]
  },
  {
   "cell_type": "code",
   "execution_count": 23,
   "metadata": {},
   "outputs": [
    {
     "name": "stdout",
     "output_type": "stream",
     "text": [
      "Epoch 1/50\n"
     ]
    },
    {
     "name": "stderr",
     "output_type": "stream",
     "text": [
      "2023-09-06 14:20:34.033149: I tensorflow/core/kernels/data/shuffle_dataset_op.cc:422] Filling up shuffle buffer (this may take a while): 201944 of 250000\n"
     ]
    },
    {
     "name": "stdout",
     "output_type": "stream",
     "text": [
      "  1/477 [..............................] - ETA: 4:12:49 - loss: 0.7148 - acc: 0.5000 - auc: 0.4973"
     ]
    },
    {
     "name": "stderr",
     "output_type": "stream",
     "text": [
      "2023-09-06 14:20:36.116577: I tensorflow/core/kernels/data/shuffle_dataset_op.cc:450] Shuffle buffer filled.\n"
     ]
    },
    {
     "name": "stdout",
     "output_type": "stream",
     "text": [
      "477/477 [==============================] - ETA: 0s - loss: 0.6936 - acc: 0.5000 - auc: 0.5004"
     ]
    },
    {
     "name": "stderr",
     "output_type": "stream",
     "text": [
      "2023-09-06 14:22:12.836166: I tensorflow/core/kernels/data/shuffle_dataset_op.cc:422] Filling up shuffle buffer (this may take a while): 197373 of 250000\n",
      "2023-09-06 14:22:17.479101: I tensorflow/core/kernels/data/shuffle_dataset_op.cc:450] Shuffle buffer filled.\n"
     ]
    },
    {
     "name": "stdout",
     "output_type": "stream",
     "text": [
      "477/477 [==============================] - 134s 214ms/step - loss: 0.6936 - acc: 0.5000 - auc: 0.5004 - val_loss: 0.6931 - val_acc: 0.5000 - val_auc: 0.5000\n",
      "Epoch 2/50\n"
     ]
    },
    {
     "name": "stderr",
     "output_type": "stream",
     "text": [
      "2023-09-06 14:22:28.528981: I tensorflow/core/kernels/data/shuffle_dataset_op.cc:422] Filling up shuffle buffer (this may take a while): 146282 of 250000\n"
     ]
    },
    {
     "name": "stdout",
     "output_type": "stream",
     "text": [
      "  1/477 [..............................] - ETA: 2:03:32 - loss: 0.6931 - acc: 0.5000 - auc: 0.5000"
     ]
    },
    {
     "name": "stderr",
     "output_type": "stream",
     "text": [
      "2023-09-06 14:22:33.584645: I tensorflow/core/kernels/data/shuffle_dataset_op.cc:450] Shuffle buffer filled.\n"
     ]
    },
    {
     "name": "stdout",
     "output_type": "stream",
     "text": [
      "477/477 [==============================] - ETA: 0s - loss: 0.6932 - acc: 0.5000 - auc: 0.5002"
     ]
    },
    {
     "name": "stderr",
     "output_type": "stream",
     "text": [
      "2023-09-06 14:24:07.560338: I tensorflow/core/kernels/data/shuffle_dataset_op.cc:422] Filling up shuffle buffer (this may take a while): 145190 of 250000\n",
      "2023-09-06 14:24:14.499471: I tensorflow/core/kernels/data/shuffle_dataset_op.cc:450] Shuffle buffer filled.\n"
     ]
    },
    {
     "name": "stdout",
     "output_type": "stream",
     "text": [
      "477/477 [==============================] - 117s 213ms/step - loss: 0.6932 - acc: 0.5000 - auc: 0.5002 - val_loss: 0.6935 - val_acc: 0.5000 - val_auc: 0.4857\n",
      "Epoch 3/50\n"
     ]
    },
    {
     "name": "stderr",
     "output_type": "stream",
     "text": [
      "2023-09-06 14:24:25.353012: I tensorflow/core/kernels/data/shuffle_dataset_op.cc:422] Filling up shuffle buffer (this may take a while): 154349 of 250000\n"
     ]
    },
    {
     "name": "stdout",
     "output_type": "stream",
     "text": [
      "  1/477 [..............................] - ETA: 1:56:59 - loss: 0.6931 - acc: 0.5000 - auc: 0.5061"
     ]
    },
    {
     "name": "stderr",
     "output_type": "stream",
     "text": [
      "2023-09-06 14:24:29.782352: I tensorflow/core/kernels/data/shuffle_dataset_op.cc:450] Shuffle buffer filled.\n"
     ]
    },
    {
     "name": "stdout",
     "output_type": "stream",
     "text": [
      "477/477 [==============================] - ETA: 0s - loss: 0.6932 - acc: 0.5000 - auc: 0.5010"
     ]
    },
    {
     "name": "stderr",
     "output_type": "stream",
     "text": [
      "2023-09-06 14:26:03.610358: I tensorflow/core/kernels/data/shuffle_dataset_op.cc:422] Filling up shuffle buffer (this may take a while): 222381 of 250000\n",
      "2023-09-06 14:26:04.287260: I tensorflow/core/kernels/data/shuffle_dataset_op.cc:450] Shuffle buffer filled.\n"
     ]
    },
    {
     "name": "stdout",
     "output_type": "stream",
     "text": [
      "477/477 [==============================] - 110s 199ms/step - loss: 0.6932 - acc: 0.5000 - auc: 0.5010 - val_loss: 0.6934 - val_acc: 0.5000 - val_auc: 0.4997\n",
      "Epoch 4/50\n"
     ]
    },
    {
     "name": "stderr",
     "output_type": "stream",
     "text": [
      "2023-09-06 14:26:15.204319: I tensorflow/core/kernels/data/shuffle_dataset_op.cc:422] Filling up shuffle buffer (this may take a while): 234750 of 250000\n"
     ]
    },
    {
     "name": "stdout",
     "output_type": "stream",
     "text": [
      "  1/477 [..............................] - ETA: 1:29:59 - loss: 0.6934 - acc: 0.5000 - auc: 0.5026"
     ]
    },
    {
     "name": "stderr",
     "output_type": "stream",
     "text": [
      "2023-09-06 14:26:16.179913: I tensorflow/core/kernels/data/shuffle_dataset_op.cc:450] Shuffle buffer filled.\n"
     ]
    },
    {
     "name": "stdout",
     "output_type": "stream",
     "text": [
      "477/477 [==============================] - ETA: 0s - loss: 0.6932 - acc: 0.5000 - auc: 0.5009"
     ]
    },
    {
     "name": "stderr",
     "output_type": "stream",
     "text": [
      "2023-09-06 14:27:50.923409: I tensorflow/core/kernels/data/shuffle_dataset_op.cc:422] Filling up shuffle buffer (this may take a while): 163223 of 250000\n",
      "2023-09-06 14:27:54.793003: I tensorflow/core/kernels/data/shuffle_dataset_op.cc:450] Shuffle buffer filled.\n"
     ]
    },
    {
     "name": "stdout",
     "output_type": "stream",
     "text": [
      "477/477 [==============================] - 110s 208ms/step - loss: 0.6932 - acc: 0.5000 - auc: 0.5009 - val_loss: 0.6930 - val_acc: 0.5000 - val_auc: 0.5112\n",
      "Epoch 5/50\n"
     ]
    },
    {
     "name": "stderr",
     "output_type": "stream",
     "text": [
      "2023-09-06 14:28:05.692654: I tensorflow/core/kernels/data/shuffle_dataset_op.cc:422] Filling up shuffle buffer (this may take a while): 235019 of 250000\n"
     ]
    },
    {
     "name": "stdout",
     "output_type": "stream",
     "text": [
      "  1/477 [..............................] - ETA: 1:24:17 - loss: 0.6930 - acc: 0.5000 - auc: 0.5100"
     ]
    },
    {
     "name": "stderr",
     "output_type": "stream",
     "text": [
      "2023-09-06 14:28:05.963008: I tensorflow/core/kernels/data/shuffle_dataset_op.cc:450] Shuffle buffer filled.\n"
     ]
    },
    {
     "name": "stdout",
     "output_type": "stream",
     "text": [
      "477/477 [==============================] - ETA: 0s - loss: 0.6932 - acc: 0.5000 - auc: 0.5010"
     ]
    },
    {
     "name": "stderr",
     "output_type": "stream",
     "text": [
      "2023-09-06 14:29:40.207916: I tensorflow/core/kernels/data/shuffle_dataset_op.cc:422] Filling up shuffle buffer (this may take a while): 210549 of 250000\n",
      "2023-09-06 14:29:41.526110: I tensorflow/core/kernels/data/shuffle_dataset_op.cc:450] Shuffle buffer filled.\n"
     ]
    },
    {
     "name": "stdout",
     "output_type": "stream",
     "text": [
      "477/477 [==============================] - 106s 201ms/step - loss: 0.6932 - acc: 0.5000 - auc: 0.5010 - val_loss: 0.6930 - val_acc: 0.5000 - val_auc: 0.4976\n",
      "Epoch 6/50\n"
     ]
    },
    {
     "name": "stderr",
     "output_type": "stream",
     "text": [
      "2023-09-06 14:29:52.168585: I tensorflow/core/kernels/data/shuffle_dataset_op.cc:422] Filling up shuffle buffer (this may take a while): 128837 of 250000\n"
     ]
    },
    {
     "name": "stdout",
     "output_type": "stream",
     "text": [
      "  1/477 [..............................] - ETA: 2:07:37 - loss: 0.6929 - acc: 0.5000 - auc: 0.5003"
     ]
    },
    {
     "name": "stderr",
     "output_type": "stream",
     "text": [
      "2023-09-06 14:29:58.076619: I tensorflow/core/kernels/data/shuffle_dataset_op.cc:450] Shuffle buffer filled.\n"
     ]
    },
    {
     "name": "stdout",
     "output_type": "stream",
     "text": [
      "477/477 [==============================] - ETA: 0s - loss: 0.6932 - acc: 0.5000 - auc: 0.5005"
     ]
    },
    {
     "name": "stderr",
     "output_type": "stream",
     "text": [
      "2023-09-06 14:31:31.676786: I tensorflow/core/kernels/data/shuffle_dataset_op.cc:422] Filling up shuffle buffer (this may take a while): 239464 of 250000\n",
      "2023-09-06 14:31:31.842696: I tensorflow/core/kernels/data/shuffle_dataset_op.cc:450] Shuffle buffer filled.\n"
     ]
    },
    {
     "name": "stdout",
     "output_type": "stream",
     "text": [
      "477/477 [==============================] - 110s 198ms/step - loss: 0.6932 - acc: 0.5000 - auc: 0.5005 - val_loss: 0.6928 - val_acc: 0.5000 - val_auc: 0.4991\n",
      "Epoch 7/50\n",
      "477/477 [==============================] - ETA: 0s - loss: 0.6932 - acc: 0.5000 - auc: 0.4989"
     ]
    },
    {
     "name": "stderr",
     "output_type": "stream",
     "text": [
      "2023-09-06 14:33:16.111476: I tensorflow/core/kernels/data/shuffle_dataset_op.cc:422] Filling up shuffle buffer (this may take a while): 115628 of 250000\n",
      "2023-09-06 14:33:21.908745: I tensorflow/core/kernels/data/shuffle_dataset_op.cc:450] Shuffle buffer filled.\n"
     ]
    },
    {
     "name": "stdout",
     "output_type": "stream",
     "text": [
      "477/477 [==============================] - 110s 210ms/step - loss: 0.6932 - acc: 0.5000 - auc: 0.4989 - val_loss: 0.6929 - val_acc: 0.5000 - val_auc: 0.4946\n",
      "Epoch 8/50\n"
     ]
    },
    {
     "name": "stderr",
     "output_type": "stream",
     "text": [
      "2023-09-06 14:33:32.687451: I tensorflow/core/kernels/data/shuffle_dataset_op.cc:422] Filling up shuffle buffer (this may take a while): 154349 of 250000\n"
     ]
    },
    {
     "name": "stdout",
     "output_type": "stream",
     "text": [
      "  1/477 [..............................] - ETA: 2:08:44 - loss: 0.6933 - acc: 0.5000 - auc: 0.4956"
     ]
    },
    {
     "name": "stderr",
     "output_type": "stream",
     "text": [
      "2023-09-06 14:33:38.723867: I tensorflow/core/kernels/data/shuffle_dataset_op.cc:450] Shuffle buffer filled.\n"
     ]
    },
    {
     "name": "stdout",
     "output_type": "stream",
     "text": [
      "477/477 [==============================] - ETA: 0s - loss: 0.6932 - acc: 0.5000 - auc: 0.4998"
     ]
    },
    {
     "name": "stderr",
     "output_type": "stream",
     "text": [
      "2023-09-06 14:35:15.903858: I tensorflow/core/kernels/data/shuffle_dataset_op.cc:422] Filling up shuffle buffer (this may take a while): 6454 of 250000\n",
      "2023-09-06 14:35:23.071908: I tensorflow/core/kernels/data/shuffle_dataset_op.cc:422] Filling up shuffle buffer (this may take a while): 26084 of 250000\n",
      "2023-09-06 14:35:34.104794: I tensorflow/core/kernels/data/shuffle_dataset_op.cc:422] Filling up shuffle buffer (this may take a while): 80133 of 250000\n",
      "2023-09-06 14:35:43.449492: I tensorflow/core/kernels/data/shuffle_dataset_op.cc:422] Filling up shuffle buffer (this may take a while): 144938 of 250000\n",
      "2023-09-06 14:35:52.736648: I tensorflow/core/kernels/data/shuffle_dataset_op.cc:422] Filling up shuffle buffer (this may take a while): 202751 of 250000\n",
      "2023-09-06 14:35:56.699665: I tensorflow/core/kernels/data/shuffle_dataset_op.cc:450] Shuffle buffer filled.\n"
     ]
    },
    {
     "name": "stdout",
     "output_type": "stream",
     "text": [
      "477/477 [==============================] - 155s 291ms/step - loss: 0.6932 - acc: 0.5000 - auc: 0.4998 - val_loss: 0.6932 - val_acc: 0.5000 - val_auc: 0.4923\n",
      "Epoch 9/50\n"
     ]
    },
    {
     "name": "stderr",
     "output_type": "stream",
     "text": [
      "2023-09-06 14:36:07.608879: I tensorflow/core/kernels/data/shuffle_dataset_op.cc:422] Filling up shuffle buffer (this may take a while): 148971 of 250000\n"
     ]
    },
    {
     "name": "stdout",
     "output_type": "stream",
     "text": [
      "  1/477 [..............................] - ETA: 2:04:42 - loss: 0.6931 - acc: 0.5000 - auc: 0.5075"
     ]
    },
    {
     "name": "stderr",
     "output_type": "stream",
     "text": [
      "2023-09-06 14:36:13.038344: I tensorflow/core/kernels/data/shuffle_dataset_op.cc:450] Shuffle buffer filled.\n"
     ]
    },
    {
     "name": "stdout",
     "output_type": "stream",
     "text": [
      "477/477 [==============================] - ETA: 0s - loss: 0.6932 - acc: 0.5000 - auc: 0.5013"
     ]
    },
    {
     "name": "stderr",
     "output_type": "stream",
     "text": [
      "2023-09-06 14:37:47.065654: I tensorflow/core/kernels/data/shuffle_dataset_op.cc:422] Filling up shuffle buffer (this may take a while): 14790 of 250000\n",
      "2023-09-06 14:37:56.806207: I tensorflow/core/kernels/data/shuffle_dataset_op.cc:422] Filling up shuffle buffer (this may take a while): 57814 of 250000\n",
      "2023-09-06 14:38:06.992599: I tensorflow/core/kernels/data/shuffle_dataset_op.cc:422] Filling up shuffle buffer (this may take a while): 146551 of 250000\n",
      "2023-09-06 14:38:09.402255: I tensorflow/core/kernels/data/shuffle_dataset_op.cc:450] Shuffle buffer filled.\n"
     ]
    },
    {
     "name": "stdout",
     "output_type": "stream",
     "text": [
      "477/477 [==============================] - 133s 245ms/step - loss: 0.6932 - acc: 0.5000 - auc: 0.5013 - val_loss: 0.6931 - val_acc: 0.5000 - val_auc: 0.5000\n",
      "Epoch 10/50\n",
      "477/477 [==============================] - 100s 191ms/step - loss: 0.6931 - acc: 0.5000 - auc: 0.5008 - val_loss: 0.6934 - val_acc: 0.5000 - val_auc: 0.4983\n",
      "Epoch 11/50\n",
      "477/477 [==============================] - ETA: 0s - loss: 0.6932 - acc: 0.5000 - auc: 0.5003"
     ]
    },
    {
     "name": "stderr",
     "output_type": "stream",
     "text": [
      "2023-09-06 14:41:30.980762: I tensorflow/core/kernels/data/shuffle_dataset_op.cc:422] Filling up shuffle buffer (this may take a while): 185810 of 250000\n",
      "2023-09-06 14:41:34.379334: I tensorflow/core/kernels/data/shuffle_dataset_op.cc:450] Shuffle buffer filled.\n"
     ]
    },
    {
     "name": "stdout",
     "output_type": "stream",
     "text": [
      "477/477 [==============================] - 105s 207ms/step - loss: 0.6932 - acc: 0.5000 - auc: 0.5003 - val_loss: 0.6932 - val_acc: 0.5000 - val_auc: 0.5014\n",
      "Epoch 12/50\n",
      "477/477 [==============================] - ETA: 0s - loss: 0.6932 - acc: 0.5000 - auc: 0.5006"
     ]
    },
    {
     "name": "stderr",
     "output_type": "stream",
     "text": [
      "2023-09-06 14:43:16.874834: I tensorflow/core/kernels/data/shuffle_dataset_op.cc:422] Filling up shuffle buffer (this may take a while): 156542 of 250000\n",
      "2023-09-06 14:43:20.140601: I tensorflow/core/kernels/data/shuffle_dataset_op.cc:450] Shuffle buffer filled.\n"
     ]
    },
    {
     "name": "stdout",
     "output_type": "stream",
     "text": [
      "477/477 [==============================] - 106s 204ms/step - loss: 0.6932 - acc: 0.5000 - auc: 0.5006 - val_loss: 0.6932 - val_acc: 0.5000 - val_auc: 0.5006\n",
      "Epoch 13/50\n"
     ]
    },
    {
     "name": "stderr",
     "output_type": "stream",
     "text": [
      "2023-09-06 14:43:30.828181: I tensorflow/core/kernels/data/shuffle_dataset_op.cc:422] Filling up shuffle buffer (this may take a while): 127140 of 250000\n"
     ]
    },
    {
     "name": "stdout",
     "output_type": "stream",
     "text": [
      "  1/477 [..............................] - ETA: 2:25:29 - loss: 0.6931 - acc: 0.5000 - auc: 0.5082"
     ]
    },
    {
     "name": "stderr",
     "output_type": "stream",
     "text": [
      "2023-09-06 14:43:38.984991: I tensorflow/core/kernels/data/shuffle_dataset_op.cc:450] Shuffle buffer filled.\n"
     ]
    },
    {
     "name": "stdout",
     "output_type": "stream",
     "text": [
      "477/477 [==============================] - ETA: 0s - loss: 0.6932 - acc: 0.5000 - auc: 0.5008"
     ]
    },
    {
     "name": "stderr",
     "output_type": "stream",
     "text": [
      "2023-09-06 14:45:12.702920: I tensorflow/core/kernels/data/shuffle_dataset_op.cc:422] Filling up shuffle buffer (this may take a while): 108829 of 250000\n",
      "2023-09-06 14:45:16.716627: I tensorflow/core/kernels/data/shuffle_dataset_op.cc:450] Shuffle buffer filled.\n"
     ]
    },
    {
     "name": "stdout",
     "output_type": "stream",
     "text": [
      "477/477 [==============================] - 116s 206ms/step - loss: 0.6932 - acc: 0.5000 - auc: 0.5008 - val_loss: 0.6926 - val_acc: 0.5000 - val_auc: 0.5058\n",
      "Epoch 14/50\n"
     ]
    },
    {
     "name": "stderr",
     "output_type": "stream",
     "text": [
      "2023-09-06 14:45:28.197608: I tensorflow/core/kernels/data/shuffle_dataset_op.cc:422] Filling up shuffle buffer (this may take a while): 185810 of 250000\n"
     ]
    },
    {
     "name": "stdout",
     "output_type": "stream",
     "text": [
      "  1/477 [..............................] - ETA: 1:39:01 - loss: 0.6930 - acc: 0.5000 - auc: 0.5024"
     ]
    },
    {
     "name": "stderr",
     "output_type": "stream",
     "text": [
      "2023-09-06 14:45:29.675480: I tensorflow/core/kernels/data/shuffle_dataset_op.cc:450] Shuffle buffer filled.\n"
     ]
    },
    {
     "name": "stdout",
     "output_type": "stream",
     "text": [
      "477/477 [==============================] - ETA: 0s - loss: 0.6932 - acc: 0.5000 - auc: 0.5006"
     ]
    },
    {
     "name": "stderr",
     "output_type": "stream",
     "text": [
      "2023-09-06 14:47:03.577096: I tensorflow/core/kernels/data/shuffle_dataset_op.cc:422] Filling up shuffle buffer (this may take a while): 185542 of 250000\n",
      "2023-09-06 14:47:06.151997: I tensorflow/core/kernels/data/shuffle_dataset_op.cc:450] Shuffle buffer filled.\n"
     ]
    },
    {
     "name": "stdout",
     "output_type": "stream",
     "text": [
      "477/477 [==============================] - 109s 203ms/step - loss: 0.6932 - acc: 0.5000 - auc: 0.5006 - val_loss: 0.6926 - val_acc: 0.5000 - val_auc: 0.5005\n",
      "Epoch 15/50\n"
     ]
    },
    {
     "name": "stderr",
     "output_type": "stream",
     "text": [
      "2023-09-06 14:47:16.834090: I tensorflow/core/kernels/data/shuffle_dataset_op.cc:422] Filling up shuffle buffer (this may take a while): 158920 of 250000\n"
     ]
    },
    {
     "name": "stdout",
     "output_type": "stream",
     "text": [
      "  1/477 [..............................] - ETA: 1:45:44 - loss: 0.6925 - acc: 0.5000 - auc: 0.5009"
     ]
    },
    {
     "name": "stderr",
     "output_type": "stream",
     "text": [
      "2023-09-06 14:47:19.944630: I tensorflow/core/kernels/data/shuffle_dataset_op.cc:450] Shuffle buffer filled.\n"
     ]
    },
    {
     "name": "stdout",
     "output_type": "stream",
     "text": [
      "477/477 [==============================] - 106s 194ms/step - loss: 0.6932 - acc: 0.5000 - auc: 0.5007 - val_loss: 0.6931 - val_acc: 0.5000 - val_auc: 0.5039\n",
      "Epoch 16/50\n"
     ]
    },
    {
     "name": "stderr",
     "output_type": "stream",
     "text": [
      "2023-09-06 14:49:02.485802: I tensorflow/core/kernels/data/shuffle_dataset_op.cc:422] Filling up shuffle buffer (this may take a while): 235078 of 250000\n"
     ]
    },
    {
     "name": "stdout",
     "output_type": "stream",
     "text": [
      "  1/477 [..............................] - ETA: 1:32:24 - loss: 0.6929 - acc: 0.5000 - auc: 0.5041"
     ]
    },
    {
     "name": "stderr",
     "output_type": "stream",
     "text": [
      "2023-09-06 14:49:03.956807: I tensorflow/core/kernels/data/shuffle_dataset_op.cc:450] Shuffle buffer filled.\n"
     ]
    },
    {
     "name": "stdout",
     "output_type": "stream",
     "text": [
      "477/477 [==============================] - ETA: 0s - loss: 0.6932 - acc: 0.5000 - auc: 0.5006"
     ]
    },
    {
     "name": "stderr",
     "output_type": "stream",
     "text": [
      "2023-09-06 14:50:37.707182: I tensorflow/core/kernels/data/shuffle_dataset_op.cc:422] Filling up shuffle buffer (this may take a while): 188957 of 250000\n",
      "2023-09-06 14:50:40.588290: I tensorflow/core/kernels/data/shuffle_dataset_op.cc:450] Shuffle buffer filled.\n"
     ]
    },
    {
     "name": "stdout",
     "output_type": "stream",
     "text": [
      "477/477 [==============================] - 109s 204ms/step - loss: 0.6932 - acc: 0.5000 - auc: 0.5006 - val_loss: 0.6932 - val_acc: 0.5000 - val_auc: 0.5005\n",
      "Epoch 17/50\n"
     ]
    },
    {
     "name": "stderr",
     "output_type": "stream",
     "text": [
      "2023-09-06 14:50:51.342400: I tensorflow/core/kernels/data/shuffle_dataset_op.cc:422] Filling up shuffle buffer (this may take a while): 175250 of 250000\n"
     ]
    },
    {
     "name": "stdout",
     "output_type": "stream",
     "text": [
      "  1/477 [..............................] - ETA: 1:57:15 - loss: 0.6928 - acc: 0.5000 - auc: 0.4979"
     ]
    },
    {
     "name": "stderr",
     "output_type": "stream",
     "text": [
      "2023-09-06 14:50:55.938909: I tensorflow/core/kernels/data/shuffle_dataset_op.cc:450] Shuffle buffer filled.\n"
     ]
    },
    {
     "name": "stdout",
     "output_type": "stream",
     "text": [
      "477/477 [==============================] - ETA: 0s - loss: 0.6931 - acc: 0.5000 - auc: 0.5002"
     ]
    },
    {
     "name": "stderr",
     "output_type": "stream",
     "text": [
      "2023-09-06 14:52:29.574907: I tensorflow/core/kernels/data/shuffle_dataset_op.cc:422] Filling up shuffle buffer (this may take a while): 159727 of 250000\n",
      "2023-09-06 14:52:32.944524: I tensorflow/core/kernels/data/shuffle_dataset_op.cc:450] Shuffle buffer filled.\n"
     ]
    },
    {
     "name": "stdout",
     "output_type": "stream",
     "text": [
      "477/477 [==============================] - 112s 205ms/step - loss: 0.6931 - acc: 0.5000 - auc: 0.5002 - val_loss: 0.6932 - val_acc: 0.5000 - val_auc: 0.5000\n",
      "Epoch 18/50\n",
      "477/477 [==============================] - ETA: 0s - loss: 0.6932 - acc: 0.5000 - auc: 0.4990"
     ]
    },
    {
     "name": "stderr",
     "output_type": "stream",
     "text": [
      "2023-09-06 14:54:16.068220: I tensorflow/core/kernels/data/shuffle_dataset_op.cc:422] Filling up shuffle buffer (this may take a while): 227347 of 250000\n",
      "2023-09-06 14:54:16.550804: I tensorflow/core/kernels/data/shuffle_dataset_op.cc:450] Shuffle buffer filled.\n"
     ]
    },
    {
     "name": "stdout",
     "output_type": "stream",
     "text": [
      "477/477 [==============================] - 103s 199ms/step - loss: 0.6932 - acc: 0.5000 - auc: 0.4990 - val_loss: 0.6932 - val_acc: 0.5000 - val_auc: 0.5000\n",
      "Epoch 19/50\n"
     ]
    },
    {
     "name": "stderr",
     "output_type": "stream",
     "text": [
      "2023-09-06 14:54:27.389448: I tensorflow/core/kernels/data/shuffle_dataset_op.cc:422] Filling up shuffle buffer (this may take a while): 142786 of 250000\n"
     ]
    },
    {
     "name": "stdout",
     "output_type": "stream",
     "text": [
      "  1/477 [..............................] - ETA: 1:49:27 - loss: 0.6931 - acc: 0.5000 - auc: 0.5000"
     ]
    },
    {
     "name": "stderr",
     "output_type": "stream",
     "text": [
      "2023-09-06 14:54:30.866449: I tensorflow/core/kernels/data/shuffle_dataset_op.cc:450] Shuffle buffer filled.\n"
     ]
    },
    {
     "name": "stdout",
     "output_type": "stream",
     "text": [
      "477/477 [==============================] - ETA: 0s - loss: 0.6931 - acc: 0.5000 - auc: 0.5013"
     ]
    },
    {
     "name": "stderr",
     "output_type": "stream",
     "text": [
      "2023-09-06 14:56:05.948383: I tensorflow/core/kernels/data/shuffle_dataset_op.cc:422] Filling up shuffle buffer (this may take a while): 11832 of 250000\n",
      "2023-09-06 14:56:14.431747: I tensorflow/core/kernels/data/shuffle_dataset_op.cc:422] Filling up shuffle buffer (this may take a while): 65206 of 250000\n",
      "2023-09-06 14:56:24.582822: I tensorflow/core/kernels/data/shuffle_dataset_op.cc:422] Filling up shuffle buffer (this may take a while): 136064 of 250000\n",
      "2023-09-06 14:56:35.483450: I tensorflow/core/kernels/data/shuffle_dataset_op.cc:422] Filling up shuffle buffer (this may take a while): 190113 of 250000\n",
      "2023-09-06 14:56:39.261864: I tensorflow/core/kernels/data/shuffle_dataset_op.cc:450] Shuffle buffer filled.\n"
     ]
    },
    {
     "name": "stdout",
     "output_type": "stream",
     "text": [
      "477/477 [==============================] - 143s 271ms/step - loss: 0.6931 - acc: 0.5000 - auc: 0.5013 - val_loss: 0.6931 - val_acc: 0.5000 - val_auc: 0.4928\n",
      "Epoch 20/50\n"
     ]
    },
    {
     "name": "stderr",
     "output_type": "stream",
     "text": [
      "2023-09-06 14:56:50.806678: I tensorflow/core/kernels/data/shuffle_dataset_op.cc:422] Filling up shuffle buffer (this may take a while): 10757 of 250000\n",
      "2023-09-06 14:57:00.257375: I tensorflow/core/kernels/data/shuffle_dataset_op.cc:422] Filling up shuffle buffer (this may take a while): 71259 of 250000\n",
      "2023-09-06 14:57:10.021836: I tensorflow/core/kernels/data/shuffle_dataset_op.cc:422] Filling up shuffle buffer (this may take a while): 160786 of 250000\n"
     ]
    },
    {
     "name": "stdout",
     "output_type": "stream",
     "text": [
      "  1/477 [..............................] - ETA: 5:16:32 - loss: 0.6931 - acc: 0.5000 - auc: 0.5000"
     ]
    },
    {
     "name": "stderr",
     "output_type": "stream",
     "text": [
      "2023-09-06 14:57:19.735483: I tensorflow/core/kernels/data/shuffle_dataset_op.cc:450] Shuffle buffer filled.\n"
     ]
    },
    {
     "name": "stdout",
     "output_type": "stream",
     "text": [
      "477/477 [==============================] - ETA: 0s - loss: 0.6931 - acc: 0.5000 - auc: 0.5021"
     ]
    },
    {
     "name": "stderr",
     "output_type": "stream",
     "text": [
      "2023-09-06 14:58:53.736258: I tensorflow/core/kernels/data/shuffle_dataset_op.cc:422] Filling up shuffle buffer (this may take a while): 37647 of 250000\n",
      "2023-09-06 14:59:03.414869: I tensorflow/core/kernels/data/shuffle_dataset_op.cc:422] Filling up shuffle buffer (this may take a while): 128978 of 250000\n",
      "2023-09-06 14:59:13.488153: I tensorflow/core/kernels/data/shuffle_dataset_op.cc:422] Filling up shuffle buffer (this may take a while): 211356 of 250000\n",
      "2023-09-06 14:59:17.658445: I tensorflow/core/kernels/data/shuffle_dataset_op.cc:450] Shuffle buffer filled.\n"
     ]
    },
    {
     "name": "stdout",
     "output_type": "stream",
     "text": [
      "477/477 [==============================] - 158s 249ms/step - loss: 0.6931 - acc: 0.5000 - auc: 0.5021 - val_loss: 0.6931 - val_acc: 0.5000 - val_auc: 0.4994\n",
      "Epoch 21/50\n"
     ]
    },
    {
     "name": "stderr",
     "output_type": "stream",
     "text": [
      "2023-09-06 14:59:28.362688: I tensorflow/core/kernels/data/shuffle_dataset_op.cc:422] Filling up shuffle buffer (this may take a while): 20120 of 250000\n",
      "2023-09-06 14:59:38.940429: I tensorflow/core/kernels/data/shuffle_dataset_op.cc:422] Filling up shuffle buffer (this may take a while): 80402 of 250000\n",
      "2023-09-06 14:59:48.646673: I tensorflow/core/kernels/data/shuffle_dataset_op.cc:422] Filling up shuffle buffer (this may take a while): 191995 of 250000\n"
     ]
    },
    {
     "name": "stdout",
     "output_type": "stream",
     "text": [
      "  1/477 [..............................] - ETA: 4:19:27 - loss: 0.6932 - acc: 0.5000 - auc: 0.4976"
     ]
    },
    {
     "name": "stderr",
     "output_type": "stream",
     "text": [
      "2023-09-06 14:59:50.888381: I tensorflow/core/kernels/data/shuffle_dataset_op.cc:450] Shuffle buffer filled.\n"
     ]
    },
    {
     "name": "stdout",
     "output_type": "stream",
     "text": [
      "477/477 [==============================] - 125s 195ms/step - loss: 0.6931 - acc: 0.5000 - auc: 0.5019 - val_loss: 0.6929 - val_acc: 0.5000 - val_auc: 0.5094\n",
      "Epoch 22/50\n",
      "477/477 [==============================] - ETA: 0s - loss: 0.6931 - acc: 0.5000 - auc: 0.5030"
     ]
    },
    {
     "name": "stderr",
     "output_type": "stream",
     "text": [
      "2023-09-06 15:03:06.094525: I tensorflow/core/kernels/data/shuffle_dataset_op.cc:422] Filling up shuffle buffer (this may take a while): 196566 of 250000\n",
      "2023-09-06 15:03:08.512106: I tensorflow/core/kernels/data/shuffle_dataset_op.cc:450] Shuffle buffer filled.\n"
     ]
    },
    {
     "name": "stdout",
     "output_type": "stream",
     "text": [
      "477/477 [==============================] - 105s 203ms/step - loss: 0.6931 - acc: 0.5000 - auc: 0.5030 - val_loss: 0.6930 - val_acc: 0.5000 - val_auc: 0.5023\n",
      "Epoch 23/50\n",
      "477/477 [==============================] - ETA: 0s - loss: 0.6931 - acc: 0.5000 - auc: 0.5027"
     ]
    },
    {
     "name": "stderr",
     "output_type": "stream",
     "text": [
      "2023-09-06 15:04:50.071307: I tensorflow/core/kernels/data/shuffle_dataset_op.cc:422] Filling up shuffle buffer (this may take a while): 246563 of 250000\n",
      "2023-09-06 15:04:50.125143: I tensorflow/core/kernels/data/shuffle_dataset_op.cc:450] Shuffle buffer filled.\n"
     ]
    },
    {
     "name": "stdout",
     "output_type": "stream",
     "text": [
      "477/477 [==============================] - 101s 198ms/step - loss: 0.6931 - acc: 0.5000 - auc: 0.5027 - val_loss: 0.6924 - val_acc: 0.5000 - val_auc: 0.5132\n",
      "Epoch 24/50\n"
     ]
    },
    {
     "name": "stderr",
     "output_type": "stream",
     "text": [
      "2023-09-06 15:05:00.943077: I tensorflow/core/kernels/data/shuffle_dataset_op.cc:422] Filling up shuffle buffer (this may take a while): 246044 of 250000\n",
      "2023-09-06 15:05:01.002874: I tensorflow/core/kernels/data/shuffle_dataset_op.cc:450] Shuffle buffer filled.\n"
     ]
    },
    {
     "name": "stdout",
     "output_type": "stream",
     "text": [
      "477/477 [==============================] - ETA: 0s - loss: 0.6930 - acc: 0.5000 - auc: 0.5042"
     ]
    },
    {
     "name": "stderr",
     "output_type": "stream",
     "text": [
      "2023-09-06 15:06:35.579342: I tensorflow/core/kernels/data/shuffle_dataset_op.cc:422] Filling up shuffle buffer (this may take a while): 243893 of 250000\n",
      "2023-09-06 15:06:35.696167: I tensorflow/core/kernels/data/shuffle_dataset_op.cc:450] Shuffle buffer filled.\n"
     ]
    },
    {
     "name": "stdout",
     "output_type": "stream",
     "text": [
      "477/477 [==============================] - 105s 200ms/step - loss: 0.6930 - acc: 0.5000 - auc: 0.5042 - val_loss: 0.6932 - val_acc: 0.5000 - val_auc: 0.5192\n",
      "Epoch 25/50\n"
     ]
    },
    {
     "name": "stderr",
     "output_type": "stream",
     "text": [
      "2023-09-06 15:06:46.498218: I tensorflow/core/kernels/data/shuffle_dataset_op.cc:422] Filling up shuffle buffer (this may take a while): 188768 of 250000\n"
     ]
    },
    {
     "name": "stdout",
     "output_type": "stream",
     "text": [
      "  1/477 [..............................] - ETA: 1:37:03 - loss: 0.6922 - acc: 0.5000 - auc: 0.5618"
     ]
    },
    {
     "name": "stderr",
     "output_type": "stream",
     "text": [
      "2023-09-06 15:06:48.455409: I tensorflow/core/kernels/data/shuffle_dataset_op.cc:450] Shuffle buffer filled.\n"
     ]
    },
    {
     "name": "stdout",
     "output_type": "stream",
     "text": [
      "477/477 [==============================] - 106s 196ms/step - loss: 0.6930 - acc: 0.5000 - auc: 0.5044 - val_loss: 0.6927 - val_acc: 0.5000 - val_auc: 0.5116\n",
      "Epoch 26/50\n"
     ]
    },
    {
     "name": "stderr",
     "output_type": "stream",
     "text": [
      "2023-09-06 15:08:32.295615: I tensorflow/core/kernels/data/shuffle_dataset_op.cc:422] Filling up shuffle buffer (this may take a while): 229171 of 250000\n"
     ]
    },
    {
     "name": "stdout",
     "output_type": "stream",
     "text": [
      "  1/477 [..............................] - ETA: 1:24:30 - loss: 0.6933 - acc: 0.5000 - auc: 0.5120"
     ]
    },
    {
     "name": "stderr",
     "output_type": "stream",
     "text": [
      "2023-09-06 15:08:32.762948: I tensorflow/core/kernels/data/shuffle_dataset_op.cc:450] Shuffle buffer filled.\n"
     ]
    },
    {
     "name": "stdout",
     "output_type": "stream",
     "text": [
      "477/477 [==============================] - 103s 195ms/step - loss: 0.6930 - acc: 0.5000 - auc: 0.5050 - val_loss: 0.6921 - val_acc: 0.5000 - val_auc: 0.5243\n",
      "Epoch 27/50\n",
      "477/477 [==============================] - ETA: 0s - loss: 0.6930 - acc: 0.5000 - auc: 0.5056"
     ]
    },
    {
     "name": "stderr",
     "output_type": "stream",
     "text": [
      "2023-09-06 15:11:47.681836: I tensorflow/core/kernels/data/shuffle_dataset_op.cc:422] Filling up shuffle buffer (this may take a while): 6992 of 250000\n",
      "2023-09-06 15:11:58.157971: I tensorflow/core/kernels/data/shuffle_dataset_op.cc:422] Filling up shuffle buffer (this may take a while): 78788 of 250000\n",
      "2023-09-06 15:12:07.890266: I tensorflow/core/kernels/data/shuffle_dataset_op.cc:422] Filling up shuffle buffer (this may take a while): 168332 of 250000\n",
      "2023-09-06 15:12:17.316429: I tensorflow/core/kernels/data/shuffle_dataset_op.cc:450] Shuffle buffer filled.\n"
     ]
    },
    {
     "name": "stdout",
     "output_type": "stream",
     "text": [
      "477/477 [==============================] - 132s 260ms/step - loss: 0.6930 - acc: 0.5000 - auc: 0.5056 - val_loss: 0.6923 - val_acc: 0.5000 - val_auc: 0.5202\n",
      "Epoch 28/50\n"
     ]
    },
    {
     "name": "stderr",
     "output_type": "stream",
     "text": [
      "2023-09-06 15:12:28.375937: I tensorflow/core/kernels/data/shuffle_dataset_op.cc:422] Filling up shuffle buffer (this may take a while): 30117 of 250000\n",
      "2023-09-06 15:12:38.272751: I tensorflow/core/kernels/data/shuffle_dataset_op.cc:422] Filling up shuffle buffer (this may take a while): 125308 of 250000\n"
     ]
    },
    {
     "name": "stdout",
     "output_type": "stream",
     "text": [
      "  1/477 [..............................] - ETA: 3:15:37 - loss: 0.6921 - acc: 0.5000 - auc: 0.5205"
     ]
    },
    {
     "name": "stderr",
     "output_type": "stream",
     "text": [
      "2023-09-06 15:12:42.425945: I tensorflow/core/kernels/data/shuffle_dataset_op.cc:450] Shuffle buffer filled.\n"
     ]
    },
    {
     "name": "stdout",
     "output_type": "stream",
     "text": [
      "477/477 [==============================] - ETA: 0s - loss: 0.6930 - acc: 0.5000 - auc: 0.5052"
     ]
    },
    {
     "name": "stderr",
     "output_type": "stream",
     "text": [
      "2023-09-06 15:14:16.066876: I tensorflow/core/kernels/data/shuffle_dataset_op.cc:422] Filling up shuffle buffer (this may take a while): 203743 of 250000\n",
      "2023-09-06 15:14:17.392936: I tensorflow/core/kernels/data/shuffle_dataset_op.cc:450] Shuffle buffer filled.\n"
     ]
    },
    {
     "name": "stdout",
     "output_type": "stream",
     "text": [
      "477/477 [==============================] - 120s 200ms/step - loss: 0.6930 - acc: 0.5000 - auc: 0.5052 - val_loss: 0.6933 - val_acc: 0.5000 - val_auc: 0.4992\n",
      "Epoch 29/50\n"
     ]
    },
    {
     "name": "stderr",
     "output_type": "stream",
     "text": [
      "2023-09-06 15:14:28.546492: I tensorflow/core/kernels/data/shuffle_dataset_op.cc:422] Filling up shuffle buffer (this may take a while): 161072 of 250000\n"
     ]
    },
    {
     "name": "stdout",
     "output_type": "stream",
     "text": [
      "  1/477 [..............................] - ETA: 1:55:02 - loss: 0.6929 - acc: 0.5000 - auc: 0.5197"
     ]
    },
    {
     "name": "stderr",
     "output_type": "stream",
     "text": [
      "2023-09-06 15:14:32.309415: I tensorflow/core/kernels/data/shuffle_dataset_op.cc:450] Shuffle buffer filled.\n"
     ]
    },
    {
     "name": "stdout",
     "output_type": "stream",
     "text": [
      "477/477 [==============================] - ETA: 0s - loss: 0.6929 - acc: 0.5000 - auc: 0.5064"
     ]
    },
    {
     "name": "stderr",
     "output_type": "stream",
     "text": [
      "2023-09-06 15:16:06.675977: I tensorflow/core/kernels/data/shuffle_dataset_op.cc:422] Filling up shuffle buffer (this may take a while): 147596 of 250000\n",
      "2023-09-06 15:16:12.541307: I tensorflow/core/kernels/data/shuffle_dataset_op.cc:450] Shuffle buffer filled.\n"
     ]
    },
    {
     "name": "stdout",
     "output_type": "stream",
     "text": [
      "477/477 [==============================] - 115s 211ms/step - loss: 0.6929 - acc: 0.5000 - auc: 0.5064 - val_loss: 0.6934 - val_acc: 0.5000 - val_auc: 0.4997\n",
      "Epoch 30/50\n"
     ]
    },
    {
     "name": "stderr",
     "output_type": "stream",
     "text": [
      "2023-09-06 15:16:23.488241: I tensorflow/core/kernels/data/shuffle_dataset_op.cc:422] Filling up shuffle buffer (this may take a while): 6454 of 250000\n",
      "2023-09-06 15:16:33.455208: I tensorflow/core/kernels/data/shuffle_dataset_op.cc:422] Filling up shuffle buffer (this may take a while): 154349 of 250000\n"
     ]
    },
    {
     "name": "stdout",
     "output_type": "stream",
     "text": [
      "  1/477 [..............................] - ETA: 3:37:55 - loss: 0.6951 - acc: 0.5000 - auc: 0.4812"
     ]
    },
    {
     "name": "stderr",
     "output_type": "stream",
     "text": [
      "2023-09-06 15:16:40.529594: I tensorflow/core/kernels/data/shuffle_dataset_op.cc:450] Shuffle buffer filled.\n"
     ]
    },
    {
     "name": "stdout",
     "output_type": "stream",
     "text": [
      "477/477 [==============================] - ETA: 0s - loss: 0.6929 - acc: 0.5000 - auc: 0.5069"
     ]
    },
    {
     "name": "stderr",
     "output_type": "stream",
     "text": [
      "2023-09-06 15:18:14.936697: I tensorflow/core/kernels/data/shuffle_dataset_op.cc:422] Filling up shuffle buffer (this may take a while): 228297 of 250000\n",
      "2023-09-06 15:18:15.637061: I tensorflow/core/kernels/data/shuffle_dataset_op.cc:450] Shuffle buffer filled.\n"
     ]
    },
    {
     "name": "stdout",
     "output_type": "stream",
     "text": [
      "477/477 [==============================] - 123s 201ms/step - loss: 0.6929 - acc: 0.5000 - auc: 0.5069 - val_loss: 0.6929 - val_acc: 0.5000 - val_auc: 0.4851\n",
      "Epoch 31/50\n"
     ]
    },
    {
     "name": "stderr",
     "output_type": "stream",
     "text": [
      "2023-09-06 15:18:26.429439: I tensorflow/core/kernels/data/shuffle_dataset_op.cc:422] Filling up shuffle buffer (this may take a while): 225608 of 250000\n"
     ]
    },
    {
     "name": "stdout",
     "output_type": "stream",
     "text": [
      "  1/477 [..............................] - ETA: 1:32:50 - loss: 0.6922 - acc: 0.5000 - auc: 0.5156"
     ]
    },
    {
     "name": "stderr",
     "output_type": "stream",
     "text": [
      "2023-09-06 15:18:27.893696: I tensorflow/core/kernels/data/shuffle_dataset_op.cc:450] Shuffle buffer filled.\n"
     ]
    },
    {
     "name": "stdout",
     "output_type": "stream",
     "text": [
      "477/477 [==============================] - ETA: 0s - loss: 0.6929 - acc: 0.5000 - auc: 0.5052"
     ]
    },
    {
     "name": "stderr",
     "output_type": "stream",
     "text": [
      "2023-09-06 15:20:01.608865: I tensorflow/core/kernels/data/shuffle_dataset_op.cc:422] Filling up shuffle buffer (this may take a while): 118048 of 250000\n",
      "2023-09-06 15:20:07.370353: I tensorflow/core/kernels/data/shuffle_dataset_op.cc:450] Shuffle buffer filled.\n"
     ]
    },
    {
     "name": "stdout",
     "output_type": "stream",
     "text": [
      "477/477 [==============================] - 112s 210ms/step - loss: 0.6929 - acc: 0.5000 - auc: 0.5052 - val_loss: 0.6928 - val_acc: 0.5000 - val_auc: 0.5201\n",
      "Epoch 32/50\n"
     ]
    },
    {
     "name": "stderr",
     "output_type": "stream",
     "text": [
      "2023-09-06 15:20:18.385739: I tensorflow/core/kernels/data/shuffle_dataset_op.cc:422] Filling up shuffle buffer (this may take a while): 161072 of 250000\n"
     ]
    },
    {
     "name": "stdout",
     "output_type": "stream",
     "text": [
      "  1/477 [..............................] - ETA: 1:51:29 - loss: 0.6935 - acc: 0.5000 - auc: 0.5126"
     ]
    },
    {
     "name": "stderr",
     "output_type": "stream",
     "text": [
      "2023-09-06 15:20:22.025897: I tensorflow/core/kernels/data/shuffle_dataset_op.cc:450] Shuffle buffer filled.\n"
     ]
    },
    {
     "name": "stdout",
     "output_type": "stream",
     "text": [
      "477/477 [==============================] - ETA: 0s - loss: 0.6929 - acc: 0.5000 - auc: 0.5066"
     ]
    },
    {
     "name": "stderr",
     "output_type": "stream",
     "text": [
      "2023-09-06 15:21:57.949232: I tensorflow/core/kernels/data/shuffle_dataset_op.cc:422] Filling up shuffle buffer (this may take a while): 11025 of 250000\n",
      "2023-09-06 15:22:06.114677: I tensorflow/core/kernels/data/shuffle_dataset_op.cc:422] Filling up shuffle buffer (this may take a while): 106408 of 250000\n",
      "2023-09-06 15:22:10.442328: I tensorflow/core/kernels/data/shuffle_dataset_op.cc:450] Shuffle buffer filled.\n"
     ]
    },
    {
     "name": "stdout",
     "output_type": "stream",
     "text": [
      "477/477 [==============================] - 123s 229ms/step - loss: 0.6929 - acc: 0.5000 - auc: 0.5066 - val_loss: 0.6923 - val_acc: 0.5000 - val_auc: 0.5024\n",
      "Epoch 33/50\n",
      "477/477 [==============================] - ETA: 0s - loss: 0.6929 - acc: 0.5000 - auc: 0.5067"
     ]
    },
    {
     "name": "stderr",
     "output_type": "stream",
     "text": [
      "2023-09-06 15:23:55.197117: I tensorflow/core/kernels/data/shuffle_dataset_op.cc:422] Filling up shuffle buffer (this may take a while): 237049 of 250000\n",
      "2023-09-06 15:23:55.395757: I tensorflow/core/kernels/data/shuffle_dataset_op.cc:450] Shuffle buffer filled.\n"
     ]
    },
    {
     "name": "stdout",
     "output_type": "stream",
     "text": [
      "477/477 [==============================] - 105s 200ms/step - loss: 0.6929 - acc: 0.5000 - auc: 0.5067 - val_loss: 0.6930 - val_acc: 0.5000 - val_auc: 0.5005\n",
      "Epoch 34/50\n"
     ]
    },
    {
     "name": "stderr",
     "output_type": "stream",
     "text": [
      "2023-09-06 15:24:06.500675: I tensorflow/core/kernels/data/shuffle_dataset_op.cc:422] Filling up shuffle buffer (this may take a while): 161072 of 250000\n"
     ]
    },
    {
     "name": "stdout",
     "output_type": "stream",
     "text": [
      "  1/477 [..............................] - ETA: 2:11:08 - loss: 0.6928 - acc: 0.5000 - auc: 0.5083"
     ]
    },
    {
     "name": "stderr",
     "output_type": "stream",
     "text": [
      "2023-09-06 15:24:12.520869: I tensorflow/core/kernels/data/shuffle_dataset_op.cc:450] Shuffle buffer filled.\n"
     ]
    },
    {
     "name": "stdout",
     "output_type": "stream",
     "text": [
      "477/477 [==============================] - 111s 198ms/step - loss: 0.6928 - acc: 0.5000 - auc: 0.5068 - val_loss: 0.6933 - val_acc: 0.5000 - val_auc: 0.5216\n",
      "Epoch 35/50\n"
     ]
    },
    {
     "name": "stderr",
     "output_type": "stream",
     "text": [
      "2023-09-06 15:25:57.296446: I tensorflow/core/kernels/data/shuffle_dataset_op.cc:422] Filling up shuffle buffer (this may take a while): 182584 of 250000\n"
     ]
    },
    {
     "name": "stdout",
     "output_type": "stream",
     "text": [
      "  1/477 [..............................] - ETA: 1:48:26 - loss: 0.6927 - acc: 0.5000 - auc: 0.5128"
     ]
    },
    {
     "name": "stderr",
     "output_type": "stream",
     "text": [
      "2023-09-06 15:26:00.622901: I tensorflow/core/kernels/data/shuffle_dataset_op.cc:450] Shuffle buffer filled.\n"
     ]
    },
    {
     "name": "stdout",
     "output_type": "stream",
     "text": [
      "477/477 [==============================] - ETA: 0s - loss: 0.6928 - acc: 0.5000 - auc: 0.5086"
     ]
    },
    {
     "name": "stderr",
     "output_type": "stream",
     "text": [
      "2023-09-06 15:27:34.900082: I tensorflow/core/kernels/data/shuffle_dataset_op.cc:422] Filling up shuffle buffer (this may take a while): 22588 of 250000\n",
      "2023-09-06 15:27:45.219085: I tensorflow/core/kernels/data/shuffle_dataset_op.cc:422] Filling up shuffle buffer (this may take a while): 56738 of 250000\n",
      "2023-09-06 15:27:55.049280: I tensorflow/core/kernels/data/shuffle_dataset_op.cc:422] Filling up shuffle buffer (this may take a while): 94922 of 250000\n",
      "2023-09-06 15:28:05.021596: I tensorflow/core/kernels/data/shuffle_dataset_op.cc:422] Filling up shuffle buffer (this may take a while): 155156 of 250000\n",
      "2023-09-06 15:28:14.130812: I tensorflow/core/kernels/data/shuffle_dataset_op.cc:450] Shuffle buffer filled.\n"
     ]
    },
    {
     "name": "stdout",
     "output_type": "stream",
     "text": [
      "477/477 [==============================] - 148s 281ms/step - loss: 0.6928 - acc: 0.5000 - auc: 0.5086 - val_loss: 0.6929 - val_acc: 0.5000 - val_auc: 0.5072\n",
      "Epoch 36/50\n"
     ]
    },
    {
     "name": "stderr",
     "output_type": "stream",
     "text": [
      "2023-09-06 15:28:25.478558: I tensorflow/core/kernels/data/shuffle_dataset_op.cc:422] Filling up shuffle buffer (this may take a while): 161072 of 250000\n"
     ]
    },
    {
     "name": "stdout",
     "output_type": "stream",
     "text": [
      "  1/477 [..............................] - ETA: 1:54:55 - loss: 0.6918 - acc: 0.5000 - auc: 0.5077"
     ]
    },
    {
     "name": "stderr",
     "output_type": "stream",
     "text": [
      "2023-09-06 15:28:29.140403: I tensorflow/core/kernels/data/shuffle_dataset_op.cc:450] Shuffle buffer filled.\n"
     ]
    },
    {
     "name": "stdout",
     "output_type": "stream",
     "text": [
      "477/477 [==============================] - ETA: 0s - loss: 0.6928 - acc: 0.5000 - auc: 0.5074"
     ]
    },
    {
     "name": "stderr",
     "output_type": "stream",
     "text": [
      "2023-09-06 15:30:04.253740: I tensorflow/core/kernels/data/shuffle_dataset_op.cc:422] Filling up shuffle buffer (this may take a while): 139560 of 250000\n",
      "2023-09-06 15:30:09.791809: I tensorflow/core/kernels/data/shuffle_dataset_op.cc:450] Shuffle buffer filled.\n"
     ]
    },
    {
     "name": "stdout",
     "output_type": "stream",
     "text": [
      "477/477 [==============================] - 115s 212ms/step - loss: 0.6928 - acc: 0.5000 - auc: 0.5074 - val_loss: 0.6936 - val_acc: 0.5000 - val_auc: 0.4957\n",
      "Epoch 37/50\n"
     ]
    },
    {
     "name": "stderr",
     "output_type": "stream",
     "text": [
      "2023-09-06 15:30:20.609483: I tensorflow/core/kernels/data/shuffle_dataset_op.cc:422] Filling up shuffle buffer (this may take a while): 161072 of 250000\n"
     ]
    },
    {
     "name": "stdout",
     "output_type": "stream",
     "text": [
      "  1/477 [..............................] - ETA: 1:53:27 - loss: 0.6923 - acc: 0.5000 - auc: 0.5084"
     ]
    },
    {
     "name": "stderr",
     "output_type": "stream",
     "text": [
      "2023-09-06 15:30:24.529313: I tensorflow/core/kernels/data/shuffle_dataset_op.cc:450] Shuffle buffer filled.\n"
     ]
    },
    {
     "name": "stdout",
     "output_type": "stream",
     "text": [
      "477/477 [==============================] - 107s 195ms/step - loss: 0.6928 - acc: 0.5000 - auc: 0.5093 - val_loss: 0.6922 - val_acc: 0.5000 - val_auc: 0.5190\n",
      "Epoch 38/50\n"
     ]
    },
    {
     "name": "stderr",
     "output_type": "stream",
     "text": [
      "2023-09-06 15:32:07.750956: I tensorflow/core/kernels/data/shuffle_dataset_op.cc:422] Filling up shuffle buffer (this may take a while): 156215 of 250000\n"
     ]
    },
    {
     "name": "stdout",
     "output_type": "stream",
     "text": [
      "  1/477 [..............................] - ETA: 1:51:52 - loss: 0.6938 - acc: 0.5000 - auc: 0.5108"
     ]
    },
    {
     "name": "stderr",
     "output_type": "stream",
     "text": [
      "2023-09-06 15:32:11.665481: I tensorflow/core/kernels/data/shuffle_dataset_op.cc:450] Shuffle buffer filled.\n"
     ]
    },
    {
     "name": "stdout",
     "output_type": "stream",
     "text": [
      "477/477 [==============================] - ETA: 0s - loss: 0.6927 - acc: 0.5000 - auc: 0.5095"
     ]
    },
    {
     "name": "stderr",
     "output_type": "stream",
     "text": [
      "2023-09-06 15:33:46.361026: I tensorflow/core/kernels/data/shuffle_dataset_op.cc:422] Filling up shuffle buffer (this may take a while): 142731 of 250000\n",
      "2023-09-06 15:33:51.499918: I tensorflow/core/kernels/data/shuffle_dataset_op.cc:450] Shuffle buffer filled.\n"
     ]
    },
    {
     "name": "stdout",
     "output_type": "stream",
     "text": [
      "477/477 [==============================] - 114s 211ms/step - loss: 0.6927 - acc: 0.5000 - auc: 0.5095 - val_loss: 0.6920 - val_acc: 0.5000 - val_auc: 0.5156\n",
      "Epoch 39/50\n"
     ]
    },
    {
     "name": "stderr",
     "output_type": "stream",
     "text": [
      "2023-09-06 15:34:02.326088: I tensorflow/core/kernels/data/shuffle_dataset_op.cc:422] Filling up shuffle buffer (this may take a while): 163863 of 250000\n"
     ]
    },
    {
     "name": "stdout",
     "output_type": "stream",
     "text": [
      "  1/477 [..............................] - ETA: 1:36:34 - loss: 0.6936 - acc: 0.5000 - auc: 0.4846"
     ]
    },
    {
     "name": "stderr",
     "output_type": "stream",
     "text": [
      "2023-09-06 15:34:04.317123: I tensorflow/core/kernels/data/shuffle_dataset_op.cc:450] Shuffle buffer filled.\n"
     ]
    },
    {
     "name": "stdout",
     "output_type": "stream",
     "text": [
      "477/477 [==============================] - 106s 197ms/step - loss: 0.6927 - acc: 0.5000 - auc: 0.5099 - val_loss: 0.6916 - val_acc: 0.5000 - val_auc: 0.5232\n",
      "Epoch 40/50\n"
     ]
    },
    {
     "name": "stderr",
     "output_type": "stream",
     "text": [
      "2023-09-06 15:35:48.521391: I tensorflow/core/kernels/data/shuffle_dataset_op.cc:422] Filling up shuffle buffer (this may take a while): 222796 of 250000\n"
     ]
    },
    {
     "name": "stdout",
     "output_type": "stream",
     "text": [
      "  1/477 [..............................] - ETA: 1:28:29 - loss: 0.6913 - acc: 0.5000 - auc: 0.5199"
     ]
    },
    {
     "name": "stderr",
     "output_type": "stream",
     "text": [
      "2023-09-06 15:35:49.491848: I tensorflow/core/kernels/data/shuffle_dataset_op.cc:450] Shuffle buffer filled.\n"
     ]
    },
    {
     "name": "stdout",
     "output_type": "stream",
     "text": [
      "477/477 [==============================] - ETA: 0s - loss: 0.6927 - acc: 0.5000 - auc: 0.5093"
     ]
    },
    {
     "name": "stderr",
     "output_type": "stream",
     "text": [
      "2023-09-06 15:37:23.875650: I tensorflow/core/kernels/data/shuffle_dataset_op.cc:422] Filling up shuffle buffer (this may take a while): 76637 of 250000\n",
      "2023-09-06 15:37:33.450157: I tensorflow/core/kernels/data/shuffle_dataset_op.cc:422] Filling up shuffle buffer (this may take a while): 171634 of 250000\n",
      "2023-09-06 15:37:37.007653: I tensorflow/core/kernels/data/shuffle_dataset_op.cc:450] Shuffle buffer filled.\n"
     ]
    },
    {
     "name": "stdout",
     "output_type": "stream",
     "text": [
      "477/477 [==============================] - 119s 227ms/step - loss: 0.6927 - acc: 0.5000 - auc: 0.5093 - val_loss: 0.6934 - val_acc: 0.5000 - val_auc: 0.5063\n",
      "Epoch 41/50\n"
     ]
    },
    {
     "name": "stderr",
     "output_type": "stream",
     "text": [
      "2023-09-06 15:37:47.734707: I tensorflow/core/kernels/data/shuffle_dataset_op.cc:422] Filling up shuffle buffer (this may take a while): 163038 of 250000\n"
     ]
    },
    {
     "name": "stdout",
     "output_type": "stream",
     "text": [
      "  1/477 [..............................] - ETA: 1:51:46 - loss: 0.6926 - acc: 0.5000 - auc: 0.4992"
     ]
    },
    {
     "name": "stderr",
     "output_type": "stream",
     "text": [
      "2023-09-06 15:37:51.647409: I tensorflow/core/kernels/data/shuffle_dataset_op.cc:450] Shuffle buffer filled.\n"
     ]
    },
    {
     "name": "stdout",
     "output_type": "stream",
     "text": [
      "477/477 [==============================] - ETA: 0s - loss: 0.6927 - acc: 0.5000 - auc: 0.5095"
     ]
    },
    {
     "name": "stderr",
     "output_type": "stream",
     "text": [
      "2023-09-06 15:39:26.334909: I tensorflow/core/kernels/data/shuffle_dataset_op.cc:422] Filling up shuffle buffer (this may take a while): 8336 of 250000\n",
      "2023-09-06 15:39:35.963150: I tensorflow/core/kernels/data/shuffle_dataset_op.cc:422] Filling up shuffle buffer (this may take a while): 32806 of 250000\n",
      "2023-09-06 15:39:46.056295: I tensorflow/core/kernels/data/shuffle_dataset_op.cc:422] Filling up shuffle buffer (this may take a while): 96267 of 250000\n",
      "2023-09-06 15:39:54.806852: I tensorflow/core/kernels/data/shuffle_dataset_op.cc:450] Shuffle buffer filled.\n"
     ]
    },
    {
     "name": "stdout",
     "output_type": "stream",
     "text": [
      "477/477 [==============================] - 138s 260ms/step - loss: 0.6927 - acc: 0.5000 - auc: 0.5095 - val_loss: 0.6933 - val_acc: 0.5000 - val_auc: 0.5122\n",
      "Epoch 42/50\n"
     ]
    },
    {
     "name": "stderr",
     "output_type": "stream",
     "text": [
      "2023-09-06 15:40:05.818646: I tensorflow/core/kernels/data/shuffle_dataset_op.cc:422] Filling up shuffle buffer (this may take a while): 215927 of 250000\n"
     ]
    },
    {
     "name": "stdout",
     "output_type": "stream",
     "text": [
      "  1/477 [..............................] - ETA: 1:34:58 - loss: 0.6950 - acc: 0.5000 - auc: 0.4903"
     ]
    },
    {
     "name": "stderr",
     "output_type": "stream",
     "text": [
      "2023-09-06 15:40:07.234159: I tensorflow/core/kernels/data/shuffle_dataset_op.cc:450] Shuffle buffer filled.\n"
     ]
    },
    {
     "name": "stdout",
     "output_type": "stream",
     "text": [
      "477/477 [==============================] - ETA: 0s - loss: 0.6926 - acc: 0.5000 - auc: 0.5112"
     ]
    },
    {
     "name": "stderr",
     "output_type": "stream",
     "text": [
      "2023-09-06 15:41:41.931341: I tensorflow/core/kernels/data/shuffle_dataset_op.cc:422] Filling up shuffle buffer (this may take a while): 191995 of 250000\n",
      "2023-09-06 15:41:43.624503: I tensorflow/core/kernels/data/shuffle_dataset_op.cc:450] Shuffle buffer filled.\n"
     ]
    },
    {
     "name": "stdout",
     "output_type": "stream",
     "text": [
      "477/477 [==============================] - 109s 203ms/step - loss: 0.6926 - acc: 0.5000 - auc: 0.5112 - val_loss: 0.6925 - val_acc: 0.5000 - val_auc: 0.5066\n",
      "Epoch 43/50\n"
     ]
    },
    {
     "name": "stderr",
     "output_type": "stream",
     "text": [
      "2023-09-06 15:41:54.623182: I tensorflow/core/kernels/data/shuffle_dataset_op.cc:422] Filling up shuffle buffer (this may take a while): 188768 of 250000\n"
     ]
    },
    {
     "name": "stdout",
     "output_type": "stream",
     "text": [
      "  1/477 [..............................] - ETA: 1:41:02 - loss: 0.6944 - acc: 0.5000 - auc: 0.4955"
     ]
    },
    {
     "name": "stderr",
     "output_type": "stream",
     "text": [
      "2023-09-06 15:41:57.013567: I tensorflow/core/kernels/data/shuffle_dataset_op.cc:450] Shuffle buffer filled.\n"
     ]
    },
    {
     "name": "stdout",
     "output_type": "stream",
     "text": [
      "477/477 [==============================] - ETA: 0s - loss: 0.6926 - acc: 0.5000 - auc: 0.5102"
     ]
    },
    {
     "name": "stderr",
     "output_type": "stream",
     "text": [
      "2023-09-06 15:43:32.144904: I tensorflow/core/kernels/data/shuffle_dataset_op.cc:422] Filling up shuffle buffer (this may take a while): 119123 of 250000\n",
      "2023-09-06 15:43:41.209228: I tensorflow/core/kernels/data/shuffle_dataset_op.cc:422] Filling up shuffle buffer (this may take a while): 155694 of 250000\n",
      "2023-09-06 15:43:51.178522: I tensorflow/core/kernels/data/shuffle_dataset_op.cc:422] Filling up shuffle buffer (this may take a while): 233388 of 250000\n",
      "2023-09-06 15:43:53.808328: I tensorflow/core/kernels/data/shuffle_dataset_op.cc:450] Shuffle buffer filled.\n"
     ]
    },
    {
     "name": "stdout",
     "output_type": "stream",
     "text": [
      "477/477 [==============================] - 130s 246ms/step - loss: 0.6926 - acc: 0.5000 - auc: 0.5102 - val_loss: 0.6922 - val_acc: 0.5000 - val_auc: 0.5028\n",
      "Epoch 44/50\n"
     ]
    },
    {
     "name": "stderr",
     "output_type": "stream",
     "text": [
      "2023-09-06 15:44:06.492318: I tensorflow/core/kernels/data/shuffle_dataset_op.cc:422] Filling up shuffle buffer (this may take a while): 15866 of 250000\n",
      "2023-09-06 15:44:14.859125: I tensorflow/core/kernels/data/shuffle_dataset_op.cc:422] Filling up shuffle buffer (this may take a while): 40604 of 250000\n",
      "2023-09-06 15:44:24.839188: I tensorflow/core/kernels/data/shuffle_dataset_op.cc:422] Filling up shuffle buffer (this may take a while): 89006 of 250000\n",
      "2023-09-06 15:44:35.498531: I tensorflow/core/kernels/data/shuffle_dataset_op.cc:422] Filling up shuffle buffer (this may take a while): 144938 of 250000\n",
      "2023-09-06 15:44:44.536440: I tensorflow/core/kernels/data/shuffle_dataset_op.cc:422] Filling up shuffle buffer (this may take a while): 222263 of 250000\n"
     ]
    },
    {
     "name": "stdout",
     "output_type": "stream",
     "text": [
      "  1/477 [..............................] - ETA: 6:44:30 - loss: 0.6914 - acc: 0.5000 - auc: 0.5180"
     ]
    },
    {
     "name": "stderr",
     "output_type": "stream",
     "text": [
      "2023-09-06 15:44:45.345381: I tensorflow/core/kernels/data/shuffle_dataset_op.cc:450] Shuffle buffer filled.\n"
     ]
    },
    {
     "name": "stdout",
     "output_type": "stream",
     "text": [
      "477/477 [==============================] - ETA: 0s - loss: 0.6926 - acc: 0.5000 - auc: 0.5111"
     ]
    },
    {
     "name": "stderr",
     "output_type": "stream",
     "text": [
      "2023-09-06 15:46:19.551278: I tensorflow/core/kernels/data/shuffle_dataset_op.cc:422] Filling up shuffle buffer (this may take a while): 226440 of 250000\n",
      "2023-09-06 15:46:20.418720: I tensorflow/core/kernels/data/shuffle_dataset_op.cc:450] Shuffle buffer filled.\n"
     ]
    },
    {
     "name": "stdout",
     "output_type": "stream",
     "text": [
      "477/477 [==============================] - 146s 200ms/step - loss: 0.6926 - acc: 0.5000 - auc: 0.5111 - val_loss: 0.6922 - val_acc: 0.5000 - val_auc: 0.5187\n",
      "Epoch 45/50\n"
     ]
    },
    {
     "name": "stderr",
     "output_type": "stream",
     "text": [
      "2023-09-06 15:46:31.592853: I tensorflow/core/kernels/data/shuffle_dataset_op.cc:422] Filling up shuffle buffer (this may take a while): 165374 of 250000\n"
     ]
    },
    {
     "name": "stdout",
     "output_type": "stream",
     "text": [
      "  1/477 [..............................] - ETA: 1:41:22 - loss: 0.6940 - acc: 0.5000 - auc: 0.4842"
     ]
    },
    {
     "name": "stderr",
     "output_type": "stream",
     "text": [
      "2023-09-06 15:46:33.707622: I tensorflow/core/kernels/data/shuffle_dataset_op.cc:450] Shuffle buffer filled.\n"
     ]
    },
    {
     "name": "stdout",
     "output_type": "stream",
     "text": [
      "477/477 [==============================] - ETA: 0s - loss: 0.6926 - acc: 0.5000 - auc: 0.5112"
     ]
    },
    {
     "name": "stderr",
     "output_type": "stream",
     "text": [
      "2023-09-06 15:48:08.120720: I tensorflow/core/kernels/data/shuffle_dataset_op.cc:422] Filling up shuffle buffer (this may take a while): 142541 of 250000\n",
      "2023-09-06 15:48:14.282359: I tensorflow/core/kernels/data/shuffle_dataset_op.cc:450] Shuffle buffer filled.\n"
     ]
    },
    {
     "name": "stdout",
     "output_type": "stream",
     "text": [
      "477/477 [==============================] - 114s 212ms/step - loss: 0.6926 - acc: 0.5000 - auc: 0.5112 - val_loss: 0.6919 - val_acc: 0.5000 - val_auc: 0.5281\n",
      "Epoch 46/50\n"
     ]
    },
    {
     "name": "stderr",
     "output_type": "stream",
     "text": [
      "2023-09-06 15:48:25.102918: I tensorflow/core/kernels/data/shuffle_dataset_op.cc:422] Filling up shuffle buffer (this may take a while): 189037 of 250000\n"
     ]
    }
   ],
   "source": [
    "train_size = -1 # 5_000\n",
    "batch_size = 512\n",
    "\n",
    "shuffle_buffer_size = train_size\n",
    "train_ds_sample = train_ds.take(train_size).batch(batch_size)\n",
    "history = model.fit(\n",
    "    train_ds_sample, validation_data=val_ds, verbose=1, epochs=50)"
   ]
  },
  {
   "cell_type": "markdown",
   "metadata": {},
   "source": [
    "*NOTES:*\n",
    "- need intermediate layer before final output\n",
    "- todo: check if grouping layer helps\n",
    "- todo: experiment w given good discrete groups"
   ]
  },
  {
   "cell_type": "code",
   "execution_count": null,
   "metadata": {},
   "outputs": [],
   "source": []
  }
 ],
 "metadata": {
  "kernelspec": {
   "display_name": "Python 3.10.12 64-bit ('tf')",
   "language": "python",
   "name": "python3"
  },
  "language_info": {
   "codemirror_mode": {
    "name": "ipython",
    "version": 3
   },
   "file_extension": ".py",
   "mimetype": "text/x-python",
   "name": "python",
   "nbconvert_exporter": "python",
   "pygments_lexer": "ipython3",
   "version": "3.10.12"
  },
  "orig_nbformat": 4,
  "vscode": {
   "interpreter": {
    "hash": "c42447f1c4240406d64c4df4cca87b5465b8a2bbd2ae4f1d6d833906715d3ac1"
   }
  }
 },
 "nbformat": 4,
 "nbformat_minor": 2
}
