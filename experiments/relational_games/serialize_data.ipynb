{
 "cells": [
  {
   "cell_type": "code",
   "execution_count": null,
   "metadata": {},
   "outputs": [],
   "source": [
    "import numpy as np\n",
    "import tensorflow as tf\n",
    "import os; os.environ['TF_CPP_MIN_LOG_LEVEL'] = '2'\n",
    "import data_utils\n",
    "from tqdm import tqdm, trange"
   ]
  },
  {
   "cell_type": "code",
   "execution_count": null,
   "metadata": {},
   "outputs": [],
   "source": [
    "def write_ds_to_tfrecord(dataset, rfrecord_filename):\n",
    "    with tf.io.TFRecordWriter(rfrecord_filename) as writer:\n",
    "        for x, y in tqdm(dataset):\n",
    "            # Serialize the input and output tensors\n",
    "            x_serialized = tf.io.serialize_tensor(x)\n",
    "            y_serialized = tf.io.serialize_tensor(y)\n",
    "\n",
    "            # dictionary representing the example\n",
    "            example = {\n",
    "                'x': tf.train.Feature(bytes_list=tf.train.BytesList(value=[x_serialized.numpy()])),\n",
    "                'y': tf.train.Feature(bytes_list=tf.train.BytesList(value=[y_serialized.numpy()]))\n",
    "            }\n",
    "\n",
    "            # create features message using example\n",
    "            features = tf.train.Features(feature=example)\n",
    "            example_proto = tf.train.Example(features=features)\n",
    "\n",
    "            # serialize to string and write example\n",
    "            writer.write(example_proto.SerializeToString())"
   ]
  },
  {
   "cell_type": "code",
   "execution_count": null,
   "metadata": {},
   "outputs": [],
   "source": [
    "data_path = '../../data/relational_games'"
   ]
  },
  {
   "cell_type": "code",
   "execution_count": null,
   "metadata": {},
   "outputs": [],
   "source": [
    "tasks = ('1task_between', '1task_match_patt')\n",
    "splits = ('hexos', 'pentos', 'stripes')\n",
    "\n",
    "filename_prefixes = [f'{task}_{split}' for task in tasks for split in splits]\n",
    "\n",
    "for filename_prefix in tqdm(filename_prefixes):\n",
    "    npz_ds = data_utils.load_ds_from_npz(f'{data_path}/{filename_prefix}.npz')\n",
    "    write_ds_to_tfrecord(npz_ds, f'{data_path}/{filename_prefix}.tfrecord')\n",
    "    del npz_ds"
   ]
  }
 ],
 "metadata": {
  "kernelspec": {
   "display_name": "Python 3.10.12 ('tf')",
   "language": "python",
   "name": "python3"
  },
  "language_info": {
   "codemirror_mode": {
    "name": "ipython",
    "version": 3
   },
   "file_extension": ".py",
   "mimetype": "text/x-python",
   "name": "python",
   "nbconvert_exporter": "python",
   "pygments_lexer": "ipython3",
   "version": "3.10.12"
  },
  "orig_nbformat": 4,
  "vscode": {
   "interpreter": {
    "hash": "c42447f1c4240406d64c4df4cca87b5465b8a2bbd2ae4f1d6d833906715d3ac1"
   }
  }
 },
 "nbformat": 4,
 "nbformat_minor": 2
}
