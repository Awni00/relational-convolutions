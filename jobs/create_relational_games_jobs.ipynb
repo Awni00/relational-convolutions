{
 "cells": [
  {
   "cell_type": "code",
   "execution_count": 8,
   "metadata": {},
   "outputs": [],
   "source": [
    "import os\n",
    "import itertools"
   ]
  },
  {
   "cell_type": "code",
   "execution_count": 9,
   "metadata": {},
   "outputs": [],
   "source": [
    "def mkdir(dir):\n",
    "    if not os.path.exists(dir):\n",
    "        os.mkdir(dir)"
   ]
  },
  {
   "cell_type": "code",
   "execution_count": 10,
   "metadata": {},
   "outputs": [],
   "source": [
    "# global job parameters\n",
    "\n",
    "job_directory = f\"relational_games\"\n",
    "out_dir = f'{job_directory}/.out'\n",
    "time_str = '00-4:00:00'\n",
    "partition = 'gpu'\n",
    "ntasks = 1\n",
    "nodes = 1\n",
    "cpu_per_task = 8\n",
    "mem_per_cpu = 4\n",
    "n_gpus = 1\n",
    "gpus_constraints = '\"rtx3090|v100|a100|rtx2080ti\"'\n",
    "project_dir = \"/gpfs/gibbs/project/lafferty/ma2393/relational-neural-networks/experiments/relational_games\"\n",
    "\n",
    "\n",
    "mkdir(job_directory)\n",
    "mkdir(out_dir)"
   ]
  },
  {
   "cell_type": "code",
   "execution_count": 11,
   "metadata": {},
   "outputs": [],
   "source": [
    "# define params of individual jobs\n",
    "\n",
    "models = ['tcn_corelnet']\n",
    "tasks = ['1task_match_patt']\n",
    "train_splits = ['pentos']\n",
    "n_epochs = 50\n",
    "train_sizes = [-1]\n",
    "num_trials_per_run = 1\n",
    "start_trials = list(range(5))\n",
    "\n",
    "jobs_params = []\n",
    "\n",
    "for model, task, train_size, train_split, start_trial in itertools.product(models, tasks, train_sizes, train_splits, start_trials):\n",
    "    jobs_params.append(dict(model=model, task=task, n_epochs=n_epochs, num_trials=num_trials_per_run, start_trial=start_trial, train_size=train_size, train_split=train_split))"
   ]
  },
  {
   "cell_type": "code",
   "execution_count": 12,
   "metadata": {},
   "outputs": [
    {
     "data": {
      "text/plain": [
       "[{'model': 'tcn_corelnet',\n",
       "  'task': '1task_match_patt',\n",
       "  'n_epochs': 50,\n",
       "  'num_trials': 1,\n",
       "  'start_trial': 0,\n",
       "  'train_size': -1,\n",
       "  'train_split': 'pentos'},\n",
       " {'model': 'tcn_corelnet',\n",
       "  'task': '1task_match_patt',\n",
       "  'n_epochs': 50,\n",
       "  'num_trials': 1,\n",
       "  'start_trial': 1,\n",
       "  'train_size': -1,\n",
       "  'train_split': 'pentos'},\n",
       " {'model': 'tcn_corelnet',\n",
       "  'task': '1task_match_patt',\n",
       "  'n_epochs': 50,\n",
       "  'num_trials': 1,\n",
       "  'start_trial': 2,\n",
       "  'train_size': -1,\n",
       "  'train_split': 'pentos'},\n",
       " {'model': 'tcn_corelnet',\n",
       "  'task': '1task_match_patt',\n",
       "  'n_epochs': 50,\n",
       "  'num_trials': 1,\n",
       "  'start_trial': 3,\n",
       "  'train_size': -1,\n",
       "  'train_split': 'pentos'},\n",
       " {'model': 'tcn_corelnet',\n",
       "  'task': '1task_match_patt',\n",
       "  'n_epochs': 50,\n",
       "  'num_trials': 1,\n",
       "  'start_trial': 4,\n",
       "  'train_size': -1,\n",
       "  'train_split': 'pentos'}]"
      ]
     },
     "execution_count": 12,
     "metadata": {},
     "output_type": "execute_result"
    }
   ],
   "source": [
    "jobs_params"
   ]
  },
  {
   "cell_type": "code",
   "execution_count": 13,
   "metadata": {},
   "outputs": [],
   "source": [
    "# create jobs\n",
    "job_files = []\n",
    "\n",
    "for params in jobs_params:\n",
    "\n",
    "    job_name = f\"relational_games-{params['task']}-{params['model']}-{params['start_trial']}\"\n",
    "\n",
    "    job_file = os.path.join(job_directory, f\"{job_name}.job\")\n",
    "\n",
    "    with open(job_file, 'w') as fh:\n",
    "        fh.writelines(f\"#!/bin/bash\\n\")\n",
    "        fh.writelines(f\"#SBATCH --partition={partition}\\n\")\n",
    "        fh.writelines(f\"#SBATCH --job-name={job_name}\\n\")\n",
    "        fh.writelines(f\"#SBATCH --output={out_dir}/{job_name}-%j.out\\n\")\n",
    "        fh.writelines(f\"#SBATCH --ntasks={ntasks} --nodes={nodes}\\n\")\n",
    "        fh.writelines(f\"#SBATCH --cpus-per-task={cpu_per_task}\\n\")\n",
    "        fh.writelines(f\"#SBATCH --mem-per-cpu={mem_per_cpu}G\\n\")\n",
    "        fh.writelines(f\"#SBATCH --time={time_str}\\n\")\n",
    "        fh.writelines(f\"#SBATCH --mail-type=ALL\\n\")\n",
    "        fh.writelines(f\"#SBATCH -C {gpus_constraints} --gpus={n_gpus}\\n\")\n",
    "\n",
    "        fh.writelines(f\"cd {project_dir}\\n\") # navigate to project directory\n",
    "\n",
    "        fh.writelines(f\"module restore python_env\\n\") # load modules i need\n",
    "        fh.writelines(f\"conda activate tf\\n\") # activate conda environment\n",
    "\n",
    "        fh.writelines(f\"nvidia-smi -L\\n\") # print gpu information\n",
    "\n",
    "        # run python script\n",
    "        fh.writelines(f\"python train_model.py --model '{params['model']}' --task '{params['task']}' --train_split '{params['train_split']}' \")\n",
    "        fh.writelines(f\"--n_epochs {params['n_epochs']} --train_size {params['train_size']} --start_trial {params['start_trial']} --num_trials {params['num_trials']}\\n\")\n",
    "\n",
    "    job_files.append(job_file)"
   ]
  },
  {
   "cell_type": "code",
   "execution_count": 14,
   "metadata": {},
   "outputs": [
    {
     "name": "stderr",
     "output_type": "stream",
     "text": [
      "sbatch: error: Unable to open file relational_games/relational_games/relational_games-1task_match_patt-tcn_corelnet-0.job\n",
      "sbatch: error: Unable to open file relational_games/relational_games/relational_games-1task_match_patt-tcn_corelnet-1.job\n",
      "sbatch: error: Unable to open file relational_games/relational_games/relational_games-1task_match_patt-tcn_corelnet-2.job\n",
      "sbatch: error: Unable to open file relational_games/relational_games/relational_games-1task_match_patt-tcn_corelnet-3.job\n",
      "sbatch: error: Unable to open file relational_games/relational_games/relational_games-1task_match_patt-tcn_corelnet-4.job\n"
     ]
    }
   ],
   "source": [
    "# run jobs\n",
    "input('confirm that you would like to run this')\n",
    "\n",
    "for job_file in job_files:\n",
    "    os.system(f\"sbatch {job_directory}/{job_file}\")"
   ]
  }
 ],
 "metadata": {
  "kernelspec": {
   "display_name": "Python 3.10.12 64-bit ('tf')",
   "language": "python",
   "name": "python3"
  },
  "language_info": {
   "codemirror_mode": {
    "name": "ipython",
    "version": 3
   },
   "file_extension": ".py",
   "mimetype": "text/x-python",
   "name": "python",
   "nbconvert_exporter": "python",
   "pygments_lexer": "ipython3",
   "version": "3.10.12"
  },
  "orig_nbformat": 4,
  "vscode": {
   "interpreter": {
    "hash": "c42447f1c4240406d64c4df4cca87b5465b8a2bbd2ae4f1d6d833906715d3ac1"
   }
  }
 },
 "nbformat": 4,
 "nbformat_minor": 2
}
