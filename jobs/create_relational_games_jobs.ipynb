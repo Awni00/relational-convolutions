{
 "cells": [
  {
   "cell_type": "code",
   "execution_count": 1,
   "metadata": {},
   "outputs": [],
   "source": [
    "import os\n",
    "import itertools"
   ]
  },
  {
   "cell_type": "code",
   "execution_count": 2,
   "metadata": {},
   "outputs": [],
   "source": [
    "def mkdir(dir):\n",
    "    if not os.path.exists(dir):\n",
    "        os.mkdir(dir)"
   ]
  },
  {
   "cell_type": "code",
   "execution_count": 3,
   "metadata": {},
   "outputs": [],
   "source": [
    "# global job parameters\n",
    "\n",
    "job_directory = f\"relational_games\"\n",
    "out_dir = f'{job_directory}/.out'\n",
    "time_str = '00-12:00:00'\n",
    "partition = 'gpu'\n",
    "ntasks = 1\n",
    "nodes = 1\n",
    "cpu_per_task = 8\n",
    "mem_per_cpu = 4\n",
    "n_gpus = 1\n",
    "gpus_constraints = '\"a100|rtx3090|a5000|v100|rtx2080ti\"'\n",
    "project_dir = \"/gpfs/gibbs/project/lafferty/ma2393/relational-neural-networks/experiments/relational_games\"\n",
    "\n",
    "\n",
    "mkdir(job_directory)\n",
    "mkdir(out_dir)"
   ]
  },
  {
   "cell_type": "code",
   "execution_count": 4,
   "metadata": {},
   "outputs": [],
   "source": [
    "# define params of individual jobs\n",
    "\n",
    "models = ['nosoftmax_corelnet']\n",
    "tasks = ['1task_match_patt']\n",
    "train_splits = ['pentos']\n",
    "n_epochs = 50\n",
    "train_sizes = [-1]\n",
    "num_trials_per_run = 1\n",
    "start_trials = list(range(5))\n",
    "\n",
    "jobs_params = []\n",
    "\n",
    "for model, task, train_size, train_split, start_trial in itertools.product(models, tasks, train_sizes, train_splits, start_trials):\n",
    "    jobs_params.append(dict(model=model, task=task, n_epochs=n_epochs, num_trials=num_trials_per_run, start_trial=start_trial, train_size=train_size, train_split=train_split))"
   ]
  },
  {
   "cell_type": "code",
   "execution_count": 5,
   "metadata": {},
   "outputs": [
    {
     "data": {
      "text/plain": [
       "[{'model': 'nosoftmax_corelnet',\n",
       "  'task': '1task_match_patt',\n",
       "  'n_epochs': 50,\n",
       "  'num_trials': 1,\n",
       "  'start_trial': 0,\n",
       "  'train_size': -1,\n",
       "  'train_split': 'pentos'},\n",
       " {'model': 'nosoftmax_corelnet',\n",
       "  'task': '1task_match_patt',\n",
       "  'n_epochs': 50,\n",
       "  'num_trials': 1,\n",
       "  'start_trial': 1,\n",
       "  'train_size': -1,\n",
       "  'train_split': 'pentos'},\n",
       " {'model': 'nosoftmax_corelnet',\n",
       "  'task': '1task_match_patt',\n",
       "  'n_epochs': 50,\n",
       "  'num_trials': 1,\n",
       "  'start_trial': 2,\n",
       "  'train_size': -1,\n",
       "  'train_split': 'pentos'},\n",
       " {'model': 'nosoftmax_corelnet',\n",
       "  'task': '1task_match_patt',\n",
       "  'n_epochs': 50,\n",
       "  'num_trials': 1,\n",
       "  'start_trial': 3,\n",
       "  'train_size': -1,\n",
       "  'train_split': 'pentos'},\n",
       " {'model': 'nosoftmax_corelnet',\n",
       "  'task': '1task_match_patt',\n",
       "  'n_epochs': 50,\n",
       "  'num_trials': 1,\n",
       "  'start_trial': 4,\n",
       "  'train_size': -1,\n",
       "  'train_split': 'pentos'}]"
      ]
     },
     "execution_count": 5,
     "metadata": {},
     "output_type": "execute_result"
    }
   ],
   "source": [
    "jobs_params"
   ]
  },
  {
   "cell_type": "code",
   "execution_count": 6,
   "metadata": {},
   "outputs": [],
   "source": [
    "# create jobs\n",
    "job_files = []\n",
    "\n",
    "for params in jobs_params:\n",
    "\n",
    "    job_name = f\"relational_games-{params['task']}-{params['model']}-{params['start_trial']}\"\n",
    "\n",
    "    job_file = os.path.join(job_directory, f\"{job_name}.job\")\n",
    "\n",
    "    with open(job_file, 'w') as fh:\n",
    "        fh.writelines(f\"#!/bin/bash\\n\")\n",
    "        fh.writelines(f\"#SBATCH --partition={partition}\\n\")\n",
    "        fh.writelines(f\"#SBATCH --job-name={job_name}\\n\")\n",
    "        fh.writelines(f\"#SBATCH --output={out_dir}/{job_name}-%j.out\\n\")\n",
    "        fh.writelines(f\"#SBATCH --ntasks={ntasks} --nodes={nodes}\\n\")\n",
    "        fh.writelines(f\"#SBATCH --cpus-per-task={cpu_per_task}\\n\")\n",
    "        fh.writelines(f\"#SBATCH --mem-per-cpu={mem_per_cpu}G\\n\")\n",
    "        fh.writelines(f\"#SBATCH --time={time_str}\\n\")\n",
    "        fh.writelines(f\"#SBATCH --mail-type=ALL\\n\")\n",
    "        fh.writelines(f\"#SBATCH -C {gpus_constraints} --gpus={n_gpus}\\n\")\n",
    "\n",
    "        fh.writelines(f\"cd {project_dir}\\n\") # navigate to project directory\n",
    "\n",
    "        fh.writelines(f\"module restore python_env\\n\") # load modules i need\n",
    "        fh.writelines(f\"conda activate tf\\n\") # activate conda environment\n",
    "\n",
    "        fh.writelines(f\"nvidia-smi -L\\n\") # print gpu information\n",
    "\n",
    "        # run python script\n",
    "        fh.writelines(f\"python train_model.py --model '{params['model']}' --task '{params['task']}' --train_split '{params['train_split']}' \")\n",
    "        fh.writelines(f\"--n_epochs {params['n_epochs']} --train_size {params['train_size']} --start_trial {params['start_trial']} --num_trials {params['num_trials']}\\n\")\n",
    "\n",
    "    job_files.append(job_file)"
   ]
  },
  {
   "cell_type": "code",
   "execution_count": 7,
   "metadata": {},
   "outputs": [
    {
     "name": "stdout",
     "output_type": "stream",
     "text": [
      "Submitted batch job 25423945\n",
      "Submitted batch job 25423946\n",
      "Submitted batch job 25423947\n",
      "Submitted batch job 25423948\n",
      "Submitted batch job 25423949\n"
     ]
    }
   ],
   "source": [
    "# run jobs\n",
    "input('confirm that you would like to run this')\n",
    "\n",
    "for job_file in job_files:\n",
    "    print(f'submitting {job_file}')\n",
    "    os.system(f\"sbatch {job_file}\")"
   ]
  }
 ],
 "metadata": {
  "kernelspec": {
   "display_name": "Python 3.10.12 64-bit ('tf')",
   "language": "python",
   "name": "python3"
  },
  "language_info": {
   "codemirror_mode": {
    "name": "ipython",
    "version": 3
   },
   "file_extension": ".py",
   "mimetype": "text/x-python",
   "name": "python",
   "nbconvert_exporter": "python",
   "pygments_lexer": "ipython3",
   "version": "3.10.12"
  },
  "orig_nbformat": 4,
  "vscode": {
   "interpreter": {
    "hash": "c42447f1c4240406d64c4df4cca87b5465b8a2bbd2ae4f1d6d833906715d3ac1"
   }
  }
 },
 "nbformat": 4,
 "nbformat_minor": 2
}
