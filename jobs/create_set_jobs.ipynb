{
 "cells": [
  {
   "cell_type": "markdown",
   "metadata": {},
   "source": [
    "# Create jobs forr \"contains SET\" task"
   ]
  },
  {
   "cell_type": "code",
   "execution_count": 28,
   "metadata": {},
   "outputs": [],
   "source": [
    "import os\n",
    "import itertools"
   ]
  },
  {
   "cell_type": "code",
   "execution_count": 29,
   "metadata": {},
   "outputs": [],
   "source": [
    "def mkdir(dir):\n",
    "    if not os.path.exists(dir):\n",
    "        os.mkdir(dir)"
   ]
  },
  {
   "cell_type": "code",
   "execution_count": 30,
   "metadata": {},
   "outputs": [],
   "source": [
    "# global job parameters\n",
    "\n",
    "job_directory = f\"set\"\n",
    "out_dir = f'{job_directory}/.out'\n",
    "time_str = '00-01:00:00'\n",
    "partition = 'gpu'\n",
    "ntasks = 1\n",
    "nodes = 1\n",
    "cpu_per_task = 8\n",
    "mem_per_cpu = 4\n",
    "n_gpus = 1\n",
    "gpus_constraints = '\"a100|rtx3090|a5000|v100|rtx2080ti\"'\n",
    "project_dir = \"/gpfs/gibbs/project/lafferty/ma2393/relational-neural-networks/experiments/set\"\n",
    "\n",
    "\n",
    "mkdir(job_directory)\n",
    "mkdir(out_dir)"
   ]
  },
  {
   "cell_type": "code",
   "execution_count": 31,
   "metadata": {},
   "outputs": [],
   "source": [
    "# define params of individual jobs\n",
    "\n",
    "models = ['relconvnet', 'relconvnet_maxpooling', 'corelnet', 'nosoftmax_corelnet', 'predinet', 'transformer']\n",
    "n_epochs = 100\n",
    "train_sizes = [-1]\n",
    "num_trials_per_run = 1\n",
    "num_trials = 10\n",
    "start_trials = list(range(num_trials))\n",
    "\n",
    "jobs_params = []\n",
    "\n",
    "for model, train_size, start_trial in itertools.product(models, train_sizes, start_trials):\n",
    "    jobs_params.append(\n",
    "        dict(model=model, n_epochs=n_epochs, num_trials=num_trials_per_run, start_trial=start_trial, train_size=train_size))"
   ]
  },
  {
   "cell_type": "code",
   "execution_count": 32,
   "metadata": {},
   "outputs": [
    {
     "data": {
      "text/plain": [
       "30"
      ]
     },
     "execution_count": 32,
     "metadata": {},
     "output_type": "execute_result"
    }
   ],
   "source": [
    "len(jobs_params)"
   ]
  },
  {
   "cell_type": "code",
   "execution_count": 33,
   "metadata": {},
   "outputs": [
    {
     "data": {
      "text/plain": [
       "[{'model': 'relconvnet',\n",
       "  'n_epochs': 100,\n",
       "  'num_trials': 1,\n",
       "  'start_trial': 5,\n",
       "  'train_size': -1},\n",
       " {'model': 'relconvnet',\n",
       "  'n_epochs': 100,\n",
       "  'num_trials': 1,\n",
       "  'start_trial': 6,\n",
       "  'train_size': -1},\n",
       " {'model': 'relconvnet',\n",
       "  'n_epochs': 100,\n",
       "  'num_trials': 1,\n",
       "  'start_trial': 7,\n",
       "  'train_size': -1},\n",
       " {'model': 'relconvnet',\n",
       "  'n_epochs': 100,\n",
       "  'num_trials': 1,\n",
       "  'start_trial': 8,\n",
       "  'train_size': -1},\n",
       " {'model': 'relconvnet',\n",
       "  'n_epochs': 100,\n",
       "  'num_trials': 1,\n",
       "  'start_trial': 9,\n",
       "  'train_size': -1}]"
      ]
     },
     "execution_count": 33,
     "metadata": {},
     "output_type": "execute_result"
    }
   ],
   "source": [
    "jobs_params[:5]"
   ]
  },
  {
   "cell_type": "code",
   "execution_count": 34,
   "metadata": {},
   "outputs": [],
   "source": [
    "# create jobs\n",
    "job_files = []\n",
    "\n",
    "for params in jobs_params:\n",
    "\n",
    "    job_name = f\"set-{params['model']}-{params['start_trial']}\"\n",
    "\n",
    "    job_file = os.path.join(job_directory, f\"{job_name}.job\")\n",
    "\n",
    "    with open(job_file, 'w') as fh:\n",
    "        fh.writelines(f\"#!/bin/bash\\n\")\n",
    "        fh.writelines(f\"#SBATCH --partition={partition}\\n\")\n",
    "        fh.writelines(f\"#SBATCH --job-name={job_name}\\n\")\n",
    "        fh.writelines(f\"#SBATCH --output={out_dir}/{job_name}-%j.out\\n\")\n",
    "        fh.writelines(f\"#SBATCH --ntasks={ntasks} --nodes={nodes}\\n\")\n",
    "        fh.writelines(f\"#SBATCH --cpus-per-task={cpu_per_task}\\n\")\n",
    "        fh.writelines(f\"#SBATCH --mem-per-cpu={mem_per_cpu}G\\n\")\n",
    "        fh.writelines(f\"#SBATCH --time={time_str}\\n\")\n",
    "        fh.writelines(f\"#SBATCH --mail-type=ALL\\n\")\n",
    "        fh.writelines(f\"#SBATCH -C {gpus_constraints} --gpus={n_gpus}\\n\")\n",
    "        fh.writelines('\\n')\n",
    "\n",
    "        fh.writelines(f\"cd {project_dir}\\n\") # navigate to project directory\n",
    "\n",
    "        fh.writelines(f\"module restore python_env\\n\") # load modules i need\n",
    "        fh.writelines(f\"conda activate tf\\n\") # activate conda environment\n",
    "\n",
    "        fh.writelines(f\"nvidia-smi -L\\n\") # print gpu information\n",
    "        fh.writelines('\\n')\n",
    "\n",
    "        # run python script\n",
    "        fh.writelines(f\"python train_model.py --model '{params['model']}' \\\\\\n\")\n",
    "        fh.writelines(f\"\\t --n_epochs {params['n_epochs']} --train_size {params['train_size']} --start_trial {params['start_trial']} --num_trials {params['num_trials']}\\n\")\n",
    "\n",
    "    job_files.append(job_file)"
   ]
  },
  {
   "cell_type": "code",
   "execution_count": 35,
   "metadata": {},
   "outputs": [
    {
     "name": "stdout",
     "output_type": "stream",
     "text": [
      "submitting set/set-relconvnet-5.job\n",
      "Submitted batch job 26025290\n",
      "submitting set/set-relconvnet-6.job\n",
      "Submitted batch job 26025291\n",
      "submitting set/set-relconvnet-7.job\n",
      "Submitted batch job 26025292\n",
      "submitting set/set-relconvnet-8.job\n",
      "Submitted batch job 26025293\n",
      "submitting set/set-relconvnet-9.job\n",
      "Submitted batch job 26025294\n",
      "submitting set/set-relconvnet_maxpooling-5.job\n",
      "Submitted batch job 26025295\n",
      "submitting set/set-relconvnet_maxpooling-6.job\n",
      "Submitted batch job 26025296\n",
      "submitting set/set-relconvnet_maxpooling-7.job\n",
      "Submitted batch job 26025297\n",
      "submitting set/set-relconvnet_maxpooling-8.job\n",
      "Submitted batch job 26025298\n",
      "submitting set/set-relconvnet_maxpooling-9.job\n",
      "Submitted batch job 26025299\n",
      "submitting set/set-corelnet-5.job\n",
      "Submitted batch job 26025300\n",
      "submitting set/set-corelnet-6.job\n",
      "Submitted batch job 26025301\n",
      "submitting set/set-corelnet-7.job\n",
      "Submitted batch job 26025302\n",
      "submitting set/set-corelnet-8.job\n",
      "Submitted batch job 26025303\n",
      "submitting set/set-corelnet-9.job\n",
      "Submitted batch job 26025304\n",
      "submitting set/set-nosoftmax_corelnet-5.job\n",
      "Submitted batch job 26025305\n",
      "submitting set/set-nosoftmax_corelnet-6.job\n",
      "Submitted batch job 26025306\n",
      "submitting set/set-nosoftmax_corelnet-7.job\n",
      "Submitted batch job 26025307\n",
      "submitting set/set-nosoftmax_corelnet-8.job\n",
      "Submitted batch job 26025308\n",
      "submitting set/set-nosoftmax_corelnet-9.job\n",
      "Submitted batch job 26025309\n",
      "submitting set/set-predinet-5.job\n",
      "Submitted batch job 26025310\n",
      "submitting set/set-predinet-6.job\n",
      "Submitted batch job 26025311\n",
      "submitting set/set-predinet-7.job\n",
      "Submitted batch job 26025312\n",
      "submitting set/set-predinet-8.job\n",
      "Submitted batch job 26025313\n",
      "submitting set/set-predinet-9.job\n",
      "Submitted batch job 26025314\n",
      "submitting set/set-transformer-5.job\n",
      "Submitted batch job 26025315\n",
      "submitting set/set-transformer-6.job\n",
      "Submitted batch job 26025316\n",
      "submitting set/set-transformer-7.job\n",
      "Submitted batch job 26025317\n",
      "submitting set/set-transformer-8.job\n",
      "Submitted batch job 26025318\n",
      "submitting set/set-transformer-9.job\n",
      "Submitted batch job 26025319\n"
     ]
    }
   ],
   "source": [
    "# run jobs\n",
    "input('confirm that you would like to run this')\n",
    "\n",
    "for job_file in job_files:\n",
    "    print(f'submitting {job_file}')\n",
    "    os.system(f\"sbatch {job_file}\")"
   ]
  }
 ],
 "metadata": {
  "kernelspec": {
   "display_name": "Python 3.10.12 64-bit ('tf')",
   "language": "python",
   "name": "python3"
  },
  "language_info": {
   "codemirror_mode": {
    "name": "ipython",
    "version": 3
   },
   "file_extension": ".py",
   "mimetype": "text/x-python",
   "name": "python",
   "nbconvert_exporter": "python",
   "pygments_lexer": "ipython3",
   "version": "3.10.12"
  },
  "orig_nbformat": 4,
  "vscode": {
   "interpreter": {
    "hash": "c42447f1c4240406d64c4df4cca87b5465b8a2bbd2ae4f1d6d833906715d3ac1"
   }
  }
 },
 "nbformat": 4,
 "nbformat_minor": 2
}
