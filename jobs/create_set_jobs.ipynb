{
 "cells": [
  {
   "cell_type": "markdown",
   "metadata": {},
   "source": [
    "# Create jobs forr \"contains SET\" task"
   ]
  },
  {
   "cell_type": "code",
   "execution_count": 4,
   "metadata": {},
   "outputs": [],
   "source": [
    "import os\n",
    "import itertools"
   ]
  },
  {
   "cell_type": "code",
   "execution_count": 5,
   "metadata": {},
   "outputs": [],
   "source": [
    "def mkdir(dir):\n",
    "    if not os.path.exists(dir):\n",
    "        os.mkdir(dir)"
   ]
  },
  {
   "cell_type": "code",
   "execution_count": 6,
   "metadata": {},
   "outputs": [],
   "source": [
    "# global job parameters\n",
    "\n",
    "job_directory = f\"set\"\n",
    "out_dir = f'{job_directory}/.out'\n",
    "time_str = '00-12:00:00'\n",
    "partition = 'gpu'\n",
    "ntasks = 1\n",
    "nodes = 1\n",
    "cpu_per_task = 8\n",
    "mem_per_cpu = 4\n",
    "n_gpus = 1\n",
    "gpus_constraints = '\"a100|rtx3090|a5000|v100|rtx2080ti\"'\n",
    "project_dir = \"/gpfs/gibbs/project/lafferty/ma2393/relational-neural-networks/experiments/set\"\n",
    "\n",
    "\n",
    "mkdir(job_directory)\n",
    "mkdir(out_dir)"
   ]
  },
  {
   "cell_type": "code",
   "execution_count": 7,
   "metadata": {},
   "outputs": [],
   "source": [
    "# define params of individual jobs\n",
    "\n",
    "models = ['relconvnet', 'relconvnet_maxpoooling', 'corelnet', 'predinet', 'transformer']\n",
    "n_epochs = 100\n",
    "train_sizes = [-1]\n",
    "num_trials_per_run = 1\n",
    "num_trials = 5\n",
    "start_trials = list(range(num_trials))\n",
    "\n",
    "jobs_params = []\n",
    "\n",
    "for model, train_size, start_trial in itertools.product(models, train_sizes, start_trials):\n",
    "    jobs_params.append(\n",
    "        dict(model=model, n_epochs=n_epochs, num_trials=num_trials_per_run, start_trial=start_trial, train_size=train_size))"
   ]
  },
  {
   "cell_type": "code",
   "execution_count": 8,
   "metadata": {},
   "outputs": [
    {
     "data": {
      "text/plain": [
       "25"
      ]
     },
     "execution_count": 8,
     "metadata": {},
     "output_type": "execute_result"
    }
   ],
   "source": [
    "len(jobs_params)"
   ]
  },
  {
   "cell_type": "code",
   "execution_count": 9,
   "metadata": {},
   "outputs": [
    {
     "data": {
      "text/plain": [
       "[{'model': 'relconvnet',\n",
       "  'n_epochs': 100,\n",
       "  'num_trials': 1,\n",
       "  'start_trial': 0,\n",
       "  'train_size': -1},\n",
       " {'model': 'relconvnet',\n",
       "  'n_epochs': 100,\n",
       "  'num_trials': 1,\n",
       "  'start_trial': 1,\n",
       "  'train_size': -1},\n",
       " {'model': 'relconvnet',\n",
       "  'n_epochs': 100,\n",
       "  'num_trials': 1,\n",
       "  'start_trial': 2,\n",
       "  'train_size': -1},\n",
       " {'model': 'relconvnet',\n",
       "  'n_epochs': 100,\n",
       "  'num_trials': 1,\n",
       "  'start_trial': 3,\n",
       "  'train_size': -1},\n",
       " {'model': 'relconvnet',\n",
       "  'n_epochs': 100,\n",
       "  'num_trials': 1,\n",
       "  'start_trial': 4,\n",
       "  'train_size': -1}]"
      ]
     },
     "execution_count": 9,
     "metadata": {},
     "output_type": "execute_result"
    }
   ],
   "source": [
    "jobs_params[:5]"
   ]
  },
  {
   "cell_type": "code",
   "execution_count": 10,
   "metadata": {},
   "outputs": [],
   "source": [
    "# create jobs\n",
    "job_files = []\n",
    "\n",
    "for params in jobs_params:\n",
    "\n",
    "    job_name = f\"set-{params['model']}-{params['start_trial']}\"\n",
    "\n",
    "    job_file = os.path.join(job_directory, f\"{job_name}.job\")\n",
    "\n",
    "    with open(job_file, 'w') as fh:\n",
    "        fh.writelines(f\"#!/bin/bash\\n\")\n",
    "        fh.writelines(f\"#SBATCH --partition={partition}\\n\")\n",
    "        fh.writelines(f\"#SBATCH --job-name={job_name}\\n\")\n",
    "        fh.writelines(f\"#SBATCH --output={out_dir}/{job_name}-%j.out\\n\")\n",
    "        fh.writelines(f\"#SBATCH --ntasks={ntasks} --nodes={nodes}\\n\")\n",
    "        fh.writelines(f\"#SBATCH --cpus-per-task={cpu_per_task}\\n\")\n",
    "        fh.writelines(f\"#SBATCH --mem-per-cpu={mem_per_cpu}G\\n\")\n",
    "        fh.writelines(f\"#SBATCH --time={time_str}\\n\")\n",
    "        fh.writelines(f\"#SBATCH --mail-type=ALL\\n\")\n",
    "        fh.writelines(f\"#SBATCH -C {gpus_constraints} --gpus={n_gpus}\\n\")\n",
    "        fh.writelines('\\n')\n",
    "\n",
    "        fh.writelines(f\"cd {project_dir}\\n\") # navigate to project directory\n",
    "\n",
    "        fh.writelines(f\"module restore python_env\\n\") # load modules i need\n",
    "        fh.writelines(f\"conda activate tf\\n\") # activate conda environment\n",
    "\n",
    "        fh.writelines(f\"nvidia-smi -L\\n\") # print gpu information\n",
    "        fh.writelines('\\n')\n",
    "\n",
    "        # run python script\n",
    "        fh.writelines(f\"python train_model.py --model '{params['model']}' \\\\\\n\")\n",
    "        fh.writelines(f\"\\t --n_epochs {params['n_epochs']} --train_size {params['train_size']} --start_trial {params['start_trial']} --num_trials {params['num_trials']}\\n\")\n",
    "\n",
    "    job_files.append(job_file)"
   ]
  },
  {
   "cell_type": "code",
   "execution_count": 11,
   "metadata": {},
   "outputs": [
    {
     "name": "stdout",
     "output_type": "stream",
     "text": [
      "submitting set/set-relconvnet-0.job\n",
      "Submitted batch job 26024583\n",
      "submitting set/set-relconvnet-1.job\n",
      "Submitted batch job 26024584\n",
      "submitting set/set-relconvnet-2.job\n",
      "Submitted batch job 26024585\n",
      "submitting set/set-relconvnet-3.job\n",
      "Submitted batch job 26024586\n",
      "submitting set/set-relconvnet-4.job\n",
      "Submitted batch job 26024587\n",
      "submitting set/set-relconvnet_maxpoooling-0.job\n",
      "Submitted batch job 26024588\n",
      "submitting set/set-relconvnet_maxpoooling-1.job\n",
      "Submitted batch job 26024589\n",
      "submitting set/set-relconvnet_maxpoooling-2.job\n",
      "Submitted batch job 26024590\n",
      "submitting set/set-relconvnet_maxpoooling-3.job\n",
      "Submitted batch job 26024591\n",
      "submitting set/set-relconvnet_maxpoooling-4.job\n",
      "Submitted batch job 26024592\n",
      "submitting set/set-corelnet-0.job\n",
      "Submitted batch job 26024593\n",
      "submitting set/set-corelnet-1.job\n",
      "Submitted batch job 26024594\n",
      "submitting set/set-corelnet-2.job\n",
      "Submitted batch job 26024595\n",
      "submitting set/set-corelnet-3.job\n",
      "Submitted batch job 26024596\n",
      "submitting set/set-corelnet-4.job\n",
      "Submitted batch job 26024597\n",
      "submitting set/set-predinet-0.job\n",
      "Submitted batch job 26024598\n",
      "submitting set/set-predinet-1.job\n",
      "Submitted batch job 26024599\n",
      "submitting set/set-predinet-2.job\n",
      "Submitted batch job 26024600\n",
      "submitting set/set-predinet-3.job\n",
      "Submitted batch job 26024601\n",
      "submitting set/set-predinet-4.job\n",
      "Submitted batch job 26024602\n",
      "submitting set/set-transformer-0.job\n",
      "Submitted batch job 26024603\n",
      "submitting set/set-transformer-1.job\n",
      "Submitted batch job 26024604\n",
      "submitting set/set-transformer-2.job\n",
      "Submitted batch job 26024605\n",
      "submitting set/set-transformer-3.job\n",
      "Submitted batch job 26024606\n",
      "submitting set/set-transformer-4.job\n",
      "Submitted batch job 26024607\n"
     ]
    }
   ],
   "source": [
    "# run jobs\n",
    "input('confirm that you would like to run this')\n",
    "\n",
    "for job_file in job_files:\n",
    "    print(f'submitting {job_file}')\n",
    "    os.system(f\"sbatch {job_file}\")"
   ]
  }
 ],
 "metadata": {
  "kernelspec": {
   "display_name": "Python 3.10.12 64-bit ('tf')",
   "language": "python",
   "name": "python3"
  },
  "language_info": {
   "codemirror_mode": {
    "name": "ipython",
    "version": 3
   },
   "file_extension": ".py",
   "mimetype": "text/x-python",
   "name": "python",
   "nbconvert_exporter": "python",
   "pygments_lexer": "ipython3",
   "version": "3.10.12"
  },
  "orig_nbformat": 4,
  "vscode": {
   "interpreter": {
    "hash": "c42447f1c4240406d64c4df4cca87b5465b8a2bbd2ae4f1d6d833906715d3ac1"
   }
  }
 },
 "nbformat": 4,
 "nbformat_minor": 2
}
