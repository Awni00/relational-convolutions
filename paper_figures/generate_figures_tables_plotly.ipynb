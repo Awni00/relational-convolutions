{
 "cells": [
  {
   "cell_type": "markdown",
   "metadata": {},
   "source": [
    "# Generate figures and tables"
   ]
  },
  {
   "cell_type": "markdown",
   "metadata": {},
   "source": [
    "## Set up"
   ]
  },
  {
   "cell_type": "code",
   "execution_count": 1,
   "metadata": {},
   "outputs": [],
   "source": [
    "import pandas as pd\n",
    "import numpy as np\n",
    "import scipy\n",
    "import matplotlib.pyplot as plt\n",
    "import seaborn as sns\n",
    "import plotly.express as px\n",
    "import plotly.graph_objects as go\n",
    "import scienceplots\n",
    "\n",
    "fsize = 8\n",
    "tsize = 8\n",
    "tdir = 'in'\n",
    "major = 5.0\n",
    "minor = 3.0\n",
    "lwidth = 0.8\n",
    "lhandle = 2.0\n",
    "plt.style.use('grid')\n",
    "# plt.style.use('default')\n",
    "plt.rcParams['text.usetex'] = True\n",
    "plt.rcParams['font.size'] = fsize\n",
    "plt.rcParams['legend.fontsize'] = tsize\n",
    "plt.rcParams['xtick.direction'] = tdir\n",
    "plt.rcParams['ytick.direction'] = tdir\n",
    "plt.rcParams['xtick.major.size'] = major\n",
    "plt.rcParams['xtick.minor.size'] = minor\n",
    "plt.rcParams['ytick.major.size'] = 5.0\n",
    "plt.rcParams['ytick.minor.size'] = 3.0\n",
    "plt.rcParams['axes.linewidth'] = lwidth\n",
    "plt.rcParams['legend.handlelength'] = lhandle\n",
    "\n",
    "# errbar_kwargs = dict(marker='.', markersize=3, capsize=3, elinewidth=1, lw=1)\n",
    "# plot_kwargs = dict(marker='.', markersize=3, lw=1)\n",
    "# errband_kwargs = dict(alpha=0.25)\n",
    "errbar_kwargs = dict(estimator='mean', errorbar=('ci', 95), errwidth=1.25, capsize=0.05,)\n",
    "\n",
    "save_dir = 'interactive_figs'"
   ]
  },
  {
   "cell_type": "code",
   "execution_count": 5,
   "metadata": {},
   "outputs": [],
   "source": [
    "task_label_map = {'1task_between': 'between', '1task_match_patt': 'match pattern', 'occurs': 'occurs', 'xoccurs': 'xoccurs', 'same': 'same'}\n",
    "\n",
    "model_label_map = {\n",
    "    'corelnet': 'CoRelNet','predinet': 'PrediNet',\n",
    "    'transformer': 'Transformer', #'abstractor': 'Abstractor',\n",
    "    'relconvnet': 'RelConvNet',\n",
    "    # 'tempgroup_relconvnet': 'RelConvNet (Temporal G)',\n",
    "    # 'featuregroup_relconvnet': 'RelConvNet (Feature G)',\n",
    "    # 'contextgroup_relconvnet': 'RelConvNet (Contextual G)',\n",
    "    'gru': 'GRU',\n",
    "    'lstm': 'LSTM',\n",
    "    'gcn': 'GCN',\n",
    "    'gat': 'GAT',\n",
    "    'gin': 'GIN',\n",
    "    }\n",
    "\n",
    "cmap = plt.cm.tab10\n",
    "color_map = {\n",
    "    'CoRelNet': cmap(1), 'Abstractor': cmap(7),\n",
    "    'PrediNet': cmap(3), 'Transformer': cmap(2),\n",
    "    'RelConvNet': cmap(0),\n",
    "    # 'RelConvNet (Temporal G)': cmap(9),\n",
    "    # 'RelConvNet (Feature G)': cmap(6),\n",
    "    # 'RelConvNet (Contextual G)': cmap(4),\n",
    "    'LSTM': cmap(7), 'GRU': cmap(7),\n",
    "    'GCN': cmap(6), 'GAT': cmap(4), 'GIN': cmap(8),\n",
    "    }"
   ]
  },
  {
   "cell_type": "code",
   "execution_count": 6,
   "metadata": {},
   "outputs": [
    {
     "data": {
      "image/png": "[encoded data removed]",
      "text/plain": [
       "<Figure size 640x480 with 1 Axes>"
      ]
     },
     "metadata": {},
     "output_type": "display_data"
    }
   ],
   "source": [
    "plt.bar(list(range(len(color_map))), 1, color=color_map.values());\n",
    "plt.xticks(list(range(len(color_map))), color_map.keys());"
   ]
  },
  {
   "cell_type": "markdown",
   "metadata": {},
   "source": [
    "## Relational Games"
   ]
  },
  {
   "cell_type": "markdown",
   "metadata": {},
   "source": [
    "### Plots of OoD Generalization"
   ]
  },
  {
   "cell_type": "code",
   "execution_count": 7,
   "metadata": {},
   "outputs": [],
   "source": [
    "results_df = pd.read_csv('figure_data/relational_games/end-of-training-accuracy.csv', index_col=0)\n",
    "models = ['relconvnet', 'corelnet', 'predinet', 'transformer']\n",
    "group_filter = results_df.group.isin(models)\n",
    "results_df = results_df[group_filter]\n",
    "\n",
    "results_df['group'] = pd.Categorical(results_df['group'], categories=models, ordered=True)\n",
    "results_df.sort_values('group', inplace=True)\n",
    "tasks = ['same', 'occurs', 'xoccurs', '1task_between', '1task_match_patt']\n",
    "results_df['task'] = pd.Categorical(results_df['task'], categories=tasks, ordered=True)\n",
    "results_df.sort_values(['task', 'group'], inplace=True)\n",
    "\n",
    "results_df['group'] = results_df['group'].map(model_label_map)\n",
    "results_df['task'] = results_df['task'].map(task_label_map, na_action='ignore')\n",
    "results_df.rename(columns={'group': 'Model', 'task': 'Task'}, inplace=True)"
   ]
  },
  {
   "cell_type": "code",
   "execution_count": 8,
   "metadata": {},
   "outputs": [],
   "source": [
    "results_df.rename(columns={'hexos_acc': 'Hexos Accuracy', 'stripes_acc': 'Stripes Accuracy'}, inplace=True)"
   ]
  },
  {
   "cell_type": "code",
   "execution_count": 9,
   "metadata": {},
   "outputs": [
    {
     "data": {
      "text/html": [
       "<div>\n",
       "<style scoped>\n",
       "    .dataframe tbody tr th:only-of-type {\n",
       "        vertical-align: middle;\n",
       "    }\n",
       "\n",
       "    .dataframe tbody tr th {\n",
       "        vertical-align: top;\n",
       "    }\n",
       "\n",
       "    .dataframe thead th {\n",
       "        text-align: right;\n",
       "    }\n",
       "</style>\n",
       "<table border=\"1\" class=\"dataframe\">\n",
       "  <thead>\n",
       "    <tr style=\"text-align: right;\">\n",
       "      <th></th>\n",
       "      <th>Model</th>\n",
       "      <th>name</th>\n",
       "      <th>trial</th>\n",
       "      <th>Task</th>\n",
       "      <th>Split</th>\n",
       "      <th>Accuracy</th>\n",
       "    </tr>\n",
       "  </thead>\n",
       "  <tbody>\n",
       "    <tr>\n",
       "      <th>44</th>\n",
       "      <td>RelConvNet</td>\n",
       "      <td>trial = 2</td>\n",
       "      <td>2</td>\n",
       "      <td>same</td>\n",
       "      <td>Hexos</td>\n",
       "      <td>0.9852</td>\n",
       "    </tr>\n",
       "    <tr>\n",
       "      <th>43</th>\n",
       "      <td>RelConvNet</td>\n",
       "      <td>trial = 1</td>\n",
       "      <td>1</td>\n",
       "      <td>same</td>\n",
       "      <td>Hexos</td>\n",
       "      <td>0.9924</td>\n",
       "    </tr>\n",
       "    <tr>\n",
       "      <th>41</th>\n",
       "      <td>RelConvNet</td>\n",
       "      <td>trial = 3</td>\n",
       "      <td>3</td>\n",
       "      <td>same</td>\n",
       "      <td>Hexos</td>\n",
       "      <td>0.9924</td>\n",
       "    </tr>\n",
       "    <tr>\n",
       "      <th>40</th>\n",
       "      <td>RelConvNet</td>\n",
       "      <td>trial = 4</td>\n",
       "      <td>4</td>\n",
       "      <td>same</td>\n",
       "      <td>Hexos</td>\n",
       "      <td>0.9830</td>\n",
       "    </tr>\n",
       "    <tr>\n",
       "      <th>42</th>\n",
       "      <td>RelConvNet</td>\n",
       "      <td>trial = 0</td>\n",
       "      <td>0</td>\n",
       "      <td>same</td>\n",
       "      <td>Hexos</td>\n",
       "      <td>0.9910</td>\n",
       "    </tr>\n",
       "    <tr>\n",
       "      <th>...</th>\n",
       "      <td>...</td>\n",
       "      <td>...</td>\n",
       "      <td>...</td>\n",
       "      <td>...</td>\n",
       "      <td>...</td>\n",
       "      <td>...</td>\n",
       "    </tr>\n",
       "    <tr>\n",
       "      <th>26</th>\n",
       "      <td>Transformer</td>\n",
       "      <td>trial = 3</td>\n",
       "      <td>3</td>\n",
       "      <td>match pattern</td>\n",
       "      <td>Stripes</td>\n",
       "      <td>0.5900</td>\n",
       "    </tr>\n",
       "    <tr>\n",
       "      <th>25</th>\n",
       "      <td>Transformer</td>\n",
       "      <td>trial = 4</td>\n",
       "      <td>4</td>\n",
       "      <td>match pattern</td>\n",
       "      <td>Stripes</td>\n",
       "      <td>0.5900</td>\n",
       "    </tr>\n",
       "    <tr>\n",
       "      <th>41</th>\n",
       "      <td>Transformer</td>\n",
       "      <td>trial = 0</td>\n",
       "      <td>0</td>\n",
       "      <td>match pattern</td>\n",
       "      <td>Stripes</td>\n",
       "      <td>0.5728</td>\n",
       "    </tr>\n",
       "    <tr>\n",
       "      <th>28</th>\n",
       "      <td>Transformer</td>\n",
       "      <td>trial = 1</td>\n",
       "      <td>1</td>\n",
       "      <td>match pattern</td>\n",
       "      <td>Stripes</td>\n",
       "      <td>0.5930</td>\n",
       "    </tr>\n",
       "    <tr>\n",
       "      <th>27</th>\n",
       "      <td>Transformer</td>\n",
       "      <td>trial = 2</td>\n",
       "      <td>2</td>\n",
       "      <td>match pattern</td>\n",
       "      <td>Stripes</td>\n",
       "      <td>0.6074</td>\n",
       "    </tr>\n",
       "  </tbody>\n",
       "</table>\n",
       "<p>200 rows × 6 columns</p>\n",
       "</div>"
      ],
      "text/plain": [
       "          Model       name  trial           Task    Split  Accuracy\n",
       "44   RelConvNet  trial = 2      2           same    Hexos    0.9852\n",
       "43   RelConvNet  trial = 1      1           same    Hexos    0.9924\n",
       "41   RelConvNet  trial = 3      3           same    Hexos    0.9924\n",
       "40   RelConvNet  trial = 4      4           same    Hexos    0.9830\n",
       "42   RelConvNet  trial = 0      0           same    Hexos    0.9910\n",
       "..          ...        ...    ...            ...      ...       ...\n",
       "26  Transformer  trial = 3      3  match pattern  Stripes    0.5900\n",
       "25  Transformer  trial = 4      4  match pattern  Stripes    0.5900\n",
       "41  Transformer  trial = 0      0  match pattern  Stripes    0.5728\n",
       "28  Transformer  trial = 1      1  match pattern  Stripes    0.5930\n",
       "27  Transformer  trial = 2      2  match pattern  Stripes    0.6074\n",
       "\n",
       "[200 rows x 6 columns]"
      ]
     },
     "execution_count": 9,
     "metadata": {},
     "output_type": "execute_result"
    }
   ],
   "source": [
    "results_df_hexos = results_df.copy()\n",
    "results_df_hexos['Split'] = 'Hexos'\n",
    "results_df_hexos['Accuracy'] = results_df_hexos['Hexos Accuracy']\n",
    "results_df_hexos.drop(columns=['Hexos Accuracy', 'Stripes Accuracy', 'acc'], inplace=True)\n",
    "\n",
    "results_df_stripes = results_df.copy()\n",
    "results_df_stripes['Split'] = 'Stripes'\n",
    "results_df_stripes['Accuracy'] = results_df_stripes['Stripes Accuracy']\n",
    "results_df_stripes.drop(columns=['Hexos Accuracy', 'Stripes Accuracy', 'acc'], inplace=True)\n",
    "\n",
    "results_df_ = pd.concat([results_df_hexos, results_df_stripes], axis=0)\n",
    "results_df_"
   ]
  },
  {
   "cell_type": "code",
   "execution_count": 10,
   "metadata": {},
   "outputs": [],
   "source": [
    "results_df_ = results_df_.groupby(['Model', 'Task', 'Split'])['Accuracy'].aggregate(['mean', 'sem', 'count']).reset_index()\n",
    "results_df_['error_bar'] = results_df_['sem'] * 1.96\n",
    "results_df_.rename(columns={'mean': 'Accuracy', 'sem': 'Standard Error', 'count': '# of Trials'}, inplace=True)"
   ]
  },
  {
   "cell_type": "code",
   "execution_count": 11,
   "metadata": {},
   "outputs": [
    {
     "data": {
      "application/vnd.plotly.v1+json": {
       "config": {
        "plotlyServerURL": "https://plot.ly"
       },
       "data": [
        {
         "alignmentgroup": "True",
         "customdata": [
          [
           5
          ],
          [
           5
          ],
          [
           5
          ],
          [
           5
          ],
          [
           5
          ]
         ],
         "error_y": {
          "array": [
           0.0038547814692145004,
           0.0027395255997738907,
           0.0015806736980995655,
           0.0015413095710631159,
           0.030370927350147164
          ]
         },
         "hovertemplate": "Model=RelConvNet<br>Split=Hexos<br>Task=%{x}<br>Accuracy=%{y}<br># of Trials=%{customdata[0]}<extra></extra>",
         "legendgroup": "RelConvNet",
         "marker": {
          "color": "#636efa",
          "pattern": {
           "shape": ""
          }
         },
         "name": "RelConvNet",
         "offsetgroup": "RelConvNet",
         "orientation": "v",
         "showlegend": true,
         "textposition": "auto",
         "type": "bar",
         "x": [
          "same",
          "occurs",
          "xoccurs",
          "between",
          "match pattern"
         ],
         "xaxis": "x",
         "y": [
          0.9887999892234802,
          0.980239987373352,
          0.9672800064086914,
          0.9908799886703491,
          0.960920000076294
         ],
         "yaxis": "y"
        },
        {
         "alignmentgroup": "True",
         "customdata": [
          [
           5
          ],
          [
           5
          ],
          [
           5
          ],
          [
           5
          ],
          [
           5
          ]
         ],
         "error_y": {
          "array": [
           0.005958407555758234,
           0.030304305339108283,
           0.01176691247679557,
           0.0037628051971107346,
           0.07967484533822879
          ]
         },
         "hovertemplate": "Model=RelConvNet<br>Split=Stripes<br>Task=%{x}<br>Accuracy=%{y}<br># of Trials=%{customdata[0]}<extra></extra>",
         "legendgroup": "RelConvNet",
         "marker": {
          "color": "#636efa",
          "pattern": {
           "shape": ""
          }
         },
         "name": "RelConvNet",
         "offsetgroup": "RelConvNet",
         "orientation": "v",
         "showlegend": false,
         "textposition": "auto",
         "type": "bar",
         "x": [
          "same",
          "occurs",
          "xoccurs",
          "between",
          "match pattern"
         ],
         "xaxis": "x2",
         "y": [
          0.9740399956703186,
          0.8796800136566162,
          0.945519995689392,
          0.9878399968147278,
          0.8700400114059448
         ],
         "yaxis": "y2"
        },
        {
         "alignmentgroup": "True",
         "customdata": [
          [
           5
          ],
          [
           5
          ],
          [
           5
          ],
          [
           5
          ],
          [
           5
          ]
         ],
         "error_y": {
          "array": [
           0.011281424264123596,
           0.006999802851283979,
           0.014282806398114748,
           0.0024841792084700645,
           0.021569394759055675
          ]
         },
         "hovertemplate": "Model=CoRelNet<br>Split=Hexos<br>Task=%{x}<br>Accuracy=%{y}<br># of Trials=%{customdata[0]}<extra></extra>",
         "legendgroup": "CoRelNet",
         "marker": {
          "color": "#EF553B",
          "pattern": {
           "shape": ""
          }
         },
         "name": "CoRelNet",
         "offsetgroup": "CoRelNet",
         "orientation": "v",
         "showlegend": true,
         "textposition": "auto",
         "type": "bar",
         "x": [
          "same",
          "occurs",
          "xoccurs",
          "between",
          "match pattern"
         ],
         "xaxis": "x",
         "y": [
          0.9879600048065186,
          0.9924799919128418,
          0.9802800059318543,
          0.9954800009727478,
          0.9415600061416626
         ],
         "yaxis": "y"
        },
        {
         "alignmentgroup": "True",
         "customdata": [
          [
           5
          ],
          [
           5
          ],
          [
           5
          ],
          [
           5
          ],
          [
           5
          ]
         ],
         "error_y": {
          "array": [
           0.2204180728740769,
           0.023618906760739574,
           0.06796832494924988,
           0.12307710438533798,
           0.051341884110299496
          ]
         },
         "hovertemplate": "Model=CoRelNet<br>Split=Stripes<br>Task=%{x}<br>Accuracy=%{y}<br># of Trials=%{customdata[0]}<extra></extra>",
         "legendgroup": "CoRelNet",
         "marker": {
          "color": "#EF553B",
          "pattern": {
           "shape": ""
          }
         },
         "name": "CoRelNet",
         "offsetgroup": "CoRelNet",
         "orientation": "v",
         "showlegend": false,
         "textposition": "auto",
         "type": "bar",
         "x": [
          "same",
          "occurs",
          "xoccurs",
          "between",
          "match pattern"
         ],
         "xaxis": "x2",
         "y": [
          0.7239600121974945,
          0.5177600085735321,
          0.6055999994277954,
          0.5819200158119202,
          0.5809600114822387
         ],
         "yaxis": "y2"
        },
        {
         "alignmentgroup": "True",
         "customdata": [
          [
           5
          ],
          [
           5
          ],
          [
           5
          ],
          [
           5
          ],
          [
           5
          ]
         ],
         "error_y": {
          "array": [
           0.00814001969662979,
           0.03926610614662074,
           0.06977979342386506,
           0.011056472677226785,
           0.07751794834077995
          ]
         },
         "hovertemplate": "Model=PrediNet<br>Split=Hexos<br>Task=%{x}<br>Accuracy=%{y}<br># of Trials=%{customdata[0]}<extra></extra>",
         "legendgroup": "PrediNet",
         "marker": {
          "color": "#00cc96",
          "pattern": {
           "shape": ""
          }
         },
         "name": "PrediNet",
         "offsetgroup": "PrediNet",
         "orientation": "v",
         "showlegend": true,
         "textposition": "auto",
         "type": "bar",
         "x": [
          "same",
          "occurs",
          "xoccurs",
          "between",
          "match pattern"
         ],
         "xaxis": "x",
         "y": [
          0.9901999950408935,
          0.9066800117492676,
          0.8723599910736084,
          0.9776399970054627,
          0.7102000117301941
         ],
         "yaxis": "y"
        },
        {
         "alignmentgroup": "True",
         "customdata": [
          [
           5
          ],
          [
           5
          ],
          [
           5
          ],
          [
           5
          ],
          [
           5
          ]
         ],
         "error_y": {
          "array": [
           0.01422672897398764,
           0.09080346002103541,
           0.05533076713725515,
           0.03644286603519175,
           0.10366127815661597
          ]
         },
         "hovertemplate": "Model=PrediNet<br>Split=Stripes<br>Task=%{x}<br>Accuracy=%{y}<br># of Trials=%{customdata[0]}<extra></extra>",
         "legendgroup": "PrediNet",
         "marker": {
          "color": "#00cc96",
          "pattern": {
           "shape": ""
          }
         },
         "name": "PrediNet",
         "offsetgroup": "PrediNet",
         "orientation": "v",
         "showlegend": false,
         "textposition": "auto",
         "type": "bar",
         "x": [
          "same",
          "occurs",
          "xoccurs",
          "between",
          "match pattern"
         ],
         "xaxis": "x2",
         "y": [
          0.9834800004959107,
          0.7745200037956238,
          0.809600007534027,
          0.9500800132751465,
          0.658400011062622
         ],
         "yaxis": "y2"
        },
        {
         "alignmentgroup": "True",
         "customdata": [
          [
           5
          ],
          [
           5
          ],
          [
           5
          ],
          [
           5
          ],
          [
           5
          ]
         ],
         "error_y": {
          "array": [
           0.0029034486400710178,
           0.029997242904538025,
           0.03360622738176359,
           0.00555397010281919,
           0.009056301276372133
          ]
         },
         "hovertemplate": "Model=Transformer<br>Split=Hexos<br>Task=%{x}<br>Accuracy=%{y}<br># of Trials=%{customdata[0]}<extra></extra>",
         "legendgroup": "Transformer",
         "marker": {
          "color": "#ab63fa",
          "pattern": {
           "shape": ""
          }
         },
         "name": "Transformer",
         "offsetgroup": "Transformer",
         "orientation": "v",
         "showlegend": true,
         "textposition": "auto",
         "type": "bar",
         "x": [
          "same",
          "occurs",
          "xoccurs",
          "between",
          "match pattern"
         ],
         "xaxis": "x",
         "y": [
          0.9966799974441528,
          0.8807199954986572,
          0.8673200011253357,
          0.9860399842262269,
          0.6266399979591369
         ],
         "yaxis": "y"
        },
        {
         "alignmentgroup": "True",
         "customdata": [
          [
           5
          ],
          [
           5
          ],
          [
           5
          ],
          [
           5
          ],
          [
           5
          ]
         ],
         "error_y": {
          "array": [
           0.008678694775613218,
           0.04094976070617726,
           0.06150885594604435,
           0.018753670565130283,
           0.010784923253969878
          ]
         },
         "hovertemplate": "Model=Transformer<br>Split=Stripes<br>Task=%{x}<br>Accuracy=%{y}<br># of Trials=%{customdata[0]}<extra></extra>",
         "legendgroup": "Transformer",
         "marker": {
          "color": "#ab63fa",
          "pattern": {
           "shape": ""
          }
         },
         "name": "Transformer",
         "offsetgroup": "Transformer",
         "orientation": "v",
         "showlegend": false,
         "textposition": "auto",
         "type": "bar",
         "x": [
          "same",
          "occurs",
          "xoccurs",
          "between",
          "match pattern"
         ],
         "xaxis": "x2",
         "y": [
          0.9926800012588501,
          0.7243200063705444,
          0.7527200102806091,
          0.9606799840927124,
          0.5906399846076965
         ],
         "yaxis": "y2"
        }
       ],
       "layout": {
        "annotations": [
         {
          "font": {},
          "showarrow": false,
          "text": "Split=Hexos",
          "x": 0.245,
          "xanchor": "center",
          "xref": "paper",
          "y": 1,
          "yanchor": "bottom",
          "yref": "paper"
         },
         {
          "font": {},
          "showarrow": false,
          "text": "Split=Stripes",
          "x": 0.755,
          "xanchor": "center",
          "xref": "paper",
          "y": 1,
          "yanchor": "bottom",
          "yref": "paper"
         }
        ],
        "barmode": "group",
        "legend": {
         "orientation": "h",
         "title": {
          "text": "Model"
         },
         "tracegroupgap": 0,
         "x": 0.5,
         "xanchor": "center",
         "y": -0.2,
         "yanchor": "top"
        },
        "margin": {
         "t": 60
        },
        "template": {
         "data": {
          "bar": [
           {
            "error_x": {
             "color": "#2a3f5f"
            },
            "error_y": {
             "color": "#2a3f5f"
            },
            "marker": {
             "line": {
              "color": "#E5ECF6",
              "width": 0.5
             },
             "pattern": {
              "fillmode": "overlay",
              "size": 10,
              "solidity": 0.2
             }
            },
            "type": "bar"
           }
          ],
          "barpolar": [
           {
            "marker": {
             "line": {
              "color": "#E5ECF6",
              "width": 0.5
             },
             "pattern": {
              "fillmode": "overlay",
              "size": 10,
              "solidity": 0.2
             }
            },
            "type": "barpolar"
           }
          ],
          "carpet": [
           {
            "aaxis": {
             "endlinecolor": "#2a3f5f",
             "gridcolor": "white",
             "linecolor": "white",
             "minorgridcolor": "white",
             "startlinecolor": "#2a3f5f"
            },
            "baxis": {
             "endlinecolor": "#2a3f5f",
             "gridcolor": "white",
             "linecolor": "white",
             "minorgridcolor": "white",
             "startlinecolor": "#2a3f5f"
            },
            "type": "carpet"
           }
          ],
          "choropleth": [
           {
            "colorbar": {
             "outlinewidth": 0,
             "ticks": ""
            },
            "type": "choropleth"
           }
          ],
          "contour": [
           {
            "colorbar": {
             "outlinewidth": 0,
             "ticks": ""
            },
            "colorscale": [
             [
              0,
              "#0d0887"
             ],
             [
              0.1111111111111111,
              "#46039f"
             ],
             [
              0.2222222222222222,
              "#7201a8"
             ],
             [
              0.3333333333333333,
              "#9c179e"
             ],
             [
              0.4444444444444444,
              "#bd3786"
             ],
             [
              0.5555555555555556,
              "#d8576b"
             ],
             [
              0.6666666666666666,
              "#ed7953"
             ],
             [
              0.7777777777777778,
              "#fb9f3a"
             ],
             [
              0.8888888888888888,
              "#fdca26"
             ],
             [
              1,
              "#f0f921"
             ]
            ],
            "type": "contour"
           }
          ],
          "contourcarpet": [
           {
            "colorbar": {
             "outlinewidth": 0,
             "ticks": ""
            },
            "type": "contourcarpet"
           }
          ],
          "heatmap": [
           {
            "colorbar": {
             "outlinewidth": 0,
             "ticks": ""
            },
            "colorscale": [
             [
              0,
              "#0d0887"
             ],
             [
              0.1111111111111111,
              "#46039f"
             ],
             [
              0.2222222222222222,
              "#7201a8"
             ],
             [
              0.3333333333333333,
              "#9c179e"
             ],
             [
              0.4444444444444444,
              "#bd3786"
             ],
             [
              0.5555555555555556,
              "#d8576b"
             ],
             [
              0.6666666666666666,
              "#ed7953"
             ],
             [
              0.7777777777777778,
              "#fb9f3a"
             ],
             [
              0.8888888888888888,
              "#fdca26"
             ],
             [
              1,
              "#f0f921"
             ]
            ],
            "type": "heatmap"
           }
          ],
          "heatmapgl": [
           {
            "colorbar": {
             "outlinewidth": 0,
             "ticks": ""
            },
            "colorscale": [
             [
              0,
              "#0d0887"
             ],
             [
              0.1111111111111111,
              "#46039f"
             ],
             [
              0.2222222222222222,
              "#7201a8"
             ],
             [
              0.3333333333333333,
              "#9c179e"
             ],
             [
              0.4444444444444444,
              "#bd3786"
             ],
             [
              0.5555555555555556,
              "#d8576b"
             ],
             [
              0.6666666666666666,
              "#ed7953"
             ],
             [
              0.7777777777777778,
              "#fb9f3a"
             ],
             [
              0.8888888888888888,
              "#fdca26"
             ],
             [
              1,
              "#f0f921"
             ]
            ],
            "type": "heatmapgl"
           }
          ],
          "histogram": [
           {
            "marker": {
             "pattern": {
              "fillmode": "overlay",
              "size": 10,
              "solidity": 0.2
             }
            },
            "type": "histogram"
           }
          ],
          "histogram2d": [
           {
            "colorbar": {
             "outlinewidth": 0,
             "ticks": ""
            },
            "colorscale": [
             [
              0,
              "#0d0887"
             ],
             [
              0.1111111111111111,
              "#46039f"
             ],
             [
              0.2222222222222222,
              "#7201a8"
             ],
             [
              0.3333333333333333,
              "#9c179e"
             ],
             [
              0.4444444444444444,
              "#bd3786"
             ],
             [
              0.5555555555555556,
              "#d8576b"
             ],
             [
              0.6666666666666666,
              "#ed7953"
             ],
             [
              0.7777777777777778,
              "#fb9f3a"
             ],
             [
              0.8888888888888888,
              "#fdca26"
             ],
             [
              1,
              "#f0f921"
             ]
            ],
            "type": "histogram2d"
           }
          ],
          "histogram2dcontour": [
           {
            "colorbar": {
             "outlinewidth": 0,
             "ticks": ""
            },
            "colorscale": [
             [
              0,
              "#0d0887"
             ],
             [
              0.1111111111111111,
              "#46039f"
             ],
             [
              0.2222222222222222,
              "#7201a8"
             ],
             [
              0.3333333333333333,
              "#9c179e"
             ],
             [
              0.4444444444444444,
              "#bd3786"
             ],
             [
              0.5555555555555556,
              "#d8576b"
             ],
             [
              0.6666666666666666,
              "#ed7953"
             ],
             [
              0.7777777777777778,
              "#fb9f3a"
             ],
             [
              0.8888888888888888,
              "#fdca26"
             ],
             [
              1,
              "#f0f921"
             ]
            ],
            "type": "histogram2dcontour"
           }
          ],
          "mesh3d": [
           {
            "colorbar": {
             "outlinewidth": 0,
             "ticks": ""
            },
            "type": "mesh3d"
           }
          ],
          "parcoords": [
           {
            "line": {
             "colorbar": {
              "outlinewidth": 0,
              "ticks": ""
             }
            },
            "type": "parcoords"
           }
          ],
          "pie": [
           {
            "automargin": true,
            "type": "pie"
           }
          ],
          "scatter": [
           {
            "fillpattern": {
             "fillmode": "overlay",
             "size": 10,
             "solidity": 0.2
            },
            "type": "scatter"
           }
          ],
          "scatter3d": [
           {
            "line": {
             "colorbar": {
              "outlinewidth": 0,
              "ticks": ""
             }
            },
            "marker": {
             "colorbar": {
              "outlinewidth": 0,
              "ticks": ""
             }
            },
            "type": "scatter3d"
           }
          ],
          "scattercarpet": [
           {
            "marker": {
             "colorbar": {
              "outlinewidth": 0,
              "ticks": ""
             }
            },
            "type": "scattercarpet"
           }
          ],
          "scattergeo": [
           {
            "marker": {
             "colorbar": {
              "outlinewidth": 0,
              "ticks": ""
             }
            },
            "type": "scattergeo"
           }
          ],
          "scattergl": [
           {
            "marker": {
             "colorbar": {
              "outlinewidth": 0,
              "ticks": ""
             }
            },
            "type": "scattergl"
           }
          ],
          "scattermapbox": [
           {
            "marker": {
             "colorbar": {
              "outlinewidth": 0,
              "ticks": ""
             }
            },
            "type": "scattermapbox"
           }
          ],
          "scatterpolar": [
           {
            "marker": {
             "colorbar": {
              "outlinewidth": 0,
              "ticks": ""
             }
            },
            "type": "scatterpolar"
           }
          ],
          "scatterpolargl": [
           {
            "marker": {
             "colorbar": {
              "outlinewidth": 0,
              "ticks": ""
             }
            },
            "type": "scatterpolargl"
           }
          ],
          "scatterternary": [
           {
            "marker": {
             "colorbar": {
              "outlinewidth": 0,
              "ticks": ""
             }
            },
            "type": "scatterternary"
           }
          ],
          "surface": [
           {
            "colorbar": {
             "outlinewidth": 0,
             "ticks": ""
            },
            "colorscale": [
             [
              0,
              "#0d0887"
             ],
             [
              0.1111111111111111,
              "#46039f"
             ],
             [
              0.2222222222222222,
              "#7201a8"
             ],
             [
              0.3333333333333333,
              "#9c179e"
             ],
             [
              0.4444444444444444,
              "#bd3786"
             ],
             [
              0.5555555555555556,
              "#d8576b"
             ],
             [
              0.6666666666666666,
              "#ed7953"
             ],
             [
              0.7777777777777778,
              "#fb9f3a"
             ],
             [
              0.8888888888888888,
              "#fdca26"
             ],
             [
              1,
              "#f0f921"
             ]
            ],
            "type": "surface"
           }
          ],
          "table": [
           {
            "cells": {
             "fill": {
              "color": "#EBF0F8"
             },
             "line": {
              "color": "white"
             }
            },
            "header": {
             "fill": {
              "color": "#C8D4E3"
             },
             "line": {
              "color": "white"
             }
            },
            "type": "table"
           }
          ]
         },
         "layout": {
          "annotationdefaults": {
           "arrowcolor": "#2a3f5f",
           "arrowhead": 0,
           "arrowwidth": 1
          },
          "autotypenumbers": "strict",
          "coloraxis": {
           "colorbar": {
            "outlinewidth": 0,
            "ticks": ""
           }
          },
          "colorscale": {
           "diverging": [
            [
             0,
             "#8e0152"
            ],
            [
             0.1,
             "#c51b7d"
            ],
            [
             0.2,
             "#de77ae"
            ],
            [
             0.3,
             "#f1b6da"
            ],
            [
             0.4,
             "#fde0ef"
            ],
            [
             0.5,
             "#f7f7f7"
            ],
            [
             0.6,
             "#e6f5d0"
            ],
            [
             0.7,
             "#b8e186"
            ],
            [
             0.8,
             "#7fbc41"
            ],
            [
             0.9,
             "#4d9221"
            ],
            [
             1,
             "#276419"
            ]
           ],
           "sequential": [
            [
             0,
             "#0d0887"
            ],
            [
             0.1111111111111111,
             "#46039f"
            ],
            [
             0.2222222222222222,
             "#7201a8"
            ],
            [
             0.3333333333333333,
             "#9c179e"
            ],
            [
             0.4444444444444444,
             "#bd3786"
            ],
            [
             0.5555555555555556,
             "#d8576b"
            ],
            [
             0.6666666666666666,
             "#ed7953"
            ],
            [
             0.7777777777777778,
             "#fb9f3a"
            ],
            [
             0.8888888888888888,
             "#fdca26"
            ],
            [
             1,
             "#f0f921"
            ]
           ],
           "sequentialminus": [
            [
             0,
             "#0d0887"
            ],
            [
             0.1111111111111111,
             "#46039f"
            ],
            [
             0.2222222222222222,
             "#7201a8"
            ],
            [
             0.3333333333333333,
             "#9c179e"
            ],
            [
             0.4444444444444444,
             "#bd3786"
            ],
            [
             0.5555555555555556,
             "#d8576b"
            ],
            [
             0.6666666666666666,
             "#ed7953"
            ],
            [
             0.7777777777777778,
             "#fb9f3a"
            ],
            [
             0.8888888888888888,
             "#fdca26"
            ],
            [
             1,
             "#f0f921"
            ]
           ]
          },
          "colorway": [
           "#636efa",
           "#EF553B",
           "#00cc96",
           "#ab63fa",
           "#FFA15A",
           "#19d3f3",
           "#FF6692",
           "#B6E880",
           "#FF97FF",
           "#FECB52"
          ],
          "font": {
           "color": "#2a3f5f"
          },
          "geo": {
           "bgcolor": "white",
           "lakecolor": "white",
           "landcolor": "#E5ECF6",
           "showlakes": true,
           "showland": true,
           "subunitcolor": "white"
          },
          "hoverlabel": {
           "align": "left"
          },
          "hovermode": "closest",
          "mapbox": {
           "style": "light"
          },
          "paper_bgcolor": "white",
          "plot_bgcolor": "#E5ECF6",
          "polar": {
           "angularaxis": {
            "gridcolor": "white",
            "linecolor": "white",
            "ticks": ""
           },
           "bgcolor": "#E5ECF6",
           "radialaxis": {
            "gridcolor": "white",
            "linecolor": "white",
            "ticks": ""
           }
          },
          "scene": {
           "xaxis": {
            "backgroundcolor": "#E5ECF6",
            "gridcolor": "white",
            "gridwidth": 2,
            "linecolor": "white",
            "showbackground": true,
            "ticks": "",
            "zerolinecolor": "white"
           },
           "yaxis": {
            "backgroundcolor": "#E5ECF6",
            "gridcolor": "white",
            "gridwidth": 2,
            "linecolor": "white",
            "showbackground": true,
            "ticks": "",
            "zerolinecolor": "white"
           },
           "zaxis": {
            "backgroundcolor": "#E5ECF6",
            "gridcolor": "white",
            "gridwidth": 2,
            "linecolor": "white",
            "showbackground": true,
            "ticks": "",
            "zerolinecolor": "white"
           }
          },
          "shapedefaults": {
           "line": {
            "color": "#2a3f5f"
           }
          },
          "ternary": {
           "aaxis": {
            "gridcolor": "white",
            "linecolor": "white",
            "ticks": ""
           },
           "baxis": {
            "gridcolor": "white",
            "linecolor": "white",
            "ticks": ""
           },
           "bgcolor": "#E5ECF6",
           "caxis": {
            "gridcolor": "white",
            "linecolor": "white",
            "ticks": ""
           }
          },
          "title": {
           "x": 0.05
          },
          "xaxis": {
           "automargin": true,
           "gridcolor": "white",
           "linecolor": "white",
           "ticks": "",
           "title": {
            "standoff": 15
           },
           "zerolinecolor": "white",
           "zerolinewidth": 2
          },
          "yaxis": {
           "automargin": true,
           "gridcolor": "white",
           "linecolor": "white",
           "ticks": "",
           "title": {
            "standoff": 15
           },
           "zerolinecolor": "white",
           "zerolinewidth": 2
          }
         }
        },
        "title": {
         "text": "Out-of-Distribution Generalization Performance on Relational Games Tasks"
        },
        "xaxis": {
         "anchor": "y",
         "domain": [
          0,
          0.49
         ],
         "title": {
          "text": ""
         }
        },
        "xaxis2": {
         "anchor": "y2",
         "domain": [
          0.51,
          1
         ],
         "matches": "x",
         "title": {
          "text": ""
         }
        },
        "yaxis": {
         "anchor": "x",
         "domain": [
          0,
          1
         ],
         "title": {
          "text": "Accuracy"
         }
        },
        "yaxis2": {
         "anchor": "x2",
         "domain": [
          0,
          1
         ],
         "matches": "y",
         "showticklabels": false
        }
       }
      }
     },
     "metadata": {},
     "output_type": "display_data"
    }
   ],
   "source": [
    "fig = px.bar(\n",
    "    results_df_, x='Task', y='Accuracy', error_y='error_bar', facet_col='Split', color='Model',\n",
    "    barmode='group', hover_data=['# of Trials'])\n",
    "fig.update_layout(\n",
    "    title=\"Out-of-Distribution Generalization Performance on Relational Games Tasks\",\n",
    "  legend=dict(yanchor=\"top\", y=-0.2, xanchor=\"center\", x=0.5, orientation='h'))\n",
    "# remove x-axis title\n",
    "for axis in fig.layout:\n",
    "#     if type(fig.layout[axis]) == go.layout.YAxis:\n",
    "#         fig.layout[axis].title.text = ''\n",
    "    if type(fig.layout[axis]) == go.layout.XAxis:\n",
    "        fig.layout[axis].title.text = ''\n",
    "\n",
    "fig.write_html(f'{save_dir}/relational_games_ood_gen.html')\n",
    "fig"
   ]
  },
  {
   "cell_type": "code",
   "execution_count": 12,
   "metadata": {},
   "outputs": [],
   "source": [
    "fig_json = fig.to_json()\n",
    "# save fig_json to file\n",
    "with open(f'{save_dir}/relational_games_ood_gen.json', 'w') as f:\n",
    "    f.write(fig_json)"
   ]
  },
  {
   "cell_type": "code",
   "execution_count": 13,
   "metadata": {},
   "outputs": [
    {
     "data": {
      "image/png": "[encoded data removed]",
      "text/plain": [
       "<Figure size 789.05x300 with 2 Axes>"
      ]
     },
     "metadata": {},
     "output_type": "display_data"
    }
   ],
   "source": [
    "fig = sns.catplot(\n",
    "    results_df_, kind='bar', col='Split', x='Task', y='Accuracy', hue='Model',\n",
    "    sharey=True, legend='auto', legend_out=True, palette=color_map, **errbar_kwargs, height=3, aspect=1.15)\n",
    "# fig.savefig(f'{save_dir}/relgames_ood_acc.pdf')"
   ]
  },
  {
   "cell_type": "markdown",
   "metadata": {},
   "source": [
    "### Training curve figures"
   ]
  },
  {
   "cell_type": "code",
   "execution_count": 14,
   "metadata": {},
   "outputs": [],
   "source": [
    "# run_histories = pd.read_csv('figure_data/relational_games/project_run_histories.csv', index_col=0)\n",
    "# run_histories.head()"
   ]
  },
  {
   "cell_type": "code",
   "execution_count": 15,
   "metadata": {},
   "outputs": [],
   "source": [
    "# tasks = ['same', 'occurs', 'xoccurs', '1task_between', '1task_match_patt']\n",
    "\n",
    "# def get_task_run_histories(run_histories, task):\n",
    "#     # task_filter\n",
    "#     task_filter = run_histories.task == task\n",
    "#     task_run_histories = run_histories[task_filter]\n",
    "\n",
    "#     # model filter / sorting\n",
    "#     models = ['relconvnet', 'corelnet', 'predinet', 'transformer', 'abstractor']\n",
    "#     group_filter = task_run_histories.group.isin(models)\n",
    "#     task_run_histories = task_run_histories[group_filter]\n",
    "\n",
    "#     task_run_histories['group'] = pd.Categorical(task_run_histories['group'], categories=models, ordered=True)\n",
    "#     task_run_histories.sort_values('group', inplace=True)\n",
    "#     task_run_histories['group'] = task_run_histories['group'].map(model_label_map)\n",
    "#     task_run_histories.rename(columns={'group': 'Model'}, inplace=True)\n",
    "\n",
    "#     return task_run_histories"
   ]
  },
  {
   "cell_type": "code",
   "execution_count": 16,
   "metadata": {},
   "outputs": [],
   "source": [
    "# max_batch = 2000\n",
    "# step_size = 25\n",
    "# batch_steps_keep = np.arange(0, max_batch + 1, step_size)"
   ]
  },
  {
   "cell_type": "code",
   "execution_count": 17,
   "metadata": {},
   "outputs": [],
   "source": [
    "# model_label_map"
   ]
  },
  {
   "cell_type": "code",
   "execution_count": 18,
   "metadata": {},
   "outputs": [],
   "source": [
    "# fig = plt.figure(figsize=(6.5,3))\n",
    "\n",
    "# axes = []\n",
    "# for i, task in enumerate(tasks):\n",
    "#     task_run_histories = get_task_run_histories(run_histories, task)\n",
    "#     batch_filter = task_run_histories['batch/batch_step'].isin(batch_steps_keep)\n",
    "#     task_run_histories = task_run_histories[batch_filter]\n",
    "#     task_run_histories.rename(columns={'batch/batch_step': 'batch step', 'batch/acc': 'training accuracy'}, inplace=True)\n",
    "#     ax = fig.add_subplot(2, 3, i+1)\n",
    "#     sns.lineplot(task_run_histories, y='training accuracy', x='batch step', hue='Model', estimator='mean', errorbar=('ci', 95), legend=False, ax=ax)\n",
    "#     ax.set_title(task_label_map.get(task, task))\n",
    "#     axes.append(ax)\n",
    "\n",
    "# # NOTE legend labels are hard-coded\n",
    "# fig.legend(handles=ax.get_lines(), labels=['RelConvNet', 'CoRelNet', 'PrediNet', 'Transformer'],  loc=(0.775, 0.15), title='Model')\n",
    "# fig.set_tight_layout(True)\n",
    "# # fig.savefig(f'{save_dir}/all_training_curves.pdf')"
   ]
  },
  {
   "cell_type": "markdown",
   "metadata": {},
   "source": [
    "## Contains 'SET'"
   ]
  },
  {
   "cell_type": "markdown",
   "metadata": {},
   "source": [
    "### End-of-training accuracy"
   ]
  },
  {
   "cell_type": "code",
   "execution_count": 19,
   "metadata": {},
   "outputs": [],
   "source": [
    "results_df = pd.read_csv('figure_data/contains_set/end-of-training-accuracy.csv', index_col=0)\n",
    "models = ['relconvnet', 'corelnet', 'predinet', 'transformer', 'gcn', 'gat', 'gin'] # 'lstm', 'gru',\n",
    "group_filter = results_df.group.isin(models)\n",
    "results_df = results_df[group_filter]\n",
    "\n",
    "results_df['group'] = pd.Categorical(results_df['group'], categories=models, ordered=True)\n",
    "results_df.sort_values('group', inplace=True)\n",
    "results_df['group'] = results_df['group'].map(model_label_map)\n",
    "results_df.rename(columns={'group': 'Model', 'acc': 'Accuracy'}, inplace=True)"
   ]
  },
  {
   "cell_type": "code",
   "execution_count": 20,
   "metadata": {},
   "outputs": [],
   "source": [
    "results_df = results_df.groupby(['Model'])['Accuracy'].aggregate(['mean', 'sem', 'count']).reset_index()\n",
    "results_df['error_bar'] = results_df['sem'] * 1.96\n",
    "results_df.rename(columns={'mean': 'Accuracy', 'sem': 'Standard Error', 'count': '# of Trials'}, inplace=True)"
   ]
  },
  {
   "cell_type": "code",
   "execution_count": 21,
   "metadata": {},
   "outputs": [
    {
     "data": {
      "application/vnd.plotly.v1+json": {
       "config": {
        "plotlyServerURL": "https://plot.ly"
       },
       "data": [
        {
         "alignmentgroup": "True",
         "customdata": [
          [
           10
          ]
         ],
         "error_y": {
          "array": [
           0.011194638189847969
          ]
         },
         "hovertemplate": "Model=%{x}<br>Accuracy=%{y}<br># of Trials=%{customdata[0]}<extra></extra>",
         "legendgroup": "RelConvNet",
         "marker": {
          "color": "#636efa",
          "pattern": {
           "shape": ""
          }
         },
         "name": "RelConvNet",
         "offsetgroup": "RelConvNet",
         "orientation": "v",
         "showlegend": true,
         "textposition": "auto",
         "type": "bar",
         "x": [
          "RelConvNet"
         ],
         "xaxis": "x",
         "y": [
          0.9792181134223938
         ],
         "yaxis": "y"
        },
        {
         "alignmentgroup": "True",
         "customdata": [
          [
           10
          ]
         ],
         "error_y": {
          "array": [
           0.002391879015152253
          ]
         },
         "hovertemplate": "Model=%{x}<br>Accuracy=%{y}<br># of Trials=%{customdata[0]}<extra></extra>",
         "legendgroup": "CoRelNet",
         "marker": {
          "color": "#EF553B",
          "pattern": {
           "shape": ""
          }
         },
         "name": "CoRelNet",
         "offsetgroup": "CoRelNet",
         "orientation": "v",
         "showlegend": true,
         "textposition": "auto",
         "type": "bar",
         "x": [
          "CoRelNet"
         ],
         "xaxis": "x",
         "y": [
          0.5625771641731262
         ],
         "yaxis": "y"
        },
        {
         "alignmentgroup": "True",
         "customdata": [
          [
           10
          ]
         ],
         "error_y": {
          "array": [
           0.0038277760016369854
          ]
         },
         "hovertemplate": "Model=%{x}<br>Accuracy=%{y}<br># of Trials=%{customdata[0]}<extra></extra>",
         "legendgroup": "PrediNet",
         "marker": {
          "color": "#00cc96",
          "pattern": {
           "shape": ""
          }
         },
         "name": "PrediNet",
         "offsetgroup": "PrediNet",
         "orientation": "v",
         "showlegend": true,
         "textposition": "auto",
         "type": "bar",
         "x": [
          "PrediNet"
         ],
         "xaxis": "x",
         "y": [
          0.5077417701482773
         ],
         "yaxis": "y"
        },
        {
         "alignmentgroup": "True",
         "customdata": [
          [
           10
          ]
         ],
         "error_y": {
          "array": [
           0.007734898440698949
          ]
         },
         "hovertemplate": "Model=%{x}<br>Accuracy=%{y}<br># of Trials=%{customdata[0]}<extra></extra>",
         "legendgroup": "Transformer",
         "marker": {
          "color": "#ab63fa",
          "pattern": {
           "shape": ""
          }
         },
         "name": "Transformer",
         "offsetgroup": "Transformer",
         "orientation": "v",
         "showlegend": true,
         "textposition": "auto",
         "type": "bar",
         "x": [
          "Transformer"
         ],
         "xaxis": "x",
         "y": [
          0.5836677014827728
         ],
         "yaxis": "y"
        },
        {
         "alignmentgroup": "True",
         "customdata": [
          [
           10
          ]
         ],
         "error_y": {
          "array": [
           0.00624553588629584
          ]
         },
         "hovertemplate": "Model=%{x}<br>Accuracy=%{y}<br># of Trials=%{customdata[0]}<extra></extra>",
         "legendgroup": "GCN",
         "marker": {
          "color": "#FFA15A",
          "pattern": {
           "shape": ""
          }
         },
         "name": "GCN",
         "offsetgroup": "GCN",
         "orientation": "v",
         "showlegend": true,
         "textposition": "auto",
         "type": "bar",
         "x": [
          "GCN"
         ],
         "xaxis": "x",
         "y": [
          0.5947273731231689
         ],
         "yaxis": "y"
        },
        {
         "alignmentgroup": "True",
         "customdata": [
          [
           10
          ]
         ],
         "error_y": {
          "array": [
           0.029727965336149534
          ]
         },
         "hovertemplate": "Model=%{x}<br>Accuracy=%{y}<br># of Trials=%{customdata[0]}<extra></extra>",
         "legendgroup": "GAT",
         "marker": {
          "color": "#19d3f3",
          "pattern": {
           "shape": ""
          }
         },
         "name": "GAT",
         "offsetgroup": "GAT",
         "orientation": "v",
         "showlegend": true,
         "textposition": "auto",
         "type": "bar",
         "x": [
          "GAT"
         ],
         "xaxis": "x",
         "y": [
          0.517181071639061
         ],
         "yaxis": "y"
        },
        {
         "alignmentgroup": "True",
         "customdata": [
          [
           10
          ]
         ],
         "error_y": {
          "array": [
           0.0055560557695026064
          ]
         },
         "hovertemplate": "Model=%{x}<br>Accuracy=%{y}<br># of Trials=%{customdata[0]}<extra></extra>",
         "legendgroup": "GIN",
         "marker": {
          "color": "#FF6692",
          "pattern": {
           "shape": ""
          }
         },
         "name": "GIN",
         "offsetgroup": "GIN",
         "orientation": "v",
         "showlegend": true,
         "textposition": "auto",
         "type": "bar",
         "x": [
          "GIN"
         ],
         "xaxis": "x",
         "y": [
          0.5896604955196381
         ],
         "yaxis": "y"
        }
       ],
       "layout": {
        "barmode": "relative",
        "height": 500,
        "legend": {
         "title": {
          "text": "Model"
         },
         "tracegroupgap": 0
        },
        "margin": {
         "t": 60
        },
        "showlegend": false,
        "template": {
         "data": {
          "bar": [
           {
            "error_x": {
             "color": "#2a3f5f"
            },
            "error_y": {
             "color": "#2a3f5f"
            },
            "marker": {
             "line": {
              "color": "#E5ECF6",
              "width": 0.5
             },
             "pattern": {
              "fillmode": "overlay",
              "size": 10,
              "solidity": 0.2
             }
            },
            "type": "bar"
           }
          ],
          "barpolar": [
           {
            "marker": {
             "line": {
              "color": "#E5ECF6",
              "width": 0.5
             },
             "pattern": {
              "fillmode": "overlay",
              "size": 10,
              "solidity": 0.2
             }
            },
            "type": "barpolar"
           }
          ],
          "carpet": [
           {
            "aaxis": {
             "endlinecolor": "#2a3f5f",
             "gridcolor": "white",
             "linecolor": "white",
             "minorgridcolor": "white",
             "startlinecolor": "#2a3f5f"
            },
            "baxis": {
             "endlinecolor": "#2a3f5f",
             "gridcolor": "white",
             "linecolor": "white",
             "minorgridcolor": "white",
             "startlinecolor": "#2a3f5f"
            },
            "type": "carpet"
           }
          ],
          "choropleth": [
           {
            "colorbar": {
             "outlinewidth": 0,
             "ticks": ""
            },
            "type": "choropleth"
           }
          ],
          "contour": [
           {
            "colorbar": {
             "outlinewidth": 0,
             "ticks": ""
            },
            "colorscale": [
             [
              0,
              "#0d0887"
             ],
             [
              0.1111111111111111,
              "#46039f"
             ],
             [
              0.2222222222222222,
              "#7201a8"
             ],
             [
              0.3333333333333333,
              "#9c179e"
             ],
             [
              0.4444444444444444,
              "#bd3786"
             ],
             [
              0.5555555555555556,
              "#d8576b"
             ],
             [
              0.6666666666666666,
              "#ed7953"
             ],
             [
              0.7777777777777778,
              "#fb9f3a"
             ],
             [
              0.8888888888888888,
              "#fdca26"
             ],
             [
              1,
              "#f0f921"
             ]
            ],
            "type": "contour"
           }
          ],
          "contourcarpet": [
           {
            "colorbar": {
             "outlinewidth": 0,
             "ticks": ""
            },
            "type": "contourcarpet"
           }
          ],
          "heatmap": [
           {
            "colorbar": {
             "outlinewidth": 0,
             "ticks": ""
            },
            "colorscale": [
             [
              0,
              "#0d0887"
             ],
             [
              0.1111111111111111,
              "#46039f"
             ],
             [
              0.2222222222222222,
              "#7201a8"
             ],
             [
              0.3333333333333333,
              "#9c179e"
             ],
             [
              0.4444444444444444,
              "#bd3786"
             ],
             [
              0.5555555555555556,
              "#d8576b"
             ],
             [
              0.6666666666666666,
              "#ed7953"
             ],
             [
              0.7777777777777778,
              "#fb9f3a"
             ],
             [
              0.8888888888888888,
              "#fdca26"
             ],
             [
              1,
              "#f0f921"
             ]
            ],
            "type": "heatmap"
           }
          ],
          "heatmapgl": [
           {
            "colorbar": {
             "outlinewidth": 0,
             "ticks": ""
            },
            "colorscale": [
             [
              0,
              "#0d0887"
             ],
             [
              0.1111111111111111,
              "#46039f"
             ],
             [
              0.2222222222222222,
              "#7201a8"
             ],
             [
              0.3333333333333333,
              "#9c179e"
             ],
             [
              0.4444444444444444,
              "#bd3786"
             ],
             [
              0.5555555555555556,
              "#d8576b"
             ],
             [
              0.6666666666666666,
              "#ed7953"
             ],
             [
              0.7777777777777778,
              "#fb9f3a"
             ],
             [
              0.8888888888888888,
              "#fdca26"
             ],
             [
              1,
              "#f0f921"
             ]
            ],
            "type": "heatmapgl"
           }
          ],
          "histogram": [
           {
            "marker": {
             "pattern": {
              "fillmode": "overlay",
              "size": 10,
              "solidity": 0.2
             }
            },
            "type": "histogram"
           }
          ],
          "histogram2d": [
           {
            "colorbar": {
             "outlinewidth": 0,
             "ticks": ""
            },
            "colorscale": [
             [
              0,
              "#0d0887"
             ],
             [
              0.1111111111111111,
              "#46039f"
             ],
             [
              0.2222222222222222,
              "#7201a8"
             ],
             [
              0.3333333333333333,
              "#9c179e"
             ],
             [
              0.4444444444444444,
              "#bd3786"
             ],
             [
              0.5555555555555556,
              "#d8576b"
             ],
             [
              0.6666666666666666,
              "#ed7953"
             ],
             [
              0.7777777777777778,
              "#fb9f3a"
             ],
             [
              0.8888888888888888,
              "#fdca26"
             ],
             [
              1,
              "#f0f921"
             ]
            ],
            "type": "histogram2d"
           }
          ],
          "histogram2dcontour": [
           {
            "colorbar": {
             "outlinewidth": 0,
             "ticks": ""
            },
            "colorscale": [
             [
              0,
              "#0d0887"
             ],
             [
              0.1111111111111111,
              "#46039f"
             ],
             [
              0.2222222222222222,
              "#7201a8"
             ],
             [
              0.3333333333333333,
              "#9c179e"
             ],
             [
              0.4444444444444444,
              "#bd3786"
             ],
             [
              0.5555555555555556,
              "#d8576b"
             ],
             [
              0.6666666666666666,
              "#ed7953"
             ],
             [
              0.7777777777777778,
              "#fb9f3a"
             ],
             [
              0.8888888888888888,
              "#fdca26"
             ],
             [
              1,
              "#f0f921"
             ]
            ],
            "type": "histogram2dcontour"
           }
          ],
          "mesh3d": [
           {
            "colorbar": {
             "outlinewidth": 0,
             "ticks": ""
            },
            "type": "mesh3d"
           }
          ],
          "parcoords": [
           {
            "line": {
             "colorbar": {
              "outlinewidth": 0,
              "ticks": ""
             }
            },
            "type": "parcoords"
           }
          ],
          "pie": [
           {
            "automargin": true,
            "type": "pie"
           }
          ],
          "scatter": [
           {
            "fillpattern": {
             "fillmode": "overlay",
             "size": 10,
             "solidity": 0.2
            },
            "type": "scatter"
           }
          ],
          "scatter3d": [
           {
            "line": {
             "colorbar": {
              "outlinewidth": 0,
              "ticks": ""
             }
            },
            "marker": {
             "colorbar": {
              "outlinewidth": 0,
              "ticks": ""
             }
            },
            "type": "scatter3d"
           }
          ],
          "scattercarpet": [
           {
            "marker": {
             "colorbar": {
              "outlinewidth": 0,
              "ticks": ""
             }
            },
            "type": "scattercarpet"
           }
          ],
          "scattergeo": [
           {
            "marker": {
             "colorbar": {
              "outlinewidth": 0,
              "ticks": ""
             }
            },
            "type": "scattergeo"
           }
          ],
          "scattergl": [
           {
            "marker": {
             "colorbar": {
              "outlinewidth": 0,
              "ticks": ""
             }
            },
            "type": "scattergl"
           }
          ],
          "scattermapbox": [
           {
            "marker": {
             "colorbar": {
              "outlinewidth": 0,
              "ticks": ""
             }
            },
            "type": "scattermapbox"
           }
          ],
          "scatterpolar": [
           {
            "marker": {
             "colorbar": {
              "outlinewidth": 0,
              "ticks": ""
             }
            },
            "type": "scatterpolar"
           }
          ],
          "scatterpolargl": [
           {
            "marker": {
             "colorbar": {
              "outlinewidth": 0,
              "ticks": ""
             }
            },
            "type": "scatterpolargl"
           }
          ],
          "scatterternary": [
           {
            "marker": {
             "colorbar": {
              "outlinewidth": 0,
              "ticks": ""
             }
            },
            "type": "scatterternary"
           }
          ],
          "surface": [
           {
            "colorbar": {
             "outlinewidth": 0,
             "ticks": ""
            },
            "colorscale": [
             [
              0,
              "#0d0887"
             ],
             [
              0.1111111111111111,
              "#46039f"
             ],
             [
              0.2222222222222222,
              "#7201a8"
             ],
             [
              0.3333333333333333,
              "#9c179e"
             ],
             [
              0.4444444444444444,
              "#bd3786"
             ],
             [
              0.5555555555555556,
              "#d8576b"
             ],
             [
              0.6666666666666666,
              "#ed7953"
             ],
             [
              0.7777777777777778,
              "#fb9f3a"
             ],
             [
              0.8888888888888888,
              "#fdca26"
             ],
             [
              1,
              "#f0f921"
             ]
            ],
            "type": "surface"
           }
          ],
          "table": [
           {
            "cells": {
             "fill": {
              "color": "#EBF0F8"
             },
             "line": {
              "color": "white"
             }
            },
            "header": {
             "fill": {
              "color": "#C8D4E3"
             },
             "line": {
              "color": "white"
             }
            },
            "type": "table"
           }
          ]
         },
         "layout": {
          "annotationdefaults": {
           "arrowcolor": "#2a3f5f",
           "arrowhead": 0,
           "arrowwidth": 1
          },
          "autotypenumbers": "strict",
          "coloraxis": {
           "colorbar": {
            "outlinewidth": 0,
            "ticks": ""
           }
          },
          "colorscale": {
           "diverging": [
            [
             0,
             "#8e0152"
            ],
            [
             0.1,
             "#c51b7d"
            ],
            [
             0.2,
             "#de77ae"
            ],
            [
             0.3,
             "#f1b6da"
            ],
            [
             0.4,
             "#fde0ef"
            ],
            [
             0.5,
             "#f7f7f7"
            ],
            [
             0.6,
             "#e6f5d0"
            ],
            [
             0.7,
             "#b8e186"
            ],
            [
             0.8,
             "#7fbc41"
            ],
            [
             0.9,
             "#4d9221"
            ],
            [
             1,
             "#276419"
            ]
           ],
           "sequential": [
            [
             0,
             "#0d0887"
            ],
            [
             0.1111111111111111,
             "#46039f"
            ],
            [
             0.2222222222222222,
             "#7201a8"
            ],
            [
             0.3333333333333333,
             "#9c179e"
            ],
            [
             0.4444444444444444,
             "#bd3786"
            ],
            [
             0.5555555555555556,
             "#d8576b"
            ],
            [
             0.6666666666666666,
             "#ed7953"
            ],
            [
             0.7777777777777778,
             "#fb9f3a"
            ],
            [
             0.8888888888888888,
             "#fdca26"
            ],
            [
             1,
             "#f0f921"
            ]
           ],
           "sequentialminus": [
            [
             0,
             "#0d0887"
            ],
            [
             0.1111111111111111,
             "#46039f"
            ],
            [
             0.2222222222222222,
             "#7201a8"
            ],
            [
             0.3333333333333333,
             "#9c179e"
            ],
            [
             0.4444444444444444,
             "#bd3786"
            ],
            [
             0.5555555555555556,
             "#d8576b"
            ],
            [
             0.6666666666666666,
             "#ed7953"
            ],
            [
             0.7777777777777778,
             "#fb9f3a"
            ],
            [
             0.8888888888888888,
             "#fdca26"
            ],
            [
             1,
             "#f0f921"
            ]
           ]
          },
          "colorway": [
           "#636efa",
           "#EF553B",
           "#00cc96",
           "#ab63fa",
           "#FFA15A",
           "#19d3f3",
           "#FF6692",
           "#B6E880",
           "#FF97FF",
           "#FECB52"
          ],
          "font": {
           "color": "#2a3f5f"
          },
          "geo": {
           "bgcolor": "white",
           "lakecolor": "white",
           "landcolor": "#E5ECF6",
           "showlakes": true,
           "showland": true,
           "subunitcolor": "white"
          },
          "hoverlabel": {
           "align": "left"
          },
          "hovermode": "closest",
          "mapbox": {
           "style": "light"
          },
          "paper_bgcolor": "white",
          "plot_bgcolor": "#E5ECF6",
          "polar": {
           "angularaxis": {
            "gridcolor": "white",
            "linecolor": "white",
            "ticks": ""
           },
           "bgcolor": "#E5ECF6",
           "radialaxis": {
            "gridcolor": "white",
            "linecolor": "white",
            "ticks": ""
           }
          },
          "scene": {
           "xaxis": {
            "backgroundcolor": "#E5ECF6",
            "gridcolor": "white",
            "gridwidth": 2,
            "linecolor": "white",
            "showbackground": true,
            "ticks": "",
            "zerolinecolor": "white"
           },
           "yaxis": {
            "backgroundcolor": "#E5ECF6",
            "gridcolor": "white",
            "gridwidth": 2,
            "linecolor": "white",
            "showbackground": true,
            "ticks": "",
            "zerolinecolor": "white"
           },
           "zaxis": {
            "backgroundcolor": "#E5ECF6",
            "gridcolor": "white",
            "gridwidth": 2,
            "linecolor": "white",
            "showbackground": true,
            "ticks": "",
            "zerolinecolor": "white"
           }
          },
          "shapedefaults": {
           "line": {
            "color": "#2a3f5f"
           }
          },
          "ternary": {
           "aaxis": {
            "gridcolor": "white",
            "linecolor": "white",
            "ticks": ""
           },
           "baxis": {
            "gridcolor": "white",
            "linecolor": "white",
            "ticks": ""
           },
           "bgcolor": "#E5ECF6",
           "caxis": {
            "gridcolor": "white",
            "linecolor": "white",
            "ticks": ""
           }
          },
          "title": {
           "x": 0.05
          },
          "xaxis": {
           "automargin": true,
           "gridcolor": "white",
           "linecolor": "white",
           "ticks": "",
           "title": {
            "standoff": 15
           },
           "zerolinecolor": "white",
           "zerolinewidth": 2
          },
          "yaxis": {
           "automargin": true,
           "gridcolor": "white",
           "linecolor": "white",
           "ticks": "",
           "title": {
            "standoff": 15
           },
           "zerolinecolor": "white",
           "zerolinewidth": 2
          }
         }
        },
        "title": {
         "text": "Accuracy for 'Contains SET' Task"
        },
        "width": 1000,
        "xaxis": {
         "anchor": "y",
         "categoryarray": [
          "RelConvNet",
          "CoRelNet",
          "PrediNet",
          "Transformer",
          "GCN",
          "GAT",
          "GIN"
         ],
         "categoryorder": "array",
         "domain": [
          0,
          1
         ],
         "title": {
          "text": "Model"
         }
        },
        "yaxis": {
         "anchor": "x",
         "domain": [
          0,
          1
         ],
         "title": {
          "text": "Accuracy"
         }
        }
       }
      }
     },
     "metadata": {},
     "output_type": "display_data"
    }
   ],
   "source": [
    "fig = px.bar(results_df, x='Model', y='Accuracy', error_y='error_bar', hover_data=['# of Trials'], color='Model')\n",
    "fig.update_layout(title=\"Accuracy for 'Contains SET' Task\", width=1000, height=500, showlegend=False)\n",
    "fig.write_html(f'{save_dir}/contains_set_acc.html')\n",
    "fig"
   ]
  },
  {
   "cell_type": "code",
   "execution_count": 14,
   "metadata": {},
   "outputs": [],
   "source": [
    "fig_json = fig.to_json()\n",
    "# save fig_json to file\n",
    "with open(f'{save_dir}/contains_set_acc.json', 'w') as f:\n",
    "    f.write(fig_json)"
   ]
  },
  {
   "cell_type": "markdown",
   "metadata": {},
   "source": [
    "### Training curves"
   ]
  },
  {
   "cell_type": "code",
   "execution_count": 21,
   "metadata": {},
   "outputs": [],
   "source": [
    "# task_run_histories = pd.read_csv('figure_data/contains_set/run_history.csv', index_col=0)\n",
    "\n",
    "# # model filter / sorting\n",
    "# models = ['relconvnet', 'corelnet', 'predinet', 'transformer', 'abstractor']\n",
    "# group_filter = task_run_histories.group.isin(models)\n",
    "# task_run_histories = task_run_histories[group_filter]\n",
    "\n",
    "# task_run_histories['group'] = pd.Categorical(task_run_histories['group'], categories=models, ordered=True)\n",
    "# task_run_histories.sort_values('group', inplace=True)\n",
    "# task_run_histories['group'] = task_run_histories['group'].map(model_label_map)\n",
    "# task_run_histories.rename(columns={'group': 'Model'}, inplace=True)\n",
    "# task_run_histories.rename(columns={'epoch/epoch': 'epoch', 'epoch/acc': 'training accuracy'}, inplace=True)\n",
    "# fig, ax = plt.subplots(figsize=(3.5, 2.25))\n",
    "# sns.lineplot(task_run_histories, y='training accuracy', x='epoch', hue='Model', palette=color_map, estimator='mean', errorbar=('ci', 95), ax=ax)\n",
    "# fig.set_tight_layout(True)\n",
    "# # fig.savefig(f'{save_dir}/contains_set_training_curves_trainacc.pdf')"
   ]
  },
  {
   "cell_type": "code",
   "execution_count": 22,
   "metadata": {},
   "outputs": [],
   "source": [
    "# task_run_histories = pd.read_csv('figure_data/contains_set/run_history.csv', index_col=0)\n",
    "\n",
    "# # model filter / sorting\n",
    "# models = ['relconvnet', 'corelnet', 'predinet', 'transformer', 'abstractor']\n",
    "# group_filter = task_run_histories.group.isin(models)\n",
    "# task_run_histories = task_run_histories[group_filter]\n",
    "\n",
    "# task_run_histories['group'] = pd.Categorical(task_run_histories['group'], categories=models, ordered=True)\n",
    "# task_run_histories.sort_values('group', inplace=True)\n",
    "# task_run_histories['group'] = task_run_histories['group'].map(model_label_map)\n",
    "# task_run_histories.rename(columns={'group': 'Model'}, inplace=True)\n",
    "# task_run_histories.rename(columns={'epoch/epoch': 'epoch', 'epoch/val_acc': 'validation accuracy'}, inplace=True)\n",
    "# fig, ax = plt.subplots(figsize=(3.5, 2.25))\n",
    "# sns.lineplot(task_run_histories, y='validation accuracy', x='epoch', palette=color_map, hue='Model', estimator='mean', errorbar=('ci', 95), ax=ax)\n",
    "# fig.set_tight_layout(True)\n",
    "# # fig.savefig(f'{save_dir}/contains_set_training_curves_valacc.pdf')"
   ]
  },
  {
   "cell_type": "markdown",
   "metadata": {},
   "source": [
    "## Representation"
   ]
  },
  {
   "cell_type": "code",
   "execution_count": 23,
   "metadata": {},
   "outputs": [],
   "source": [
    "conv_rep_df = pd.read_csv('figure_data/contains_set/set_conv_representation.csv', index_col=0)"
   ]
  },
  {
   "cell_type": "code",
   "execution_count": 24,
   "metadata": {},
   "outputs": [
    {
     "data": {
      "application/vnd.plotly.v1+json": {
       "config": {
        "plotlyServerURL": "https://plot.ly"
       },
       "data": [
        {
         "hovertemplate": "SET=not set<br>conv [PC1]=%{x}<br>conv [PC2]=%{y}<extra></extra>",
         "legendgroup": "not set",
         "marker": {
          "color": "#636efa",
          "symbol": "circle"
         },
         "mode": "markers",
         "name": "not set",
         "showlegend": true,
         "type": "scattergl",
         "x": [
          27.401442,
          17.294155,
          25.5993,
          -6.211631,
          29.686035,
          17.864996,
          14.008666,
          60.648113,
          45.400085,
          10.168006,
          50.789436,
          20.956917,
          30.813215,
          34.20507,
          22.66798,
          43.812332,
          12.8205185,
          34.790688,
          52.426754,
          26.000793,
          20.319305,
          0.13503139,
          18.34555,
          31.751297,
          52.73835,
          23.398796,
          21.24536,
          10.45847,
          51.630344,
          52.03943,
          16.093155,
          3.9776664,
          6.3414288,
          28.595234,
          0.87629116,
          31.87091,
          27.752934,
          8.351552,
          52.572517,
          16.025023,
          25.936743,
          19.161913,
          28.932896,
          -3.3421748,
          10.474743,
          -6.1071777,
          15.776309,
          22.727722,
          21.92883,
          17.23961,
          23.509245,
          36.44692,
          38.6729,
          42.632523,
          50.962185,
          35.56432,
          16.958015,
          38.65543,
          23.043703,
          35.845345,
          18.851261,
          36.572693,
          9.145877,
          26.238428,
          15.460974,
          21.649925,
          50.7547,
          35.415813,
          75.538994,
          46.01843,
          25.00747,
          24.26237,
          -6.8471684,
          2.4201841,
          48.493828,
          47.365314,
          1.0603929,
          3.845188,
          -1.4526371,
          28.06481,
          38.29876,
          50.940697,
          5.6970444,
          36.963684,
          19.643126,
          44.237118,
          -1.8019956,
          4.6584487,
          20.459946,
          20.258522,
          11.849872,
          19.516161,
          15.430879,
          -2.5923927,
          8.455038,
          6.7734466,
          28.13689,
          32.941074,
          14.0306225,
          29.68777,
          35.176373,
          12.641732,
          40.554104,
          10.936115,
          9.8861685,
          40.27029,
          34.004654,
          20.413628,
          25.975624,
          35.070835,
          36.723366,
          42.92895,
          7.289403,
          18.609348,
          32.706352,
          56.147163,
          15.401313,
          16.292927,
          33.8142,
          21.932209,
          -0.1408733,
          19.404745,
          17.961643,
          15.745476,
          14.809958,
          6.834939,
          36.181194,
          27.756231,
          2.8410702,
          27.071856,
          -1.9638686,
          15.056835,
          32.80572,
          23.153704,
          23.104559,
          2.0480387,
          -0.028665986,
          18.35587,
          17.524126,
          31.25264,
          20.777374,
          24.469046,
          13.769603,
          2.2056663,
          37.521866,
          2.1327465,
          4.1224666,
          47.30802,
          47.72884,
          3.320333,
          63.47681,
          34.987797,
          27.582531,
          22.6359,
          28.217466,
          -4.577474,
          36.382557,
          19.92781,
          20.208351,
          8.931541,
          31.371908,
          -0.013133898,
          29.531797,
          18.185133,
          47.759533,
          0.73141116,
          6.5267406,
          1.2789446,
          12.461439,
          4.2356763,
          9.865398,
          46.983463,
          46.89945,
          30.518282,
          61.280888,
          58.381767,
          28.467966,
          52.68236,
          65.96717,
          1.3324699,
          -2.7219782,
          -7.856184,
          -5.4898467,
          39.98991,
          24.676537,
          9.400803,
          7.4384966,
          30.98635,
          8.551976,
          42.741947,
          39.875347,
          23.561754,
          3.0621285,
          19.621157,
          2.7871509,
          64.2393,
          24.5608,
          54.342392,
          36.01076,
          -1.1122477,
          12.243497,
          9.134366,
          17.648916,
          -3.6486099,
          14.527219,
          23.980476,
          50.426846,
          38.21227,
          5.1830683,
          34.41076,
          25.228489,
          21.36713,
          29.434029,
          21.240582,
          10.292254,
          2.2708876,
          8.967157,
          33.11872,
          43.098026,
          45.444477,
          33.868492,
          5.632626,
          29.650812,
          66.513054,
          2.0857804,
          2.949785,
          24.788218,
          54.105686,
          15.189699,
          12.214105,
          34.640858,
          -0.8111782,
          -0.34789422,
          17.751398,
          0.58882606,
          41.72822,
          33.572693,
          -4.702764,
          18.506195,
          25.908081,
          18.85629,
          31.281162,
          25.326212,
          4.5654345,
          29.09125,
          37.175858,
          13.835727,
          30.523088,
          44.971752,
          23.029636,
          38.651028,
          21.728544,
          17.871046,
          24.744389,
          39.73473,
          22.355827,
          23.503149,
          -2.8119466,
          -0.65789723,
          22.20133,
          14.383198,
          -4.7040405,
          59.581783,
          31.344818,
          17.86383,
          44.24634,
          34.77328,
          21.327415,
          9.470121,
          28.795197,
          63.079575,
          25.112558,
          -3.8572078,
          33.6514,
          32.754524,
          23.934797,
          40.014202,
          42.559246,
          30.210892,
          26.031328,
          13.973489,
          28.813412,
          26.279196,
          47.066505,
          56.42624,
          35.66778,
          16.784792,
          23.818026,
          -2.3739974,
          58.177773,
          25.151632,
          53.123272,
          50.056656,
          10.70602,
          15.66624,
          31.61351,
          8.8148,
          24.97561,
          61.623493,
          6.80326,
          16.358934,
          35.30905,
          8.991715,
          40.286777,
          -3.1900616,
          19.39147,
          37.005356,
          41.29989,
          18.10045,
          66.08593,
          62.009148,
          4.074329,
          16.222755,
          1.4588336,
          43.883026,
          -7.733454,
          30.246511,
          2.869595,
          47.01473,
          70.4312,
          11.249136,
          19.169247,
          23.010778,
          17.209923,
          -3.4611912,
          -8.909422,
          33.95585,
          8.44821,
          11.080673,
          22.816004,
          31.587978,
          6.082832,
          -1.6819073,
          10.206301,
          10.119306,
          37.21437,
          -0.4170639,
          44.348907,
          2.588829,
          10.012113,
          17.862413,
          35.656494,
          41.711193,
          40.07813,
          13.252492,
          29.040092,
          42.540264,
          24.909592,
          13.4043045,
          44.95366,
          41.269,
          40.954338,
          23.297493,
          7.98304,
          12.739455,
          22.97068,
          17.309591,
          15.927972,
          23.852478,
          53.326427,
          38.493645,
          1.7748282,
          14.556434,
          6.2728977,
          11.958995,
          6.883325,
          28.612062,
          25.741789,
          64.03247,
          43.927063,
          49.57336,
          14.307613,
          22.72816,
          4.963431,
          55.8037,
          21.9751,
          30.693975,
          -2.073761,
          5.8641405,
          28.273396,
          20.95745,
          1.5917107,
          26.31771,
          4.5826283,
          20.152033,
          25.389322,
          34.395447,
          49.553368,
          11.801885,
          10.506804,
          17.295176,
          26.235,
          34.45008,
          3.5107467,
          -0.42955214,
          22.6284,
          14.453054,
          -14.46861,
          21.781229,
          16.994642,
          64.30272,
          32.681225,
          14.01043,
          15.227974,
          2.86024,
          34.410904,
          0.8470809,
          -3.9895694,
          3.0448792,
          18.740807,
          19.185535,
          17.705278,
          -8.612613,
          4.0204635,
          19.880728,
          28.09863,
          35.947403,
          34.38377,
          30.400135,
          56.371063,
          3.6159363,
          31.6624,
          56.496677,
          21.93024,
          3.397004,
          18.322462,
          28.460352,
          35.5252,
          17.045897,
          25.088633,
          -4.566302,
          38.994064,
          2.2524562,
          20.309055,
          3.7276666,
          38.697136,
          17.486021,
          66.106255,
          39.670086,
          12.932896,
          19.699497,
          57.637684,
          21.537893,
          18.458553,
          28.505041,
          27.226202,
          2.3785696,
          9.372619,
          41.062546,
          46.67764,
          15.120293,
          10.558908,
          36.98299,
          3.5829155,
          27.731964,
          17.344093,
          12.054457,
          26.515171,
          -6.9990554,
          16.107454,
          22.601437,
          0.5585871,
          39.340584,
          6.411757,
          37.937916,
          27.633602,
          26.811436,
          5.605211,
          20.122658,
          9.648536,
          30.760078,
          33.393375,
          23.959507,
          16.168455,
          14.735806,
          29.712471,
          37.325626,
          31.860252,
          51.074913,
          25.975145,
          20.954157,
          12.958567,
          25.794773,
          30.28069,
          31.24448,
          3.1700473,
          42.416576,
          23.671186,
          -2.1381238,
          28.569822,
          12.772539,
          -7.8998237,
          11.936797,
          27.294912,
          32.092125,
          19.169128,
          23.419659,
          31.404697,
          0.66423786,
          26.153606,
          13.9552355,
          34.680862,
          6.8756604,
          9.161637,
          10.854222,
          10.195901,
          23.008465,
          28.16042,
          33.114357,
          17.77311,
          16.840384,
          36.999043,
          11.134936,
          31.684118,
          6.1983705,
          26.717882,
          56.097256,
          -2.3580678,
          62.662437,
          13.100006,
          60.924576,
          18.221395,
          7.5333533,
          3.283917,
          78.522224,
          5.0491734,
          37.12311,
          22.062822,
          30.949524,
          56.482365,
          4.5653567,
          5.587428,
          29.093262,
          50.542816,
          19.291594,
          28.364601,
          24.152493,
          41.394173,
          21.536644,
          24.587301,
          -1.0291114,
          41.631557,
          1.1270278,
          15.694246,
          23.506956,
          27.415293,
          28.600487,
          37.432056,
          29.924128,
          17.359632,
          -3.9931962,
          -3.0838351,
          19.559116,
          62.612705,
          42.765446,
          17.563105,
          40.92314,
          30.305439,
          22.39153,
          -1.1423476,
          4.8342752,
          -6.4012356,
          54.18904,
          7.406146,
          7.4153957,
          9.429236,
          14.475336,
          7.4292264,
          32.93527,
          -3.5637589,
          19.940847,
          17.04544,
          28.401161,
          12.025259,
          -1.2580196,
          3.9658844,
          1.3472781,
          -4.316123,
          23.197664,
          18.550117,
          14.745104,
          34.24559,
          52.1047,
          49.68911,
          26.64235,
          50.865932,
          64.46976,
          37.36664,
          35.736267,
          -0.37297088,
          12.612929,
          14.940721,
          1.4053116,
          -7.6249504,
          24.486204,
          31.303453,
          7.967002,
          3.8804712,
          28.684345,
          35.27622,
          20.291882,
          52.88839,
          33.508877,
          69.00547,
          27.014103,
          17.216164,
          53.041836,
          16.249077,
          12.176568,
          33.583572,
          30.003824,
          3.3240242,
          1.4066329,
          0.6435356,
          43.217213,
          36.258656,
          -4.8812723,
          51.17341,
          76.96063,
          2.8938622,
          14.769525,
          35.566357,
          47.20022,
          24.909763,
          11.163236,
          56.21036,
          4.9935336,
          51.82347,
          6.909808,
          40.318745,
          38.400024,
          41.363655,
          21.342876,
          35.188705,
          21.775967,
          25.407454,
          40.19986,
          21.351994,
          32.014595,
          46.357994,
          33.816025,
          35.682602,
          12.680442,
          46.698914,
          1.54932,
          3.3842769,
          36.594612,
          5.217529,
          42.628483,
          47.199383,
          19.18036,
          25.001331,
          30.28597,
          4.932257,
          6.881472,
          22.582895,
          24.16324,
          30.456675,
          34.493668,
          38.254787,
          36.14808,
          42.200512,
          26.504278,
          8.271043,
          38.29606,
          12.694217,
          29.160086,
          22.482948,
          48.484665,
          19.970703,
          38.841946,
          9.501892,
          -2.3005364,
          15.477273,
          5.9549294,
          6.4110136,
          13.881307,
          8.371271,
          46.55327,
          15.038672,
          27.634203,
          0.051194895,
          25.71468,
          10.397754,
          31.643782,
          14.591906,
          46.40864,
          3.0273967,
          36.56311,
          -5.18372,
          13.9535265,
          37.40026,
          51.393204,
          14.914873,
          45.282978,
          58.348534,
          -7.4089746,
          19.908228,
          19.688215,
          69.70374,
          44.96306,
          38.446533,
          43.262844,
          34.55972,
          23.377352,
          32.8977,
          29.446205,
          35.025646,
          18.674717,
          13.815069,
          9.780913,
          25.63397,
          0.53522843,
          19.685545,
          61.479374,
          34.506996,
          5.539116,
          70.93469,
          39.447742,
          40.108494,
          10.518217,
          24.217777,
          1.2765152,
          24.315756,
          25.006855,
          30.938417,
          31.964283,
          27.142782,
          59.583233,
          66.06754,
          29.324444,
          39.336796,
          -0.021039706,
          16.21461,
          16.425697,
          47.246128,
          24.572157,
          7.8795676,
          10.027996,
          15.224059,
          4.519587,
          5.580229,
          15.108517,
          65.20518,
          25.098923,
          15.393482,
          59.173336,
          29.235376,
          29.261566,
          39.92942,
          10.972326,
          4.0501328,
          22.268028,
          18.670969,
          -1.0736991,
          27.977804,
          0.49635735,
          8.915014,
          2.260097,
          21.528967,
          55.16116,
          47.41511,
          12.006693,
          21.04605,
          5.443623,
          30.291346,
          49.13704,
          62.275337,
          38.62851,
          58.26735,
          12.664631,
          16.438517,
          22.107777,
          54.2875,
          26.430605,
          68.55134,
          36.04706,
          63.135555,
          7.1466594,
          10.4396715,
          46.55997,
          58.92429,
          38.11503,
          35.95854,
          15.826047,
          35.06398,
          -7.6088595,
          22.415949,
          63.999523,
          16.220724,
          12.11154,
          55.09935,
          14.811766,
          38.095814,
          4.791792,
          3.7816608,
          16.007504,
          -6.504139,
          26.538256,
          -5.2171755,
          3.494803,
          29.263424,
          33.90151,
          14.294239,
          3.2733884,
          55.723927,
          36.675186,
          8.806035,
          30.896034,
          10.221879,
          31.686016,
          16.167238,
          37.30022,
          31.851799,
          25.307228,
          42.39674,
          22.834085,
          41.83069,
          14.110949,
          20.403597,
          25.917503,
          25.645763,
          19.675522,
          12.049865,
          28.217215,
          -5.5150185,
          -4.564471,
          32.58192,
          22.606184,
          26.23453,
          30.560587,
          67.02115,
          7.088909,
          51.72126,
          12.736969,
          8.115059,
          61.406075,
          37.46707,
          21.857046,
          28.214178,
          18.907595,
          16.607891,
          32.22388,
          24.263021,
          45.16222,
          -2.4944017,
          64.08878,
          27.945625,
          20.98051,
          26.486984,
          13.577139,
          -1.9727023,
          14.2222395,
          17.331234,
          1.7085828,
          14.843441,
          44.06121,
          8.322904,
          -4.769967,
          32.211666,
          35.402775,
          19.894846,
          6.50887,
          23.281492,
          -0.18215391,
          11.090714,
          34.62528,
          39.96984,
          32.64512,
          1.8408341,
          3.690202,
          25.018616,
          39.40663,
          4.493871,
          40.439228,
          24.733078,
          18.654898,
          20.75144,
          23.57006,
          17.259747,
          26.976345,
          31.364668,
          34.162346,
          18.763905,
          43.768887,
          30.601185,
          31.266792,
          36.523537,
          49.645042,
          27.441689,
          22.858109,
          32.211224,
          39.94071,
          29.952135,
          21.953049,
          29.497458,
          13.8542595,
          12.65791,
          6.660085,
          22.100122,
          26.720924,
          43.32121,
          11.093039,
          38.4013,
          33.471203,
          29.020369,
          37.269245,
          23.200615,
          9.216187,
          31.074411,
          0.026724312,
          40.09812,
          11.036474,
          22.34004,
          14.871964,
          -2.10927,
          19.778605,
          4.630303,
          19.128633,
          19.455284,
          17.336496,
          32.719833,
          17.062485,
          7.2853527,
          -5.258546,
          22.711338,
          0.12257661,
          17.473116,
          5.3654275,
          37.77663,
          19.146112,
          6.6139193,
          42.012012,
          47.244717,
          61.03069,
          3.0592709,
          -0.9921521,
          10.905672,
          29.988722,
          40.53096,
          21.146944,
          -8.172791,
          5.668912,
          -1.8650699,
          23.612713,
          20.766064,
          12.773988,
          7.5857735,
          27.902416,
          26.292652,
          30.966555,
          20.819376,
          14.410513,
          57.641632,
          -0.50017107,
          39.25519,
          17.195795,
          29.273365,
          56.152298,
          33.883945,
          18.075256,
          19.903126,
          38.440052,
          10.184944,
          2.6140015,
          29.984953,
          40.076347,
          26.730198,
          43.707737,
          26.530317,
          38.42518,
          34.70451,
          4.232981,
          -1.3670874,
          56.35064,
          10.357234,
          18.841934,
          67.70865,
          4.5773473,
          18.225985,
          -0.94593835,
          25.139,
          -0.4938924,
          -3.4168518,
          0.94757694,
          25.058828,
          28.961298,
          34.796757,
          10.578584,
          48.87855,
          26.690468,
          30.41884,
          10.559942,
          31.601994,
          32.804,
          3.924553,
          50.804646,
          10.15821,
          -0.8128096,
          40.222206,
          18.949968,
          40.475723,
          11.033214,
          -1.0719453,
          19.507065,
          16.74164,
          23.563751,
          6.992885,
          26.45843,
          40.18271,
          13.798657,
          16.420916,
          12.118954,
          13.435279,
          4.230453,
          68.256584,
          11.207318,
          47.931416,
          4.9377594,
          -1.6249938,
          14.727282,
          35.32316,
          31.383188,
          -5.9729395,
          13.666434,
          -7.835316,
          4.383679,
          9.616495,
          20.05825,
          -5.114449,
          17.95696,
          0.66820776,
          14.96669,
          62.978832,
          13.448559,
          24.286999,
          14.131657,
          48.305965,
          49.55691,
          8.833645,
          10.878245,
          10.623926,
          -0.58851707,
          38.09966,
          28.307678,
          38.831814,
          31.210464,
          10.256955,
          -6.2381687,
          52.787838,
          10.658826,
          10.5261965,
          39.82038,
          62.611317,
          9.036098,
          36.655396,
          -1.8875053,
          9.955721,
          0.88897735,
          -4.3129334,
          11.929624,
          -0.44124237,
          20.3117,
          -2.8397717,
          47.227448,
          9.545293,
          -8.284107,
          37.9884,
          43.171494,
          21.494902,
          22.073633,
          28.148582,
          21.221111,
          6.1565685,
          9.396196,
          13.99219,
          34.19789,
          42.60439,
          32.67322,
          34.02986
         ],
         "xaxis": "x",
         "y": [
          -6.1253624,
          -2.140461,
          -12.710576,
          -9.384374,
          -7.538262,
          14.50457,
          -5.848887,
          -2.2365837,
          3.5222101,
          6.3760605,
          -0.8966528,
          -17.797186,
          -2.556062,
          6.720722,
          -16.264523,
          8.112902,
          -4.1366806,
          -4.0565395,
          -3.7174647,
          5.7059803,
          1.7787008,
          -4.6756353,
          -11.069702,
          0.14170757,
          20.53686,
          13.7421665,
          18.050589,
          -2.9372349,
          2.809029,
          3.9750576,
          -1.755083,
          16.960783,
          0.8647434,
          6.1953163,
          -0.007280233,
          8.952959,
          16.898737,
          -6.901597,
          -7.0025764,
          -5.5475087,
          -3.0344553,
          -11.439794,
          5.854012,
          -1.1484997,
          -3.721852,
          8.34687,
          9.7230625,
          -2.0991147,
          -6.2592897,
          8.764725,
          2.6856,
          3.48206,
          -1.3564377,
          16.262054,
          2.1451201,
          9.769754,
          13.952215,
          4.005321,
          4.035614,
          -2.7394483,
          2.7106476,
          6.5623646,
          1.1391014,
          2.7158678,
          -8.576417,
          -3.562018,
          -1.2011638,
          3.0312757,
          12.947333,
          -7.9383554,
          -10.278598,
          -3.5627868,
          12.799782,
          -4.074907,
          6.6383677,
          6.418534,
          9.56705,
          -14.345833,
          5.7763295,
          -2.5128002,
          -6.2730246,
          1.4670498,
          8.319272,
          -9.124229,
          -4.573119,
          22.290771,
          6.5312223,
          10.717726,
          4.8580594,
          2.1524143,
          -8.827548,
          13.608522,
          -5.6145034,
          0.050559644,
          -0.027276274,
          15.600357,
          6.5706105,
          6.6334414,
          0.56132066,
          -4.5627255,
          -1.901004,
          -2.4030426,
          13.21166,
          -9.658061,
          0.2666156,
          3.5506363,
          -5.1360874,
          -3.8570797,
          2.6626396,
          3.9094718,
          -12.651636,
          0.89409506,
          6.3400955,
          -6.0495763,
          20.29705,
          -5.3237505,
          -12.357158,
          3.513834,
          -0.45723802,
          4.0330896,
          -0.66704553,
          -3.3021555,
          -11.922218,
          10.509066,
          11.091665,
          -13.261535,
          -12.625548,
          -4.423171,
          -2.5181775,
          14.386972,
          18.11183,
          -9.903047,
          -1.1688206,
          -8.45416,
          -2.2859545,
          12.433732,
          -2.0540125,
          2.0572295,
          10.756601,
          -0.8828412,
          7.9304395,
          -9.071244,
          -9.55177,
          8.078177,
          4.8348136,
          11.294216,
          6.5607224,
          1.8651525,
          -6.099155,
          -2.367991,
          -6.420939,
          1.8926958,
          -8.125857,
          -9.149112,
          -7.0395603,
          -4.9565005,
          -5.514403,
          8.119153,
          -6.8536677,
          26.636894,
          16.268848,
          1.7805364,
          -5.399725,
          -3.9410553,
          -3.1819491,
          -14.901117,
          14.093819,
          -11.626259,
          20.655865,
          -0.90519035,
          1.2589655,
          -4.1277237,
          1.0778936,
          -2.2648487,
          -5.780301,
          12.473361,
          -3.857863,
          2.5864148,
          -3.6479402,
          6.505282,
          -14.924673,
          15.230771,
          16.883713,
          -1.9906609,
          -17.331245,
          -13.385272,
          10.232441,
          23.196388,
          4.207118,
          12.019531,
          4.5214715,
          -4.1543,
          4.325588,
          15.609499,
          -6.0014167,
          15.605595,
          12.919068,
          -11.193502,
          -5.150286,
          24.461857,
          -14.098125,
          15.094474,
          -7.3077025,
          6.727941,
          -7.5006104,
          1.8999829,
          -3.817615,
          -3.2761352,
          14.692192,
          -9.331203,
          21.33982,
          6.8613915,
          1.6871233,
          7.4042163,
          9.013136,
          -15.63884,
          9.528004,
          5.1360197,
          2.5250401,
          2.7557125,
          19.217789,
          -11.161449,
          -11.847785,
          10.450298,
          -3.190415,
          4.144609,
          -8.946943,
          -7.769587,
          11.161712,
          -7.952198,
          -1.553478,
          34.246326,
          6.161329,
          8.36519,
          5.9774394,
          -1.8405174,
          -0.025272164,
          22.520998,
          -7.9038854,
          -21.345564,
          -2.6923819,
          -5.8644276,
          -4.736647,
          -7.750577,
          16.550602,
          5.6617956,
          9.215211,
          -4.2805376,
          -0.65043354,
          -5.6487217,
          1.9736025,
          -14.612383,
          16.312286,
          3.1005416,
          1.0701683,
          0.544469,
          -5.94548,
          19.108273,
          12.545851,
          -0.74394166,
          38.546997,
          -2.782403,
          -9.299646,
          -17.909689,
          -14.816851,
          -6.0806904,
          -3.3656564,
          -11.570753,
          -15.037855,
          1.1066778,
          1.4842646,
          1.7400188,
          -9.385083,
          13.295978,
          4.0005746,
          2.9087107,
          -7.268221,
          0.41511354,
          -9.591804,
          13.765324,
          -17.746279,
          -6.292431,
          -3.0544934,
          3.50951,
          -2.229719,
          -10.6748085,
          -5.5852966,
          6.0220838,
          -10.899132,
          2.7523432,
          17.626188,
          -14.277505,
          7.9177074,
          9.211211,
          -0.9045718,
          -1.2021146,
          11.978329,
          5.846304,
          -8.621411,
          13.035742,
          -7.0352015,
          10.312577,
          20.076433,
          -5.9399605,
          5.4064546,
          6.0831985,
          1.4305229,
          6.226811,
          0.1390491,
          -9.395779,
          -3.7127798,
          1.5714686,
          -2.356801,
          4.679259,
          0.25671428,
          4.116618,
          -7.2530055,
          -12.585209,
          3.6640186,
          2.8828712,
          -8.783954,
          19.158812,
          1.2314856,
          -3.4129984,
          -1.3462055,
          13.366759,
          -12.018726,
          -8.155021,
          11.156249,
          -1.8137031,
          2.15236,
          4.0357647,
          7.269814,
          6.8108587,
          -8.887204,
          26.170969,
          2.4729264,
          0.9441747,
          0.4318789,
          11.615596,
          -7.3809505,
          -6.571275,
          -2.5037227,
          -3.3650656,
          -8.578492,
          -3.3591857,
          -12.77834,
          4.9530096,
          -0.018048381,
          6.4001007,
          -1.9196469,
          -4.399948,
          18.716095,
          -7.332924,
          10.503069,
          8.801,
          -5.1367197,
          1.8483458,
          -15.179387,
          4.071181,
          -5.1221724,
          13.4043665,
          6.2973576,
          -9.962618,
          -3.5623488,
          -0.95281655,
          7.372186,
          5.370993,
          -1.6700879,
          -5.0030556,
          -12.482037,
          16.656826,
          11.372762,
          -5.975817,
          -4.666611,
          -5.9517956,
          -0.98856497,
          6.2991753,
          14.017391,
          -6.207124,
          -3.3341246,
          7.405375,
          3.7082357,
          20.516485,
          -4.922923,
          -7.021612,
          -1.9994385,
          1.1519405,
          -12.020175,
          1.6849715,
          -4.3481836,
          -14.860091,
          -15.091991,
          -18.434433,
          -4.296111,
          21.90944,
          -12.107334,
          16.403423,
          -9.936878,
          1.4974704,
          6.4017015,
          -7.0050445,
          20.324121,
          14.931044,
          -14.239388,
          -1.5258452,
          0.7308378,
          2.3797975,
          2.6451576,
          -10.33803,
          4.5642834,
          -5.617372,
          13.369561,
          -4.799755,
          4.9396467,
          -1.6489147,
          -9.541491,
          -2.0557868,
          -9.989667,
          -4.0070987,
          15.893496,
          4.242557,
          -3.0346258,
          5.814794,
          1.8936597,
          -13.289973,
          -3.0668044,
          -5.6988535,
          24.993475,
          6.2821355,
          9.536665,
          14.931939,
          -2.9305768,
          24.32863,
          -0.67083406,
          1.3947498,
          -11.257976,
          2.743655,
          -14.507866,
          16.612818,
          -8.515849,
          12.574171,
          17.024958,
          -12.416158,
          3.504354,
          -6.2236395,
          0.4222719,
          -9.370991,
          1.3933657,
          1.0989242,
          -3.6648462,
          15.04239,
          1.6875976,
          17.125856,
          -6.649034,
          19.873543,
          14.046522,
          -7.9647255,
          8.734534,
          -8.750918,
          -2.3647656,
          -6.7209644,
          1.8953493,
          -13.789245,
          12.820677,
          9.38895,
          -7.267934,
          -8.032276,
          -4.9621673,
          25.265615,
          23.76087,
          -8.258491,
          -10.195345,
          0.66482985,
          5.687706,
          -5.4958,
          1.0837244,
          -13.214581,
          -6.6578493,
          -6.5483975,
          7.679917,
          8.757812,
          4.8314424,
          -7.4475703,
          -9.438811,
          4.920396,
          -15.155413,
          -3.6468632,
          0.92002636,
          2.3695145,
          10.636784,
          0.65559673,
          0.4939805,
          -7.962874,
          1.3731006,
          10.734088,
          2.3817425,
          -3.81939,
          21.373463,
          -5.0737076,
          -10.8147135,
          -13.946921,
          -1.3178554,
          -3.6328325,
          13.713104,
          8.260169,
          -1.8665144,
          14.687077,
          1.0006181,
          -5.352822,
          -3.8376298,
          4.240344,
          21.958794,
          -3.7616568,
          17.405222,
          12.182809,
          -8.801382,
          0.40532595,
          -4.0891137,
          -7.765576,
          1.4564672,
          8.322594,
          -5.732929,
          17.478739,
          7.7888484,
          -4.5009465,
          -13.610055,
          -10.404887,
          7.902247,
          -6.1850557,
          10.472193,
          10.097844,
          -0.5994705,
          3.4698575,
          15.732539,
          -5.1617312,
          -3.4412317,
          6.9492908,
          1.7108074,
          -7.1959114,
          3.3506935,
          -1.4299831,
          -2.9842937,
          15.388015,
          -11.648975,
          -7.379275,
          -4.6786294,
          7.62214,
          8.151123,
          16.8287,
          -0.82350147,
          17.578506,
          -4.380534,
          -1.4165326,
          13.702584,
          -8.717925,
          -1.8395467,
          1.4775714,
          15.713297,
          -2.422561,
          3.679826,
          -11.042697,
          2.709987,
          -7.8987813,
          11.68163,
          -1.9906586,
          6.094757,
          -3.835258,
          -2.7949765,
          -2.1239543,
          7.752655,
          -3.9804618,
          24.15826,
          8.498211,
          12.664264,
          -10.078456,
          -5.7422667,
          3.3791618,
          4.6572323,
          15.108687,
          0.45525074,
          -5.1431646,
          7.411999,
          -2.1673102,
          -2.8705306,
          -2.397625,
          0.45878932,
          -2.5762568,
          -11.787214,
          7.5505214,
          -8.754519,
          -6.570247,
          -14.063886,
          1.7327536,
          8.227025,
          -4.3915296,
          24.532665,
          11.578411,
          -3.1736832,
          21.027039,
          -1.7275379,
          -11.936082,
          -2.571061,
          -9.644533,
          12.098589,
          5.289525,
          3.4818096,
          -1.7477859,
          17.374525,
          0.9354355,
          13.689693,
          -0.90605026,
          -4.0682936,
          30.507948,
          -4.909336,
          6.40628,
          11.448073,
          4.206726,
          13.088545,
          0.9623808,
          8.816298,
          7.2964015,
          -0.9999712,
          -2.241167,
          2.2108417,
          5.5538573,
          -14.54131,
          -15.991096,
          13.350625,
          -7.504728,
          15.743212,
          -4.3613772,
          7.8150563,
          -1.7586001,
          -6.7574487,
          15.653446,
          2.2759721,
          -11.477151,
          1.2987727,
          5.1440377,
          5.4007215,
          -8.365416,
          19.170479,
          13.408741,
          19.510445,
          -16.57986,
          0.62141556,
          21.393238,
          26.75148,
          -18.769846,
          3.597137,
          -5.4588995,
          1.5765659,
          0.51927245,
          -1.3071079,
          -16.249622,
          12.897655,
          2.5088665,
          9.256209,
          1.175054,
          -4.877252,
          -1.4901503,
          11.068121,
          22.11294,
          0.56562597,
          10.806469,
          -6.2822814,
          -0.22267489,
          -0.98165643,
          6.659752,
          -10.769328,
          17.058056,
          11.816885,
          -10.711522,
          5.683748,
          1.49527,
          -12.686363,
          2.3967354,
          3.4640496,
          -7.9857974,
          8.353648,
          -13.926936,
          3.788675,
          4.0240846,
          -2.563409,
          7.1404195,
          -3.5324438,
          15.897976,
          -3.189705,
          4.5541425,
          -8.396463,
          4.566858,
          -6.972363,
          11.128286,
          0.8517981,
          -3.6912115,
          23.723375,
          -1.1724135,
          3.2308664,
          -2.026924,
          -4.1810217,
          -4.0737247,
          4.701396,
          4.623456,
          7.536146,
          -6.579591,
          1.2428076,
          -8.519655,
          14.357223,
          -13.221159,
          -16.591898,
          1.655011,
          0.10619091,
          -5.3527884,
          -2.5349002,
          -3.358626,
          18.900219,
          9.394652,
          -0.8854311,
          2.1449988,
          -11.159383,
          -8.581059,
          4.032826,
          -19.840443,
          -4.3933096,
          2.8878405,
          -17.152815,
          -4.2908807,
          -3.634768,
          19.30099,
          2.1342237,
          -8.130173,
          -8.768746,
          4.308814,
          0.4856219,
          28.040648,
          -9.429131,
          -3.7795215,
          11.352128,
          -8.649022,
          10.032434,
          15.089148,
          5.93571,
          -6.5808234,
          -10.507761,
          -9.526133,
          3.1728184,
          -13.388046,
          -13.109901,
          -4.073149,
          9.467017,
          -8.400244,
          2.5934308,
          -5.7897835,
          -9.732005,
          5.736144,
          -11.31247,
          -3.8194776,
          6.262323,
          -3.8187237,
          2.4483397,
          -1.340713,
          -1.0431447,
          6.186399,
          -13.436793,
          -4.4158654,
          7.189253,
          -5.179046,
          21.529436,
          -5.9726067,
          2.0829508,
          -2.4272428,
          3.638904,
          -16.467058,
          1.295226,
          13.35459,
          17.54158,
          6.382497,
          -5.3976035,
          -3.3178244,
          5.528199,
          -5.93735,
          1.1677896,
          5.022853,
          4.1822214,
          -4.972991,
          25.460165,
          14.307302,
          -4.4928875,
          -0.712524,
          5.46887,
          -2.7676113,
          -14.532216,
          -2.8716872,
          8.617422,
          14.788792,
          8.447331,
          -3.9448223,
          9.908964,
          14.58507,
          -6.1516767,
          -4.845335,
          6.380641,
          -21.12281,
          -0.07576169,
          -13.697737,
          3.8209019,
          -2.9962585,
          -8.049886,
          3.7608857,
          0.4832268,
          6.5559754,
          -3.6392677,
          -13.736473,
          4.410379,
          -0.48992223,
          0.19705574,
          -12.723914,
          -3.0671997,
          5.485997,
          7.1346684,
          7.00098,
          -2.889732,
          37.899506,
          5.529448,
          22.26328,
          6.8079324,
          -0.028493507,
          -13.139639,
          -10.316533,
          18.461702,
          1.9890605,
          -0.07169514,
          1.487583,
          22.06435,
          -6.615003,
          -4.5110207,
          -4.2296605,
          -9.84551,
          5.7328873,
          -4.6308694,
          6.925564,
          14.135236,
          2.8768399,
          2.5487618,
          -10.897694,
          7.367678,
          17.045189,
          14.00595,
          -4.4210277,
          10.71955,
          1.7866027,
          -1.2677397,
          -3.9936454,
          -11.098595,
          -15.72435,
          -8.118953,
          -2.7697673,
          2.366428,
          4.7363706,
          9.695666,
          13.408798,
          -11.481416,
          7.7244287,
          4.86157,
          -13.097984,
          1.7872268,
          15.702628,
          2.8303282,
          4.012405,
          7.100225,
          -12.660886,
          -0.5562466,
          15.207362,
          -2.1458478,
          -6.0477815,
          -6.335098,
          -3.7274342,
          8.235145,
          0.8881873,
          -12.50883,
          -8.378602,
          5.327975,
          7.50929,
          -10.836803,
          12.063237,
          2.0740476,
          4.894675,
          -1.5246506,
          -11.186634,
          -1.1880186,
          -14.207321,
          -7.1715765,
          -10.4032135,
          1.1054024,
          4.535016,
          -4.8290443,
          -13.409061,
          1.3377626,
          -7.6731315,
          1.0509716,
          -2.0815365,
          11.933766,
          -4.0384946,
          18.008266,
          -8.395589,
          -7.9518957,
          5.2040663,
          -9.662707,
          9.33673,
          18.289427,
          3.958431,
          -3.1003277,
          13.536753,
          -10.12629,
          -6.685586,
          -0.027914833,
          -23.158321,
          -5.3924103,
          -9.302431,
          -12.710203,
          13.843862,
          10.032262,
          5.5617476,
          26.676989,
          -14.55676,
          -5.74836,
          6.162483,
          -9.2462635,
          -0.6951456,
          -10.068542,
          26.657524,
          1.5523282,
          4.009837,
          2.816573,
          -3.752356,
          12.396325,
          -5.02117,
          -5.209256,
          -2.643017,
          -1.6523564,
          25.26076,
          -12.783959,
          -12.818286,
          3.222823,
          -4.2910323,
          2.7110963,
          -5.791344,
          -3.9150183,
          9.4303055,
          6.558094,
          -12.51187,
          -10.440967,
          -0.025863096,
          28.99946,
          21.437744,
          -2.6336102,
          18.344955,
          8.853236,
          -2.3406625,
          -5.4999266,
          -2.7480218,
          -2.1383247,
          0.4618666,
          -8.979326,
          11.879282,
          -6.8447986,
          17.016247,
          -12.302205,
          -10.375985,
          13.676761,
          -7.452423,
          -11.422868,
          17.579918,
          2.740813,
          7.172002,
          7.4565063,
          -3.9073875,
          -0.4660301,
          -0.61772335,
          7.359971,
          -6.4616513,
          1.7824147,
          16.500639,
          -2.8241563,
          0.23461606,
          -2.332141,
          -0.19988714,
          -16.851255,
          -6.4754233,
          18.572172,
          8.863811,
          -4.170055,
          0.24433292,
          -9.842015,
          24.498358,
          -0.8531399,
          8.360673,
          0.39956656,
          19.50911,
          15.013573,
          -9.13318,
          -8.967933,
          -1.3459343,
          -13.213098,
          9.822053,
          3.6435199,
          0.4132194,
          -0.8994876,
          1.6340656,
          13.955674,
          21.950956,
          5.154833,
          22.778551,
          -6.650449,
          7.31999,
          -3.8353662,
          -12.485384,
          -13.492442,
          2.5454466,
          0.7245534,
          0.6098039,
          3.291409,
          10.237924,
          2.20524,
          4.3872066,
          -8.287495,
          -3.9866855,
          2.6290598,
          16.744942,
          -6.309947,
          24.499468,
          -4.629368,
          1.6185741,
          11.950929,
          -0.94260854,
          -4.6645703,
          -13.07136,
          -2.9500215,
          11.622341,
          11.758142,
          28.796518,
          -1.2105336,
          2.6193712,
          21.808998,
          2.738342,
          5.053928,
          -7.10804,
          16.412014,
          -12.419884,
          -12.2092085,
          11.539885,
          -11.702548,
          3.5403152,
          -14.072358,
          10.980241,
          6.089524,
          -1.1571537,
          -14.87583,
          4.294075,
          -11.109612,
          15.090001,
          0.661139,
          -0.93004906,
          -1.6909006,
          -9.426214,
          12.071418,
          12.112408,
          13.57216,
          8.019408,
          -8.52945,
          15.680437,
          -7.7091026,
          5.542209,
          15.400786,
          -0.9037666,
          -15.456806,
          10.93009,
          -8.284868,
          -5.5386844
         ],
         "yaxis": "y"
        },
        {
         "hovertemplate": "SET=set<br>conv [PC1]=%{x}<br>conv [PC2]=%{y}<extra></extra>",
         "legendgroup": "set",
         "marker": {
          "color": "#EF553B",
          "symbol": "circle"
         },
         "mode": "markers",
         "name": "set",
         "showlegend": true,
         "type": "scattergl",
         "x": [
          -24.305994,
          -24.881248,
          -22.884504,
          -23.397009,
          -28.768148,
          -22.21669,
          -22.35473,
          -26.167751,
          -20.199013,
          -15.462087,
          -25.918644,
          -21.806952,
          -24.67423,
          -30.419157,
          -20.33897,
          -24.488129,
          -26.93367,
          -18.03376,
          -21.441523,
          -24.179226,
          -19.72337,
          -21.935253,
          -24.77294,
          -23.132341,
          -19.49607,
          -26.3973,
          -21.430336,
          -18.101994,
          -24.625648,
          -14.789855,
          -22.5416,
          -25.12892,
          -21.882214,
          -22.154446,
          -21.811008,
          -22.264292,
          -18.650465,
          -21.068295,
          -20.723322,
          -12.650791,
          -21.9277,
          -23.833506,
          -22.06403,
          -25.163538,
          -23.521343,
          -22.10459,
          -22.991884,
          -27.654085,
          -21.18763,
          -22.406712,
          -22.952623,
          -23.123426,
          -28.045162,
          -31.794085,
          -28.724766,
          -23.655188,
          -25.685658,
          -25.23809,
          -22.670889,
          -28.243547,
          -24.662636,
          -23.939352,
          -26.437065,
          -25.53871,
          -18.67029,
          -18.568506,
          -23.001053,
          -18.902252,
          -22.646786,
          -25.156563,
          -20.969612,
          -25.56102,
          -23.158243,
          -20.813255,
          -23.410189,
          -21.19047,
          -21.359228,
          -20.565475,
          -21.23901,
          -24.623388,
          -23.989687,
          -26.75447,
          -24.67275,
          -26.898186,
          -25.216963,
          -24.106703,
          -23.536367,
          -20.25341,
          -23.166565,
          -20.444153,
          -23.987106,
          -27.901876,
          -22.794298,
          -29.831837,
          -23.271837,
          -24.360167,
          -19.926708,
          -25.459894,
          -24.245195,
          -22.643066,
          -27.170797,
          -21.59877,
          -22.446222,
          -15.706015,
          -20.611063,
          -20.153744,
          -10.366009,
          -18.681791,
          -14.806745,
          -22.902468,
          -22.737768,
          -19.644564,
          -22.513176,
          -21.96673,
          -19.787054,
          -20.292913,
          -19.828033,
          -20.818504,
          -27.745258,
          -25.767649,
          -24.348017,
          -23.212406,
          -29.441818,
          -26.557215,
          -25.650274,
          -25.7671,
          -22.262005,
          -22.595427,
          -23.697002,
          -17.628805,
          -17.650099,
          -28.63772,
          -22.82252,
          -22.395727,
          -24.66154,
          -20.201729,
          -22.403202,
          -23.7842,
          -21.579632,
          -21.957394,
          -27.34594,
          -15.100079,
          -24.492756,
          -23.896967,
          -18.607445,
          -19.198242,
          -25.64759,
          -16.981695,
          -18.510925,
          -28.030714,
          -22.748627,
          -21.37932,
          -24.738503,
          -17.567757,
          -16.561266,
          -22.89106,
          -29.444551,
          -18.827759,
          -24.588638,
          -24.170729,
          -23.788326,
          -24.604952,
          -24.428959,
          -23.399225,
          -21.499405,
          -28.016405,
          -23.260103,
          -21.336563,
          -27.822872,
          -19.196709,
          -23.094929,
          -23.80748,
          -25.050678,
          -20.309128,
          -24.676195,
          -15.420666,
          -19.390104,
          -18.807198,
          -21.01381,
          -14.351245,
          -24.089748,
          -22.523382,
          -20.62537,
          -25.062935,
          -19.30622,
          -19.871807,
          -21.379423,
          -25.990427,
          -12.495615,
          -27.191988,
          -21.616919,
          -22.48913,
          -22.708445,
          -22.896711,
          -22.383348,
          -23.665304,
          -24.714127,
          -22.637184,
          -24.62841,
          -27.001734,
          -24.277302,
          -18.79762,
          -19.871256,
          -25.019274,
          -24.534496,
          -20.56063,
          -19.970236,
          -24.071335,
          -22.706772,
          -22.086607,
          -16.065962,
          -25.094086,
          -17.29984,
          -17.160969,
          -20.139666,
          -16.487398,
          -18.668634,
          -22.968004,
          -15.630407,
          -19.215958,
          -21.073488,
          -22.805878,
          -20.369762,
          -23.912651,
          -15.304294,
          -13.551677,
          -23.524908,
          -25.646183,
          -29.535301,
          -22.479458,
          -21.571985,
          -29.047945,
          -18.895815,
          -21.261368,
          -23.726585,
          -22.543692,
          -25.501127,
          -25.992136,
          -25.848734,
          -22.9664,
          -28.44975,
          -18.237696,
          -21.79334,
          -26.38088,
          -18.340456,
          -23.923515,
          -27.39695,
          -13.3123865,
          -20.460915,
          -24.056664,
          -21.11032,
          -20.668112,
          -24.26938,
          -26.488134,
          -21.002913,
          -28.600183,
          -22.241386,
          -14.611488,
          -23.562845,
          -20.20766,
          -21.906515,
          -28.03889,
          -23.479603,
          -23.247934,
          -21.069027,
          -22.726297,
          -24.854486,
          -25.345425,
          -26.545507,
          -20.338503,
          -22.7348,
          -21.448715,
          -23.67168,
          -22.705507,
          -26.608301,
          -24.799513,
          -22.955982,
          -28.424551,
          -22.132153,
          -23.936544,
          -29.97609,
          -24.709846,
          -18.391857,
          -18.508186,
          -12.805805,
          -23.685436,
          -24.725208,
          -21.537527,
          -22.35764,
          -25.095821,
          -25.170403,
          -18.454557,
          -24.010109,
          -22.554956,
          -14.310336,
          -26.97757,
          -19.55984,
          -20.489597,
          -31.792429,
          -21.831814,
          -24.517284,
          -22.875692,
          -21.851128,
          -23.580854,
          -24.712872,
          -19.752716,
          -23.314795,
          -24.349731,
          -24.33985,
          -21.102974,
          -16.846619,
          -23.85433,
          -23.958279,
          -18.125225,
          -23.308765,
          -24.15944,
          -24.813837,
          -21.89835,
          -19.36086,
          -16.0956,
          -14.93109,
          -24.36474,
          -21.665628,
          -21.894455,
          -18.352787,
          -24.868942,
          -29.483961,
          -18.174711,
          -22.340849,
          -23.279387,
          -21.0735,
          -16.524092,
          -22.123995,
          -24.061308,
          -24.152273,
          -24.560753,
          -27.84457,
          -29.403088,
          -26.555494,
          -17.945719,
          -30.007055,
          -25.975386,
          -18.925068,
          -29.318089,
          -26.676788,
          -18.20002,
          -29.389858,
          -17.160723,
          -21.016623,
          -30.85905,
          -22.230614,
          -22.05896,
          -28.355576,
          -22.62096,
          -24.275972,
          -27.362682,
          -25.371147,
          -25.392477,
          -21.922318,
          -21.350433,
          -23.609396,
          -27.091774,
          -19.235891,
          -18.340601,
          -26.122831,
          -17.667057,
          -20.1468,
          -26.661764,
          -28.414455,
          -20.755615,
          -23.65052,
          -29.364847,
          -23.923708,
          -23.630377,
          -26.746994,
          -17.345108,
          -17.489544,
          -18.608223,
          -23.028854,
          -22.458424,
          -30.196579,
          -20.548985,
          -21.0721,
          -27.871773,
          -24.964598,
          -23.76119,
          -30.33707,
          -22.834776,
          -26.72835,
          -26.791903,
          -24.667982,
          -15.748387,
          -22.85332,
          -18.238222,
          -23.255386,
          -29.220982,
          -22.024818,
          -24.193214,
          -27.835394,
          -26.88967,
          -25.325974,
          -25.814783,
          -25.17147,
          -20.219671,
          -23.606453,
          -23.631838,
          -21.233274,
          -22.125954,
          -23.525517,
          -20.521528,
          -17.325525,
          -24.670015,
          -14.119358,
          -24.524162,
          -23.054453,
          -23.505608,
          -22.295305,
          -25.676708,
          -21.028574,
          -24.124176,
          -28.066603,
          -22.527962,
          -20.378923,
          -21.147497,
          -22.549374,
          -17.077055,
          -24.221241,
          -27.624228,
          -24.661436,
          -24.26153,
          -19.835728,
          -28.602314,
          -25.44962,
          -22.836086,
          -26.159678,
          -16.894167,
          -23.417114,
          -26.95487,
          -23.875216,
          -24.68134,
          -31.933119,
          -26.586855,
          -25.464502,
          -29.279657,
          -18.30173,
          -26.808277,
          -25.28332,
          -21.0911,
          -20.187595,
          -26.388155,
          -21.662949,
          -28.804539,
          -27.340311,
          -8.179517,
          -21.51997,
          -22.2745,
          -26.671474,
          -20.310072,
          -27.018564,
          -26.193487,
          -14.03867,
          -23.603127,
          -25.292723,
          -20.522053,
          -26.160677,
          -29.935427,
          -26.420969,
          -26.77677,
          -31.750103,
          -25.407194,
          -19.71564,
          -25.287743,
          -24.994133,
          -20.18666,
          -23.66927,
          -25.438055,
          -24.51873,
          -29.729168,
          -27.167997,
          -22.051252,
          -24.717964,
          -27.861105,
          -20.439306,
          -22.211779,
          -20.877544,
          -23.353647,
          -21.906694,
          -23.162123,
          -21.362848,
          -21.60974,
          -20.379553,
          -21.544256,
          -21.361729,
          -24.888273,
          -27.895123,
          -25.183277,
          -25.598206,
          -22.023174,
          -20.942326,
          -23.646753,
          -14.63384,
          -21.298904,
          -20.60003,
          -24.83899,
          -15.207809,
          -23.990206,
          -19.496944,
          -8.328869,
          -15.930354,
          -27.623135,
          -26.254873,
          -17.150717,
          -24.148117,
          -26.279465,
          -20.404072,
          -21.81623,
          -21.978264,
          -23.208284,
          -22.936857,
          -26.013182,
          -21.491222,
          -22.152836,
          -25.14241,
          -23.648844,
          -24.015993,
          -28.262796,
          -27.129044,
          -16.790283,
          -24.129196,
          -21.573336,
          -21.108263,
          -28.738722,
          -17.0675,
          -16.689762,
          -30.648346,
          -21.99768,
          -21.556463,
          -22.689236,
          -22.47671,
          -18.941181,
          -25.175358,
          -24.881842,
          -22.970251,
          -23.312708,
          -27.667137,
          -26.595146,
          -24.494665,
          -22.440681,
          -20.097765,
          -16.970161,
          -26.497307,
          -22.385136,
          -25.386793,
          -32.607395,
          -26.89685,
          -20.519453,
          -25.948175,
          -24.663258,
          -18.80322,
          -28.763,
          -22.703928,
          -21.796602,
          -25.05752,
          -23.865324,
          -17.120333,
          -24.5196,
          -23.690401,
          -14.484075,
          -22.918621,
          -17.75511,
          -23.85031,
          -26.451357,
          -20.17472,
          -24.01429,
          -21.143196,
          -24.756456,
          -22.277035,
          -23.295963,
          -14.7537775,
          -24.721344,
          -25.84514,
          -28.594063,
          -16.995636,
          -15.443803,
          -21.66956,
          -20.185455,
          -20.439552,
          -19.669662,
          -25.644333,
          -22.075829,
          -27.02096,
          -22.49245,
          -27.721708,
          -24.110556,
          -22.60464,
          -28.562923,
          -23.04428,
          -26.984386,
          -24.424137,
          -20.642263,
          -18.19959,
          -27.06386,
          -19.750862,
          -24.90135,
          -21.515265,
          -20.353569,
          -19.580233,
          -23.702393,
          -12.076671,
          -23.264357,
          -28.930193,
          -18.89158,
          -23.327211,
          -34.755775,
          -26.154068,
          -24.156784,
          -28.65006,
          -25.415894,
          -23.847692,
          -32.399628,
          -25.971155,
          -20.345068,
          -18.02879,
          -29.028305,
          -22.39632,
          -24.487154,
          -32.540245,
          -21.185026,
          -27.660507,
          -19.641035,
          -25.398003,
          -24.199753,
          -28.613592,
          -24.568933,
          -21.698593,
          -25.73953,
          -21.738888,
          -20.205427,
          -25.920624,
          -22.539173,
          -21.123896,
          -26.795528,
          -22.31091,
          -26.625795,
          -32.647648,
          -22.309303,
          -21.792988,
          -31.155113,
          -24.63249,
          -25.844305,
          -24.586203,
          -22.838892,
          -26.701662,
          -25.77846,
          -23.59639,
          -23.257238,
          -17.419075,
          -18.836529,
          -21.120213,
          -15.6658,
          -21.687464,
          -19.252863,
          -20.634773,
          -23.730715,
          -19.152027,
          -16.658194,
          -20.936466,
          -22.093758,
          -15.82156,
          -13.350299,
          -22.46818,
          -19.887218,
          -19.949648,
          -23.276348,
          -18.343063,
          -31.13418,
          -21.41316,
          -22.265585,
          -29.754595,
          -24.8673,
          -20.944746,
          -28.861612,
          -28.017168,
          -27.144108,
          -21.890059,
          -19.525227,
          -27.30145,
          -26.229778,
          -24.134487,
          -25.163614,
          -16.591751,
          -24.568064,
          -27.202122,
          -19.344164,
          -21.548746,
          -26.434408,
          -23.694641,
          -28.042324,
          -20.962885,
          -11.659185,
          -22.317694,
          -29.788551,
          -26.662056,
          -25.982857,
          -28.30892,
          -23.938103,
          -23.875578,
          -24.647715,
          -17.000212,
          -25.801294,
          -24.26513,
          -17.58029,
          -18.002192,
          -20.734262,
          -27.846258,
          -24.358418,
          -13.60435,
          -25.947416,
          -22.63333,
          -23.40305,
          -28.101885,
          -21.991444,
          -23.254744,
          -25.726383,
          -23.839529,
          -17.168589,
          -30.595142,
          -23.010332,
          -23.071226,
          -26.335478,
          -27.263958,
          -25.042826,
          -23.510437,
          -17.500801,
          -26.423445,
          -26.162153,
          -23.859602,
          -14.140988,
          -21.05935,
          -22.798925,
          -16.285799,
          -22.334347,
          -22.391605,
          -13.797608,
          -23.794813,
          -18.35495,
          -21.164051,
          -21.530731,
          -22.407906,
          -21.848703,
          -19.932354,
          -26.480225,
          -21.774647,
          -19.542955,
          -20.40964,
          -21.46803,
          -24.219578,
          -29.789745,
          -26.710617,
          -19.150751,
          -30.540434,
          -25.693077,
          -17.795221,
          -26.77323,
          -26.080742,
          -22.348316,
          -14.202184,
          -15.281266,
          -21.638662,
          -18.90728,
          -17.802158,
          -21.386549,
          -18.084705,
          -23.526276,
          -27.089735,
          -22.31153,
          -19.065975,
          -16.751629,
          -21.998726,
          -18.582438,
          -24.81115,
          -17.354801,
          -22.018063,
          -25.471268,
          -17.089567,
          -20.301746,
          -27.841318,
          -17.148119,
          -21.455154,
          -31.892195,
          -24.02713,
          -27.236256,
          -22.52327,
          -19.49726,
          -10.449064,
          -16.92215,
          -28.4148,
          -17.798935,
          -22.871006,
          -26.619326,
          -22.423845,
          -22.365318,
          -25.33668,
          -19.20011,
          -15.327438,
          -26.08709,
          -21.269001,
          -23.184908,
          -27.943338,
          -24.404343,
          -20.945084,
          -31.418509,
          -21.817678,
          -23.777729,
          -32.775013,
          -22.302353,
          -30.772957,
          -31.95127,
          -28.107262,
          -19.723406,
          -17.120544,
          -18.132421,
          -21.1557,
          -17.078388,
          -18.587305,
          -17.760147,
          -24.39166,
          -20.056517,
          -19.165691,
          -18.197714,
          -19.9623,
          -19.885962,
          -18.488047,
          -21.349901,
          -20.576725,
          -19.711409,
          -22.538881,
          -21.658295,
          -22.135687,
          -21.52154,
          -22.945044,
          -25.982616,
          -26.47567,
          -22.527065,
          -29.633816,
          -31.584208,
          -31.683361,
          -34.33432,
          -24.385054,
          -25.813162,
          -30.584362,
          -26.017605,
          -21.459589,
          -29.199408,
          -20.561613,
          -22.17095,
          -22.879723,
          -21.284624,
          -20.62857,
          -25.35179,
          -31.202864,
          -24.949673,
          -23.414433,
          -21.984459,
          -26.93103,
          -24.323875,
          -28.791967,
          -22.989346,
          -21.112286,
          -26.613161,
          -19.809946,
          -27.2127,
          -24.35839,
          -29.525988,
          -16.970198,
          -23.513426,
          -22.625221,
          -21.75503,
          -26.477118,
          -24.59496,
          -18.160954,
          -21.406841,
          -22.64939,
          -26.468658,
          -32.2854,
          -24.848454,
          -27.496407,
          -33.494587,
          -29.757286,
          -29.0939,
          -27.578676,
          -24.366068,
          -27.911974,
          -22.220102,
          -25.856152,
          -22.934397,
          -26.773462,
          -25.931215,
          -25.546568,
          -23.208757,
          -24.443499,
          -20.876879,
          -25.589218,
          -21.241804,
          -24.521273,
          -24.706324,
          -23.27974,
          -27.909143,
          -26.289217,
          -22.418997,
          -25.734026,
          -27.223572,
          -25.267664,
          -23.797878,
          -22.478779,
          -27.005728,
          -21.12659,
          -23.134232,
          -26.343878,
          -22.250843,
          -28.671,
          -24.828709,
          -23.536882,
          -23.315643,
          -28.177975,
          -29.419125,
          -19.762735,
          -22.420305,
          -27.43753,
          -29.211462,
          -12.97897,
          -22.885708,
          -24.665035,
          -22.925053,
          -21.699854,
          -27.263916,
          -23.822914,
          -27.086916,
          -29.881916,
          -28.626478,
          -35.316463,
          -27.772955,
          -24.271257,
          -31.620245,
          -31.079128,
          -29.738554,
          -26.620111,
          -26.134645,
          -31.227894,
          -30.087708,
          -29.513664,
          -28.3238,
          -34.76589,
          -24.88675,
          -26.57717,
          -29.779835,
          -35.077435,
          -23.597982,
          -24.950405,
          -28.890713,
          -28.458147,
          -24.408432,
          -32.911423,
          -24.584385,
          -26.222643,
          -25.875475,
          -25.09489,
          -27.209,
          -25.22698,
          -22.740486,
          -25.62654,
          -25.541437,
          -20.406849,
          -28.125603,
          -22.994055,
          -24.392763,
          -22.06499,
          -26.725033,
          -21.326181,
          -26.495518,
          -28.049862,
          -26.745731,
          -26.79857,
          -27.031284,
          -19.441044,
          -20.459219,
          -26.767893,
          -22.324556,
          -22.008072,
          -25.47798,
          -27.340166,
          -28.110683,
          -27.598562,
          -28.706024,
          -8.7661295,
          -24.421963,
          -25.275234,
          -14.921976,
          -17.02505,
          -25.863958,
          -26.68228,
          -28.504953,
          -28.821842,
          -25.30296,
          -30.800385,
          -23.856562,
          -25.069572,
          -30.259096,
          -25.979671,
          -27.731958,
          -23.87554,
          -29.802305,
          -24.946175,
          -24.9188,
          -29.258528,
          -23.171417,
          -23.762209,
          -32.75358,
          -27.206396,
          -23.342981,
          -29.225216,
          -27.48101,
          -24.793135,
          -23.845566,
          -28.055492,
          -25.793215,
          -20.40873,
          -25.604368,
          -29.716164,
          -27.331264,
          -22.258518,
          -23.38136,
          -27.918089,
          -18.956835,
          -22.302427,
          -30.498398,
          -33.042004,
          -24.155348,
          -24.192617,
          -30.292683,
          -24.488708,
          -23.181944,
          -33.206852,
          -19.564753,
          -31.950174,
          -33.792442,
          -30.43599,
          -24.939102,
          -29.48026,
          -25.657295,
          -24.015114,
          -22.622179,
          -22.979723,
          -28.703316,
          -24.772585,
          -35.125328,
          -21.754894,
          -30.251663,
          -26.481339,
          -27.984716,
          -26.783312,
          -34.90699,
          -25.383759,
          -27.217133,
          -26.712713,
          -26.939161,
          -28.022203,
          -31.45411,
          -36.982918,
          -37.807186,
          -23.469759,
          -28.246563,
          -35.490795,
          -29.948229,
          -30.044365,
          -28.108122,
          -26.95173,
          -35.769165,
          -32.635487,
          -34.502975
         ],
         "xaxis": "x",
         "y": [
          16.517233,
          26.803593,
          8.409557,
          9.058872,
          20.64684,
          -2.3778143,
          -3.0845733,
          11.3178,
          -9.6452675,
          -11.383782,
          12.6891,
          -10.786399,
          -7.3323393,
          28.914232,
          10.781683,
          10.025204,
          23.091238,
          1.9329333,
          3.2819417,
          18.69423,
          0.18694943,
          -0.77419186,
          7.7569795,
          -13.228984,
          -15.465609,
          3.0684316,
          -20.855074,
          -19.343945,
          3.5892324,
          -21.526094,
          -23.130405,
          10.573189,
          -13.374365,
          -9.979481,
          4.5162683,
          -23.32185,
          -18.658325,
          4.0968266,
          -20.48991,
          -23.251379,
          6.892891,
          19.059278,
          7.1215434,
          -3.7481494,
          9.730879,
          -8.878761,
          -12.170912,
          -1.135715,
          -13.578993,
          -12.127242,
          -2.235294,
          -11.7612295,
          4.933895,
          28.739513,
          10.042004,
          2.4083333,
          19.135717,
          2.391741,
          0.8448655,
          18.307833,
          1.3416549,
          -15.256654,
          -0.8501009,
          -19.429647,
          -18.146715,
          -5.1153283,
          -20.373528,
          -23.1656,
          -8.644086,
          -25.134926,
          -19.18399,
          0.77474517,
          -11.821773,
          -19.491823,
          -10.061004,
          -21.209795,
          -21.995796,
          -9.309539,
          -20.710476,
          6.3028693,
          8.6187315,
          22.382734,
          -5.617819,
          -8.342136,
          9.633993,
          -14.159598,
          -16.310415,
          -0.19966193,
          -11.2220545,
          -16.470001,
          0.89703584,
          7.753679,
          11.400163,
          20.108664,
          2.105689,
          4.033538,
          16.839417,
          2.0977244,
          2.0190268,
          13.417386,
          -16.088217,
          -18.798338,
          -0.162521,
          -19.007023,
          -20.789122,
          -5.517988,
          -19.848158,
          -22.616632,
          -11.674693,
          -16.040642,
          -10.190365,
          3.5643647,
          -21.37779,
          -20.855082,
          -9.250357,
          -23.807556,
          -19.424728,
          -8.986499,
          22.494793,
          12.737021,
          -9.170687,
          -11.650883,
          27.538534,
          9.071616,
          8.11799,
          8.795454,
          -10.515043,
          -9.86951,
          22.603607,
          -0.8066059,
          2.819224,
          34.15363,
          14.833602,
          14.903538,
          20.59361,
          0.6060829,
          -1.4062347,
          3.815087,
          -18.169395,
          -20.293383,
          19.345457,
          -1.0620228,
          -4.1386075,
          5.1549172,
          -20.241266,
          -21.059654,
          8.870069,
          -19.135328,
          -12.3432865,
          24.219313,
          -2.156853,
          2.2085826,
          8.713524,
          -17.795374,
          -14.735805,
          -9.280318,
          -1.8016661,
          -13.66817,
          8.605272,
          13.839261,
          3.6428947,
          -11.793278,
          -5.3140283,
          -10.6822195,
          4.335314,
          16.858633,
          8.226462,
          18.010983,
          32.147705,
          16.276823,
          2.6165276,
          18.694332,
          5.1913595,
          -15.823283,
          -6.019974,
          -18.40458,
          -2.4597917,
          10.816988,
          -4.6023426,
          -16.826324,
          -8.2245,
          -18.511223,
          -18.62247,
          -8.956611,
          -12.213401,
          -6.599365,
          6.277713,
          1.4410717,
          -18.451101,
          -5.112779,
          -12.8926735,
          -11.594164,
          -11.631775,
          2.0220063,
          6.2251124,
          3.4259489,
          17.587643,
          -11.56401,
          -14.789496,
          3.0699255,
          2.4297955,
          1.6210314,
          13.932317,
          16.065607,
          16.859589,
          30.162836,
          2.943083,
          3.8981018,
          12.761911,
          -17.08753,
          -17.962654,
          -7.140515,
          -4.4536343,
          -3.846149,
          8.691454,
          -21.017235,
          -21.557585,
          -5.3381214,
          -20.1921,
          -19.00225,
          -4.4005265,
          -5.6218343,
          -3.4476166,
          7.2717066,
          -19.58059,
          -17.10086,
          -4.8438764,
          16.518396,
          12.341163,
          -9.5826645,
          -14.266367,
          8.942476,
          -14.178452,
          -9.916737,
          20.493351,
          0.48456421,
          -1.3456413,
          23.242693,
          0.8507284,
          3.3537185,
          22.218924,
          -1.1903709,
          1.6980594,
          34.10098,
          9.497387,
          11.587132,
          4.235112,
          -24.294617,
          -22.571138,
          3.7977002,
          -20.937883,
          -26.66997,
          15.175246,
          -8.459358,
          -9.982793,
          4.006507,
          -23.339071,
          -19.150766,
          9.590135,
          -22.390934,
          -19.0127,
          18.128809,
          -9.2426815,
          -7.996391,
          -10.775865,
          1.4863902,
          -12.7328615,
          -10.680741,
          -0.07741527,
          -14.48187,
          1.9813192,
          9.595868,
          -2.429348,
          4.812433,
          17.742258,
          5.2263346,
          4.7646275,
          18.121878,
          7.734378,
          12.714849,
          33.55932,
          19.33783,
          -17.851618,
          -6.142658,
          -19.501274,
          -16.519487,
          -6.4678345,
          -17.631836,
          -5.3001676,
          6.838922,
          -7.834681,
          -16.545752,
          -5.9148755,
          -12.138513,
          -15.242875,
          -5.758221,
          -11.832236,
          -6.1045547,
          8.187038,
          -2.5276647,
          -9.963104,
          -11.197389,
          1.6268004,
          -11.202785,
          -16.273457,
          1.5354599,
          0.2720066,
          -4.1431465,
          11.146747,
          0.6949055,
          0.4817064,
          12.640564,
          -0.10604911,
          2.830054,
          12.126391,
          10.401714,
          13.360803,
          27.992722,
          -20.355165,
          -21.653955,
          -9.070531,
          -23.926126,
          -24.505117,
          -9.595775,
          -6.280794,
          -8.154175,
          3.3174481,
          -23.813545,
          -17.434958,
          -5.395571,
          -18.283901,
          -19.784498,
          -5.0011783,
          -7.7834096,
          -4.055977,
          2.168918,
          10.964904,
          23.713718,
          0.16267836,
          0.19675277,
          10.220157,
          -12.444791,
          -17.278805,
          3.2915885,
          -19.362555,
          -20.41969,
          3.5236008,
          -23.485317,
          -23.138435,
          19.875767,
          -5.5522323,
          -1.0192833,
          13.753761,
          -8.9523735,
          -9.3118515,
          12.795311,
          -6.6519666,
          -11.63936,
          9.023332,
          -14.545773,
          -10.630779,
          7.068106,
          -24.84274,
          -18.775991,
          6.3710938,
          -20.056597,
          -19.606342,
          3.1663969,
          14.21346,
          3.4999764,
          -10.329477,
          -0.48746237,
          -16.632122,
          -18.04665,
          -7.1100936,
          -16.692032,
          -21.232306,
          -5.6336203,
          -19.484922,
          1.1300328,
          15.473783,
          2.5607367,
          -5.199587,
          9.642277,
          -3.4396727,
          -3.9655886,
          6.4485755,
          -8.145896,
          -16.181807,
          -2.18324,
          -7.421473,
          -16.823051,
          -6.266252,
          -14.12972,
          -19.574791,
          -7.834224,
          -17.400091,
          1.2661299,
          -0.9713553,
          15.265018,
          -15.084261,
          -17.51262,
          -1.5579305,
          -19.257328,
          -22.732933,
          -8.988222,
          -24.86084,
          -22.80013,
          -9.380412,
          -0.768465,
          -1.9198412,
          16.628054,
          -7.4160037,
          -8.248755,
          6.018299,
          -10.681859,
          -7.5062933,
          7.156581,
          -17.041933,
          -10.607866,
          2.6506693,
          -23.200651,
          -22.273842,
          -2.3768222,
          -24.091484,
          -21.600203,
          -7.3439894,
          20.801367,
          3.9291618,
          -20.555628,
          -21.349356,
          19.38141,
          -1.8786354,
          -1.1669546,
          1.0749166,
          -17.756067,
          -22.154945,
          16.520834,
          -9.332905,
          -7.024298,
          30.932297,
          6.4185705,
          4.2543454,
          12.7530985,
          -8.210574,
          -9.635961,
          5.791413,
          -18.839344,
          -14.238236,
          17.627184,
          -5.1396484,
          -1.3239776,
          4.117735,
          -17.21296,
          -18.620628,
          -17.948503,
          -7.3644547,
          -20.397083,
          -4.812684,
          9.932186,
          -3.7208858,
          -19.665932,
          -5.5033545,
          -18.16548,
          -4.316509,
          7.06057,
          -8.112922,
          6.8245115,
          24.46615,
          10.598398,
          -11.423934,
          10.898864,
          -8.375099,
          -17.828024,
          -5.7454557,
          -16.180502,
          -3.182128,
          7.985766,
          -3.8665032,
          -21.172302,
          -7.1384573,
          -17.271786,
          -20.921173,
          -20.595175,
          -13.1024275,
          -3.8167346,
          -1.8662795,
          9.326656,
          -24.561878,
          -22.675632,
          -10.453631,
          -7.373473,
          -7.6483917,
          3.4400017,
          2.757684,
          6.6520004,
          22.837345,
          -7.091815,
          -8.401618,
          2.5102544,
          -23.259008,
          -16.936562,
          -6.7477837,
          -5.033465,
          -5.4707923,
          10.755969,
          -22.629576,
          -20.31733,
          -7.462855,
          8.374366,
          5.1918607,
          -20.888206,
          -23.8783,
          1.8917663,
          -22.145819,
          -22.355694,
          11.574798,
          -7.6149664,
          -6.228089,
          9.118507,
          -13.2902355,
          -13.740337,
          14.207616,
          -11.251679,
          -11.702149,
          23.579798,
          4.6393933,
          -0.41097975,
          4.470352,
          -21.47238,
          -18.230753,
          7.900983,
          -22.047546,
          -22.301605,
          21.405577,
          -6.276732,
          -5.934363,
          -18.912031,
          -8.85381,
          -18.374708,
          -16.46242,
          -10.695585,
          -18.476397,
          -5.5926633,
          4.6018906,
          -3.4704325,
          -5.468416,
          3.4043508,
          -6.197037,
          -5.596577,
          9.510841,
          -4.582377,
          5.233131,
          19.698645,
          3.3919384,
          -17.051357,
          -9.735956,
          -14.231227,
          -15.442311,
          -10.180095,
          -14.993514,
          -5.154136,
          6.4385552,
          -2.527883,
          -18.207218,
          -19.449814,
          -10.109113,
          -23.006737,
          -20.84984,
          -6.0537877,
          -9.4695425,
          -9.705279,
          0.84893537,
          -8.747181,
          -10.245537,
          4.323701,
          -6.3318176,
          -5.8561573,
          3.4918408,
          2.070136,
          3.25894,
          14.046548,
          -21.097599,
          -19.747238,
          -1.1305305,
          -18.871872,
          -18.730328,
          -5.0355034,
          -9.412154,
          -8.247274,
          4.6612363,
          11.535476,
          25.265474,
          -0.97132343,
          -0.6283807,
          10.057245,
          -15.20102,
          -14.656974,
          2.1630366,
          -24.438429,
          -23.314415,
          0.87297904,
          -21.109278,
          -23.94867,
          9.482379,
          -14.655305,
          -18.047436,
          2.6628547,
          -26.37563,
          -22.90938,
          1.3857936,
          -24.491432,
          -22.344574,
          20.74363,
          -1.1024982,
          -3.6853256,
          15.248091,
          -13.708412,
          -10.3205805,
          13.4212265,
          -11.97368,
          -13.955956,
          4.4223847,
          14.776332,
          4.2070837,
          -13.35184,
          -0.9157029,
          -16.492064,
          -19.074646,
          -11.168762,
          -19.27133,
          -19.898245,
          -5.0934143,
          -17.552181,
          -15.2970495,
          -0.6335935,
          -11.194449,
          -20.369205,
          -6.5338144,
          -19.977304,
          -23.400518,
          -9.796976,
          -19.662392,
          -3.5812721,
          11.592402,
          -5.3508854,
          -6.958251,
          4.807813,
          -6.5895505,
          -12.170432,
          4.100061,
          -15.849884,
          2.9503696,
          1.1290324,
          11.109112,
          -9.2497425,
          -12.144759,
          -1.902015,
          -20.356787,
          -19.313316,
          -8.507053,
          -21.173935,
          -16.667692,
          -8.368805,
          -11.880804,
          -10.553218,
          -1.0178386,
          -21.023327,
          -19.178307,
          -7.232768,
          -20.893057,
          -18.305845,
          -3.7184517,
          -4.7665553,
          -3.0709596,
          18.023901,
          -7.57632,
          -9.515828,
          3.9642596,
          -12.136658,
          -10.552558,
          -0.9878674,
          20.32106,
          6.9228406,
          -18.99771,
          -19.409246,
          17.933594,
          -4.193189,
          -5.115861,
          1.8620911,
          -21.182777,
          -19.005785,
          5.727132,
          -22.454096,
          -20.03993,
          17.512161,
          -6.1130075,
          -5.7989845,
          4.0989423,
          -19.975483,
          -23.015764,
          16.956715,
          -10.044397,
          -5.0301476,
          30.787403,
          7.1843534,
          8.07097,
          13.585451,
          -10.546306,
          -9.8537445,
          -16.746796,
          -8.479356,
          -19.260504,
          -7.458271,
          5.439209,
          -1.9599506,
          -22.791351,
          -4.751049,
          -16.388527,
          -16.611416,
          -6.7954717,
          -18.330914,
          -3.7766242,
          7.1708627,
          -5.9788976,
          -19.492409,
          -9.891728,
          -17.847715,
          -12.436381,
          2.202894,
          -8.421979,
          4.461575,
          19.20489,
          3.0275865,
          -12.618297,
          0.31933486,
          -11.206261,
          -17.332817,
          -17.809587,
          -10.312135,
          -4.8698044,
          2.4727738,
          8.458812,
          -17.486973,
          -16.27277,
          -8.389937,
          -18.211308,
          -18.388294,
          -4.778678,
          -2.5558858,
          -3.5530667,
          10.970784,
          -20.253166,
          -18.913855,
          -6.7999063,
          -10.270152,
          -7.914988,
          3.4853508,
          3.6336224,
          5.174912,
          21.031212,
          -14.451587,
          -9.302384,
          -0.4361828,
          11.058054,
          2.839524,
          -20.666666,
          -23.528973,
          3.752968,
          -24.85111,
          -24.405163,
          11.526176,
          -13.20467,
          -10.72879,
          2.2101018,
          -27.651365,
          -25.184988,
          7.112962,
          -25.43816,
          -26.157133,
          14.431092,
          -12.113107,
          -14.8292465,
          14.692474,
          -12.362197,
          -11.7800045,
          15.178413,
          -13.032496,
          -11.881609,
          30.062664,
          -2.0519457,
          -0.3442978,
          -18.552488,
          -9.63693,
          -20.436733,
          -19.932783,
          -7.364418,
          -17.21921,
          -10.649038,
          5.6471987,
          -6.333805,
          -19.329397,
          -8.970383,
          -19.968666,
          -18.004642,
          -7.222907,
          -15.845496,
          -7.778838,
          5.0785084,
          -8.656618,
          -10.750705,
          -0.7622692,
          -7.193569,
          -8.261537,
          2.4819863,
          -7.7560153,
          1.7012609,
          16.727602,
          2.603661,
          -19.202972,
          -20.141552,
          -10.145899,
          -16.914993,
          -18.052805,
          -10.843281,
          -8.059062,
          -7.4381723,
          3.4706862,
          -19.31208,
          -18.442583,
          -5.9117513,
          -19.253296,
          -14.376411,
          -4.382628,
          -10.312244,
          -5.1972475,
          5.6922,
          -12.936588,
          -10.133013,
          0.8475444,
          -11.743605,
          -11.145111,
          1.0891128,
          -0.17867853,
          2.2922606,
          13.030776,
          29.209558,
          46.246075,
          19.025736,
          22.30001,
          29.72689,
          9.359314,
          11.663757,
          28.668924,
          1.9558114,
          -2.0445797,
          27.06576,
          -1.9237908,
          -4.740758,
          16.972694,
          33.75851,
          22.499418,
          5.2605186,
          20.336748,
          3.2657046,
          2.1698985,
          8.647088,
          -6.258699,
          -5.977021,
          6.0969915,
          -3.1501615,
          22.131865,
          22.604317,
          28.385462,
          5.633144,
          7.711823,
          19.308613,
          -1.4447433,
          -3.7360003,
          9.623716,
          -5.2786093,
          -3.4766726,
          4.7713737,
          40.44039,
          26.861301,
          2.2594047,
          1.1099764,
          41.851055,
          12.770057,
          9.107079,
          25.346924,
          3.2318263,
          0.35509554,
          1.7488046,
          10.402059,
          -3.1000671,
          12.705342,
          25.486448,
          13.335224,
          1.8073144,
          8.837632,
          -3.5012922,
          2.4815753,
          -0.35216582,
          9.64817,
          12.247285,
          13.512718,
          24.34909,
          -1.7982616,
          -1.7006117,
          12.590922,
          27.642231,
          27.475992,
          -1.4625763,
          -4.107479,
          24.6476,
          3.6048002,
          1.2113799,
          35.932278,
          12.399095,
          9.774705,
          -2.2889867,
          13.461984,
          -0.5137774,
          0.050760668,
          13.285186,
          -5.2903147,
          8.043569,
          23.714748,
          4.5665593,
          -7.3643823,
          -2.8097308,
          6.4088497,
          -3.3403199,
          -4.7705684,
          8.933103,
          7.41695,
          8.738372,
          22.193737,
          21.818094,
          34.853886,
          8.444383,
          10.020091,
          9.097768,
          27.219032,
          8.654381,
          10.412374,
          8.356196,
          25.438417,
          23.688936,
          21.840677,
          15.747834,
          41.59291,
          7.3045926,
          9.368025,
          12.875964,
          21.472914,
          7.897902,
          12.159029,
          5.754772,
          23.897612,
          24.089142,
          24.327038,
          24.575298,
          40.85345,
          17.710777,
          18.761557,
          27.397305,
          5.3804975,
          4.0422163,
          21.580513,
          -3.3240938,
          2.192096,
          26.175556,
          -1.3552704,
          0.33818713,
          16.318401,
          36.38349,
          14.123653,
          1.6884954,
          22.123766,
          3.6610038,
          -2.5335238,
          14.519556,
          -0.8777753,
          -4.5947285,
          12.04651,
          -0.49896428,
          19.38146,
          20.394728,
          29.458635,
          1.7914952,
          2.5992503,
          16.747082,
          2.4028654,
          -2.7998264,
          11.347022,
          -3.8264928,
          0.6743371,
          7.6363,
          30.877201,
          23.56089,
          4.323588,
          3.3795958,
          38.895256,
          13.617518,
          10.417848,
          24.184519,
          0.459077,
          2.081599,
          -1.6458124,
          15.073518,
          -0.19384898,
          13.28062,
          30.602158,
          14.459121,
          -2.5484598,
          13.449304,
          0.035355877,
          0.70859116,
          -2.5449698,
          9.574681,
          14.754093,
          12.319889,
          21.471424,
          -2.4185464,
          1.0149153,
          7.8791814,
          32.968594,
          24.579597,
          -2.552019,
          -4.9825816,
          21.134274,
          -5.974127,
          -4.0610256,
          37.081867,
          13.826374,
          13.408429,
          0.31549564,
          14.869173,
          1.5637519,
          -4.20484,
          17.991167,
          2.0127685,
          11.6298895,
          29.638922,
          16.726486,
          -2.7667112,
          -2.3404808,
          7.625776,
          -1.992196,
          -2.6561368,
          6.1655993,
          11.252475,
          15.857458,
          22.278345,
          18.791363,
          30.437912,
          11.878498,
          11.75716,
          11.284825,
          28.085052,
          11.280407,
          8.247492,
          5.553244,
          24.774176,
          22.163969,
          25.669743,
          17.273745,
          42.07248,
          5.5985813,
          10.706497,
          12.583684,
          26.711058,
          8.3891535,
          14.739113,
          6.624596,
          17.824942,
          24.63363,
          27.377169
         ],
         "yaxis": "y"
        }
       ],
       "layout": {
        "height": 500,
        "legend": {
         "title": {
          "text": "SET"
         },
         "tracegroupgap": 0
        },
        "margin": {
         "t": 60
        },
        "template": {
         "data": {
          "bar": [
           {
            "error_x": {
             "color": "#2a3f5f"
            },
            "error_y": {
             "color": "#2a3f5f"
            },
            "marker": {
             "line": {
              "color": "#E5ECF6",
              "width": 0.5
             },
             "pattern": {
              "fillmode": "overlay",
              "size": 10,
              "solidity": 0.2
             }
            },
            "type": "bar"
           }
          ],
          "barpolar": [
           {
            "marker": {
             "line": {
              "color": "#E5ECF6",
              "width": 0.5
             },
             "pattern": {
              "fillmode": "overlay",
              "size": 10,
              "solidity": 0.2
             }
            },
            "type": "barpolar"
           }
          ],
          "carpet": [
           {
            "aaxis": {
             "endlinecolor": "#2a3f5f",
             "gridcolor": "white",
             "linecolor": "white",
             "minorgridcolor": "white",
             "startlinecolor": "#2a3f5f"
            },
            "baxis": {
             "endlinecolor": "#2a3f5f",
             "gridcolor": "white",
             "linecolor": "white",
             "minorgridcolor": "white",
             "startlinecolor": "#2a3f5f"
            },
            "type": "carpet"
           }
          ],
          "choropleth": [
           {
            "colorbar": {
             "outlinewidth": 0,
             "ticks": ""
            },
            "type": "choropleth"
           }
          ],
          "contour": [
           {
            "colorbar": {
             "outlinewidth": 0,
             "ticks": ""
            },
            "colorscale": [
             [
              0,
              "#0d0887"
             ],
             [
              0.1111111111111111,
              "#46039f"
             ],
             [
              0.2222222222222222,
              "#7201a8"
             ],
             [
              0.3333333333333333,
              "#9c179e"
             ],
             [
              0.4444444444444444,
              "#bd3786"
             ],
             [
              0.5555555555555556,
              "#d8576b"
             ],
             [
              0.6666666666666666,
              "#ed7953"
             ],
             [
              0.7777777777777778,
              "#fb9f3a"
             ],
             [
              0.8888888888888888,
              "#fdca26"
             ],
             [
              1,
              "#f0f921"
             ]
            ],
            "type": "contour"
           }
          ],
          "contourcarpet": [
           {
            "colorbar": {
             "outlinewidth": 0,
             "ticks": ""
            },
            "type": "contourcarpet"
           }
          ],
          "heatmap": [
           {
            "colorbar": {
             "outlinewidth": 0,
             "ticks": ""
            },
            "colorscale": [
             [
              0,
              "#0d0887"
             ],
             [
              0.1111111111111111,
              "#46039f"
             ],
             [
              0.2222222222222222,
              "#7201a8"
             ],
             [
              0.3333333333333333,
              "#9c179e"
             ],
             [
              0.4444444444444444,
              "#bd3786"
             ],
             [
              0.5555555555555556,
              "#d8576b"
             ],
             [
              0.6666666666666666,
              "#ed7953"
             ],
             [
              0.7777777777777778,
              "#fb9f3a"
             ],
             [
              0.8888888888888888,
              "#fdca26"
             ],
             [
              1,
              "#f0f921"
             ]
            ],
            "type": "heatmap"
           }
          ],
          "heatmapgl": [
           {
            "colorbar": {
             "outlinewidth": 0,
             "ticks": ""
            },
            "colorscale": [
             [
              0,
              "#0d0887"
             ],
             [
              0.1111111111111111,
              "#46039f"
             ],
             [
              0.2222222222222222,
              "#7201a8"
             ],
             [
              0.3333333333333333,
              "#9c179e"
             ],
             [
              0.4444444444444444,
              "#bd3786"
             ],
             [
              0.5555555555555556,
              "#d8576b"
             ],
             [
              0.6666666666666666,
              "#ed7953"
             ],
             [
              0.7777777777777778,
              "#fb9f3a"
             ],
             [
              0.8888888888888888,
              "#fdca26"
             ],
             [
              1,
              "#f0f921"
             ]
            ],
            "type": "heatmapgl"
           }
          ],
          "histogram": [
           {
            "marker": {
             "pattern": {
              "fillmode": "overlay",
              "size": 10,
              "solidity": 0.2
             }
            },
            "type": "histogram"
           }
          ],
          "histogram2d": [
           {
            "colorbar": {
             "outlinewidth": 0,
             "ticks": ""
            },
            "colorscale": [
             [
              0,
              "#0d0887"
             ],
             [
              0.1111111111111111,
              "#46039f"
             ],
             [
              0.2222222222222222,
              "#7201a8"
             ],
             [
              0.3333333333333333,
              "#9c179e"
             ],
             [
              0.4444444444444444,
              "#bd3786"
             ],
             [
              0.5555555555555556,
              "#d8576b"
             ],
             [
              0.6666666666666666,
              "#ed7953"
             ],
             [
              0.7777777777777778,
              "#fb9f3a"
             ],
             [
              0.8888888888888888,
              "#fdca26"
             ],
             [
              1,
              "#f0f921"
             ]
            ],
            "type": "histogram2d"
           }
          ],
          "histogram2dcontour": [
           {
            "colorbar": {
             "outlinewidth": 0,
             "ticks": ""
            },
            "colorscale": [
             [
              0,
              "#0d0887"
             ],
             [
              0.1111111111111111,
              "#46039f"
             ],
             [
              0.2222222222222222,
              "#7201a8"
             ],
             [
              0.3333333333333333,
              "#9c179e"
             ],
             [
              0.4444444444444444,
              "#bd3786"
             ],
             [
              0.5555555555555556,
              "#d8576b"
             ],
             [
              0.6666666666666666,
              "#ed7953"
             ],
             [
              0.7777777777777778,
              "#fb9f3a"
             ],
             [
              0.8888888888888888,
              "#fdca26"
             ],
             [
              1,
              "#f0f921"
             ]
            ],
            "type": "histogram2dcontour"
           }
          ],
          "mesh3d": [
           {
            "colorbar": {
             "outlinewidth": 0,
             "ticks": ""
            },
            "type": "mesh3d"
           }
          ],
          "parcoords": [
           {
            "line": {
             "colorbar": {
              "outlinewidth": 0,
              "ticks": ""
             }
            },
            "type": "parcoords"
           }
          ],
          "pie": [
           {
            "automargin": true,
            "type": "pie"
           }
          ],
          "scatter": [
           {
            "fillpattern": {
             "fillmode": "overlay",
             "size": 10,
             "solidity": 0.2
            },
            "type": "scatter"
           }
          ],
          "scatter3d": [
           {
            "line": {
             "colorbar": {
              "outlinewidth": 0,
              "ticks": ""
             }
            },
            "marker": {
             "colorbar": {
              "outlinewidth": 0,
              "ticks": ""
             }
            },
            "type": "scatter3d"
           }
          ],
          "scattercarpet": [
           {
            "marker": {
             "colorbar": {
              "outlinewidth": 0,
              "ticks": ""
             }
            },
            "type": "scattercarpet"
           }
          ],
          "scattergeo": [
           {
            "marker": {
             "colorbar": {
              "outlinewidth": 0,
              "ticks": ""
             }
            },
            "type": "scattergeo"
           }
          ],
          "scattergl": [
           {
            "marker": {
             "colorbar": {
              "outlinewidth": 0,
              "ticks": ""
             }
            },
            "type": "scattergl"
           }
          ],
          "scattermapbox": [
           {
            "marker": {
             "colorbar": {
              "outlinewidth": 0,
              "ticks": ""
             }
            },
            "type": "scattermapbox"
           }
          ],
          "scatterpolar": [
           {
            "marker": {
             "colorbar": {
              "outlinewidth": 0,
              "ticks": ""
             }
            },
            "type": "scatterpolar"
           }
          ],
          "scatterpolargl": [
           {
            "marker": {
             "colorbar": {
              "outlinewidth": 0,
              "ticks": ""
             }
            },
            "type": "scatterpolargl"
           }
          ],
          "scatterternary": [
           {
            "marker": {
             "colorbar": {
              "outlinewidth": 0,
              "ticks": ""
             }
            },
            "type": "scatterternary"
           }
          ],
          "surface": [
           {
            "colorbar": {
             "outlinewidth": 0,
             "ticks": ""
            },
            "colorscale": [
             [
              0,
              "#0d0887"
             ],
             [
              0.1111111111111111,
              "#46039f"
             ],
             [
              0.2222222222222222,
              "#7201a8"
             ],
             [
              0.3333333333333333,
              "#9c179e"
             ],
             [
              0.4444444444444444,
              "#bd3786"
             ],
             [
              0.5555555555555556,
              "#d8576b"
             ],
             [
              0.6666666666666666,
              "#ed7953"
             ],
             [
              0.7777777777777778,
              "#fb9f3a"
             ],
             [
              0.8888888888888888,
              "#fdca26"
             ],
             [
              1,
              "#f0f921"
             ]
            ],
            "type": "surface"
           }
          ],
          "table": [
           {
            "cells": {
             "fill": {
              "color": "#EBF0F8"
             },
             "line": {
              "color": "white"
             }
            },
            "header": {
             "fill": {
              "color": "#C8D4E3"
             },
             "line": {
              "color": "white"
             }
            },
            "type": "table"
           }
          ]
         },
         "layout": {
          "annotationdefaults": {
           "arrowcolor": "#2a3f5f",
           "arrowhead": 0,
           "arrowwidth": 1
          },
          "autotypenumbers": "strict",
          "coloraxis": {
           "colorbar": {
            "outlinewidth": 0,
            "ticks": ""
           }
          },
          "colorscale": {
           "diverging": [
            [
             0,
             "#8e0152"
            ],
            [
             0.1,
             "#c51b7d"
            ],
            [
             0.2,
             "#de77ae"
            ],
            [
             0.3,
             "#f1b6da"
            ],
            [
             0.4,
             "#fde0ef"
            ],
            [
             0.5,
             "#f7f7f7"
            ],
            [
             0.6,
             "#e6f5d0"
            ],
            [
             0.7,
             "#b8e186"
            ],
            [
             0.8,
             "#7fbc41"
            ],
            [
             0.9,
             "#4d9221"
            ],
            [
             1,
             "#276419"
            ]
           ],
           "sequential": [
            [
             0,
             "#0d0887"
            ],
            [
             0.1111111111111111,
             "#46039f"
            ],
            [
             0.2222222222222222,
             "#7201a8"
            ],
            [
             0.3333333333333333,
             "#9c179e"
            ],
            [
             0.4444444444444444,
             "#bd3786"
            ],
            [
             0.5555555555555556,
             "#d8576b"
            ],
            [
             0.6666666666666666,
             "#ed7953"
            ],
            [
             0.7777777777777778,
             "#fb9f3a"
            ],
            [
             0.8888888888888888,
             "#fdca26"
            ],
            [
             1,
             "#f0f921"
            ]
           ],
           "sequentialminus": [
            [
             0,
             "#0d0887"
            ],
            [
             0.1111111111111111,
             "#46039f"
            ],
            [
             0.2222222222222222,
             "#7201a8"
            ],
            [
             0.3333333333333333,
             "#9c179e"
            ],
            [
             0.4444444444444444,
             "#bd3786"
            ],
            [
             0.5555555555555556,
             "#d8576b"
            ],
            [
             0.6666666666666666,
             "#ed7953"
            ],
            [
             0.7777777777777778,
             "#fb9f3a"
            ],
            [
             0.8888888888888888,
             "#fdca26"
            ],
            [
             1,
             "#f0f921"
            ]
           ]
          },
          "colorway": [
           "#636efa",
           "#EF553B",
           "#00cc96",
           "#ab63fa",
           "#FFA15A",
           "#19d3f3",
           "#FF6692",
           "#B6E880",
           "#FF97FF",
           "#FECB52"
          ],
          "font": {
           "color": "#2a3f5f"
          },
          "geo": {
           "bgcolor": "white",
           "lakecolor": "white",
           "landcolor": "#E5ECF6",
           "showlakes": true,
           "showland": true,
           "subunitcolor": "white"
          },
          "hoverlabel": {
           "align": "left"
          },
          "hovermode": "closest",
          "mapbox": {
           "style": "light"
          },
          "paper_bgcolor": "white",
          "plot_bgcolor": "#E5ECF6",
          "polar": {
           "angularaxis": {
            "gridcolor": "white",
            "linecolor": "white",
            "ticks": ""
           },
           "bgcolor": "#E5ECF6",
           "radialaxis": {
            "gridcolor": "white",
            "linecolor": "white",
            "ticks": ""
           }
          },
          "scene": {
           "xaxis": {
            "backgroundcolor": "#E5ECF6",
            "gridcolor": "white",
            "gridwidth": 2,
            "linecolor": "white",
            "showbackground": true,
            "ticks": "",
            "zerolinecolor": "white"
           },
           "yaxis": {
            "backgroundcolor": "#E5ECF6",
            "gridcolor": "white",
            "gridwidth": 2,
            "linecolor": "white",
            "showbackground": true,
            "ticks": "",
            "zerolinecolor": "white"
           },
           "zaxis": {
            "backgroundcolor": "#E5ECF6",
            "gridcolor": "white",
            "gridwidth": 2,
            "linecolor": "white",
            "showbackground": true,
            "ticks": "",
            "zerolinecolor": "white"
           }
          },
          "shapedefaults": {
           "line": {
            "color": "#2a3f5f"
           }
          },
          "ternary": {
           "aaxis": {
            "gridcolor": "white",
            "linecolor": "white",
            "ticks": ""
           },
           "baxis": {
            "gridcolor": "white",
            "linecolor": "white",
            "ticks": ""
           },
           "bgcolor": "#E5ECF6",
           "caxis": {
            "gridcolor": "white",
            "linecolor": "white",
            "ticks": ""
           }
          },
          "title": {
           "x": 0.05
          },
          "xaxis": {
           "automargin": true,
           "gridcolor": "white",
           "linecolor": "white",
           "ticks": "",
           "title": {
            "standoff": 15
           },
           "zerolinecolor": "white",
           "zerolinewidth": 2
          },
          "yaxis": {
           "automargin": true,
           "gridcolor": "white",
           "linecolor": "white",
           "ticks": "",
           "title": {
            "standoff": 15
           },
           "zerolinecolor": "white",
           "zerolinewidth": 2
          }
         }
        },
        "title": {
         "text": "Convolutional Representation of Relations between Triplets of Objects"
        },
        "width": 1000,
        "xaxis": {
         "anchor": "y",
         "domain": [
          0,
          1
         ],
         "title": {
          "text": "$\\langle R[g], \\boldsymbol{f} \\rangle_{\\mathrm{rel}} \\ \\text{[PC1]}$"
         }
        },
        "yaxis": {
         "anchor": "x",
         "domain": [
          0,
          1
         ],
         "title": {
          "text": "$\\langle R[g], \\boldsymbol{f} \\rangle_{\\mathrm{rel}} \\ \\text{[PC2]}$"
         }
        }
       }
      },
      "text/html": [
       "<div>                            <div id=\"ce0cb28e-3f4d-4381-8035-5a4a77bd0ef5\" class=\"plotly-graph-div\" style=\"height:500px; width:1000px;\"></div>            <script type=\"text/javascript\">                require([\"plotly\"], function(Plotly) {                    window.PLOTLYENV=window.PLOTLYENV || {};                                    if (document.getElementById(\"ce0cb28e-3f4d-4381-8035-5a4a77bd0ef5\")) {                    Plotly.newPlot(                        \"ce0cb28e-3f4d-4381-8035-5a4a77bd0ef5\",                        [{\"hovertemplate\":\"SET=not set<br>conv [PC1]=%{x}<br>conv [PC2]=%{y}<extra></extra>\",\"legendgroup\":\"not set\",\"marker\":{\"color\":\"#636efa\",\"symbol\":\"circle\"},\"mode\":\"markers\",\"name\":\"not set\",\"showlegend\":true,\"x\":[27.401442,17.294155,25.5993,-6.211631,29.686035,17.864996,14.008666,60.648113,45.400085,10.168006,50.789436,20.956917,30.813215,34.20507,22.66798,43.812332,12.8205185,34.790688,52.426754,26.000793,20.319305,0.13503139,18.34555,31.751297,52.73835,23.398796,21.24536,10.45847,51.630344,52.03943,16.093155,3.9776664,6.3414288,28.595234,0.87629116,31.87091,27.752934,8.351552,52.572517,16.025023,25.936743,19.161913,28.932896,-3.3421748,10.474743,-6.1071777,15.776309,22.727722,21.92883,17.23961,23.509245,36.44692,38.6729,42.632523,50.962185,35.56432,16.958015,38.65543,23.043703,35.845345,18.851261,36.572693,9.145877,26.238428,15.460974,21.649925,50.7547,35.415813,75.538994,46.01843,25.00747,24.26237,-6.8471684,2.4201841,48.493828,47.365314,1.0603929,3.845188,-1.4526371,28.06481,38.29876,50.940697,5.6970444,36.963684,19.643126,44.237118,-1.8019956,4.6584487,20.459946,20.258522,11.849872,19.516161,15.430879,-2.5923927,8.455038,6.7734466,28.13689,32.941074,14.0306225,29.68777,35.176373,12.641732,40.554104,10.936115,9.8861685,40.27029,34.004654,20.413628,25.975624,35.070835,36.723366,42.92895,7.289403,18.609348,32.706352,56.147163,15.401313,16.292927,33.8142,21.932209,-0.1408733,19.404745,17.961643,15.745476,14.809958,6.834939,36.181194,27.756231,2.8410702,27.071856,-1.9638686,15.056835,32.80572,23.153704,23.104559,2.0480387,-0.028665986,18.35587,17.524126,31.25264,20.777374,24.469046,13.769603,2.2056663,37.521866,2.1327465,4.1224666,47.30802,47.72884,3.320333,63.47681,34.987797,27.582531,22.6359,28.217466,-4.577474,36.382557,19.92781,20.208351,8.931541,31.371908,-0.013133898,29.531797,18.185133,47.759533,0.73141116,6.5267406,1.2789446,12.461439,4.2356763,9.865398,46.983463,46.89945,30.518282,61.280888,58.381767,28.467966,52.68236,65.96717,1.3324699,-2.7219782,-7.856184,-5.4898467,39.98991,24.676537,9.400803,7.4384966,30.98635,8.551976,42.741947,39.875347,23.561754,3.0621285,19.621157,2.7871509,64.2393,24.5608,54.342392,36.01076,-1.1122477,12.243497,9.134366,17.648916,-3.6486099,14.527219,23.980476,50.426846,38.21227,5.1830683,34.41076,25.228489,21.36713,29.434029,21.240582,10.292254,2.2708876,8.967157,33.11872,43.098026,45.444477,33.868492,5.632626,29.650812,66.513054,2.0857804,2.949785,24.788218,54.105686,15.189699,12.214105,34.640858,-0.8111782,-0.34789422,17.751398,0.58882606,41.72822,33.572693,-4.702764,18.506195,25.908081,18.85629,31.281162,25.326212,4.5654345,29.09125,37.175858,13.835727,30.523088,44.971752,23.029636,38.651028,21.728544,17.871046,24.744389,39.73473,22.355827,23.503149,-2.8119466,-0.65789723,22.20133,14.383198,-4.7040405,59.581783,31.344818,17.86383,44.24634,34.77328,21.327415,9.470121,28.795197,63.079575,25.112558,-3.8572078,33.6514,32.754524,23.934797,40.014202,42.559246,30.210892,26.031328,13.973489,28.813412,26.279196,47.066505,56.42624,35.66778,16.784792,23.818026,-2.3739974,58.177773,25.151632,53.123272,50.056656,10.70602,15.66624,31.61351,8.8148,24.97561,61.623493,6.80326,16.358934,35.30905,8.991715,40.286777,-3.1900616,19.39147,37.005356,41.29989,18.10045,66.08593,62.009148,4.074329,16.222755,1.4588336,43.883026,-7.733454,30.246511,2.869595,47.01473,70.4312,11.249136,19.169247,23.010778,17.209923,-3.4611912,-8.909422,33.95585,8.44821,11.080673,22.816004,31.587978,6.082832,-1.6819073,10.206301,10.119306,37.21437,-0.4170639,44.348907,2.588829,10.012113,17.862413,35.656494,41.711193,40.07813,13.252492,29.040092,42.540264,24.909592,13.4043045,44.95366,41.269,40.954338,23.297493,7.98304,12.739455,22.97068,17.309591,15.927972,23.852478,53.326427,38.493645,1.7748282,14.556434,6.2728977,11.958995,6.883325,28.612062,25.741789,64.03247,43.927063,49.57336,14.307613,22.72816,4.963431,55.8037,21.9751,30.693975,-2.073761,5.8641405,28.273396,20.95745,1.5917107,26.31771,4.5826283,20.152033,25.389322,34.395447,49.553368,11.801885,10.506804,17.295176,26.235,34.45008,3.5107467,-0.42955214,22.6284,14.453054,-14.46861,21.781229,16.994642,64.30272,32.681225,14.01043,15.227974,2.86024,34.410904,0.8470809,-3.9895694,3.0448792,18.740807,19.185535,17.705278,-8.612613,4.0204635,19.880728,28.09863,35.947403,34.38377,30.400135,56.371063,3.6159363,31.6624,56.496677,21.93024,3.397004,18.322462,28.460352,35.5252,17.045897,25.088633,-4.566302,38.994064,2.2524562,20.309055,3.7276666,38.697136,17.486021,66.106255,39.670086,12.932896,19.699497,57.637684,21.537893,18.458553,28.505041,27.226202,2.3785696,9.372619,41.062546,46.67764,15.120293,10.558908,36.98299,3.5829155,27.731964,17.344093,12.054457,26.515171,-6.9990554,16.107454,22.601437,0.5585871,39.340584,6.411757,37.937916,27.633602,26.811436,5.605211,20.122658,9.648536,30.760078,33.393375,23.959507,16.168455,14.735806,29.712471,37.325626,31.860252,51.074913,25.975145,20.954157,12.958567,25.794773,30.28069,31.24448,3.1700473,42.416576,23.671186,-2.1381238,28.569822,12.772539,-7.8998237,11.936797,27.294912,32.092125,19.169128,23.419659,31.404697,0.66423786,26.153606,13.9552355,34.680862,6.8756604,9.161637,10.854222,10.195901,23.008465,28.16042,33.114357,17.77311,16.840384,36.999043,11.134936,31.684118,6.1983705,26.717882,56.097256,-2.3580678,62.662437,13.100006,60.924576,18.221395,7.5333533,3.283917,78.522224,5.0491734,37.12311,22.062822,30.949524,56.482365,4.5653567,5.587428,29.093262,50.542816,19.291594,28.364601,24.152493,41.394173,21.536644,24.587301,-1.0291114,41.631557,1.1270278,15.694246,23.506956,27.415293,28.600487,37.432056,29.924128,17.359632,-3.9931962,-3.0838351,19.559116,62.612705,42.765446,17.563105,40.92314,30.305439,22.39153,-1.1423476,4.8342752,-6.4012356,54.18904,7.406146,7.4153957,9.429236,14.475336,7.4292264,32.93527,-3.5637589,19.940847,17.04544,28.401161,12.025259,-1.2580196,3.9658844,1.3472781,-4.316123,23.197664,18.550117,14.745104,34.24559,52.1047,49.68911,26.64235,50.865932,64.46976,37.36664,35.736267,-0.37297088,12.612929,14.940721,1.4053116,-7.6249504,24.486204,31.303453,7.967002,3.8804712,28.684345,35.27622,20.291882,52.88839,33.508877,69.00547,27.014103,17.216164,53.041836,16.249077,12.176568,33.583572,30.003824,3.3240242,1.4066329,0.6435356,43.217213,36.258656,-4.8812723,51.17341,76.96063,2.8938622,14.769525,35.566357,47.20022,24.909763,11.163236,56.21036,4.9935336,51.82347,6.909808,40.318745,38.400024,41.363655,21.342876,35.188705,21.775967,25.407454,40.19986,21.351994,32.014595,46.357994,33.816025,35.682602,12.680442,46.698914,1.54932,3.3842769,36.594612,5.217529,42.628483,47.199383,19.18036,25.001331,30.28597,4.932257,6.881472,22.582895,24.16324,30.456675,34.493668,38.254787,36.14808,42.200512,26.504278,8.271043,38.29606,12.694217,29.160086,22.482948,48.484665,19.970703,38.841946,9.501892,-2.3005364,15.477273,5.9549294,6.4110136,13.881307,8.371271,46.55327,15.038672,27.634203,0.051194895,25.71468,10.397754,31.643782,14.591906,46.40864,3.0273967,36.56311,-5.18372,13.9535265,37.40026,51.393204,14.914873,45.282978,58.348534,-7.4089746,19.908228,19.688215,69.70374,44.96306,38.446533,43.262844,34.55972,23.377352,32.8977,29.446205,35.025646,18.674717,13.815069,9.780913,25.63397,0.53522843,19.685545,61.479374,34.506996,5.539116,70.93469,39.447742,40.108494,10.518217,24.217777,1.2765152,24.315756,25.006855,30.938417,31.964283,27.142782,59.583233,66.06754,29.324444,39.336796,-0.021039706,16.21461,16.425697,47.246128,24.572157,7.8795676,10.027996,15.224059,4.519587,5.580229,15.108517,65.20518,25.098923,15.393482,59.173336,29.235376,29.261566,39.92942,10.972326,4.0501328,22.268028,18.670969,-1.0736991,27.977804,0.49635735,8.915014,2.260097,21.528967,55.16116,47.41511,12.006693,21.04605,5.443623,30.291346,49.13704,62.275337,38.62851,58.26735,12.664631,16.438517,22.107777,54.2875,26.430605,68.55134,36.04706,63.135555,7.1466594,10.4396715,46.55997,58.92429,38.11503,35.95854,15.826047,35.06398,-7.6088595,22.415949,63.999523,16.220724,12.11154,55.09935,14.811766,38.095814,4.791792,3.7816608,16.007504,-6.504139,26.538256,-5.2171755,3.494803,29.263424,33.90151,14.294239,3.2733884,55.723927,36.675186,8.806035,30.896034,10.221879,31.686016,16.167238,37.30022,31.851799,25.307228,42.39674,22.834085,41.83069,14.110949,20.403597,25.917503,25.645763,19.675522,12.049865,28.217215,-5.5150185,-4.564471,32.58192,22.606184,26.23453,30.560587,67.02115,7.088909,51.72126,12.736969,8.115059,61.406075,37.46707,21.857046,28.214178,18.907595,16.607891,32.22388,24.263021,45.16222,-2.4944017,64.08878,27.945625,20.98051,26.486984,13.577139,-1.9727023,14.2222395,17.331234,1.7085828,14.843441,44.06121,8.322904,-4.769967,32.211666,35.402775,19.894846,6.50887,23.281492,-0.18215391,11.090714,34.62528,39.96984,32.64512,1.8408341,3.690202,25.018616,39.40663,4.493871,40.439228,24.733078,18.654898,20.75144,23.57006,17.259747,26.976345,31.364668,34.162346,18.763905,43.768887,30.601185,31.266792,36.523537,49.645042,27.441689,22.858109,32.211224,39.94071,29.952135,21.953049,29.497458,13.8542595,12.65791,6.660085,22.100122,26.720924,43.32121,11.093039,38.4013,33.471203,29.020369,37.269245,23.200615,9.216187,31.074411,0.026724312,40.09812,11.036474,22.34004,14.871964,-2.10927,19.778605,4.630303,19.128633,19.455284,17.336496,32.719833,17.062485,7.2853527,-5.258546,22.711338,0.12257661,17.473116,5.3654275,37.77663,19.146112,6.6139193,42.012012,47.244717,61.03069,3.0592709,-0.9921521,10.905672,29.988722,40.53096,21.146944,-8.172791,5.668912,-1.8650699,23.612713,20.766064,12.773988,7.5857735,27.902416,26.292652,30.966555,20.819376,14.410513,57.641632,-0.50017107,39.25519,17.195795,29.273365,56.152298,33.883945,18.075256,19.903126,38.440052,10.184944,2.6140015,29.984953,40.076347,26.730198,43.707737,26.530317,38.42518,34.70451,4.232981,-1.3670874,56.35064,10.357234,18.841934,67.70865,4.5773473,18.225985,-0.94593835,25.139,-0.4938924,-3.4168518,0.94757694,25.058828,28.961298,34.796757,10.578584,48.87855,26.690468,30.41884,10.559942,31.601994,32.804,3.924553,50.804646,10.15821,-0.8128096,40.222206,18.949968,40.475723,11.033214,-1.0719453,19.507065,16.74164,23.563751,6.992885,26.45843,40.18271,13.798657,16.420916,12.118954,13.435279,4.230453,68.256584,11.207318,47.931416,4.9377594,-1.6249938,14.727282,35.32316,31.383188,-5.9729395,13.666434,-7.835316,4.383679,9.616495,20.05825,-5.114449,17.95696,0.66820776,14.96669,62.978832,13.448559,24.286999,14.131657,48.305965,49.55691,8.833645,10.878245,10.623926,-0.58851707,38.09966,28.307678,38.831814,31.210464,10.256955,-6.2381687,52.787838,10.658826,10.5261965,39.82038,62.611317,9.036098,36.655396,-1.8875053,9.955721,0.88897735,-4.3129334,11.929624,-0.44124237,20.3117,-2.8397717,47.227448,9.545293,-8.284107,37.9884,43.171494,21.494902,22.073633,28.148582,21.221111,6.1565685,9.396196,13.99219,34.19789,42.60439,32.67322,34.02986],\"xaxis\":\"x\",\"y\":[-6.1253624,-2.140461,-12.710576,-9.384374,-7.538262,14.50457,-5.848887,-2.2365837,3.5222101,6.3760605,-0.8966528,-17.797186,-2.556062,6.720722,-16.264523,8.112902,-4.1366806,-4.0565395,-3.7174647,5.7059803,1.7787008,-4.6756353,-11.069702,0.14170757,20.53686,13.7421665,18.050589,-2.9372349,2.809029,3.9750576,-1.755083,16.960783,0.8647434,6.1953163,-0.007280233,8.952959,16.898737,-6.901597,-7.0025764,-5.5475087,-3.0344553,-11.439794,5.854012,-1.1484997,-3.721852,8.34687,9.7230625,-2.0991147,-6.2592897,8.764725,2.6856,3.48206,-1.3564377,16.262054,2.1451201,9.769754,13.952215,4.005321,4.035614,-2.7394483,2.7106476,6.5623646,1.1391014,2.7158678,-8.576417,-3.562018,-1.2011638,3.0312757,12.947333,-7.9383554,-10.278598,-3.5627868,12.799782,-4.074907,6.6383677,6.418534,9.56705,-14.345833,5.7763295,-2.5128002,-6.2730246,1.4670498,8.319272,-9.124229,-4.573119,22.290771,6.5312223,10.717726,4.8580594,2.1524143,-8.827548,13.608522,-5.6145034,0.050559644,-0.027276274,15.600357,6.5706105,6.6334414,0.56132066,-4.5627255,-1.901004,-2.4030426,13.21166,-9.658061,0.2666156,3.5506363,-5.1360874,-3.8570797,2.6626396,3.9094718,-12.651636,0.89409506,6.3400955,-6.0495763,20.29705,-5.3237505,-12.357158,3.513834,-0.45723802,4.0330896,-0.66704553,-3.3021555,-11.922218,10.509066,11.091665,-13.261535,-12.625548,-4.423171,-2.5181775,14.386972,18.11183,-9.903047,-1.1688206,-8.45416,-2.2859545,12.433732,-2.0540125,2.0572295,10.756601,-0.8828412,7.9304395,-9.071244,-9.55177,8.078177,4.8348136,11.294216,6.5607224,1.8651525,-6.099155,-2.367991,-6.420939,1.8926958,-8.125857,-9.149112,-7.0395603,-4.9565005,-5.514403,8.119153,-6.8536677,26.636894,16.268848,1.7805364,-5.399725,-3.9410553,-3.1819491,-14.901117,14.093819,-11.626259,20.655865,-0.90519035,1.2589655,-4.1277237,1.0778936,-2.2648487,-5.780301,12.473361,-3.857863,2.5864148,-3.6479402,6.505282,-14.924673,15.230771,16.883713,-1.9906609,-17.331245,-13.385272,10.232441,23.196388,4.207118,12.019531,4.5214715,-4.1543,4.325588,15.609499,-6.0014167,15.605595,12.919068,-11.193502,-5.150286,24.461857,-14.098125,15.094474,-7.3077025,6.727941,-7.5006104,1.8999829,-3.817615,-3.2761352,14.692192,-9.331203,21.33982,6.8613915,1.6871233,7.4042163,9.013136,-15.63884,9.528004,5.1360197,2.5250401,2.7557125,19.217789,-11.161449,-11.847785,10.450298,-3.190415,4.144609,-8.946943,-7.769587,11.161712,-7.952198,-1.553478,34.246326,6.161329,8.36519,5.9774394,-1.8405174,-0.025272164,22.520998,-7.9038854,-21.345564,-2.6923819,-5.8644276,-4.736647,-7.750577,16.550602,5.6617956,9.215211,-4.2805376,-0.65043354,-5.6487217,1.9736025,-14.612383,16.312286,3.1005416,1.0701683,0.544469,-5.94548,19.108273,12.545851,-0.74394166,38.546997,-2.782403,-9.299646,-17.909689,-14.816851,-6.0806904,-3.3656564,-11.570753,-15.037855,1.1066778,1.4842646,1.7400188,-9.385083,13.295978,4.0005746,2.9087107,-7.268221,0.41511354,-9.591804,13.765324,-17.746279,-6.292431,-3.0544934,3.50951,-2.229719,-10.6748085,-5.5852966,6.0220838,-10.899132,2.7523432,17.626188,-14.277505,7.9177074,9.211211,-0.9045718,-1.2021146,11.978329,5.846304,-8.621411,13.035742,-7.0352015,10.312577,20.076433,-5.9399605,5.4064546,6.0831985,1.4305229,6.226811,0.1390491,-9.395779,-3.7127798,1.5714686,-2.356801,4.679259,0.25671428,4.116618,-7.2530055,-12.585209,3.6640186,2.8828712,-8.783954,19.158812,1.2314856,-3.4129984,-1.3462055,13.366759,-12.018726,-8.155021,11.156249,-1.8137031,2.15236,4.0357647,7.269814,6.8108587,-8.887204,26.170969,2.4729264,0.9441747,0.4318789,11.615596,-7.3809505,-6.571275,-2.5037227,-3.3650656,-8.578492,-3.3591857,-12.77834,4.9530096,-0.018048381,6.4001007,-1.9196469,-4.399948,18.716095,-7.332924,10.503069,8.801,-5.1367197,1.8483458,-15.179387,4.071181,-5.1221724,13.4043665,6.2973576,-9.962618,-3.5623488,-0.95281655,7.372186,5.370993,-1.6700879,-5.0030556,-12.482037,16.656826,11.372762,-5.975817,-4.666611,-5.9517956,-0.98856497,6.2991753,14.017391,-6.207124,-3.3341246,7.405375,3.7082357,20.516485,-4.922923,-7.021612,-1.9994385,1.1519405,-12.020175,1.6849715,-4.3481836,-14.860091,-15.091991,-18.434433,-4.296111,21.90944,-12.107334,16.403423,-9.936878,1.4974704,6.4017015,-7.0050445,20.324121,14.931044,-14.239388,-1.5258452,0.7308378,2.3797975,2.6451576,-10.33803,4.5642834,-5.617372,13.369561,-4.799755,4.9396467,-1.6489147,-9.541491,-2.0557868,-9.989667,-4.0070987,15.893496,4.242557,-3.0346258,5.814794,1.8936597,-13.289973,-3.0668044,-5.6988535,24.993475,6.2821355,9.536665,14.931939,-2.9305768,24.32863,-0.67083406,1.3947498,-11.257976,2.743655,-14.507866,16.612818,-8.515849,12.574171,17.024958,-12.416158,3.504354,-6.2236395,0.4222719,-9.370991,1.3933657,1.0989242,-3.6648462,15.04239,1.6875976,17.125856,-6.649034,19.873543,14.046522,-7.9647255,8.734534,-8.750918,-2.3647656,-6.7209644,1.8953493,-13.789245,12.820677,9.38895,-7.267934,-8.032276,-4.9621673,25.265615,23.76087,-8.258491,-10.195345,0.66482985,5.687706,-5.4958,1.0837244,-13.214581,-6.6578493,-6.5483975,7.679917,8.757812,4.8314424,-7.4475703,-9.438811,4.920396,-15.155413,-3.6468632,0.92002636,2.3695145,10.636784,0.65559673,0.4939805,-7.962874,1.3731006,10.734088,2.3817425,-3.81939,21.373463,-5.0737076,-10.8147135,-13.946921,-1.3178554,-3.6328325,13.713104,8.260169,-1.8665144,14.687077,1.0006181,-5.352822,-3.8376298,4.240344,21.958794,-3.7616568,17.405222,12.182809,-8.801382,0.40532595,-4.0891137,-7.765576,1.4564672,8.322594,-5.732929,17.478739,7.7888484,-4.5009465,-13.610055,-10.404887,7.902247,-6.1850557,10.472193,10.097844,-0.5994705,3.4698575,15.732539,-5.1617312,-3.4412317,6.9492908,1.7108074,-7.1959114,3.3506935,-1.4299831,-2.9842937,15.388015,-11.648975,-7.379275,-4.6786294,7.62214,8.151123,16.8287,-0.82350147,17.578506,-4.380534,-1.4165326,13.702584,-8.717925,-1.8395467,1.4775714,15.713297,-2.422561,3.679826,-11.042697,2.709987,-7.8987813,11.68163,-1.9906586,6.094757,-3.835258,-2.7949765,-2.1239543,7.752655,-3.9804618,24.15826,8.498211,12.664264,-10.078456,-5.7422667,3.3791618,4.6572323,15.108687,0.45525074,-5.1431646,7.411999,-2.1673102,-2.8705306,-2.397625,0.45878932,-2.5762568,-11.787214,7.5505214,-8.754519,-6.570247,-14.063886,1.7327536,8.227025,-4.3915296,24.532665,11.578411,-3.1736832,21.027039,-1.7275379,-11.936082,-2.571061,-9.644533,12.098589,5.289525,3.4818096,-1.7477859,17.374525,0.9354355,13.689693,-0.90605026,-4.0682936,30.507948,-4.909336,6.40628,11.448073,4.206726,13.088545,0.9623808,8.816298,7.2964015,-0.9999712,-2.241167,2.2108417,5.5538573,-14.54131,-15.991096,13.350625,-7.504728,15.743212,-4.3613772,7.8150563,-1.7586001,-6.7574487,15.653446,2.2759721,-11.477151,1.2987727,5.1440377,5.4007215,-8.365416,19.170479,13.408741,19.510445,-16.57986,0.62141556,21.393238,26.75148,-18.769846,3.597137,-5.4588995,1.5765659,0.51927245,-1.3071079,-16.249622,12.897655,2.5088665,9.256209,1.175054,-4.877252,-1.4901503,11.068121,22.11294,0.56562597,10.806469,-6.2822814,-0.22267489,-0.98165643,6.659752,-10.769328,17.058056,11.816885,-10.711522,5.683748,1.49527,-12.686363,2.3967354,3.4640496,-7.9857974,8.353648,-13.926936,3.788675,4.0240846,-2.563409,7.1404195,-3.5324438,15.897976,-3.189705,4.5541425,-8.396463,4.566858,-6.972363,11.128286,0.8517981,-3.6912115,23.723375,-1.1724135,3.2308664,-2.026924,-4.1810217,-4.0737247,4.701396,4.623456,7.536146,-6.579591,1.2428076,-8.519655,14.357223,-13.221159,-16.591898,1.655011,0.10619091,-5.3527884,-2.5349002,-3.358626,18.900219,9.394652,-0.8854311,2.1449988,-11.159383,-8.581059,4.032826,-19.840443,-4.3933096,2.8878405,-17.152815,-4.2908807,-3.634768,19.30099,2.1342237,-8.130173,-8.768746,4.308814,0.4856219,28.040648,-9.429131,-3.7795215,11.352128,-8.649022,10.032434,15.089148,5.93571,-6.5808234,-10.507761,-9.526133,3.1728184,-13.388046,-13.109901,-4.073149,9.467017,-8.400244,2.5934308,-5.7897835,-9.732005,5.736144,-11.31247,-3.8194776,6.262323,-3.8187237,2.4483397,-1.340713,-1.0431447,6.186399,-13.436793,-4.4158654,7.189253,-5.179046,21.529436,-5.9726067,2.0829508,-2.4272428,3.638904,-16.467058,1.295226,13.35459,17.54158,6.382497,-5.3976035,-3.3178244,5.528199,-5.93735,1.1677896,5.022853,4.1822214,-4.972991,25.460165,14.307302,-4.4928875,-0.712524,5.46887,-2.7676113,-14.532216,-2.8716872,8.617422,14.788792,8.447331,-3.9448223,9.908964,14.58507,-6.1516767,-4.845335,6.380641,-21.12281,-0.07576169,-13.697737,3.8209019,-2.9962585,-8.049886,3.7608857,0.4832268,6.5559754,-3.6392677,-13.736473,4.410379,-0.48992223,0.19705574,-12.723914,-3.0671997,5.485997,7.1346684,7.00098,-2.889732,37.899506,5.529448,22.26328,6.8079324,-0.028493507,-13.139639,-10.316533,18.461702,1.9890605,-0.07169514,1.487583,22.06435,-6.615003,-4.5110207,-4.2296605,-9.84551,5.7328873,-4.6308694,6.925564,14.135236,2.8768399,2.5487618,-10.897694,7.367678,17.045189,14.00595,-4.4210277,10.71955,1.7866027,-1.2677397,-3.9936454,-11.098595,-15.72435,-8.118953,-2.7697673,2.366428,4.7363706,9.695666,13.408798,-11.481416,7.7244287,4.86157,-13.097984,1.7872268,15.702628,2.8303282,4.012405,7.100225,-12.660886,-0.5562466,15.207362,-2.1458478,-6.0477815,-6.335098,-3.7274342,8.235145,0.8881873,-12.50883,-8.378602,5.327975,7.50929,-10.836803,12.063237,2.0740476,4.894675,-1.5246506,-11.186634,-1.1880186,-14.207321,-7.1715765,-10.4032135,1.1054024,4.535016,-4.8290443,-13.409061,1.3377626,-7.6731315,1.0509716,-2.0815365,11.933766,-4.0384946,18.008266,-8.395589,-7.9518957,5.2040663,-9.662707,9.33673,18.289427,3.958431,-3.1003277,13.536753,-10.12629,-6.685586,-0.027914833,-23.158321,-5.3924103,-9.302431,-12.710203,13.843862,10.032262,5.5617476,26.676989,-14.55676,-5.74836,6.162483,-9.2462635,-0.6951456,-10.068542,26.657524,1.5523282,4.009837,2.816573,-3.752356,12.396325,-5.02117,-5.209256,-2.643017,-1.6523564,25.26076,-12.783959,-12.818286,3.222823,-4.2910323,2.7110963,-5.791344,-3.9150183,9.4303055,6.558094,-12.51187,-10.440967,-0.025863096,28.99946,21.437744,-2.6336102,18.344955,8.853236,-2.3406625,-5.4999266,-2.7480218,-2.1383247,0.4618666,-8.979326,11.879282,-6.8447986,17.016247,-12.302205,-10.375985,13.676761,-7.452423,-11.422868,17.579918,2.740813,7.172002,7.4565063,-3.9073875,-0.4660301,-0.61772335,7.359971,-6.4616513,1.7824147,16.500639,-2.8241563,0.23461606,-2.332141,-0.19988714,-16.851255,-6.4754233,18.572172,8.863811,-4.170055,0.24433292,-9.842015,24.498358,-0.8531399,8.360673,0.39956656,19.50911,15.013573,-9.13318,-8.967933,-1.3459343,-13.213098,9.822053,3.6435199,0.4132194,-0.8994876,1.6340656,13.955674,21.950956,5.154833,22.778551,-6.650449,7.31999,-3.8353662,-12.485384,-13.492442,2.5454466,0.7245534,0.6098039,3.291409,10.237924,2.20524,4.3872066,-8.287495,-3.9866855,2.6290598,16.744942,-6.309947,24.499468,-4.629368,1.6185741,11.950929,-0.94260854,-4.6645703,-13.07136,-2.9500215,11.622341,11.758142,28.796518,-1.2105336,2.6193712,21.808998,2.738342,5.053928,-7.10804,16.412014,-12.419884,-12.2092085,11.539885,-11.702548,3.5403152,-14.072358,10.980241,6.089524,-1.1571537,-14.87583,4.294075,-11.109612,15.090001,0.661139,-0.93004906,-1.6909006,-9.426214,12.071418,12.112408,13.57216,8.019408,-8.52945,15.680437,-7.7091026,5.542209,15.400786,-0.9037666,-15.456806,10.93009,-8.284868,-5.5386844],\"yaxis\":\"y\",\"type\":\"scattergl\"},{\"hovertemplate\":\"SET=set<br>conv [PC1]=%{x}<br>conv [PC2]=%{y}<extra></extra>\",\"legendgroup\":\"set\",\"marker\":{\"color\":\"#EF553B\",\"symbol\":\"circle\"},\"mode\":\"markers\",\"name\":\"set\",\"showlegend\":true,\"x\":[-24.305994,-24.881248,-22.884504,-23.397009,-28.768148,-22.21669,-22.35473,-26.167751,-20.199013,-15.462087,-25.918644,-21.806952,-24.67423,-30.419157,-20.33897,-24.488129,-26.93367,-18.03376,-21.441523,-24.179226,-19.72337,-21.935253,-24.77294,-23.132341,-19.49607,-26.3973,-21.430336,-18.101994,-24.625648,-14.789855,-22.5416,-25.12892,-21.882214,-22.154446,-21.811008,-22.264292,-18.650465,-21.068295,-20.723322,-12.650791,-21.9277,-23.833506,-22.06403,-25.163538,-23.521343,-22.10459,-22.991884,-27.654085,-21.18763,-22.406712,-22.952623,-23.123426,-28.045162,-31.794085,-28.724766,-23.655188,-25.685658,-25.23809,-22.670889,-28.243547,-24.662636,-23.939352,-26.437065,-25.53871,-18.67029,-18.568506,-23.001053,-18.902252,-22.646786,-25.156563,-20.969612,-25.56102,-23.158243,-20.813255,-23.410189,-21.19047,-21.359228,-20.565475,-21.23901,-24.623388,-23.989687,-26.75447,-24.67275,-26.898186,-25.216963,-24.106703,-23.536367,-20.25341,-23.166565,-20.444153,-23.987106,-27.901876,-22.794298,-29.831837,-23.271837,-24.360167,-19.926708,-25.459894,-24.245195,-22.643066,-27.170797,-21.59877,-22.446222,-15.706015,-20.611063,-20.153744,-10.366009,-18.681791,-14.806745,-22.902468,-22.737768,-19.644564,-22.513176,-21.96673,-19.787054,-20.292913,-19.828033,-20.818504,-27.745258,-25.767649,-24.348017,-23.212406,-29.441818,-26.557215,-25.650274,-25.7671,-22.262005,-22.595427,-23.697002,-17.628805,-17.650099,-28.63772,-22.82252,-22.395727,-24.66154,-20.201729,-22.403202,-23.7842,-21.579632,-21.957394,-27.34594,-15.100079,-24.492756,-23.896967,-18.607445,-19.198242,-25.64759,-16.981695,-18.510925,-28.030714,-22.748627,-21.37932,-24.738503,-17.567757,-16.561266,-22.89106,-29.444551,-18.827759,-24.588638,-24.170729,-23.788326,-24.604952,-24.428959,-23.399225,-21.499405,-28.016405,-23.260103,-21.336563,-27.822872,-19.196709,-23.094929,-23.80748,-25.050678,-20.309128,-24.676195,-15.420666,-19.390104,-18.807198,-21.01381,-14.351245,-24.089748,-22.523382,-20.62537,-25.062935,-19.30622,-19.871807,-21.379423,-25.990427,-12.495615,-27.191988,-21.616919,-22.48913,-22.708445,-22.896711,-22.383348,-23.665304,-24.714127,-22.637184,-24.62841,-27.001734,-24.277302,-18.79762,-19.871256,-25.019274,-24.534496,-20.56063,-19.970236,-24.071335,-22.706772,-22.086607,-16.065962,-25.094086,-17.29984,-17.160969,-20.139666,-16.487398,-18.668634,-22.968004,-15.630407,-19.215958,-21.073488,-22.805878,-20.369762,-23.912651,-15.304294,-13.551677,-23.524908,-25.646183,-29.535301,-22.479458,-21.571985,-29.047945,-18.895815,-21.261368,-23.726585,-22.543692,-25.501127,-25.992136,-25.848734,-22.9664,-28.44975,-18.237696,-21.79334,-26.38088,-18.340456,-23.923515,-27.39695,-13.3123865,-20.460915,-24.056664,-21.11032,-20.668112,-24.26938,-26.488134,-21.002913,-28.600183,-22.241386,-14.611488,-23.562845,-20.20766,-21.906515,-28.03889,-23.479603,-23.247934,-21.069027,-22.726297,-24.854486,-25.345425,-26.545507,-20.338503,-22.7348,-21.448715,-23.67168,-22.705507,-26.608301,-24.799513,-22.955982,-28.424551,-22.132153,-23.936544,-29.97609,-24.709846,-18.391857,-18.508186,-12.805805,-23.685436,-24.725208,-21.537527,-22.35764,-25.095821,-25.170403,-18.454557,-24.010109,-22.554956,-14.310336,-26.97757,-19.55984,-20.489597,-31.792429,-21.831814,-24.517284,-22.875692,-21.851128,-23.580854,-24.712872,-19.752716,-23.314795,-24.349731,-24.33985,-21.102974,-16.846619,-23.85433,-23.958279,-18.125225,-23.308765,-24.15944,-24.813837,-21.89835,-19.36086,-16.0956,-14.93109,-24.36474,-21.665628,-21.894455,-18.352787,-24.868942,-29.483961,-18.174711,-22.340849,-23.279387,-21.0735,-16.524092,-22.123995,-24.061308,-24.152273,-24.560753,-27.84457,-29.403088,-26.555494,-17.945719,-30.007055,-25.975386,-18.925068,-29.318089,-26.676788,-18.20002,-29.389858,-17.160723,-21.016623,-30.85905,-22.230614,-22.05896,-28.355576,-22.62096,-24.275972,-27.362682,-25.371147,-25.392477,-21.922318,-21.350433,-23.609396,-27.091774,-19.235891,-18.340601,-26.122831,-17.667057,-20.1468,-26.661764,-28.414455,-20.755615,-23.65052,-29.364847,-23.923708,-23.630377,-26.746994,-17.345108,-17.489544,-18.608223,-23.028854,-22.458424,-30.196579,-20.548985,-21.0721,-27.871773,-24.964598,-23.76119,-30.33707,-22.834776,-26.72835,-26.791903,-24.667982,-15.748387,-22.85332,-18.238222,-23.255386,-29.220982,-22.024818,-24.193214,-27.835394,-26.88967,-25.325974,-25.814783,-25.17147,-20.219671,-23.606453,-23.631838,-21.233274,-22.125954,-23.525517,-20.521528,-17.325525,-24.670015,-14.119358,-24.524162,-23.054453,-23.505608,-22.295305,-25.676708,-21.028574,-24.124176,-28.066603,-22.527962,-20.378923,-21.147497,-22.549374,-17.077055,-24.221241,-27.624228,-24.661436,-24.26153,-19.835728,-28.602314,-25.44962,-22.836086,-26.159678,-16.894167,-23.417114,-26.95487,-23.875216,-24.68134,-31.933119,-26.586855,-25.464502,-29.279657,-18.30173,-26.808277,-25.28332,-21.0911,-20.187595,-26.388155,-21.662949,-28.804539,-27.340311,-8.179517,-21.51997,-22.2745,-26.671474,-20.310072,-27.018564,-26.193487,-14.03867,-23.603127,-25.292723,-20.522053,-26.160677,-29.935427,-26.420969,-26.77677,-31.750103,-25.407194,-19.71564,-25.287743,-24.994133,-20.18666,-23.66927,-25.438055,-24.51873,-29.729168,-27.167997,-22.051252,-24.717964,-27.861105,-20.439306,-22.211779,-20.877544,-23.353647,-21.906694,-23.162123,-21.362848,-21.60974,-20.379553,-21.544256,-21.361729,-24.888273,-27.895123,-25.183277,-25.598206,-22.023174,-20.942326,-23.646753,-14.63384,-21.298904,-20.60003,-24.83899,-15.207809,-23.990206,-19.496944,-8.328869,-15.930354,-27.623135,-26.254873,-17.150717,-24.148117,-26.279465,-20.404072,-21.81623,-21.978264,-23.208284,-22.936857,-26.013182,-21.491222,-22.152836,-25.14241,-23.648844,-24.015993,-28.262796,-27.129044,-16.790283,-24.129196,-21.573336,-21.108263,-28.738722,-17.0675,-16.689762,-30.648346,-21.99768,-21.556463,-22.689236,-22.47671,-18.941181,-25.175358,-24.881842,-22.970251,-23.312708,-27.667137,-26.595146,-24.494665,-22.440681,-20.097765,-16.970161,-26.497307,-22.385136,-25.386793,-32.607395,-26.89685,-20.519453,-25.948175,-24.663258,-18.80322,-28.763,-22.703928,-21.796602,-25.05752,-23.865324,-17.120333,-24.5196,-23.690401,-14.484075,-22.918621,-17.75511,-23.85031,-26.451357,-20.17472,-24.01429,-21.143196,-24.756456,-22.277035,-23.295963,-14.7537775,-24.721344,-25.84514,-28.594063,-16.995636,-15.443803,-21.66956,-20.185455,-20.439552,-19.669662,-25.644333,-22.075829,-27.02096,-22.49245,-27.721708,-24.110556,-22.60464,-28.562923,-23.04428,-26.984386,-24.424137,-20.642263,-18.19959,-27.06386,-19.750862,-24.90135,-21.515265,-20.353569,-19.580233,-23.702393,-12.076671,-23.264357,-28.930193,-18.89158,-23.327211,-34.755775,-26.154068,-24.156784,-28.65006,-25.415894,-23.847692,-32.399628,-25.971155,-20.345068,-18.02879,-29.028305,-22.39632,-24.487154,-32.540245,-21.185026,-27.660507,-19.641035,-25.398003,-24.199753,-28.613592,-24.568933,-21.698593,-25.73953,-21.738888,-20.205427,-25.920624,-22.539173,-21.123896,-26.795528,-22.31091,-26.625795,-32.647648,-22.309303,-21.792988,-31.155113,-24.63249,-25.844305,-24.586203,-22.838892,-26.701662,-25.77846,-23.59639,-23.257238,-17.419075,-18.836529,-21.120213,-15.6658,-21.687464,-19.252863,-20.634773,-23.730715,-19.152027,-16.658194,-20.936466,-22.093758,-15.82156,-13.350299,-22.46818,-19.887218,-19.949648,-23.276348,-18.343063,-31.13418,-21.41316,-22.265585,-29.754595,-24.8673,-20.944746,-28.861612,-28.017168,-27.144108,-21.890059,-19.525227,-27.30145,-26.229778,-24.134487,-25.163614,-16.591751,-24.568064,-27.202122,-19.344164,-21.548746,-26.434408,-23.694641,-28.042324,-20.962885,-11.659185,-22.317694,-29.788551,-26.662056,-25.982857,-28.30892,-23.938103,-23.875578,-24.647715,-17.000212,-25.801294,-24.26513,-17.58029,-18.002192,-20.734262,-27.846258,-24.358418,-13.60435,-25.947416,-22.63333,-23.40305,-28.101885,-21.991444,-23.254744,-25.726383,-23.839529,-17.168589,-30.595142,-23.010332,-23.071226,-26.335478,-27.263958,-25.042826,-23.510437,-17.500801,-26.423445,-26.162153,-23.859602,-14.140988,-21.05935,-22.798925,-16.285799,-22.334347,-22.391605,-13.797608,-23.794813,-18.35495,-21.164051,-21.530731,-22.407906,-21.848703,-19.932354,-26.480225,-21.774647,-19.542955,-20.40964,-21.46803,-24.219578,-29.789745,-26.710617,-19.150751,-30.540434,-25.693077,-17.795221,-26.77323,-26.080742,-22.348316,-14.202184,-15.281266,-21.638662,-18.90728,-17.802158,-21.386549,-18.084705,-23.526276,-27.089735,-22.31153,-19.065975,-16.751629,-21.998726,-18.582438,-24.81115,-17.354801,-22.018063,-25.471268,-17.089567,-20.301746,-27.841318,-17.148119,-21.455154,-31.892195,-24.02713,-27.236256,-22.52327,-19.49726,-10.449064,-16.92215,-28.4148,-17.798935,-22.871006,-26.619326,-22.423845,-22.365318,-25.33668,-19.20011,-15.327438,-26.08709,-21.269001,-23.184908,-27.943338,-24.404343,-20.945084,-31.418509,-21.817678,-23.777729,-32.775013,-22.302353,-30.772957,-31.95127,-28.107262,-19.723406,-17.120544,-18.132421,-21.1557,-17.078388,-18.587305,-17.760147,-24.39166,-20.056517,-19.165691,-18.197714,-19.9623,-19.885962,-18.488047,-21.349901,-20.576725,-19.711409,-22.538881,-21.658295,-22.135687,-21.52154,-22.945044,-25.982616,-26.47567,-22.527065,-29.633816,-31.584208,-31.683361,-34.33432,-24.385054,-25.813162,-30.584362,-26.017605,-21.459589,-29.199408,-20.561613,-22.17095,-22.879723,-21.284624,-20.62857,-25.35179,-31.202864,-24.949673,-23.414433,-21.984459,-26.93103,-24.323875,-28.791967,-22.989346,-21.112286,-26.613161,-19.809946,-27.2127,-24.35839,-29.525988,-16.970198,-23.513426,-22.625221,-21.75503,-26.477118,-24.59496,-18.160954,-21.406841,-22.64939,-26.468658,-32.2854,-24.848454,-27.496407,-33.494587,-29.757286,-29.0939,-27.578676,-24.366068,-27.911974,-22.220102,-25.856152,-22.934397,-26.773462,-25.931215,-25.546568,-23.208757,-24.443499,-20.876879,-25.589218,-21.241804,-24.521273,-24.706324,-23.27974,-27.909143,-26.289217,-22.418997,-25.734026,-27.223572,-25.267664,-23.797878,-22.478779,-27.005728,-21.12659,-23.134232,-26.343878,-22.250843,-28.671,-24.828709,-23.536882,-23.315643,-28.177975,-29.419125,-19.762735,-22.420305,-27.43753,-29.211462,-12.97897,-22.885708,-24.665035,-22.925053,-21.699854,-27.263916,-23.822914,-27.086916,-29.881916,-28.626478,-35.316463,-27.772955,-24.271257,-31.620245,-31.079128,-29.738554,-26.620111,-26.134645,-31.227894,-30.087708,-29.513664,-28.3238,-34.76589,-24.88675,-26.57717,-29.779835,-35.077435,-23.597982,-24.950405,-28.890713,-28.458147,-24.408432,-32.911423,-24.584385,-26.222643,-25.875475,-25.09489,-27.209,-25.22698,-22.740486,-25.62654,-25.541437,-20.406849,-28.125603,-22.994055,-24.392763,-22.06499,-26.725033,-21.326181,-26.495518,-28.049862,-26.745731,-26.79857,-27.031284,-19.441044,-20.459219,-26.767893,-22.324556,-22.008072,-25.47798,-27.340166,-28.110683,-27.598562,-28.706024,-8.7661295,-24.421963,-25.275234,-14.921976,-17.02505,-25.863958,-26.68228,-28.504953,-28.821842,-25.30296,-30.800385,-23.856562,-25.069572,-30.259096,-25.979671,-27.731958,-23.87554,-29.802305,-24.946175,-24.9188,-29.258528,-23.171417,-23.762209,-32.75358,-27.206396,-23.342981,-29.225216,-27.48101,-24.793135,-23.845566,-28.055492,-25.793215,-20.40873,-25.604368,-29.716164,-27.331264,-22.258518,-23.38136,-27.918089,-18.956835,-22.302427,-30.498398,-33.042004,-24.155348,-24.192617,-30.292683,-24.488708,-23.181944,-33.206852,-19.564753,-31.950174,-33.792442,-30.43599,-24.939102,-29.48026,-25.657295,-24.015114,-22.622179,-22.979723,-28.703316,-24.772585,-35.125328,-21.754894,-30.251663,-26.481339,-27.984716,-26.783312,-34.90699,-25.383759,-27.217133,-26.712713,-26.939161,-28.022203,-31.45411,-36.982918,-37.807186,-23.469759,-28.246563,-35.490795,-29.948229,-30.044365,-28.108122,-26.95173,-35.769165,-32.635487,-34.502975],\"xaxis\":\"x\",\"y\":[16.517233,26.803593,8.409557,9.058872,20.64684,-2.3778143,-3.0845733,11.3178,-9.6452675,-11.383782,12.6891,-10.786399,-7.3323393,28.914232,10.781683,10.025204,23.091238,1.9329333,3.2819417,18.69423,0.18694943,-0.77419186,7.7569795,-13.228984,-15.465609,3.0684316,-20.855074,-19.343945,3.5892324,-21.526094,-23.130405,10.573189,-13.374365,-9.979481,4.5162683,-23.32185,-18.658325,4.0968266,-20.48991,-23.251379,6.892891,19.059278,7.1215434,-3.7481494,9.730879,-8.878761,-12.170912,-1.135715,-13.578993,-12.127242,-2.235294,-11.7612295,4.933895,28.739513,10.042004,2.4083333,19.135717,2.391741,0.8448655,18.307833,1.3416549,-15.256654,-0.8501009,-19.429647,-18.146715,-5.1153283,-20.373528,-23.1656,-8.644086,-25.134926,-19.18399,0.77474517,-11.821773,-19.491823,-10.061004,-21.209795,-21.995796,-9.309539,-20.710476,6.3028693,8.6187315,22.382734,-5.617819,-8.342136,9.633993,-14.159598,-16.310415,-0.19966193,-11.2220545,-16.470001,0.89703584,7.753679,11.400163,20.108664,2.105689,4.033538,16.839417,2.0977244,2.0190268,13.417386,-16.088217,-18.798338,-0.162521,-19.007023,-20.789122,-5.517988,-19.848158,-22.616632,-11.674693,-16.040642,-10.190365,3.5643647,-21.37779,-20.855082,-9.250357,-23.807556,-19.424728,-8.986499,22.494793,12.737021,-9.170687,-11.650883,27.538534,9.071616,8.11799,8.795454,-10.515043,-9.86951,22.603607,-0.8066059,2.819224,34.15363,14.833602,14.903538,20.59361,0.6060829,-1.4062347,3.815087,-18.169395,-20.293383,19.345457,-1.0620228,-4.1386075,5.1549172,-20.241266,-21.059654,8.870069,-19.135328,-12.3432865,24.219313,-2.156853,2.2085826,8.713524,-17.795374,-14.735805,-9.280318,-1.8016661,-13.66817,8.605272,13.839261,3.6428947,-11.793278,-5.3140283,-10.6822195,4.335314,16.858633,8.226462,18.010983,32.147705,16.276823,2.6165276,18.694332,5.1913595,-15.823283,-6.019974,-18.40458,-2.4597917,10.816988,-4.6023426,-16.826324,-8.2245,-18.511223,-18.62247,-8.956611,-12.213401,-6.599365,6.277713,1.4410717,-18.451101,-5.112779,-12.8926735,-11.594164,-11.631775,2.0220063,6.2251124,3.4259489,17.587643,-11.56401,-14.789496,3.0699255,2.4297955,1.6210314,13.932317,16.065607,16.859589,30.162836,2.943083,3.8981018,12.761911,-17.08753,-17.962654,-7.140515,-4.4536343,-3.846149,8.691454,-21.017235,-21.557585,-5.3381214,-20.1921,-19.00225,-4.4005265,-5.6218343,-3.4476166,7.2717066,-19.58059,-17.10086,-4.8438764,16.518396,12.341163,-9.5826645,-14.266367,8.942476,-14.178452,-9.916737,20.493351,0.48456421,-1.3456413,23.242693,0.8507284,3.3537185,22.218924,-1.1903709,1.6980594,34.10098,9.497387,11.587132,4.235112,-24.294617,-22.571138,3.7977002,-20.937883,-26.66997,15.175246,-8.459358,-9.982793,4.006507,-23.339071,-19.150766,9.590135,-22.390934,-19.0127,18.128809,-9.2426815,-7.996391,-10.775865,1.4863902,-12.7328615,-10.680741,-0.07741527,-14.48187,1.9813192,9.595868,-2.429348,4.812433,17.742258,5.2263346,4.7646275,18.121878,7.734378,12.714849,33.55932,19.33783,-17.851618,-6.142658,-19.501274,-16.519487,-6.4678345,-17.631836,-5.3001676,6.838922,-7.834681,-16.545752,-5.9148755,-12.138513,-15.242875,-5.758221,-11.832236,-6.1045547,8.187038,-2.5276647,-9.963104,-11.197389,1.6268004,-11.202785,-16.273457,1.5354599,0.2720066,-4.1431465,11.146747,0.6949055,0.4817064,12.640564,-0.10604911,2.830054,12.126391,10.401714,13.360803,27.992722,-20.355165,-21.653955,-9.070531,-23.926126,-24.505117,-9.595775,-6.280794,-8.154175,3.3174481,-23.813545,-17.434958,-5.395571,-18.283901,-19.784498,-5.0011783,-7.7834096,-4.055977,2.168918,10.964904,23.713718,0.16267836,0.19675277,10.220157,-12.444791,-17.278805,3.2915885,-19.362555,-20.41969,3.5236008,-23.485317,-23.138435,19.875767,-5.5522323,-1.0192833,13.753761,-8.9523735,-9.3118515,12.795311,-6.6519666,-11.63936,9.023332,-14.545773,-10.630779,7.068106,-24.84274,-18.775991,6.3710938,-20.056597,-19.606342,3.1663969,14.21346,3.4999764,-10.329477,-0.48746237,-16.632122,-18.04665,-7.1100936,-16.692032,-21.232306,-5.6336203,-19.484922,1.1300328,15.473783,2.5607367,-5.199587,9.642277,-3.4396727,-3.9655886,6.4485755,-8.145896,-16.181807,-2.18324,-7.421473,-16.823051,-6.266252,-14.12972,-19.574791,-7.834224,-17.400091,1.2661299,-0.9713553,15.265018,-15.084261,-17.51262,-1.5579305,-19.257328,-22.732933,-8.988222,-24.86084,-22.80013,-9.380412,-0.768465,-1.9198412,16.628054,-7.4160037,-8.248755,6.018299,-10.681859,-7.5062933,7.156581,-17.041933,-10.607866,2.6506693,-23.200651,-22.273842,-2.3768222,-24.091484,-21.600203,-7.3439894,20.801367,3.9291618,-20.555628,-21.349356,19.38141,-1.8786354,-1.1669546,1.0749166,-17.756067,-22.154945,16.520834,-9.332905,-7.024298,30.932297,6.4185705,4.2543454,12.7530985,-8.210574,-9.635961,5.791413,-18.839344,-14.238236,17.627184,-5.1396484,-1.3239776,4.117735,-17.21296,-18.620628,-17.948503,-7.3644547,-20.397083,-4.812684,9.932186,-3.7208858,-19.665932,-5.5033545,-18.16548,-4.316509,7.06057,-8.112922,6.8245115,24.46615,10.598398,-11.423934,10.898864,-8.375099,-17.828024,-5.7454557,-16.180502,-3.182128,7.985766,-3.8665032,-21.172302,-7.1384573,-17.271786,-20.921173,-20.595175,-13.1024275,-3.8167346,-1.8662795,9.326656,-24.561878,-22.675632,-10.453631,-7.373473,-7.6483917,3.4400017,2.757684,6.6520004,22.837345,-7.091815,-8.401618,2.5102544,-23.259008,-16.936562,-6.7477837,-5.033465,-5.4707923,10.755969,-22.629576,-20.31733,-7.462855,8.374366,5.1918607,-20.888206,-23.8783,1.8917663,-22.145819,-22.355694,11.574798,-7.6149664,-6.228089,9.118507,-13.2902355,-13.740337,14.207616,-11.251679,-11.702149,23.579798,4.6393933,-0.41097975,4.470352,-21.47238,-18.230753,7.900983,-22.047546,-22.301605,21.405577,-6.276732,-5.934363,-18.912031,-8.85381,-18.374708,-16.46242,-10.695585,-18.476397,-5.5926633,4.6018906,-3.4704325,-5.468416,3.4043508,-6.197037,-5.596577,9.510841,-4.582377,5.233131,19.698645,3.3919384,-17.051357,-9.735956,-14.231227,-15.442311,-10.180095,-14.993514,-5.154136,6.4385552,-2.527883,-18.207218,-19.449814,-10.109113,-23.006737,-20.84984,-6.0537877,-9.4695425,-9.705279,0.84893537,-8.747181,-10.245537,4.323701,-6.3318176,-5.8561573,3.4918408,2.070136,3.25894,14.046548,-21.097599,-19.747238,-1.1305305,-18.871872,-18.730328,-5.0355034,-9.412154,-8.247274,4.6612363,11.535476,25.265474,-0.97132343,-0.6283807,10.057245,-15.20102,-14.656974,2.1630366,-24.438429,-23.314415,0.87297904,-21.109278,-23.94867,9.482379,-14.655305,-18.047436,2.6628547,-26.37563,-22.90938,1.3857936,-24.491432,-22.344574,20.74363,-1.1024982,-3.6853256,15.248091,-13.708412,-10.3205805,13.4212265,-11.97368,-13.955956,4.4223847,14.776332,4.2070837,-13.35184,-0.9157029,-16.492064,-19.074646,-11.168762,-19.27133,-19.898245,-5.0934143,-17.552181,-15.2970495,-0.6335935,-11.194449,-20.369205,-6.5338144,-19.977304,-23.400518,-9.796976,-19.662392,-3.5812721,11.592402,-5.3508854,-6.958251,4.807813,-6.5895505,-12.170432,4.100061,-15.849884,2.9503696,1.1290324,11.109112,-9.2497425,-12.144759,-1.902015,-20.356787,-19.313316,-8.507053,-21.173935,-16.667692,-8.368805,-11.880804,-10.553218,-1.0178386,-21.023327,-19.178307,-7.232768,-20.893057,-18.305845,-3.7184517,-4.7665553,-3.0709596,18.023901,-7.57632,-9.515828,3.9642596,-12.136658,-10.552558,-0.9878674,20.32106,6.9228406,-18.99771,-19.409246,17.933594,-4.193189,-5.115861,1.8620911,-21.182777,-19.005785,5.727132,-22.454096,-20.03993,17.512161,-6.1130075,-5.7989845,4.0989423,-19.975483,-23.015764,16.956715,-10.044397,-5.0301476,30.787403,7.1843534,8.07097,13.585451,-10.546306,-9.8537445,-16.746796,-8.479356,-19.260504,-7.458271,5.439209,-1.9599506,-22.791351,-4.751049,-16.388527,-16.611416,-6.7954717,-18.330914,-3.7766242,7.1708627,-5.9788976,-19.492409,-9.891728,-17.847715,-12.436381,2.202894,-8.421979,4.461575,19.20489,3.0275865,-12.618297,0.31933486,-11.206261,-17.332817,-17.809587,-10.312135,-4.8698044,2.4727738,8.458812,-17.486973,-16.27277,-8.389937,-18.211308,-18.388294,-4.778678,-2.5558858,-3.5530667,10.970784,-20.253166,-18.913855,-6.7999063,-10.270152,-7.914988,3.4853508,3.6336224,5.174912,21.031212,-14.451587,-9.302384,-0.4361828,11.058054,2.839524,-20.666666,-23.528973,3.752968,-24.85111,-24.405163,11.526176,-13.20467,-10.72879,2.2101018,-27.651365,-25.184988,7.112962,-25.43816,-26.157133,14.431092,-12.113107,-14.8292465,14.692474,-12.362197,-11.7800045,15.178413,-13.032496,-11.881609,30.062664,-2.0519457,-0.3442978,-18.552488,-9.63693,-20.436733,-19.932783,-7.364418,-17.21921,-10.649038,5.6471987,-6.333805,-19.329397,-8.970383,-19.968666,-18.004642,-7.222907,-15.845496,-7.778838,5.0785084,-8.656618,-10.750705,-0.7622692,-7.193569,-8.261537,2.4819863,-7.7560153,1.7012609,16.727602,2.603661,-19.202972,-20.141552,-10.145899,-16.914993,-18.052805,-10.843281,-8.059062,-7.4381723,3.4706862,-19.31208,-18.442583,-5.9117513,-19.253296,-14.376411,-4.382628,-10.312244,-5.1972475,5.6922,-12.936588,-10.133013,0.8475444,-11.743605,-11.145111,1.0891128,-0.17867853,2.2922606,13.030776,29.209558,46.246075,19.025736,22.30001,29.72689,9.359314,11.663757,28.668924,1.9558114,-2.0445797,27.06576,-1.9237908,-4.740758,16.972694,33.75851,22.499418,5.2605186,20.336748,3.2657046,2.1698985,8.647088,-6.258699,-5.977021,6.0969915,-3.1501615,22.131865,22.604317,28.385462,5.633144,7.711823,19.308613,-1.4447433,-3.7360003,9.623716,-5.2786093,-3.4766726,4.7713737,40.44039,26.861301,2.2594047,1.1099764,41.851055,12.770057,9.107079,25.346924,3.2318263,0.35509554,1.7488046,10.402059,-3.1000671,12.705342,25.486448,13.335224,1.8073144,8.837632,-3.5012922,2.4815753,-0.35216582,9.64817,12.247285,13.512718,24.34909,-1.7982616,-1.7006117,12.590922,27.642231,27.475992,-1.4625763,-4.107479,24.6476,3.6048002,1.2113799,35.932278,12.399095,9.774705,-2.2889867,13.461984,-0.5137774,0.050760668,13.285186,-5.2903147,8.043569,23.714748,4.5665593,-7.3643823,-2.8097308,6.4088497,-3.3403199,-4.7705684,8.933103,7.41695,8.738372,22.193737,21.818094,34.853886,8.444383,10.020091,9.097768,27.219032,8.654381,10.412374,8.356196,25.438417,23.688936,21.840677,15.747834,41.59291,7.3045926,9.368025,12.875964,21.472914,7.897902,12.159029,5.754772,23.897612,24.089142,24.327038,24.575298,40.85345,17.710777,18.761557,27.397305,5.3804975,4.0422163,21.580513,-3.3240938,2.192096,26.175556,-1.3552704,0.33818713,16.318401,36.38349,14.123653,1.6884954,22.123766,3.6610038,-2.5335238,14.519556,-0.8777753,-4.5947285,12.04651,-0.49896428,19.38146,20.394728,29.458635,1.7914952,2.5992503,16.747082,2.4028654,-2.7998264,11.347022,-3.8264928,0.6743371,7.6363,30.877201,23.56089,4.323588,3.3795958,38.895256,13.617518,10.417848,24.184519,0.459077,2.081599,-1.6458124,15.073518,-0.19384898,13.28062,30.602158,14.459121,-2.5484598,13.449304,0.035355877,0.70859116,-2.5449698,9.574681,14.754093,12.319889,21.471424,-2.4185464,1.0149153,7.8791814,32.968594,24.579597,-2.552019,-4.9825816,21.134274,-5.974127,-4.0610256,37.081867,13.826374,13.408429,0.31549564,14.869173,1.5637519,-4.20484,17.991167,2.0127685,11.6298895,29.638922,16.726486,-2.7667112,-2.3404808,7.625776,-1.992196,-2.6561368,6.1655993,11.252475,15.857458,22.278345,18.791363,30.437912,11.878498,11.75716,11.284825,28.085052,11.280407,8.247492,5.553244,24.774176,22.163969,25.669743,17.273745,42.07248,5.5985813,10.706497,12.583684,26.711058,8.3891535,14.739113,6.624596,17.824942,24.63363,27.377169],\"yaxis\":\"y\",\"type\":\"scattergl\"}],                        {\"template\":{\"data\":{\"histogram2dcontour\":[{\"type\":\"histogram2dcontour\",\"colorbar\":{\"outlinewidth\":0,\"ticks\":\"\"},\"colorscale\":[[0.0,\"#0d0887\"],[0.1111111111111111,\"#46039f\"],[0.2222222222222222,\"#7201a8\"],[0.3333333333333333,\"#9c179e\"],[0.4444444444444444,\"#bd3786\"],[0.5555555555555556,\"#d8576b\"],[0.6666666666666666,\"#ed7953\"],[0.7777777777777778,\"#fb9f3a\"],[0.8888888888888888,\"#fdca26\"],[1.0,\"#f0f921\"]]}],\"choropleth\":[{\"type\":\"choropleth\",\"colorbar\":{\"outlinewidth\":0,\"ticks\":\"\"}}],\"histogram2d\":[{\"type\":\"histogram2d\",\"colorbar\":{\"outlinewidth\":0,\"ticks\":\"\"},\"colorscale\":[[0.0,\"#0d0887\"],[0.1111111111111111,\"#46039f\"],[0.2222222222222222,\"#7201a8\"],[0.3333333333333333,\"#9c179e\"],[0.4444444444444444,\"#bd3786\"],[0.5555555555555556,\"#d8576b\"],[0.6666666666666666,\"#ed7953\"],[0.7777777777777778,\"#fb9f3a\"],[0.8888888888888888,\"#fdca26\"],[1.0,\"#f0f921\"]]}],\"heatmap\":[{\"type\":\"heatmap\",\"colorbar\":{\"outlinewidth\":0,\"ticks\":\"\"},\"colorscale\":[[0.0,\"#0d0887\"],[0.1111111111111111,\"#46039f\"],[0.2222222222222222,\"#7201a8\"],[0.3333333333333333,\"#9c179e\"],[0.4444444444444444,\"#bd3786\"],[0.5555555555555556,\"#d8576b\"],[0.6666666666666666,\"#ed7953\"],[0.7777777777777778,\"#fb9f3a\"],[0.8888888888888888,\"#fdca26\"],[1.0,\"#f0f921\"]]}],\"heatmapgl\":[{\"type\":\"heatmapgl\",\"colorbar\":{\"outlinewidth\":0,\"ticks\":\"\"},\"colorscale\":[[0.0,\"#0d0887\"],[0.1111111111111111,\"#46039f\"],[0.2222222222222222,\"#7201a8\"],[0.3333333333333333,\"#9c179e\"],[0.4444444444444444,\"#bd3786\"],[0.5555555555555556,\"#d8576b\"],[0.6666666666666666,\"#ed7953\"],[0.7777777777777778,\"#fb9f3a\"],[0.8888888888888888,\"#fdca26\"],[1.0,\"#f0f921\"]]}],\"contourcarpet\":[{\"type\":\"contourcarpet\",\"colorbar\":{\"outlinewidth\":0,\"ticks\":\"\"}}],\"contour\":[{\"type\":\"contour\",\"colorbar\":{\"outlinewidth\":0,\"ticks\":\"\"},\"colorscale\":[[0.0,\"#0d0887\"],[0.1111111111111111,\"#46039f\"],[0.2222222222222222,\"#7201a8\"],[0.3333333333333333,\"#9c179e\"],[0.4444444444444444,\"#bd3786\"],[0.5555555555555556,\"#d8576b\"],[0.6666666666666666,\"#ed7953\"],[0.7777777777777778,\"#fb9f3a\"],[0.8888888888888888,\"#fdca26\"],[1.0,\"#f0f921\"]]}],\"surface\":[{\"type\":\"surface\",\"colorbar\":{\"outlinewidth\":0,\"ticks\":\"\"},\"colorscale\":[[0.0,\"#0d0887\"],[0.1111111111111111,\"#46039f\"],[0.2222222222222222,\"#7201a8\"],[0.3333333333333333,\"#9c179e\"],[0.4444444444444444,\"#bd3786\"],[0.5555555555555556,\"#d8576b\"],[0.6666666666666666,\"#ed7953\"],[0.7777777777777778,\"#fb9f3a\"],[0.8888888888888888,\"#fdca26\"],[1.0,\"#f0f921\"]]}],\"mesh3d\":[{\"type\":\"mesh3d\",\"colorbar\":{\"outlinewidth\":0,\"ticks\":\"\"}}],\"scatter\":[{\"fillpattern\":{\"fillmode\":\"overlay\",\"size\":10,\"solidity\":0.2},\"type\":\"scatter\"}],\"parcoords\":[{\"type\":\"parcoords\",\"line\":{\"colorbar\":{\"outlinewidth\":0,\"ticks\":\"\"}}}],\"scatterpolargl\":[{\"type\":\"scatterpolargl\",\"marker\":{\"colorbar\":{\"outlinewidth\":0,\"ticks\":\"\"}}}],\"bar\":[{\"error_x\":{\"color\":\"#2a3f5f\"},\"error_y\":{\"color\":\"#2a3f5f\"},\"marker\":{\"line\":{\"color\":\"#E5ECF6\",\"width\":0.5},\"pattern\":{\"fillmode\":\"overlay\",\"size\":10,\"solidity\":0.2}},\"type\":\"bar\"}],\"scattergeo\":[{\"type\":\"scattergeo\",\"marker\":{\"colorbar\":{\"outlinewidth\":0,\"ticks\":\"\"}}}],\"scatterpolar\":[{\"type\":\"scatterpolar\",\"marker\":{\"colorbar\":{\"outlinewidth\":0,\"ticks\":\"\"}}}],\"histogram\":[{\"marker\":{\"pattern\":{\"fillmode\":\"overlay\",\"size\":10,\"solidity\":0.2}},\"type\":\"histogram\"}],\"scattergl\":[{\"type\":\"scattergl\",\"marker\":{\"colorbar\":{\"outlinewidth\":0,\"ticks\":\"\"}}}],\"scatter3d\":[{\"type\":\"scatter3d\",\"line\":{\"colorbar\":{\"outlinewidth\":0,\"ticks\":\"\"}},\"marker\":{\"colorbar\":{\"outlinewidth\":0,\"ticks\":\"\"}}}],\"scattermapbox\":[{\"type\":\"scattermapbox\",\"marker\":{\"colorbar\":{\"outlinewidth\":0,\"ticks\":\"\"}}}],\"scatterternary\":[{\"type\":\"scatterternary\",\"marker\":{\"colorbar\":{\"outlinewidth\":0,\"ticks\":\"\"}}}],\"scattercarpet\":[{\"type\":\"scattercarpet\",\"marker\":{\"colorbar\":{\"outlinewidth\":0,\"ticks\":\"\"}}}],\"carpet\":[{\"aaxis\":{\"endlinecolor\":\"#2a3f5f\",\"gridcolor\":\"white\",\"linecolor\":\"white\",\"minorgridcolor\":\"white\",\"startlinecolor\":\"#2a3f5f\"},\"baxis\":{\"endlinecolor\":\"#2a3f5f\",\"gridcolor\":\"white\",\"linecolor\":\"white\",\"minorgridcolor\":\"white\",\"startlinecolor\":\"#2a3f5f\"},\"type\":\"carpet\"}],\"table\":[{\"cells\":{\"fill\":{\"color\":\"#EBF0F8\"},\"line\":{\"color\":\"white\"}},\"header\":{\"fill\":{\"color\":\"#C8D4E3\"},\"line\":{\"color\":\"white\"}},\"type\":\"table\"}],\"barpolar\":[{\"marker\":{\"line\":{\"color\":\"#E5ECF6\",\"width\":0.5},\"pattern\":{\"fillmode\":\"overlay\",\"size\":10,\"solidity\":0.2}},\"type\":\"barpolar\"}],\"pie\":[{\"automargin\":true,\"type\":\"pie\"}]},\"layout\":{\"autotypenumbers\":\"strict\",\"colorway\":[\"#636efa\",\"#EF553B\",\"#00cc96\",\"#ab63fa\",\"#FFA15A\",\"#19d3f3\",\"#FF6692\",\"#B6E880\",\"#FF97FF\",\"#FECB52\"],\"font\":{\"color\":\"#2a3f5f\"},\"hovermode\":\"closest\",\"hoverlabel\":{\"align\":\"left\"},\"paper_bgcolor\":\"white\",\"plot_bgcolor\":\"#E5ECF6\",\"polar\":{\"bgcolor\":\"#E5ECF6\",\"angularaxis\":{\"gridcolor\":\"white\",\"linecolor\":\"white\",\"ticks\":\"\"},\"radialaxis\":{\"gridcolor\":\"white\",\"linecolor\":\"white\",\"ticks\":\"\"}},\"ternary\":{\"bgcolor\":\"#E5ECF6\",\"aaxis\":{\"gridcolor\":\"white\",\"linecolor\":\"white\",\"ticks\":\"\"},\"baxis\":{\"gridcolor\":\"white\",\"linecolor\":\"white\",\"ticks\":\"\"},\"caxis\":{\"gridcolor\":\"white\",\"linecolor\":\"white\",\"ticks\":\"\"}},\"coloraxis\":{\"colorbar\":{\"outlinewidth\":0,\"ticks\":\"\"}},\"colorscale\":{\"sequential\":[[0.0,\"#0d0887\"],[0.1111111111111111,\"#46039f\"],[0.2222222222222222,\"#7201a8\"],[0.3333333333333333,\"#9c179e\"],[0.4444444444444444,\"#bd3786\"],[0.5555555555555556,\"#d8576b\"],[0.6666666666666666,\"#ed7953\"],[0.7777777777777778,\"#fb9f3a\"],[0.8888888888888888,\"#fdca26\"],[1.0,\"#f0f921\"]],\"sequentialminus\":[[0.0,\"#0d0887\"],[0.1111111111111111,\"#46039f\"],[0.2222222222222222,\"#7201a8\"],[0.3333333333333333,\"#9c179e\"],[0.4444444444444444,\"#bd3786\"],[0.5555555555555556,\"#d8576b\"],[0.6666666666666666,\"#ed7953\"],[0.7777777777777778,\"#fb9f3a\"],[0.8888888888888888,\"#fdca26\"],[1.0,\"#f0f921\"]],\"diverging\":[[0,\"#8e0152\"],[0.1,\"#c51b7d\"],[0.2,\"#de77ae\"],[0.3,\"#f1b6da\"],[0.4,\"#fde0ef\"],[0.5,\"#f7f7f7\"],[0.6,\"#e6f5d0\"],[0.7,\"#b8e186\"],[0.8,\"#7fbc41\"],[0.9,\"#4d9221\"],[1,\"#276419\"]]},\"xaxis\":{\"gridcolor\":\"white\",\"linecolor\":\"white\",\"ticks\":\"\",\"title\":{\"standoff\":15},\"zerolinecolor\":\"white\",\"automargin\":true,\"zerolinewidth\":2},\"yaxis\":{\"gridcolor\":\"white\",\"linecolor\":\"white\",\"ticks\":\"\",\"title\":{\"standoff\":15},\"zerolinecolor\":\"white\",\"automargin\":true,\"zerolinewidth\":2},\"scene\":{\"xaxis\":{\"backgroundcolor\":\"#E5ECF6\",\"gridcolor\":\"white\",\"linecolor\":\"white\",\"showbackground\":true,\"ticks\":\"\",\"zerolinecolor\":\"white\",\"gridwidth\":2},\"yaxis\":{\"backgroundcolor\":\"#E5ECF6\",\"gridcolor\":\"white\",\"linecolor\":\"white\",\"showbackground\":true,\"ticks\":\"\",\"zerolinecolor\":\"white\",\"gridwidth\":2},\"zaxis\":{\"backgroundcolor\":\"#E5ECF6\",\"gridcolor\":\"white\",\"linecolor\":\"white\",\"showbackground\":true,\"ticks\":\"\",\"zerolinecolor\":\"white\",\"gridwidth\":2}},\"shapedefaults\":{\"line\":{\"color\":\"#2a3f5f\"}},\"annotationdefaults\":{\"arrowcolor\":\"#2a3f5f\",\"arrowhead\":0,\"arrowwidth\":1},\"geo\":{\"bgcolor\":\"white\",\"landcolor\":\"#E5ECF6\",\"subunitcolor\":\"white\",\"showland\":true,\"showlakes\":true,\"lakecolor\":\"white\"},\"title\":{\"x\":0.05},\"mapbox\":{\"style\":\"light\"}}},\"xaxis\":{\"anchor\":\"y\",\"domain\":[0.0,1.0],\"title\":{\"text\":\"$\\\\langle R[g], \\\\boldsymbol{f} \\\\rangle_{\\\\mathrm{rel}} \\\\ \\\\text{[PC1]}$\"}},\"yaxis\":{\"anchor\":\"x\",\"domain\":[0.0,1.0],\"title\":{\"text\":\"$\\\\langle R[g], \\\\boldsymbol{f} \\\\rangle_{\\\\mathrm{rel}} \\\\ \\\\text{[PC2]}$\"}},\"legend\":{\"title\":{\"text\":\"SET\"},\"tracegroupgap\":0},\"margin\":{\"t\":60},\"title\":{\"text\":\"Convolutional Representation of Relations between Triplets of Objects\"},\"width\":1000,\"height\":500},                        {\"responsive\": true}                    ).then(function(){\n",
       "                            \n",
       "var gd = document.getElementById('ce0cb28e-3f4d-4381-8035-5a4a77bd0ef5');\n",
       "var x = new MutationObserver(function (mutations, observer) {{\n",
       "        var display = window.getComputedStyle(gd).display;\n",
       "        if (!display || display === 'none') {{\n",
       "            console.log([gd, 'removed!']);\n",
       "            Plotly.purge(gd);\n",
       "            observer.disconnect();\n",
       "        }}\n",
       "}});\n",
       "\n",
       "// Listen for the removal of the full notebook cells\n",
       "var notebookContainer = gd.closest('#notebook-container');\n",
       "if (notebookContainer) {{\n",
       "    x.observe(notebookContainer, {childList: true});\n",
       "}}\n",
       "\n",
       "// Listen for the clearing of the current output cell\n",
       "var outputEl = gd.closest('.output');\n",
       "if (outputEl) {{\n",
       "    x.observe(outputEl, {childList: true});\n",
       "}}\n",
       "\n",
       "                        })                };                });            </script>        </div>"
      ]
     },
     "metadata": {},
     "output_type": "display_data"
    }
   ],
   "source": [
    "fig = px.scatter(conv_rep_df, x='conv [PC1]', y='conv [PC2]', color='SET')\n",
    "fig.update_layout(\n",
    "    width=1000, height=500, #template='plotly_dark',\n",
    "    title=dict(text=\"Convolutional Representation of Relations between Triplets of Objects\"),\n",
    "    xaxis_title=r\"$\\langle R[g], \\boldsymbol{f} \\rangle_{\\mathrm{rel}} \\ \\text{[PC1]}$\",\n",
    "    yaxis_title=r\"$\\langle R[g], \\boldsymbol{f} \\rangle_{\\mathrm{rel}} \\ \\text{[PC2]}$\"\n",
    "    )\n",
    "fig.write_html(f'{save_dir}/contains_set_conv_rep.html')\n",
    "fig"
   ]
  },
  {
   "cell_type": "code",
   "execution_count": 25,
   "metadata": {},
   "outputs": [],
   "source": [
    "fig_json = fig.to_json()\n",
    "with open(f'{save_dir}/contains_set_conv_rep.json', 'w') as f:\n",
    "    f.write(fig_json)"
   ]
  }
 ],
 "metadata": {
  "kernelspec": {
   "display_name": "Python 3 (ipykernel)",
   "language": "python",
   "name": "python3"
  },
  "language_info": {
   "codemirror_mode": {
    "name": "ipython",
    "version": 3
   },
   "file_extension": ".py",
   "mimetype": "text/x-python",
   "name": "python",
   "nbconvert_exporter": "python",
   "pygments_lexer": "ipython3",
   "version": "3.10.12"
  }
 },
 "nbformat": 4,
 "nbformat_minor": 2
}
