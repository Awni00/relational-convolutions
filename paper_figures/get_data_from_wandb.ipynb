{
 "cells": [
  {
   "cell_type": "code",
   "execution_count": 2,
   "metadata": {},
   "outputs": [],
   "source": [
    "import pandas as pd\n",
    "import wandb\n",
    "import utils\n",
    "from tqdm import tqdm"
   ]
  },
  {
   "cell_type": "markdown",
   "metadata": {},
   "source": [
    "# Relational Games"
   ]
  },
  {
   "cell_type": "markdown",
   "metadata": {},
   "source": [
    "## Get OoD Generalization data"
   ]
  },
  {
   "cell_type": "code",
   "execution_count": 2,
   "metadata": {},
   "outputs": [
    {
     "data": {
      "text/plain": [
       "[<Project awni00/relational_games-same>,\n",
       " <Project awni00/relational_games-xoccurs>,\n",
       " <Project awni00/relational_games-occurs>,\n",
       " <Project awni00/relational_games-1task_match_patt>,\n",
       " <Project awni00/relational_games-1task_between>]"
      ]
     },
     "execution_count": 2,
     "metadata": {},
     "output_type": "execute_result"
    }
   ],
   "source": [
    "api = wandb.Api()\n",
    "projects = [project for project in api.projects('awni00') if 'relational_games-' in project.name]\n",
    "projects"
   ]
  },
  {
   "cell_type": "code",
   "execution_count": 3,
   "metadata": {},
   "outputs": [],
   "source": [
    "summary_cols = ['stripes_acc', 'hexos_acc', 'acc']\n",
    "config_cols = ['trial']\n",
    "attr_cols = ['group', 'name']\n",
    "\n",
    "project_dfs = []\n",
    "for project in projects:\n",
    "    task_name = project.name.split('-')[1]\n",
    "    project_df = utils.get_wandb_project_table(\n",
    "        project_name=project.name, entity='awni00', attr_cols=attr_cols, config_cols=config_cols, summary_cols=summary_cols)\n",
    "    project_df['task'] = task_name\n",
    "    project_dfs.append(project_df)\n",
    "\n",
    "projects_df = pd.concat(project_dfs)"
   ]
  },
  {
   "cell_type": "code",
   "execution_count": 4,
   "metadata": {},
   "outputs": [],
   "source": [
    "projects_df.to_csv('figure_data/relational_games/end-of-training-accuracy.csv')"
   ]
  },
  {
   "cell_type": "markdown",
   "metadata": {},
   "source": [
    "## Get training curve data"
   ]
  },
  {
   "cell_type": "code",
   "execution_count": 27,
   "metadata": {},
   "outputs": [],
   "source": [
    "api = wandb.Api()\n",
    "projects = [project for project in api.projects('awni00') if 'relational_games-' in project.name]"
   ]
  },
  {
   "cell_type": "code",
   "execution_count": 28,
   "metadata": {},
   "outputs": [
    {
     "name": "stderr",
     "output_type": "stream",
     "text": [
      "  0%|          | 0/5 [00:00<?, ?it/s]\u001b[34m\u001b[1mwandb\u001b[0m: \u001b[33mWARNING\u001b[0m A graphql request initiated by the public wandb API timed out (timeout=60 sec). Create a new API with an integer timeout larger than 60, e.g., `api = wandb.Api(timeout=70)` to increase the graphql timeout.\n",
      "100%|██████████| 5/5 [52:45<00:00, 633.08s/it]\n"
     ]
    }
   ],
   "source": [
    "config_cols = ['trial']\n",
    "attr_cols = ['group', 'name']\n",
    "\n",
    "project_dfs = []\n",
    "for project in tqdm(projects):\n",
    "    task_name = project.name.split('-')[1]\n",
    "    project_df = utils.get_project_run_histories(\n",
    "        project_name=project.name, entity='awni00', attr_cols=attr_cols, config_cols=config_cols)\n",
    "    project_df.to_csv(f'figure_data/relational_games/run_history_{project.name}.csv')\n",
    "    project_df['task'] = task_name\n",
    "    project_dfs.append(project_df)\n",
    "\n",
    "projects_df = pd.concat(project_dfs)\n",
    "projects_df.reset_index(inplace=True, drop=True)\n",
    "projects_df.to_csv(f'figure_data/relational_games/project_run_histories.csv')"
   ]
  },
  {
   "cell_type": "code",
   "execution_count": 29,
   "metadata": {},
   "outputs": [],
   "source": [
    "# get csv files in directory\n",
    "import glob\n",
    "csv_files = glob.glob('figure_data/relational_games/run_history*.csv')"
   ]
  },
  {
   "cell_type": "code",
   "execution_count": 30,
   "metadata": {},
   "outputs": [],
   "source": [
    "project_dfs = []\n",
    "for csv_file in csv_files:\n",
    "    task_name = csv_file.split('-')[-1].split('.')[0]\n",
    "    project_df = pd.read_csv(csv_file, index_col=0)\n",
    "    project_df['task'] = task_name\n",
    "    project_dfs.append(project_df)\n",
    "\n",
    "projects_df = pd.concat(project_dfs)"
   ]
  },
  {
   "cell_type": "markdown",
   "metadata": {},
   "source": [
    "## Relational Games Group Attention Exploration"
   ]
  },
  {
   "cell_type": "code",
   "execution_count": 9,
   "metadata": {},
   "outputs": [],
   "source": [
    "api = wandb.Api()\n",
    "\n",
    "summary_cols = 'all'\n",
    "config_cols = 'all'\n",
    "attr_cols = ['group', 'name']\n",
    "\n",
    "project_df = utils.get_wandb_project_table(\n",
    "    project_name='relgames_groupattn_param_search', entity='awni00', attr_cols=attr_cols, config_cols=config_cols, summary_cols=summary_cols)\n",
    "project_df.to_csv('figure_data/relational_games/group_attn/end-of-training-accuracy.csv')"
   ]
  },
  {
   "cell_type": "code",
   "execution_count": 11,
   "metadata": {},
   "outputs": [
    {
     "data": {
      "text/plain": [
       "Index(['group', 'name', 'epoch/learning_rate', 'epoch/loss',\n",
       "       'group_attn_scores', 'epoch/val_loss', 'hexos_acc', '_runtime',\n",
       "       'epoch/group_attn_entropy', 'group_attn_entropy', '_step',\n",
       "       'epoch/val_acc', 'stripes_loss', 'epoch/epoch',\n",
       "       'stripes_group_attn_entropy', 'loss', 'acc', 'hexos_loss', '_wandb',\n",
       "       'hexos_group_attn_entropy', '_timestamp',\n",
       "       'epoch/val_group_attn_entropy', 'epoch/acc', 'stripes_acc',\n",
       "       'learning_rate', 'entropy_reg', 'run_name', 'wandb_project_name',\n",
       "       'n_groups', 'n_filters', 'seed', 'symmetric_inner_prod', 'two_layer',\n",
       "       'train_size', 'mdipr_proj_dim', 'group_attn_key', 'ignore_gpu_assert',\n",
       "       'mdipr_symmetric', 'group_attn_key_dim', 'train_split', 'test_size',\n",
       "       'task', 'n_epochs', 'val_size', 'graphlet_size', 'batch_size',\n",
       "       'test_split_size', 'mdipr_rel_dim', 'early_stopping',\n",
       "       'entropy_reg_scale'],\n",
       "      dtype='object')"
      ]
     },
     "execution_count": 11,
     "metadata": {},
     "output_type": "execute_result"
    }
   ],
   "source": [
    "project_df.columns"
   ]
  },
  {
   "cell_type": "code",
   "execution_count": 25,
   "metadata": {},
   "outputs": [
    {
     "name": "stderr",
     "output_type": "stream",
     "text": [
      "                                             \r"
     ]
    }
   ],
   "source": [
    "config_cols = 'all'\n",
    "attr_cols = ['group', 'name']\n",
    "\n",
    "project_df = utils.get_project_run_histories(\n",
    "    project_name='relgames_groupattn_param_search', entity='awni00', attr_cols=attr_cols, config_cols=config_cols)"
   ]
  },
  {
   "cell_type": "code",
   "execution_count": 26,
   "metadata": {},
   "outputs": [],
   "source": [
    "project_df.to_csv('figure_data/relational_games/group_attn/run_history.csv', index=False)"
   ]
  },
  {
   "cell_type": "markdown",
   "metadata": {},
   "source": [
    "# Contains 'SET'"
   ]
  },
  {
   "cell_type": "markdown",
   "metadata": {},
   "source": [
    "## Get End-of-Training Metrics data"
   ]
  },
  {
   "cell_type": "code",
   "execution_count": 83,
   "metadata": {},
   "outputs": [],
   "source": [
    "api = wandb.Api()\n",
    "\n",
    "summary_cols = 'all'\n",
    "config_cols = ['trial']\n",
    "attr_cols = ['group', 'name']\n",
    "\n",
    "project_df = utils.get_wandb_project_table(\n",
    "    project_name='relconvnet-contains_set', entity='awni00', attr_cols=attr_cols, config_cols=config_cols, summary_cols=summary_cols)"
   ]
  },
  {
   "cell_type": "code",
   "execution_count": 84,
   "metadata": {},
   "outputs": [],
   "source": [
    "project_df.to_csv('figure_data/contains_set/end-of-training-accuracy.csv', index=False)"
   ]
  },
  {
   "cell_type": "code",
   "execution_count": 85,
   "metadata": {},
   "outputs": [
    {
     "data": {
      "text/plain": [
       "group\n",
       "abstractor                                                          0.506610\n",
       "cnn                                                                 0.506173\n",
       "corelnet                                                            0.562577\n",
       "gat                                                                 0.517181\n",
       "gat - L=1 - opt_adamw - weight_dec_0.032 - lr_sched_cosine          0.674640\n",
       "gat - L=1 - opt_adamw - weight_dec_0.032 - lr_sched_none            0.652443\n",
       "gcn                                                                 0.594727\n",
       "gcn - L=2 - opt_adamw - weight_dec_1.024 - lr_sched_none            0.635339\n",
       "gin                                                                 0.589660\n",
       "gin - L=2 - opt_adamw - weight_dec_0.032 - lr_sched_none            0.593313\n",
       "gru                                                                 0.592978\n",
       "lstm                                                                0.602315\n",
       "lstm - L=2 - opt_adamw - weight_dec_1.024 - lr_sched_none           0.608745\n",
       "predinet                                                            0.507742\n",
       "predinet - L=2 - opt_adamw - weight_dec_1.024 - lr_sched_none       0.512603\n",
       "relconvnet                                                          0.979218\n",
       "relconvnet_asymrel                                                  0.532356\n",
       "relconvnet_dr1                                                      0.613555\n",
       "relnet                                                              0.541409\n",
       "transformer                                                         0.583668\n",
       "transformer - L=2 - opt_adamw - weight_dec_0.032 - lr_sched_none    0.563053\n",
       "Name: acc, dtype: float64"
      ]
     },
     "execution_count": 85,
     "metadata": {},
     "output_type": "execute_result"
    }
   ],
   "source": [
    "project_df.groupby(['group'])['acc'].mean()"
   ]
  },
  {
   "cell_type": "markdown",
   "metadata": {},
   "source": [
    "## Get training curve data"
   ]
  },
  {
   "cell_type": "code",
   "execution_count": 86,
   "metadata": {},
   "outputs": [],
   "source": [
    "api = wandb.Api()"
   ]
  },
  {
   "cell_type": "code",
   "execution_count": 87,
   "metadata": {},
   "outputs": [
    {
     "name": "stderr",
     "output_type": "stream",
     "text": [
      "                                                 \r"
     ]
    }
   ],
   "source": [
    "config_cols = ['trial']\n",
    "attr_cols = ['group', 'name']\n",
    "\n",
    "project_df = utils.get_project_run_histories(\n",
    "    project_name='relconvnet-contains_set', entity='awni00', attr_cols=attr_cols, config_cols=config_cols)"
   ]
  },
  {
   "cell_type": "code",
   "execution_count": 88,
   "metadata": {},
   "outputs": [],
   "source": [
    "project_df.to_csv('figure_data/contains_set/run_history.csv')"
   ]
  },
  {
   "cell_type": "markdown",
   "metadata": {},
   "source": [
    "# Contains 'SET' (Hyperparameter Sweep)"
   ]
  },
  {
   "cell_type": "markdown",
   "metadata": {},
   "source": [
    "## Get End-of-Training Metrics data"
   ]
  },
  {
   "cell_type": "code",
   "execution_count": 96,
   "metadata": {},
   "outputs": [],
   "source": [
    "import wandb"
   ]
  },
  {
   "cell_type": "code",
   "execution_count": 97,
   "metadata": {},
   "outputs": [],
   "source": [
    "api = wandb.Api()\n",
    "\n",
    "summary_cols = 'all'\n",
    "config_cols = 'all' #['trial']\n",
    "attr_cols = ['name']\n",
    "\n",
    "project_df = utils.get_wandb_project_table(\n",
    "    project_name='relconvnet-contains_set-hyperparamsweep', entity='awni00', attr_cols=attr_cols, config_cols=config_cols, summary_cols=summary_cols)"
   ]
  },
  {
   "cell_type": "code",
   "execution_count": 98,
   "metadata": {},
   "outputs": [],
   "source": [
    "project_df.to_csv('figure_data/contains_set/hyperparam_sweep_end-of-training-accuracy.csv', index=False)"
   ]
  },
  {
   "cell_type": "code",
   "execution_count": 99,
   "metadata": {},
   "outputs": [
    {
     "data": {
      "text/plain": [
       "group\n",
       "cnn - L=-1 - opt_adamw - weight_dec_0.0 - lr_sched_none            0.500000\n",
       "cnn - L=-1 - opt_adamw - weight_dec_0.002 - lr_sched_none          0.500000\n",
       "cnn - L=-1 - opt_adamw - weight_dec_0.004 - lr_sched_none               NaN\n",
       "cnn - L=-1 - opt_adamw - weight_dec_0.008 - lr_sched_none               NaN\n",
       "cnn - L=-1 - opt_adamw - weight_dec_0.032 - lr_sched_none          0.500000\n",
       "                                                                     ...   \n",
       "transformer - L=6 - opt_adam - weight_dec_0.0 - lr_sched_none      0.585031\n",
       "transformer - L=6 - opt_adamw - weight_dec_0.04 - lr_sched_none    0.570628\n",
       "transformer - L=8 - opt_adam - weight_dec_0.0                      0.564043\n",
       "transformer - L=8 - opt_adam - weight_dec_0.0 - lr_sched_none      0.566358\n",
       "transformer - L=8 - opt_adamw - weight_dec_0.04 - lr_sched_none    0.574228\n",
       "Name: acc, Length: 363, dtype: float64"
      ]
     },
     "execution_count": 99,
     "metadata": {},
     "output_type": "execute_result"
    }
   ],
   "source": [
    "project_df.groupby(['group'])['acc'].mean()"
   ]
  },
  {
   "cell_type": "markdown",
   "metadata": {},
   "source": [
    "## Get training curve data"
   ]
  },
  {
   "cell_type": "code",
   "execution_count": 100,
   "metadata": {},
   "outputs": [],
   "source": [
    "api = wandb.Api()"
   ]
  },
  {
   "cell_type": "code",
   "execution_count": 101,
   "metadata": {},
   "outputs": [],
   "source": [
    "def get_project_run_histories(project_name, entity='Awni00', attr_cols=('group', 'name'), config_cols='all'):\n",
    "    '''gets the log history of all runs in a project'''\n",
    "\n",
    "    def get_run_history(run):\n",
    "        # history_scan = run.scan_history()\n",
    "        # try:\n",
    "        #     keys = history_scan.next().keys()\n",
    "        # except StopIteration:\n",
    "        #     print(f'{run.group}-{run.name} has no history. Skipping...')\n",
    "        #     return pd.DataFrame()\n",
    "        # run_history_data = {key: [] for key in keys}\n",
    "        # for row in history_scan:\n",
    "        #     for key in keys:\n",
    "        #         run_history_data[key].append(row[key])\n",
    "        # return pd.DataFrame(run_history_data)\n",
    "        return run.history()\n",
    "\n",
    "    api = wandb.Api(timeout=60)\n",
    "\n",
    "    runs = api.runs(entity + \"/\" + project_name)\n",
    "\n",
    "    if config_cols == 'all':\n",
    "        config_cols = set().union(*tuple(run.config.keys() for run in runs))\n",
    "\n",
    "    run_history_dfs = []\n",
    "\n",
    "    for run in tqdm(runs, leave=False):\n",
    "        run_history = get_run_history(run)\n",
    "\n",
    "        for config_col in config_cols:\n",
    "            run_history[config_col] = run.config.get(config_col, None)\n",
    "\n",
    "        for attr_col in attr_cols:\n",
    "            run_history[attr_col] = getattr(run, attr_col, None)\n",
    "\n",
    "        run_history_dfs.append(run_history)\n",
    "\n",
    "    runs_history_df = pd.concat(run_history_dfs, axis=0)\n",
    "\n",
    "    runs_history_df = runs_history_df.reset_index(drop=True)\n",
    "\n",
    "    return runs_history_df"
   ]
  },
  {
   "cell_type": "code",
   "execution_count": 102,
   "metadata": {},
   "outputs": [
    {
     "name": "stderr",
     "output_type": "stream",
     "text": [
      "                                                   \r"
     ]
    }
   ],
   "source": [
    "config_cols = 'all' #['trial']\n",
    "attr_cols = ['name']\n",
    "\n",
    "# project_df = utils.get_project_run_histories(\n",
    "#     project_name='relconvnet-contains_set-hyperparamsweep', entity='awni00', attr_cols=attr_cols, config_cols=config_cols)\n",
    "project_df = get_project_run_histories(\n",
    "    project_name='relconvnet-contains_set-hyperparamsweep', entity='awni00', attr_cols=attr_cols, config_cols=config_cols)"
   ]
  },
  {
   "cell_type": "code",
   "execution_count": 103,
   "metadata": {},
   "outputs": [],
   "source": [
    "project_df.to_csv('figure_data/contains_set/hyperparam_sweep_run_history.csv')"
   ]
  }
 ],
 "metadata": {
  "kernelspec": {
   "display_name": "math",
   "language": "python",
   "name": "python3"
  },
  "language_info": {
   "codemirror_mode": {
    "name": "ipython",
    "version": 3
   },
   "file_extension": ".py",
   "mimetype": "text/x-python",
   "name": "python",
   "nbconvert_exporter": "python",
   "pygments_lexer": "ipython3",
   "version": "3.10.12"
  },
  "orig_nbformat": 4
 },
 "nbformat": 4,
 "nbformat_minor": 2
}
