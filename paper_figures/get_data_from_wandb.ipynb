{
 "cells": [
  {
   "cell_type": "code",
   "execution_count": 1,
   "metadata": {},
   "outputs": [],
   "source": [
    "import pandas as pd\n",
    "import wandb\n",
    "import utils"
   ]
  },
  {
   "cell_type": "code",
   "execution_count": 2,
   "metadata": {},
   "outputs": [],
   "source": [
    "api = wandb.Api()\n",
    "projects = [project for project in api.projects('awni00') if 'relational_games-' in project.name and 'old' not in project.name]"
   ]
  },
  {
   "cell_type": "code",
   "execution_count": 3,
   "metadata": {},
   "outputs": [],
   "source": [
    "summary_cols = ['stripes_acc', 'hexos_acc', 'acc']\n",
    "config_cols = ['trial']\n",
    "attr_cols = ['group', 'name']\n",
    "\n",
    "project_dfs = []\n",
    "for project in projects:\n",
    "    task_name = project.name.split('-')[1]\n",
    "    project_df = utils.get_wandb_project_table(\n",
    "        project_name=project.name, entity='awni00', attr_cols=attr_cols, config_cols=config_cols, summary_cols=summary_cols)\n",
    "    project_df['task'] = task_name\n",
    "    project_dfs.append(project_df)\n",
    "\n",
    "projects_df = pd.concat(project_dfs)"
   ]
  },
  {
   "cell_type": "code",
   "execution_count": 18,
   "metadata": {},
   "outputs": [],
   "source": [
    "projects_df.to_csv('figure_data/end-of-training-accuracy.csv')"
   ]
  }
 ],
 "metadata": {
  "kernelspec": {
   "display_name": "math",
   "language": "python",
   "name": "python3"
  },
  "language_info": {
   "codemirror_mode": {
    "name": "ipython",
    "version": 3
   },
   "file_extension": ".py",
   "mimetype": "text/x-python",
   "name": "python",
   "nbconvert_exporter": "python",
   "pygments_lexer": "ipython3",
   "version": "3.11.4"
  },
  "orig_nbformat": 4
 },
 "nbformat": 4,
 "nbformat_minor": 2
}
