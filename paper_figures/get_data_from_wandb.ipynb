{
 "cells": [
  {
   "cell_type": "code",
   "execution_count": 1,
   "metadata": {},
   "outputs": [],
   "source": [
    "import pandas as pd\n",
    "import wandb\n",
    "import utils\n",
    "from tqdm import tqdm"
   ]
  },
  {
   "cell_type": "markdown",
   "metadata": {},
   "source": [
    "# Relational Games"
   ]
  },
  {
   "cell_type": "markdown",
   "metadata": {},
   "source": [
    "## Get OoD Generalization data"
   ]
  },
  {
   "cell_type": "code",
   "execution_count": 8,
   "metadata": {},
   "outputs": [
    {
     "data": {
      "text/plain": [
       "[<Project awni00/relational_games-same>,\n",
       " <Project awni00/relational_games-xoccurs>,\n",
       " <Project awni00/relational_games-occurs>,\n",
       " <Project awni00/relational_games-1task_match_patt>,\n",
       " <Project awni00/relational_games-1task_between>]"
      ]
     },
     "execution_count": 8,
     "metadata": {},
     "output_type": "execute_result"
    }
   ],
   "source": [
    "api = wandb.Api()\n",
    "projects = [project for project in api.projects('awni00') if 'relational_games-' in project.name]\n",
    "projects"
   ]
  },
  {
   "cell_type": "code",
   "execution_count": 9,
   "metadata": {},
   "outputs": [],
   "source": [
    "summary_cols = ['stripes_acc', 'hexos_acc', 'acc']\n",
    "config_cols = ['trial']\n",
    "attr_cols = ['group', 'name']\n",
    "\n",
    "project_dfs = []\n",
    "for project in projects:\n",
    "    task_name = project.name.split('-')[1]\n",
    "    project_df = utils.get_wandb_project_table(\n",
    "        project_name=project.name, entity='awni00', attr_cols=attr_cols, config_cols=config_cols, summary_cols=summary_cols)\n",
    "    project_df['task'] = task_name\n",
    "    project_dfs.append(project_df)\n",
    "\n",
    "projects_df = pd.concat(project_dfs)"
   ]
  },
  {
   "cell_type": "code",
   "execution_count": 10,
   "metadata": {},
   "outputs": [],
   "source": [
    "projects_df.to_csv('figure_data/relational_games/end-of-training-accuracy.csv')"
   ]
  },
  {
   "cell_type": "markdown",
   "metadata": {},
   "source": [
    "## Get training curve data"
   ]
  },
  {
   "cell_type": "code",
   "execution_count": 11,
   "metadata": {},
   "outputs": [],
   "source": [
    "api = wandb.Api()\n",
    "projects = [project for project in api.projects('awni00') if 'relational_games-' in project.name]"
   ]
  },
  {
   "cell_type": "code",
   "execution_count": 13,
   "metadata": {},
   "outputs": [
    {
     "name": "stderr",
     "output_type": "stream",
     "text": [
      " 40%|████      | 2/5 [13:04<19:36, 392.16s/it]\n"
     ]
    },
    {
     "ename": "KeyError",
     "evalue": "'batch/loss'",
     "output_type": "error",
     "traceback": [
      "\u001b[1;31m---------------------------------------------------------------------------\u001b[0m",
      "\u001b[1;31mKeyError\u001b[0m                                  Traceback (most recent call last)",
      "\u001b[1;32mc:\\Users\\awnya\\Documents\\project-code\\relational-neural-networks\\paper_figures\\get_data_from_wandb.ipynb Cell 9\u001b[0m line \u001b[0;36m7\n\u001b[0;32m      <a href='vscode-notebook-cell:/c%3A/Users/awnya/Documents/project-code/relational-neural-networks/paper_figures/get_data_from_wandb.ipynb#X11sZmlsZQ%3D%3D?line=4'>5</a>\u001b[0m \u001b[39mfor\u001b[39;00m project \u001b[39min\u001b[39;00m tqdm(projects):\n\u001b[0;32m      <a href='vscode-notebook-cell:/c%3A/Users/awnya/Documents/project-code/relational-neural-networks/paper_figures/get_data_from_wandb.ipynb#X11sZmlsZQ%3D%3D?line=5'>6</a>\u001b[0m     task_name \u001b[39m=\u001b[39m project\u001b[39m.\u001b[39mname\u001b[39m.\u001b[39msplit(\u001b[39m'\u001b[39m\u001b[39m-\u001b[39m\u001b[39m'\u001b[39m)[\u001b[39m1\u001b[39m]\n\u001b[1;32m----> <a href='vscode-notebook-cell:/c%3A/Users/awnya/Documents/project-code/relational-neural-networks/paper_figures/get_data_from_wandb.ipynb#X11sZmlsZQ%3D%3D?line=6'>7</a>\u001b[0m     project_df \u001b[39m=\u001b[39m utils\u001b[39m.\u001b[39;49mget_project_run_histories(\n\u001b[0;32m      <a href='vscode-notebook-cell:/c%3A/Users/awnya/Documents/project-code/relational-neural-networks/paper_figures/get_data_from_wandb.ipynb#X11sZmlsZQ%3D%3D?line=7'>8</a>\u001b[0m         project_name\u001b[39m=\u001b[39;49mproject\u001b[39m.\u001b[39;49mname, entity\u001b[39m=\u001b[39;49m\u001b[39m'\u001b[39;49m\u001b[39mawni00\u001b[39;49m\u001b[39m'\u001b[39;49m, attr_cols\u001b[39m=\u001b[39;49mattr_cols, config_cols\u001b[39m=\u001b[39;49mconfig_cols)\n\u001b[0;32m      <a href='vscode-notebook-cell:/c%3A/Users/awnya/Documents/project-code/relational-neural-networks/paper_figures/get_data_from_wandb.ipynb#X11sZmlsZQ%3D%3D?line=8'>9</a>\u001b[0m     project_df\u001b[39m.\u001b[39mto_csv(\u001b[39mf\u001b[39m\u001b[39m'\u001b[39m\u001b[39mfigure_data/relational_games/run_history_\u001b[39m\u001b[39m{\u001b[39;00mproject\u001b[39m.\u001b[39mname\u001b[39m}\u001b[39;00m\u001b[39m.csv\u001b[39m\u001b[39m'\u001b[39m)\n\u001b[0;32m     <a href='vscode-notebook-cell:/c%3A/Users/awnya/Documents/project-code/relational-neural-networks/paper_figures/get_data_from_wandb.ipynb#X11sZmlsZQ%3D%3D?line=9'>10</a>\u001b[0m     project_df[\u001b[39m'\u001b[39m\u001b[39mtask\u001b[39m\u001b[39m'\u001b[39m] \u001b[39m=\u001b[39m task_name\n",
      "File \u001b[1;32mc:\\Users\\awnya\\Documents\\project-code\\relational-neural-networks\\paper_figures\\utils.py:63\u001b[0m, in \u001b[0;36mget_project_run_histories\u001b[1;34m(project_name, entity, attr_cols, config_cols)\u001b[0m\n\u001b[0;32m     60\u001b[0m run_history_dfs \u001b[39m=\u001b[39m []\n\u001b[0;32m     62\u001b[0m \u001b[39mfor\u001b[39;00m run \u001b[39min\u001b[39;00m tqdm(runs, leave\u001b[39m=\u001b[39m\u001b[39mFalse\u001b[39;00m):\n\u001b[1;32m---> 63\u001b[0m     run_history \u001b[39m=\u001b[39m get_run_history(run)\n\u001b[0;32m     65\u001b[0m     \u001b[39mfor\u001b[39;00m config_col \u001b[39min\u001b[39;00m config_cols:\n\u001b[0;32m     66\u001b[0m         run_history[config_col] \u001b[39m=\u001b[39m run\u001b[39m.\u001b[39mconfig\u001b[39m.\u001b[39mget(config_col, \u001b[39mNone\u001b[39;00m)\n",
      "File \u001b[1;32mc:\\Users\\awnya\\Documents\\project-code\\relational-neural-networks\\paper_figures\\utils.py:50\u001b[0m, in \u001b[0;36mget_project_run_histories.<locals>.get_run_history\u001b[1;34m(run)\u001b[0m\n\u001b[0;32m     48\u001b[0m \u001b[39mfor\u001b[39;00m row \u001b[39min\u001b[39;00m history_scan:\n\u001b[0;32m     49\u001b[0m     \u001b[39mfor\u001b[39;00m key \u001b[39min\u001b[39;00m keys:\n\u001b[1;32m---> 50\u001b[0m         run_history_data[key]\u001b[39m.\u001b[39mappend(row[key])\n\u001b[0;32m     51\u001b[0m \u001b[39mreturn\u001b[39;00m pd\u001b[39m.\u001b[39mDataFrame(run_history_data)\n",
      "\u001b[1;31mKeyError\u001b[0m: 'batch/loss'"
     ]
    }
   ],
   "source": [
    "config_cols = ['trial']\n",
    "attr_cols = ['group', 'name']\n",
    "\n",
    "project_dfs = []\n",
    "for project in tqdm(projects):\n",
    "    task_name = project.name.split('-')[1]\n",
    "    project_df = utils.get_project_run_histories(\n",
    "        project_name=project.name, entity='awni00', attr_cols=attr_cols, config_cols=config_cols)\n",
    "    project_df.to_csv(f'figure_data/relational_games/run_history_{project.name}.csv')\n",
    "    project_df['task'] = task_name\n",
    "    project_dfs.append(project_df)\n",
    "\n",
    "projects_df = pd.concat(project_dfs)\n",
    "projects_df.reset_index(inplace=True, drop=True)\n",
    "projects_df.to_csv(f'figure_data/relational_games/project_run_histories.csv')"
   ]
  },
  {
   "cell_type": "code",
   "execution_count": null,
   "metadata": {},
   "outputs": [],
   "source": [
    "# get csv files in directory\n",
    "import glob\n",
    "csv_files = glob.glob('figure_data/relational_games/run_history*.csv')"
   ]
  },
  {
   "cell_type": "code",
   "execution_count": null,
   "metadata": {},
   "outputs": [],
   "source": [
    "project_dfs = []\n",
    "for csv_file in csv_files:\n",
    "    task_name = csv_file.split('-')[-1].split('.')[0]\n",
    "    project_df = pd.read_csv(csv_file, index_col=0)\n",
    "    project_df['task'] = task_name\n",
    "    project_dfs.append(project_df)\n",
    "\n",
    "projects_df = pd.concat(project_dfs)"
   ]
  },
  {
   "cell_type": "markdown",
   "metadata": {},
   "source": [
    "# Contains 'SET'"
   ]
  },
  {
   "cell_type": "markdown",
   "metadata": {},
   "source": [
    "## Get OoD Generalization data"
   ]
  },
  {
   "cell_type": "code",
   "execution_count": 2,
   "metadata": {},
   "outputs": [],
   "source": [
    "api = wandb.Api()\n",
    "\n",
    "summary_cols = 'all'\n",
    "config_cols = ['trial']\n",
    "attr_cols = ['group', 'name']\n",
    "\n",
    "project_df = utils.get_wandb_project_table(\n",
    "    project_name='relconvnet-contains_set', entity='awni00', attr_cols=attr_cols, config_cols=config_cols, summary_cols=summary_cols)"
   ]
  },
  {
   "cell_type": "code",
   "execution_count": 3,
   "metadata": {},
   "outputs": [],
   "source": [
    "project_df.to_csv('figure_data/contains_set/end-of-training-accuracy.csv')"
   ]
  },
  {
   "cell_type": "code",
   "execution_count": 5,
   "metadata": {},
   "outputs": [
    {
     "data": {
      "text/plain": [
       "group\n",
       "abstractor     0.506610\n",
       "corelnet       0.562577\n",
       "predinet       0.507742\n",
       "relconvnet     0.979218\n",
       "transformer    0.583668\n",
       "Name: acc, dtype: float64"
      ]
     },
     "execution_count": 5,
     "metadata": {},
     "output_type": "execute_result"
    }
   ],
   "source": [
    "project_df.groupby(['group'])['acc'].mean()"
   ]
  },
  {
   "cell_type": "markdown",
   "metadata": {},
   "source": [
    "## Get training curve data"
   ]
  },
  {
   "cell_type": "code",
   "execution_count": 4,
   "metadata": {},
   "outputs": [],
   "source": [
    "api = wandb.Api()"
   ]
  },
  {
   "cell_type": "code",
   "execution_count": 6,
   "metadata": {},
   "outputs": [
    {
     "name": "stderr",
     "output_type": "stream",
     "text": [
      "                                               \r"
     ]
    }
   ],
   "source": [
    "config_cols = ['trial']\n",
    "attr_cols = ['group', 'name']\n",
    "\n",
    "project_df = utils.get_project_run_histories(\n",
    "    project_name='relconvnet-contains_set', entity='awni00', attr_cols=attr_cols, config_cols=config_cols)"
   ]
  },
  {
   "cell_type": "code",
   "execution_count": 7,
   "metadata": {},
   "outputs": [],
   "source": [
    "project_df.to_csv('figure_data/contains_set/run_history.csv')"
   ]
  }
 ],
 "metadata": {
  "kernelspec": {
   "display_name": "math",
   "language": "python",
   "name": "python3"
  },
  "language_info": {
   "codemirror_mode": {
    "name": "ipython",
    "version": 3
   },
   "file_extension": ".py",
   "mimetype": "text/x-python",
   "name": "python",
   "nbconvert_exporter": "python",
   "pygments_lexer": "ipython3",
   "version": "3.11.4"
  },
  "orig_nbformat": 4
 },
 "nbformat": 4,
 "nbformat_minor": 2
}
