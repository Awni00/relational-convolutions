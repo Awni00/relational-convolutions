{
 "cells": [
  {
   "cell_type": "markdown",
   "metadata": {},
   "source": [
    "# Generating figures explaining relational games"
   ]
  },
  {
   "cell_type": "markdown",
   "metadata": {},
   "source": [
    "## Set up"
   ]
  },
  {
   "cell_type": "code",
   "execution_count": 1,
   "metadata": {},
   "outputs": [
    {
     "name": "stderr",
     "output_type": "stream",
     "text": [
      "2023-09-13 13:24:20.100759: I tensorflow/core/util/port.cc:110] oneDNN custom operations are on. You may see slightly different numerical results due to floating-point round-off errors from different computation orders. To turn them off, set the environment variable `TF_ENABLE_ONEDNN_OPTS=0`.\n",
      "2023-09-13 13:24:20.153710: I tensorflow/core/platform/cpu_feature_guard.cc:182] This TensorFlow binary is optimized to use available CPU instructions in performance-critical operations.\n",
      "To enable the following instructions: AVX2 AVX512F AVX512_VNNI FMA, in other operations, rebuild TensorFlow with the appropriate compiler flags.\n",
      "2023-09-13 13:24:21.596427: W tensorflow/compiler/tf2tensorrt/utils/py_utils.cc:38] TF-TRT Warning: Could not find TensorRT\n"
     ]
    }
   ],
   "source": [
    "import numpy as np\n",
    "import matplotlib.pyplot as plt\n",
    "import data_utils\n",
    "\n",
    "import scipy\n",
    "import matplotlib.pyplot as plt\n",
    "# import seaborn as sns\n",
    "# import scienceplots\n",
    "\n",
    "fsize = 7\n",
    "tsize = 7\n",
    "tdir = 'in'\n",
    "major = 5.0\n",
    "minor = 3.0\n",
    "lwidth = 0.8\n",
    "lhandle = 2.0\n",
    "# plt.style.use('grid')\n",
    "# plt.style.use('default')\n",
    "# plt.rcParams['text.usetex'] = True\n",
    "plt.rcParams['font.size'] = fsize\n",
    "plt.rcParams['legend.fontsize'] = tsize\n",
    "plt.rcParams['xtick.direction'] = tdir\n",
    "plt.rcParams['ytick.direction'] = tdir\n",
    "plt.rcParams['xtick.major.size'] = major\n",
    "plt.rcParams['xtick.minor.size'] = minor\n",
    "plt.rcParams['ytick.major.size'] = 5.0\n",
    "plt.rcParams['ytick.minor.size'] = 3.0\n",
    "plt.rcParams['axes.linewidth'] = lwidth\n",
    "plt.rcParams['legend.handlelength'] = lhandle\n",
    "\n",
    "# errbar_kwargs = dict(marker='.', markersize=3, capsize=3, elinewidth=1, lw=1)\n",
    "# plot_kwargs = dict(marker='.', markersize=3, lw=1)\n",
    "# errband_kwargs = dict(alpha=0.25)\n",
    "errbar_kwargs = dict(estimator='mean', errorbar='ci', errwidth=1.25, capsize=0.05,)\n",
    "\n",
    "save_dir = 'figs/'"
   ]
  },
  {
   "cell_type": "code",
   "execution_count": 2,
   "metadata": {},
   "outputs": [],
   "source": [
    "data_path = '../../data/relational_games'"
   ]
  },
  {
   "cell_type": "code",
   "execution_count": 3,
   "metadata": {},
   "outputs": [],
   "source": [
    "def load_task_sample(filename, sample_size):\n",
    "    with np.load(filename) as data:\n",
    "        imgs = data['images']\n",
    "        labels = data['labels']\n",
    "\n",
    "    obj_seqs = data_utils.get_obj_seq(imgs)\n",
    "    labels = np.squeeze(labels)\n",
    "\n",
    "    sample = np.random.choice(len(imgs), sample_size, replace=False)\n",
    "\n",
    "    imgs_sample, obj_seqs_sample, labels_sample = imgs[sample], obj_seqs[sample], labels[sample]\n",
    "    del imgs, obj_seqs, labels, data\n",
    "    return imgs_sample, obj_seqs_sample, labels_sample"
   ]
  },
  {
   "cell_type": "code",
   "execution_count": 4,
   "metadata": {},
   "outputs": [],
   "source": [
    "def plot_sample(obj_seq, label, figsize=(5,5)):\n",
    "    fig, axs = plt.subplots(nrows=3, ncols=3, figsize=figsize)\n",
    "    for j, ax in enumerate(axs.flatten()):\n",
    "        ax.imshow(obj_seq[j])\n",
    "        ax.axis('off')\n",
    "        ax.set_title(f'object {j}')\n",
    "\n",
    "    print(f'label: {bool(label)}')"
   ]
  },
  {
   "cell_type": "markdown",
   "metadata": {},
   "source": [
    "## Objects in each split"
   ]
  },
  {
   "cell_type": "code",
   "execution_count": 5,
   "metadata": {},
   "outputs": [],
   "source": [
    "def create_split_img(sample_objs):\n",
    "    row1 = np.concatenate(sample_objs[:3], axis=1)\n",
    "    row2 = np.concatenate(sample_objs[3:6], axis=1)\n",
    "    split_img = np.concatenate([row1, row2], axis=0)\n",
    "    return split_img\n",
    "\n",
    "def get_sample_objs(split):\n",
    "    filename = f'{data_path}/occurs_{split}.npz'\n",
    "    imgs, obj_seqs, labels = load_task_sample(filename, sample_size=6)\n",
    "    sample_objs = obj_seqs[:, 1]\n",
    "    return sample_objs"
   ]
  },
  {
   "cell_type": "code",
   "execution_count": 6,
   "metadata": {},
   "outputs": [
    {
     "data": {
      "image/png": "[encoded data removed]",
      "text/plain": [
       "<Figure size 300x200 with 3 Axes>"
      ]
     },
     "metadata": {},
     "output_type": "display_data"
    }
   ],
   "source": [
    "splits = ('pentos', 'hexos', 'stripes')\n",
    "fig, axs = plt.subplots(ncols=len(splits), figsize=(3,2))\n",
    "split_name_map = {'pentos': 'Pentominoes', 'hexos': 'Hexominoes', 'stripes': 'Stripes'}\n",
    "for ax, split in zip(axs, splits):\n",
    "    split_objs = get_sample_objs(split)\n",
    "    split_img = create_split_img(split_objs)\n",
    "    ax.imshow(split_img)\n",
    "    ax.axis('off')\n",
    "    ax.set_title(split_name_map[split])"
   ]
  },
  {
   "cell_type": "code",
   "execution_count": 7,
   "metadata": {},
   "outputs": [],
   "source": [
    "fig.set_tight_layout(True)\n",
    "fig.savefig('figs/relational_games_objects.pdf')"
   ]
  },
  {
   "cell_type": "markdown",
   "metadata": {},
   "source": [
    "## Task Examples"
   ]
  },
  {
   "cell_type": "code",
   "execution_count": 8,
   "metadata": {},
   "outputs": [],
   "source": [
    "def sample_task_instance(task, split='hexos'):\n",
    "    filename = f'{data_path}/{task}_{split}.npz'\n",
    "    imgs, obj_seqs, labels = load_task_sample(filename, sample_size=6)\n",
    "    pos_sample = np.random.choice(np.where(labels==1)[0])\n",
    "    neg_sample = np.random.choice(np.where(labels==0)[0])\n",
    "    return imgs[pos_sample], imgs[neg_sample]"
   ]
  },
  {
   "cell_type": "code",
   "execution_count": 9,
   "metadata": {},
   "outputs": [
    {
     "data": {
      "image/png": "[encoded data removed]",
      "text/plain": [
       "<Figure size 500x200 with 10 Axes>"
      ]
     },
     "metadata": {},
     "output_type": "display_data"
    }
   ],
   "source": [
    "tasks = ('same', 'occurs', 'xoccurs', '1task_between', '1task_match_patt')\n",
    "task_rename = {'1task_between': 'between', '1task_match_patt': 'match patt'}\n",
    "fig, axs = plt.subplots(nrows=2, ncols=len(tasks), figsize=(5, 2))\n",
    "for i, task in enumerate(tasks):\n",
    "    pos_img, neg_img = sample_task_instance(task)\n",
    "    axs[0][i].imshow(pos_img)\n",
    "    axs[1][i].imshow(neg_img)\n",
    "\n",
    "    axs[0][i].axis('off')\n",
    "    axs[1][i].axis('off')\n",
    "\n",
    "    axs[0][i].set_title(task_rename.get(task, task))"
   ]
  },
  {
   "cell_type": "code",
   "execution_count": 10,
   "metadata": {},
   "outputs": [],
   "source": [
    "fig.set_tight_layout(True)\n",
    "fig.savefig('figs/relational_games_tasks.pdf')"
   ]
  }
 ],
 "metadata": {
  "kernelspec": {
   "display_name": "Python 3.10.12 64-bit ('relconvnet')",
   "language": "python",
   "name": "python3"
  },
  "language_info": {
   "codemirror_mode": {
    "name": "ipython",
    "version": 3
   },
   "file_extension": ".py",
   "mimetype": "text/x-python",
   "name": "python",
   "nbconvert_exporter": "python",
   "pygments_lexer": "ipython3",
   "version": "3.10.12"
  },
  "orig_nbformat": 4,
  "vscode": {
   "interpreter": {
    "hash": "cfd9851f5ad10fee1056595cab4382bd1be8335c56803e8ccc2b0eacb646d0c9"
   }
  }
 },
 "nbformat": 4,
 "nbformat_minor": 2
}
